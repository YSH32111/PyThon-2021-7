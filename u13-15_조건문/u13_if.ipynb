{
  "nbformat": 4,
  "nbformat_minor": 0,
  "metadata": {
    "colab": {
      "name": "u13_if.ipynb",
      "provenance": [],
      "collapsed_sections": []
    },
    "kernelspec": {
      "name": "python3",
      "display_name": "Python 3"
    },
    "language_info": {
      "name": "python"
    }
  },
  "cells": [
    {
      "cell_type": "markdown",
      "metadata": {
        "id": "USvqArs8gwaa"
      },
      "source": [
        "# Unit 13. if 조건문"
      ]
    },
    {
      "cell_type": "code",
      "metadata": {
        "id": "pWpkqdmWgA3s"
      },
      "source": [
        "# pseudo code"
      ],
      "execution_count": null,
      "outputs": []
    },
    {
      "cell_type": "markdown",
      "metadata": {
        "id": "STdSNQm8hdkg"
      },
      "source": [
        "## 13.1 if 조건문"
      ]
    },
    {
      "cell_type": "code",
      "metadata": {
        "id": "j_0Q5yrahf3Q"
      },
      "source": [
        "x = 9\n",
        "if x == 10:\n",
        "  print('It is 10.')"
      ],
      "execution_count": 1,
      "outputs": []
    },
    {
      "cell_type": "code",
      "metadata": {
        "colab": {
          "base_uri": "https://localhost:8080/"
        },
        "id": "ladfZ6abhurG",
        "outputId": "08ecba92-382a-491a-ac6e-c81c866cfa63"
      },
      "source": [
        "x = 10\n",
        "if x == 10:\n",
        "  print('It is 10.')"
      ],
      "execution_count": 2,
      "outputs": [
        {
          "output_type": "stream",
          "text": [
            "It is 10.\n"
          ],
          "name": "stdout"
        }
      ]
    },
    {
      "cell_type": "code",
      "metadata": {
        "id": "3AhL2xvhhwCA"
      },
      "source": [
        "# flow chart 조건문"
      ],
      "execution_count": 3,
      "outputs": []
    },
    {
      "cell_type": "code",
      "metadata": {
        "colab": {
          "base_uri": "https://localhost:8080/",
          "height": 136
        },
        "id": "MRhBl1VaiFLP",
        "outputId": "f368bda5-e58a-4393-ee1c-82b642399107"
      },
      "source": [
        "# 주의해야할 사항\n",
        "if x = 10:\n",
        "  print('It is 10.')\n",
        "\n",
        "  # == 을 써야함"
      ],
      "execution_count": 4,
      "outputs": [
        {
          "output_type": "error",
          "ename": "SyntaxError",
          "evalue": "ignored",
          "traceback": [
            "\u001b[0;36m  File \u001b[0;32m\"<ipython-input-4-83a17bdca0cd>\"\u001b[0;36m, line \u001b[0;32m2\u001b[0m\n\u001b[0;31m    if x = 10:\u001b[0m\n\u001b[0m         ^\u001b[0m\n\u001b[0;31mSyntaxError\u001b[0m\u001b[0;31m:\u001b[0m invalid syntax\n"
          ]
        }
      ]
    },
    {
      "cell_type": "code",
      "metadata": {
        "colab": {
          "base_uri": "https://localhost:8080/"
        },
        "id": "6EtcFeE_iJbg",
        "outputId": "28eb797f-d397-437e-98e6-f270eb396d13"
      },
      "source": [
        "x = 9\n",
        "if x:           # x가 0이 아니면 참이라는 의미\n",
        "  print('It is 10.')\n",
        "\n",
        "  #사실은 잘못된 조건문...???  에러가 남. 조심"
      ],
      "execution_count": 8,
      "outputs": [
        {
          "output_type": "stream",
          "text": [
            "It is 10.\n"
          ],
          "name": "stdout"
        }
      ]
    },
    {
      "cell_type": "code",
      "metadata": {
        "id": "LaWsBDr7iPMg"
      },
      "source": [
        "# pass 일단 생략의 의미 / 조건문, 반복문, 함수, class 만들때 언제든 쓰임"
      ],
      "execution_count": 9,
      "outputs": []
    },
    {
      "cell_type": "markdown",
      "metadata": {
        "id": "30f0SEi0iy7Z"
      },
      "source": [
        "## 13.2 들여쓰기"
      ]
    },
    {
      "cell_type": "code",
      "metadata": {
        "colab": {
          "base_uri": "https://localhost:8080/"
        },
        "id": "pU_1GXepivSn",
        "outputId": "f0b37d2b-f868-44e2-fba4-9089bd7aeb34"
      },
      "source": [
        "x = 10\n",
        "\n",
        "if x == 10:\n",
        "  print('x값은')\n",
        "  print('10입니다.')"
      ],
      "execution_count": 10,
      "outputs": [
        {
          "output_type": "stream",
          "text": [
            "x값은\n",
            "10입니다.\n"
          ],
          "name": "stdout"
        }
      ]
    },
    {
      "cell_type": "code",
      "metadata": {
        "colab": {
          "base_uri": "https://localhost:8080/",
          "height": 136
        },
        "id": "sebHNnQZjJgv",
        "outputId": "80c0e0a4-346b-4438-8359-42ffc6a92210"
      },
      "source": [
        "x = 10\n",
        "\n",
        "if x == 10:\n",
        "  print('x값은')\n",
        "   print('10입니다.')       # 밀어쓰면 에러가 남"
      ],
      "execution_count": 12,
      "outputs": [
        {
          "output_type": "error",
          "ename": "IndentationError",
          "evalue": "ignored",
          "traceback": [
            "\u001b[0;36m  File \u001b[0;32m\"<ipython-input-12-6b0f9b2200da>\"\u001b[0;36m, line \u001b[0;32m5\u001b[0m\n\u001b[0;31m    print('10입니다.')       # 밀어쓰면 에러가남\u001b[0m\n\u001b[0m    ^\u001b[0m\n\u001b[0;31mIndentationError\u001b[0m\u001b[0;31m:\u001b[0m unexpected indent\n"
          ]
        }
      ]
    },
    {
      "cell_type": "code",
      "metadata": {
        "colab": {
          "base_uri": "https://localhost:8080/"
        },
        "id": "xpo8_04gjKvX",
        "outputId": "42c96419-f70a-4368-e5a0-3ae5c891bb37"
      },
      "source": [
        "x = 10\n",
        "\n",
        "if x == 10:\n",
        "  print('x값은')\n",
        "  if x>5:\n",
        "   print('10입니다.') "
      ],
      "execution_count": 13,
      "outputs": [
        {
          "output_type": "stream",
          "text": [
            "x값은\n",
            "10입니다.\n"
          ],
          "name": "stdout"
        }
      ]
    },
    {
      "cell_type": "code",
      "metadata": {
        "colab": {
          "base_uri": "https://localhost:8080/"
        },
        "id": "npyoI8AvjRwP",
        "outputId": "c627a3a5-b5ef-411d-ac1b-7b3dd36bf4a4"
      },
      "source": [
        "x = 10\n",
        "\n",
        "if x == 10:\n",
        "  print('x값은')\n",
        "  print('10입니다.')\n",
        "print('언제나 출력됩니다.')"
      ],
      "execution_count": 15,
      "outputs": [
        {
          "output_type": "stream",
          "text": [
            "x값은\n",
            "10입니다.\n",
            "언제나 출력됩니다.\n"
          ],
          "name": "stdout"
        }
      ]
    },
    {
      "cell_type": "code",
      "metadata": {
        "colab": {
          "base_uri": "https://localhost:8080/"
        },
        "id": "ZpmRmcKbjbTK",
        "outputId": "40541704-8efb-4e09-eab1-8f8353ebdf6f"
      },
      "source": [
        "x = 9\n",
        "\n",
        "if x == 10:\n",
        "  print('x값은')\n",
        "  print('10입니다.')            #인덴테이션 된 것만 if 조건문에 해당. 이 부분 잘 해야함. 중요한 부분\n",
        "print('언제나 출력됩니다.')"
      ],
      "execution_count": 16,
      "outputs": [
        {
          "output_type": "stream",
          "text": [
            "언제나 출력됩니다.\n"
          ],
          "name": "stdout"
        }
      ]
    },
    {
      "cell_type": "markdown",
      "metadata": {
        "id": "I9OnaM3-j8Yr"
      },
      "source": [
        "## 13.3 중첩 if 조건문"
      ]
    },
    {
      "cell_type": "code",
      "metadata": {
        "colab": {
          "base_uri": "https://localhost:8080/"
        },
        "id": "A4WTnsUEjgr4",
        "outputId": "69f82907-e675-4b35-c0dc-13ae68563c90"
      },
      "source": [
        "x = 15\n",
        "if x > 10:\n",
        "  print('10보다 큰 숫자입니다.')\n",
        "  if x == 15:\n",
        "    print('15 입니다.')\n",
        "  if x == 20:\n",
        "    print('20 입니다.')"
      ],
      "execution_count": 18,
      "outputs": [
        {
          "output_type": "stream",
          "text": [
            "10보다 큰 숫자입니다.\n",
            "15 입니다.\n"
          ],
          "name": "stdout"
        }
      ]
    },
    {
      "cell_type": "markdown",
      "metadata": {
        "id": "cZ5U3-0Jk6o2"
      },
      "source": [
        "## 13.4 사용자가 입력한 값에 if 조건문 사용하기"
      ]
    },
    {
      "cell_type": "code",
      "metadata": {
        "colab": {
          "base_uri": "https://localhost:8080/"
        },
        "id": "oougxOqbkUtX",
        "outputId": "d18b65c4-66fa-4902-a5d1-73cd3d90eb24"
      },
      "source": [
        "x = int(input('정수를 입력하세요> '))\n",
        "if x > 10:\n",
        "  print('10보다 큰 숫자입니다.')\n",
        "  if x == 15:\n",
        "    print('15 입니다.')\n",
        "  if x == 20:\n",
        "    print('20 입니다.')"
      ],
      "execution_count": 21,
      "outputs": [
        {
          "output_type": "stream",
          "text": [
            "정수를 입력하세요> 16\n",
            "10보다 큰 숫자입니다.\n"
          ],
          "name": "stdout"
        }
      ]
    },
    {
      "cell_type": "code",
      "metadata": {
        "id": "cOfbgrillEtt"
      },
      "source": [
        ""
      ],
      "execution_count": null,
      "outputs": []
    }
  ]
}