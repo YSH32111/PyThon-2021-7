{
  "nbformat": 4,
  "nbformat_minor": 0,
  "metadata": {
    "colab": {
      "name": "u15_elif.ipynb",
      "provenance": [],
      "collapsed_sections": []
    },
    "kernelspec": {
      "name": "python3",
      "display_name": "Python 3"
    },
    "language_info": {
      "name": "python"
    }
  },
  "cells": [
    {
      "cell_type": "markdown",
      "metadata": {
        "id": "zidOpLyqoSw0"
      },
      "source": [
        "# Unit 15. elif 사용"
      ]
    },
    {
      "cell_type": "markdown",
      "metadata": {
        "id": "vtBnHR6doYyi"
      },
      "source": [
        "## 15.1 elif 사용하기"
      ]
    },
    {
      "cell_type": "code",
      "metadata": {
        "colab": {
          "base_uri": "https://localhost:8080/"
        },
        "id": "JIqmDdphX09l",
        "outputId": "96bb6ac7-f8e5-41cf-b5f6-9d996c0f295d"
      },
      "source": [
        "# 다른 언어에서는 else if       파이썬에서는 줄여서 elif\n",
        "x = 15\n",
        "if x == 10:\n",
        "    print('It is 10.')\n",
        "elif x == 20:\n",
        "    print('It is 20.')\n",
        "else:\n",
        "    print('10, 20이 아닙니다.')"
      ],
      "execution_count": 2,
      "outputs": [
        {
          "output_type": "stream",
          "text": [
            "10, 20이 아닙니다.\n"
          ],
          "name": "stdout"
        }
      ]
    },
    {
      "cell_type": "code",
      "metadata": {
        "colab": {
          "base_uri": "https://localhost:8080/",
          "height": 136
        },
        "id": "4Q20F5OjorVu",
        "outputId": "1fedf6fc-e34e-483d-c9f6-8cbd58a23c57"
      },
      "source": [
        "# 어떤 숫자를 입력으로 받고 3의 배수면 fizz 출력, 5의 배수면 buzz 출력, 15의 배수면 fizzubzz 출력\n",
        "x = int(input())\n",
        "A = if x % 3 == 0:\n",
        "        print('fizz')\n",
        "\n",
        "B = elif x % 5 == 0:\n",
        "        print('buzz')\n",
        "if x == A and B\n",
        "        print('fizzbuzz')"
      ],
      "execution_count": 12,
      "outputs": [
        {
          "output_type": "error",
          "ename": "SyntaxError",
          "evalue": "ignored",
          "traceback": [
            "\u001b[0;36m  File \u001b[0;32m\"<ipython-input-12-beebfcd0fb13>\"\u001b[0;36m, line \u001b[0;32m3\u001b[0m\n\u001b[0;31m    A = if x % 3 == 0:\u001b[0m\n\u001b[0m         ^\u001b[0m\n\u001b[0;31mSyntaxError\u001b[0m\u001b[0;31m:\u001b[0m invalid syntax\n"
          ]
        }
      ]
    },
    {
      "cell_type": "code",
      "metadata": {
        "colab": {
          "base_uri": "https://localhost:8080/"
        },
        "id": "IxFYg9HBpGb-",
        "outputId": "0abf91e4-51f3-4ef0-ad5b-3302e6c2d164"
      },
      "source": [
        "# 어떤 숫자를 입력으로 받고 3의 배수면 fizz 출력, 5의 배수면 buzz 출력, 15의 배수면 fizzubzz 출력\n",
        "# 제일 엄격한 조건을 제일 앞에다 두어야 함\n",
        "number = int(input())\n",
        "\n",
        "if number % 15 == 0:\n",
        "    print('fizzbuzz')\n",
        "elif x % 3 == 0:      # 다음순서는 3이든 5든 상관 없음\n",
        "    print('fizz')\n",
        "elif x % 5 == 0:\n",
        "    print('buzz')\n",
        "else:\n",
        "    print(14)"
      ],
      "execution_count": 20,
      "outputs": [
        {
          "output_type": "stream",
          "text": [
            "30\n",
            "fizzbuzz\n"
          ],
          "name": "stdout"
        }
      ]
    },
    {
      "cell_type": "code",
      "metadata": {
        "colab": {
          "base_uri": "https://localhost:8080/"
        },
        "id": "oqVna3ohq3zc",
        "outputId": "d8300282-641d-48ae-cd6a-8d658df064a2"
      },
      "source": [
        "'Fizz' * False, 'Buzz' * True     # False에 0 넣어도 값 같음"
      ],
      "execution_count": 16,
      "outputs": [
        {
          "output_type": "execute_result",
          "data": {
            "text/plain": [
              "('', 'Buzz')"
            ]
          },
          "metadata": {
            "tags": []
          },
          "execution_count": 16
        }
      ]
    },
    {
      "cell_type": "code",
      "metadata": {
        "colab": {
          "base_uri": "https://localhost:8080/"
        },
        "id": "QPSlxprTqSit",
        "outputId": "ee99cfbf-ec84-4538-c6c7-ec3bcaaefb49"
      },
      "source": [
        "print('Fizz'*(number%3==0) + 'Buzz'*(number%5==0) or number)\n",
        "\n",
        "# 이렇게도 한 줄로 쓸 수 있음 ?????"
      ],
      "execution_count": 22,
      "outputs": [
        {
          "output_type": "stream",
          "text": [
            "FizzBuzz\n"
          ],
          "name": "stdout"
        }
      ]
    },
    {
      "cell_type": "code",
      "metadata": {
        "colab": {
          "base_uri": "https://localhost:8080/"
        },
        "id": "76I5ChjfrYsc",
        "outputId": "c26d5f8e-4d4f-4912-88e2-aa2d4683291d"
      },
      "source": [
        "x = 1\n",
        "print(x%2==0)"
      ],
      "execution_count": 26,
      "outputs": [
        {
          "output_type": "stream",
          "text": [
            "False\n"
          ],
          "name": "stdout"
        }
      ]
    },
    {
      "cell_type": "code",
      "metadata": {
        "colab": {
          "base_uri": "https://localhost:8080/"
        },
        "id": "Zq-Rmox-r1TQ",
        "outputId": "774e1c0e-da10-4234-a13d-963c47d6b7b6"
      },
      "source": [
        "x = 2\n",
        "print(x%2==0)"
      ],
      "execution_count": 27,
      "outputs": [
        {
          "output_type": "stream",
          "text": [
            "True\n"
          ],
          "name": "stdout"
        }
      ]
    },
    {
      "cell_type": "code",
      "metadata": {
        "id": "fJXRVhN0r4Mp"
      },
      "source": [
        ""
      ],
      "execution_count": null,
      "outputs": []
    }
  ]
}