{
  "nbformat": 4,
  "nbformat_minor": 0,
  "metadata": {
    "colab": {
      "name": "u14_else.ipynb",
      "provenance": [],
      "collapsed_sections": []
    },
    "kernelspec": {
      "name": "python3",
      "display_name": "Python 3"
    },
    "language_info": {
      "name": "python"
    }
  },
  "cells": [
    {
      "cell_type": "markdown",
      "metadata": {
        "id": "H39wiZcjmR0G"
      },
      "source": [
        "# Unit 14. else"
      ]
    },
    {
      "cell_type": "code",
      "metadata": {
        "colab": {
          "base_uri": "https://localhost:8080/"
        },
        "id": "oejVqrfulaRT",
        "outputId": "df5a0d81-4a65-4db2-ae06-b596305302ae"
      },
      "source": [
        "x = 5\n",
        "if x == 10:\n",
        "  print('It is 10.')\n",
        "else:\n",
        "  print('It is not 10.')"
      ],
      "execution_count": 1,
      "outputs": [
        {
          "output_type": "stream",
          "text": [
            "It is not 10.\n"
          ],
          "name": "stdout"
        }
      ]
    },
    {
      "cell_type": "markdown",
      "metadata": {
        "id": "TvffmziEmurF"
      },
      "source": [
        "### 3항 연산자\n",
        "- Jave: a = (조건) ? 참일때의 값 : 거짓일때의 값\n",
        "- 파이썬 a = 참일때의 값 if 조건 else 거짓일때의 값"
      ]
    },
    {
      "cell_type": "code",
      "metadata": {
        "colab": {
          "base_uri": "https://localhost:8080/",
          "height": 35
        },
        "id": "pbgwCDKbmavg",
        "outputId": "a2cc784d-b59b-45ce-d326-9250245132b2"
      },
      "source": [
        "x = 1\n",
        "if x % 2 == 0:\n",
        "  y = 'even'\n",
        "else:\n",
        "  y = 'odd'\n",
        "y"
      ],
      "execution_count": 11,
      "outputs": [
        {
          "output_type": "execute_result",
          "data": {
            "application/vnd.google.colaboratory.intrinsic+json": {
              "type": "string"
            },
            "text/plain": [
              "'odd'"
            ]
          },
          "metadata": {
            "tags": []
          },
          "execution_count": 11
        }
      ]
    },
    {
      "cell_type": "code",
      "metadata": {
        "colab": {
          "base_uri": "https://localhost:8080/",
          "height": 35
        },
        "id": "006RHA8inBI4",
        "outputId": "6bdf7a29-d82a-4169-92cb-d1dcc187518b"
      },
      "source": [
        "#파이썬에서는 아래와 같은 경우로 쓰임\n",
        "y = 'even' if x %2 == 0 else 'odd'\n",
        "y"
      ],
      "execution_count": 12,
      "outputs": [
        {
          "output_type": "execute_result",
          "data": {
            "application/vnd.google.colaboratory.intrinsic+json": {
              "type": "string"
            },
            "text/plain": [
              "'odd'"
            ]
          },
          "metadata": {
            "tags": []
          },
          "execution_count": 12
        }
      ]
    },
    {
      "cell_type": "code",
      "metadata": {
        "colab": {
          "base_uri": "https://localhost:8080/"
        },
        "id": "bUSIup8DnOeA",
        "outputId": "a0d4f5eb-9170-4f68-87ab-967a307b10cf"
      },
      "source": [
        "# 90점 이상이면 'A', 80 ~ 89: 'B', 70 ~ 79: 'C', 60 ~ 69: 'D', ~ 59: F\n",
        "score = int(input('점수 입력> '))"
      ],
      "execution_count": 13,
      "outputs": [
        {
          "output_type": "stream",
          "text": [
            "점수 입력> 82\n"
          ],
          "name": "stdout"
        }
      ]
    },
    {
      "cell_type": "code",
      "metadata": {
        "colab": {
          "base_uri": "https://localhost:8080/"
        },
        "id": "tU8s5VoTomq3",
        "outputId": "93fef1fe-76c3-49b9-9f1f-5628d6a09ffa"
      },
      "source": [
        "if score >= 90:\n",
        "  grade = 'A'\n",
        "else:\n",
        "  if score >= 80:\n",
        "    grade = 'B'\n",
        "  else:\n",
        "    if scroe >= 70:\n",
        "      grade = 'C'\n",
        "    else:\n",
        "      if score >= 60:\n",
        "        grade = 'D'\n",
        "      else:\n",
        "        grade = 'F'\n",
        "\n",
        "print(grade)"
      ],
      "execution_count": 19,
      "outputs": [
        {
          "output_type": "stream",
          "text": [
            "B\n"
          ],
          "name": "stdout"
        }
      ]
    },
    {
      "cell_type": "code",
      "metadata": {
        "colab": {
          "base_uri": "https://localhost:8080/",
          "height": 35
        },
        "id": "ksGLiupwpU_3",
        "outputId": "9f04c88a-1983-4d76-c658-e2d8fb90a93e"
      },
      "source": [
        "# 더 신박하게 해결하는 방법\n",
        "grade = 'A' if score >= 90 else \\       # \\ 다음문장을 뒤에 연결시킨다는 의미\n",
        "            'B' if score >= 80 else \\\n",
        "              'C' if score >= 70 else \\\n",
        "                'D' if score >= 60 else 'F'\n",
        "grade"
      ],
      "execution_count": 21,
      "outputs": [
        {
          "output_type": "execute_result",
          "data": {
            "application/vnd.google.colaboratory.intrinsic+json": {
              "type": "string"
            },
            "text/plain": [
              "'B'"
            ]
          },
          "metadata": {
            "tags": []
          },
          "execution_count": 21
        }
      ]
    },
    {
      "cell_type": "code",
      "metadata": {
        "colab": {
          "base_uri": "https://localhost:8080/",
          "height": 35
        },
        "id": "irwWjH9lqubK",
        "outputId": "2d193b86-1dc3-48ab-92e0-3bfd615997ac"
      },
      "source": [
        "grade = 'A' if score >= 90 else 'B' if score >= 80 else 'C' if score >= 70 else 'D' if score >= 60 else 'F'\n",
        "grade\n",
        "\n",
        "# 한 줄에 써도 읽어들이는데 보기 편하게 하기 위해"
      ],
      "execution_count": 22,
      "outputs": [
        {
          "output_type": "execute_result",
          "data": {
            "application/vnd.google.colaboratory.intrinsic+json": {
              "type": "string"
            },
            "text/plain": [
              "'B'"
            ]
          },
          "metadata": {
            "tags": []
          },
          "execution_count": 22
        }
      ]
    },
    {
      "cell_type": "markdown",
      "metadata": {
        "id": "wgqbPaJuuhpy"
      },
      "source": [
        "### 조건식에서의 논리연산자"
      ]
    },
    {
      "cell_type": "code",
      "metadata": {
        "colab": {
          "base_uri": "https://localhost:8080/"
        },
        "id": "8XsLgBbdrZ-p",
        "outputId": "49ae3204-7eda-4bbd-cebc-c458e3471446"
      },
      "source": [
        "x = 5\n",
        "if x > 0 and x < 10:\n",
        "  print('10보다 작은 양의 정수입니다.')"
      ],
      "execution_count": 23,
      "outputs": [
        {
          "output_type": "stream",
          "text": [
            "10보다 작은 양의 정수입니다.\n"
          ],
          "name": "stdout"
        }
      ]
    },
    {
      "cell_type": "code",
      "metadata": {
        "colab": {
          "base_uri": "https://localhost:8080/"
        },
        "id": "CvFHM1OHurD2",
        "outputId": "53e16eac-7185-448e-c79e-244976fe0d15"
      },
      "source": [
        "if 0 < x < 10:        #다른 lauguage에서는 안됨\n",
        "  print('10보다 작은 양의 정수입니다.')"
      ],
      "execution_count": 24,
      "outputs": [
        {
          "output_type": "stream",
          "text": [
            "10보다 작은 양의 정수입니다.\n"
          ],
          "name": "stdout"
        }
      ]
    },
    {
      "cell_type": "code",
      "metadata": {
        "id": "yDswMIjfu0gH"
      },
      "source": [
        ""
      ],
      "execution_count": null,
      "outputs": []
    }
  ]
}