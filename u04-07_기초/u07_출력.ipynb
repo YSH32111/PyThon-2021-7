{
  "nbformat": 4,
  "nbformat_minor": 0,
  "metadata": {
    "colab": {
      "name": "u07_출력.ipynb",
      "provenance": [],
      "collapsed_sections": []
    },
    "kernelspec": {
      "name": "python3",
      "display_name": "Python 3"
    },
    "language_info": {
      "name": "python"
    }
  },
  "cells": [
    {
      "cell_type": "markdown",
      "metadata": {
        "id": "X-oSm7YQZrJg"
      },
      "source": [
        "# Unit 7. 출력"
      ]
    },
    {
      "cell_type": "markdown",
      "metadata": {
        "id": "yQurdTs0acHk"
      },
      "source": [
        "## 7.1 여러개 값을 출력"
      ]
    },
    {
      "cell_type": "code",
      "metadata": {
        "colab": {
          "base_uri": "https://localhost:8080/"
        },
        "id": "fo-5LgkYZlwL",
        "outputId": "6b14a03c-1369-4620-e4c1-c4ea5d55fb2b"
      },
      "source": [
        "a, b = map(int, input('정수 두개 입력>').split())\n",
        "a\n",
        "b"
      ],
      "execution_count": 3,
      "outputs": [
        {
          "output_type": "stream",
          "text": [
            "정수 두개 입력>10 20\n"
          ],
          "name": "stdout"
        },
        {
          "output_type": "execute_result",
          "data": {
            "text/plain": [
              "20"
            ]
          },
          "metadata": {
            "tags": []
          },
          "execution_count": 3
        }
      ]
    },
    {
      "cell_type": "code",
      "metadata": {
        "colab": {
          "base_uri": "https://localhost:8080/"
        },
        "id": "h9eWjcLkaFU3",
        "outputId": "fdba4faa-5980-476e-afb0-721a25ec1a19"
      },
      "source": [
        "a, b = map(int, input('정수 두개 입력>').split())\n",
        "print(a)\n",
        "print(b)"
      ],
      "execution_count": 4,
      "outputs": [
        {
          "output_type": "stream",
          "text": [
            "정수 두개 입력>10 20\n",
            "10\n",
            "20\n"
          ],
          "name": "stdout"
        }
      ]
    },
    {
      "cell_type": "code",
      "metadata": {
        "colab": {
          "base_uri": "https://localhost:8080/"
        },
        "id": "Vz-NVX0MaTtW",
        "outputId": "ad1cebd3-c513-4e79-a5d8-db08abf22b78"
      },
      "source": [
        "print(a, b)"
      ],
      "execution_count": 5,
      "outputs": [
        {
          "output_type": "stream",
          "text": [
            "10 20\n"
          ],
          "name": "stdout"
        }
      ]
    },
    {
      "cell_type": "code",
      "metadata": {
        "colab": {
          "base_uri": "https://localhost:8080/"
        },
        "id": "UBqIaMLkapU_",
        "outputId": "ff9ca944-1e9a-45ea-f878-a1d597f41744"
      },
      "source": [
        "print(a, b, sep=',')"
      ],
      "execution_count": 6,
      "outputs": [
        {
          "output_type": "stream",
          "text": [
            "10,20\n"
          ],
          "name": "stdout"
        }
      ]
    },
    {
      "cell_type": "markdown",
      "metadata": {
        "id": "y58YTKGAbE0A"
      },
      "source": [
        "## 7.2 줄바꿈 활용"
      ]
    },
    {
      "cell_type": "code",
      "metadata": {
        "colab": {
          "base_uri": "https://localhost:8080/"
        },
        "id": "1pymW8Dqa2IQ",
        "outputId": "77566d4d-f787-4989-dd52-4be2e35156f0"
      },
      "source": [
        "print(a, b, sep='\\n')"
      ],
      "execution_count": 7,
      "outputs": [
        {
          "output_type": "stream",
          "text": [
            "10\n",
            "20\n"
          ],
          "name": "stdout"
        }
      ]
    },
    {
      "cell_type": "code",
      "metadata": {
        "colab": {
          "base_uri": "https://localhost:8080/"
        },
        "id": "dAgxUE6WbP_G",
        "outputId": "ba98fa87-c800-4d83-c18f-44e14b042e60"
      },
      "source": [
        "print(a, b, '/\\\\')"
      ],
      "execution_count": 9,
      "outputs": [
        {
          "output_type": "stream",
          "text": [
            "10 20 /\\\n"
          ],
          "name": "stdout"
        }
      ]
    },
    {
      "cell_type": "code",
      "metadata": {
        "colab": {
          "base_uri": "https://localhost:8080/",
          "height": 136
        },
        "id": "BV22YOG0blb-",
        "outputId": "9d631228-9110-49f8-f3ea-0a34af627d45"
      },
      "source": [
        "1 with open('/workspace/01pythonprogramming')"
      ],
      "execution_count": 11,
      "outputs": [
        {
          "output_type": "error",
          "ename": "SyntaxError",
          "evalue": "ignored",
          "traceback": [
            "\u001b[0;36m  File \u001b[0;32m\"<ipython-input-11-8a861a02edd8>\"\u001b[0;36m, line \u001b[0;32m1\u001b[0m\n\u001b[0;31m    1 with open('/workspace/01pythonprogramming')\u001b[0m\n\u001b[0m         ^\u001b[0m\n\u001b[0;31mSyntaxError\u001b[0m\u001b[0;31m:\u001b[0m invalid syntax\n"
          ]
        }
      ]
    },
    {
      "cell_type": "code",
      "metadata": {
        "colab": {
          "base_uri": "https://localhost:8080/"
        },
        "id": "sJe8Z2AqcMxP",
        "outputId": "b92cc3cf-828b-4a7a-d6fe-22f3bdcf7c27"
      },
      "source": [
        "print(a)\n",
        "print(b)"
      ],
      "execution_count": 12,
      "outputs": [
        {
          "output_type": "stream",
          "text": [
            "10\n",
            "20\n"
          ],
          "name": "stdout"
        }
      ]
    },
    {
      "cell_type": "code",
      "metadata": {
        "colab": {
          "base_uri": "https://localhost:8080/"
        },
        "id": "Zj_SxwQLcbSP",
        "outputId": "469c0c9d-5c4d-41a7-9176-722bb7f9da27"
      },
      "source": [
        "print(a, end=' ')  #스페이스로 글자 사이 띄울 수 있음\n",
        "print(b)"
      ],
      "execution_count": 14,
      "outputs": [
        {
          "output_type": "stream",
          "text": [
            "10 20\n"
          ],
          "name": "stdout"
        }
      ]
    },
    {
      "cell_type": "code",
      "metadata": {
        "colab": {
          "base_uri": "https://localhost:8080/"
        },
        "id": "R9AhkmgecfL-",
        "outputId": "339f465d-02e1-4639-9639-ed77fce38943"
      },
      "source": [
        "for i in range(5):\n",
        "    print(i, end=' ')"
      ],
      "execution_count": 15,
      "outputs": [
        {
          "output_type": "stream",
          "text": [
            "0 1 2 3 4 "
          ],
          "name": "stdout"
        }
      ]
    },
    {
      "cell_type": "code",
      "metadata": {
        "id": "Rdu_iW5qcy-4"
      },
      "source": [
        ""
      ],
      "execution_count": null,
      "outputs": []
    }
  ]
}