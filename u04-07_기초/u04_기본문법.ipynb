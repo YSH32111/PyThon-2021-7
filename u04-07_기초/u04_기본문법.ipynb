{
  "nbformat": 4,
  "nbformat_minor": 0,
  "metadata": {
    "colab": {
      "name": "u04_기본문법.ipynb",
      "provenance": [],
      "toc_visible": true
    },
    "kernelspec": {
      "name": "python3",
      "display_name": "Python 3"
    },
    "language_info": {
      "name": "python"
    }
  },
  "cells": [
    {
      "cell_type": "markdown",
      "metadata": {
        "id": "lHMiQu-ca33e"
      },
      "source": [
        "# unit 4. 기본 문법 알아보기"
      ]
    },
    {
      "cell_type": "markdown",
      "metadata": {
        "id": "ArxG-bOFbGlN"
      },
      "source": [
        "## 4.1 세미콜론"
      ]
    },
    {
      "cell_type": "code",
      "metadata": {
        "colab": {
          "base_uri": "https://localhost:8080/"
        },
        "id": "6qp7W7BCa2OD",
        "outputId": "8e2dd2d4-9d14-4237-b240-37e03b26fa63"
      },
      "source": [
        "print('Hello, world!')"
      ],
      "execution_count": 1,
      "outputs": [
        {
          "output_type": "stream",
          "text": [
            "Hello, world!\n"
          ],
          "name": "stdout"
        }
      ]
    },
    {
      "cell_type": "code",
      "metadata": {
        "colab": {
          "base_uri": "https://localhost:8080/"
        },
        "id": "cthBMxribS_y",
        "outputId": "76028bd4-8e85-4678-e0e1-fa6430487014"
      },
      "source": [
        "print('Hello'); print('1234')"
      ],
      "execution_count": 3,
      "outputs": [
        {
          "output_type": "stream",
          "text": [
            "Hello\n",
            "1234\n"
          ],
          "name": "stdout"
        }
      ]
    },
    {
      "cell_type": "markdown",
      "metadata": {
        "id": "kZXbBA3Wbuv6"
      },
      "source": [
        "## 4.2 주석"
      ]
    },
    {
      "cell_type": "markdown",
      "metadata": {
        "id": "0bJPgjSqb5fn"
      },
      "source": [
        "### 4.2.1 한 줄 주석"
      ]
    },
    {
      "cell_type": "code",
      "metadata": {
        "colab": {
          "base_uri": "https://localhost:8080/"
        },
        "id": "QttXfp8_bfVC",
        "outputId": "58dabf98-7d79-44af-ae9c-454107a10223"
      },
      "source": [
        "# Hello, World! 출력\n",
        "print('Hello, World!')"
      ],
      "execution_count": 4,
      "outputs": [
        {
          "output_type": "stream",
          "text": [
            "Hello, World!\n"
          ],
          "name": "stdout"
        }
      ]
    },
    {
      "cell_type": "code",
      "metadata": {
        "colab": {
          "base_uri": "https://localhost:8080/"
        },
        "id": "sLcntf6wcN1C",
        "outputId": "62c22e2e-1af3-4f79-ad75-e507fa48ba31"
      },
      "source": [
        "print('Hello, World!')  # comment"
      ],
      "execution_count": 5,
      "outputs": [
        {
          "output_type": "stream",
          "text": [
            "Hello, World!\n"
          ],
          "name": "stdout"
        }
      ]
    },
    {
      "cell_type": "markdown",
      "metadata": {
        "id": "tMDdPzYserFi"
      },
      "source": [
        "### 4.2.2 블록 주석"
      ]
    },
    {
      "cell_type": "code",
      "metadata": {
        "id": "lZiBMO1fevGs"
      },
      "source": [
        "# 더하기\n",
        "# a = 1 + 2\n",
        "# print('Hello, world!')"
      ],
      "execution_count": 6,
      "outputs": []
    },
    {
      "cell_type": "code",
      "metadata": {
        "colab": {
          "base_uri": "https://localhost:8080/",
          "height": 35
        },
        "id": "fnBuiK2ue_XQ",
        "outputId": "f3e25303-fa21-4691-fec6-a15359e52dec"
      },
      "source": [
        "# 더하기\n",
        "'''a = 1 + 2\n",
        "print('Hello, world!')'''"
      ],
      "execution_count": 7,
      "outputs": [
        {
          "output_type": "execute_result",
          "data": {
            "application/vnd.google.colaboratory.intrinsic+json": {
              "type": "string"
            },
            "text/plain": [
              "\"a = 1 + 2\\nprint('Hello, world!')\""
            ]
          },
          "metadata": {
            "tags": []
          },
          "execution_count": 7
        }
      ]
    },
    {
      "cell_type": "code",
      "metadata": {
        "colab": {
          "base_uri": "https://localhost:8080/",
          "height": 35
        },
        "id": "JrkSWjoRfGds",
        "outputId": "8b04fe1f-fc69-446e-a9e3-c7876186209a"
      },
      "source": [
        "\"\"\"\n",
        "이 안에 포함된 내용이 블록 주석\n",
        "\"\"\""
      ],
      "execution_count": 8,
      "outputs": [
        {
          "output_type": "execute_result",
          "data": {
            "application/vnd.google.colaboratory.intrinsic+json": {
              "type": "string"
            },
            "text/plain": [
              "'\\n이 안에 포함된 내용이 블록 주석\\n'"
            ]
          },
          "metadata": {
            "tags": []
          },
          "execution_count": 8
        }
      ]
    },
    {
      "cell_type": "markdown",
      "metadata": {
        "id": "Wmm9YNLBiXRs"
      },
      "source": [
        "## 4.3 들여쓰기 (Indentation)"
      ]
    },
    {
      "cell_type": "code",
      "metadata": {
        "colab": {
          "base_uri": "https://localhost:8080/",
          "height": 35
        },
        "id": "1NU2H8vjfXzj",
        "outputId": "39c7e1df-430f-4ba1-fec1-7f329f9ee5fb"
      },
      "source": [
        "\"\"\" C 프로그래밍 예\n",
        "sum = 0;\n",
        "for (i=1; i<=10; i++) {\n",
        "  sum +=i;\n",
        "}\n",
        "printf(sum);\n",
        "\"\"\""
      ],
      "execution_count": 9,
      "outputs": [
        {
          "output_type": "execute_result",
          "data": {
            "application/vnd.google.colaboratory.intrinsic+json": {
              "type": "string"
            },
            "text/plain": [
              "' C 프로그래밍 예\\nsum = 0;\\nfor (i=1; i<=10; i++) {\\n  sum +=i;\\n}\\nprintf(sum);\\n'"
            ]
          },
          "metadata": {
            "tags": []
          },
          "execution_count": 9
        }
      ]
    },
    {
      "cell_type": "code",
      "metadata": {
        "colab": {
          "base_uri": "https://localhost:8080/"
        },
        "id": "sEYS0wcjjGia",
        "outputId": "739aad5f-06c9-4dfe-8ae3-b39e5dcd818e"
      },
      "source": [
        "# 파이썬 예\n",
        "sum = 0\n",
        "for i in range(1,11):\n",
        "  sum += i\n",
        "print(sum)"
      ],
      "execution_count": 10,
      "outputs": [
        {
          "output_type": "stream",
          "text": [
            "55\n"
          ],
          "name": "stdout"
        }
      ]
    },
    {
      "cell_type": "code",
      "metadata": {
        "colab": {
          "base_uri": "https://localhost:8080/"
        },
        "id": "ORjv8a5GjqxD",
        "outputId": "70f5852a-cd3a-4465-d801-d5868ce35460"
      },
      "source": [
        "sum = 0\n",
        "for i in range(1,11):\n",
        "      sum += i\n",
        "print(sum)"
      ],
      "execution_count": 11,
      "outputs": [
        {
          "output_type": "stream",
          "text": [
            "55\n"
          ],
          "name": "stdout"
        }
      ]
    },
    {
      "cell_type": "code",
      "metadata": {
        "colab": {
          "base_uri": "https://localhost:8080/"
        },
        "id": "tNae0i_Nj6sL",
        "outputId": "bc3c2247-8fa1-4d39-b917-b6415898db84"
      },
      "source": [
        "sum = 0\n",
        "for i in range(1,11):\n",
        "    sum += i\n",
        "if sum > 50:\n",
        "        print(sum)"
      ],
      "execution_count": 12,
      "outputs": [
        {
          "output_type": "stream",
          "text": [
            "55\n"
          ],
          "name": "stdout"
        }
      ]
    },
    {
      "cell_type": "code",
      "metadata": {
        "colab": {
          "base_uri": "https://localhost:8080/",
          "height": 136
        },
        "id": "lQZYtodwkDcr",
        "outputId": "b18d1a39-4489-42bb-f4bc-685c37275146"
      },
      "source": [
        "sum = 0\n",
        "for i in range(1,11):\n",
        "    sum += i\n",
        "      if (i >9):\n",
        "        print(i)\n",
        "\n",
        "print(sum)"
      ],
      "execution_count": 13,
      "outputs": [
        {
          "output_type": "error",
          "ename": "IndentationError",
          "evalue": "ignored",
          "traceback": [
            "\u001b[0;36m  File \u001b[0;32m\"<ipython-input-13-bd7d106a5d35>\"\u001b[0;36m, line \u001b[0;32m4\u001b[0m\n\u001b[0;31m    if (i >9):\u001b[0m\n\u001b[0m    ^\u001b[0m\n\u001b[0;31mIndentationError\u001b[0m\u001b[0;31m:\u001b[0m unexpected indent\n"
          ]
        }
      ]
    },
    {
      "cell_type": "code",
      "metadata": {
        "colab": {
          "base_uri": "https://localhost:8080/"
        },
        "id": "diMfQopwkUa0",
        "outputId": "d40c853d-4749-491c-f20c-6aa07c0b7700"
      },
      "source": [
        "# 기본 공백: 공백 4개, 탭 키로 많이 사용 / 백탭(Shift+TAB)\n",
        "sum = 0\n",
        "for i in range(1,11):\n",
        "    sum += i\n",
        "    if (i >9):\n",
        "     print(i)\n",
        "\n",
        "print(sum)"
      ],
      "execution_count": 16,
      "outputs": [
        {
          "output_type": "stream",
          "text": [
            "10\n",
            "55\n"
          ],
          "name": "stdout"
        }
      ]
    },
    {
      "cell_type": "code",
      "metadata": {
        "id": "p8Vj-MdQkqra"
      },
      "source": [
        ""
      ],
      "execution_count": null,
      "outputs": []
    }
  ]
}