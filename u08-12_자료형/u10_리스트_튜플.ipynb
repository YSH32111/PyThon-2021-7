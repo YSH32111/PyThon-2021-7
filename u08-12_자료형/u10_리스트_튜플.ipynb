{
  "nbformat": 4,
  "nbformat_minor": 0,
  "metadata": {
    "colab": {
      "name": "u10_리스트_튜플.ipynb",
      "provenance": [],
      "collapsed_sections": []
    },
    "kernelspec": {
      "name": "python3",
      "display_name": "Python 3"
    },
    "language_info": {
      "name": "python"
    }
  },
  "cells": [
    {
      "cell_type": "markdown",
      "metadata": {
        "id": "kQBN5yVqgmcH"
      },
      "source": [
        "# Unit 10. 리스트와 튜플"
      ]
    },
    {
      "cell_type": "code",
      "metadata": {
        "id": "9VOLXcg8gRdo"
      },
      "source": [
        "# list 여러개의 데이터  / 하나의 묶음으로 놔서 하나의 변수로 가져가겠다 (가능하면 이렇게 해야함)\n",
        "# 데이터 각각이면 반복문 사용못하고 함수도 사용못함\n",
        "# 데이터를 하나로 묶어서 반복문 사용가능, 함수 사용 가능\n",
        "# [] 리스트 \n",
        "# ()튜플 \n",
        "# {} 딕셔너리. 세트(집합)에도 사용가능\n",
        "# numpy에서는 리스트라하지 않고 [] 어레이라함 ndarray , pandas"
      ],
      "execution_count": 1,
      "outputs": []
    },
    {
      "cell_type": "markdown",
      "metadata": {
        "id": "TF7L5-2siFpd"
      },
      "source": [
        "## 10.1 리스트"
      ]
    },
    {
      "cell_type": "code",
      "metadata": {
        "colab": {
          "base_uri": "https://localhost:8080/"
        },
        "id": "aYDhym1qgyzQ",
        "outputId": "538da764-7fa5-4c56-e2b6-1d7df121a58f"
      },
      "source": [
        "a = [38, 21, 53, 62, 19]\n",
        "a"
      ],
      "execution_count": 2,
      "outputs": [
        {
          "output_type": "execute_result",
          "data": {
            "text/plain": [
              "[38, 21, 53, 62, 19]"
            ]
          },
          "metadata": {
            "tags": []
          },
          "execution_count": 2
        }
      ]
    },
    {
      "cell_type": "code",
      "metadata": {
        "colab": {
          "base_uri": "https://localhost:8080/"
        },
        "id": "v7J_GzB5iMu4",
        "outputId": "78124233-5ded-405f-ce6d-23723532b1e2"
      },
      "source": [
        "# 파이썬에서는 리스트 엘리먼트가 다른 자료형도 가능  / 이렇게 쓰는경우는 권장하진 않음. 뭘 나타내는지 인식 어려움\n",
        "person = ['James', 19, 175.4, True, [120, 80]]\n",
        "person\n",
        "# 파이썬에서는 하나하나를 객체형태로 저장해서 가능함 / 객체는 나중에 설명"
      ],
      "execution_count": 8,
      "outputs": [
        {
          "output_type": "execute_result",
          "data": {
            "text/plain": [
              "['James', 19, 175.4, True, [120, 80]]"
            ]
          },
          "metadata": {
            "tags": []
          },
          "execution_count": 8
        }
      ]
    },
    {
      "cell_type": "code",
      "metadata": {
        "colab": {
          "base_uri": "https://localhost:8080/"
        },
        "id": "ZrVUZn9Iii0p",
        "outputId": "d50fe6f0-8232-444e-ae1a-66a9f842caa6"
      },
      "source": [
        "# 위의 person은 다음과 같은 딕셔너리로 변경하는 것이 권장됨\n",
        "person_dict = {'name':'James', 'age':19, 'height':175.4,\n",
        "          'is_male':True, 'bp':[120,80]}\n",
        "person"
      ],
      "execution_count": 10,
      "outputs": [
        {
          "output_type": "execute_result",
          "data": {
            "text/plain": [
              "['James', 19, 175.4, True, [120, 80]]"
            ]
          },
          "metadata": {
            "tags": []
          },
          "execution_count": 10
        }
      ]
    },
    {
      "cell_type": "markdown",
      "metadata": {
        "id": "y0HrPz_wjzr6"
      },
      "source": [
        "### 빈 리스트 만들기"
      ]
    },
    {
      "cell_type": "code",
      "metadata": {
        "colab": {
          "base_uri": "https://localhost:8080/"
        },
        "id": "xAqR8NzKjORf",
        "outputId": "e3af8633-a0fd-43d8-af93-971bd8ffbd91"
      },
      "source": [
        "a = []\n",
        "b = list()\n",
        "a, b        #list의 표시방법"
      ],
      "execution_count": 12,
      "outputs": [
        {
          "output_type": "execute_result",
          "data": {
            "text/plain": [
              "([], [])"
            ]
          },
          "metadata": {
            "tags": []
          },
          "execution_count": 12
        }
      ]
    },
    {
      "cell_type": "code",
      "metadata": {
        "id": "NaezjztUj7u3"
      },
      "source": [
        "a, b =[], []    #여러 개 list 만들때"
      ],
      "execution_count": null,
      "outputs": []
    },
    {
      "cell_type": "markdown",
      "metadata": {
        "id": "EW3rZ3v4kYkR"
      },
      "source": [
        "###range\n",
        "-range([시작숫자,] 끝나는 숫자+1 [, 증가분])   [ ]생략가능"
      ]
    },
    {
      "cell_type": "code",
      "metadata": {
        "colab": {
          "base_uri": "https://localhost:8080/"
        },
        "id": "KcMfBE4tkZ0y",
        "outputId": "f605128d-b161-480b-9d37-1e0e537ccb55"
      },
      "source": [
        "a = range(10)\n",
        "a     # 범위만 나옴"
      ],
      "execution_count": 13,
      "outputs": [
        {
          "output_type": "execute_result",
          "data": {
            "text/plain": [
              "range(0, 10)"
            ]
          },
          "metadata": {
            "tags": []
          },
          "execution_count": 13
        }
      ]
    },
    {
      "cell_type": "code",
      "metadata": {
        "colab": {
          "base_uri": "https://localhost:8080/"
        },
        "id": "kgbnWcVYk93C",
        "outputId": "6da46ac8-65ad-4b97-94e6-b5f6d44ae96b"
      },
      "source": [
        "list(a)     #list를 붙이면 다 나옴. 항상 끝나는숫자+1\n",
        "#프로그램에서는 항상 시작숫자가 0부터"
      ],
      "execution_count": 16,
      "outputs": [
        {
          "output_type": "execute_result",
          "data": {
            "text/plain": [
              "[0, 1, 2, 3, 4, 5, 6, 7, 8, 9]"
            ]
          },
          "metadata": {
            "tags": []
          },
          "execution_count": 16
        }
      ]
    },
    {
      "cell_type": "code",
      "metadata": {
        "colab": {
          "base_uri": "https://localhost:8080/"
        },
        "id": "ZVSlVGFnlB0R",
        "outputId": "bf7f2cdc-45aa-4156-866b-99fe1d4889bb"
      },
      "source": [
        "# 1~ 10까지 세고 싶다\n",
        "list(range(1,11))\n",
        "# 이것보단 주로 list(a)로 쓰임. a의 range만 정해주면 되니까"
      ],
      "execution_count": 19,
      "outputs": [
        {
          "output_type": "execute_result",
          "data": {
            "text/plain": [
              "[1, 2, 3, 4, 5, 6, 7, 8, 9, 10]"
            ]
          },
          "metadata": {
            "tags": []
          },
          "execution_count": 19
        }
      ]
    },
    {
      "cell_type": "code",
      "metadata": {
        "colab": {
          "base_uri": "https://localhost:8080/"
        },
        "id": "s3Z4RTt6lVsX",
        "outputId": "9ea91f3c-3772-46fb-8c70-506e622ba072"
      },
      "source": [
        "# 1~10 홀수만\n",
        "list(range(1,10,2))"
      ],
      "execution_count": 20,
      "outputs": [
        {
          "output_type": "execute_result",
          "data": {
            "text/plain": [
              "[1, 3, 5, 7, 9]"
            ]
          },
          "metadata": {
            "tags": []
          },
          "execution_count": 20
        }
      ]
    },
    {
      "cell_type": "code",
      "metadata": {
        "colab": {
          "base_uri": "https://localhost:8080/"
        },
        "id": "JDy6vfX-lprQ",
        "outputId": "591374c7-0c2c-43ab-e230-bd4d50d1c64e"
      },
      "source": [
        "list(range(2,11,2))   # 2~10 짝수"
      ],
      "execution_count": 21,
      "outputs": [
        {
          "output_type": "execute_result",
          "data": {
            "text/plain": [
              "[2, 4, 6, 8, 10]"
            ]
          },
          "metadata": {
            "tags": []
          },
          "execution_count": 21
        }
      ]
    },
    {
      "cell_type": "code",
      "metadata": {
        "colab": {
          "base_uri": "https://localhost:8080/"
        },
        "id": "9clhcLnQlszY",
        "outputId": "55068a7b-d79d-4bbc-d0ce-c9e63c94e067"
      },
      "source": [
        "list(range(10,0,-1))"
      ],
      "execution_count": 22,
      "outputs": [
        {
          "output_type": "execute_result",
          "data": {
            "text/plain": [
              "[10, 9, 8, 7, 6, 5, 4, 3, 2, 1]"
            ]
          },
          "metadata": {
            "tags": []
          },
          "execution_count": 22
        }
      ]
    },
    {
      "cell_type": "markdown",
      "metadata": {
        "id": "VHbk1C9Goo3m"
      },
      "source": [
        "## 10.2 튜플(tuple)\n",
        "-Read-only 특성(변경 불가)"
      ]
    },
    {
      "cell_type": "code",
      "metadata": {
        "colab": {
          "base_uri": "https://localhost:8080/"
        },
        "id": "mcNAiRwoodq5",
        "outputId": "2607d50d-6d98-4d4f-c398-0616210c2af9"
      },
      "source": [
        "a = (38, 21 , 47)\n",
        "a"
      ],
      "execution_count": 26,
      "outputs": [
        {
          "output_type": "execute_result",
          "data": {
            "text/plain": [
              "(38, 21, 47)"
            ]
          },
          "metadata": {
            "tags": []
          },
          "execution_count": 26
        }
      ]
    },
    {
      "cell_type": "code",
      "metadata": {
        "colab": {
          "base_uri": "https://localhost:8080/"
        },
        "id": "T9nWJu7ro6fR",
        "outputId": "d4d2e86b-da7e-45a8-da48-ed45552531b9"
      },
      "source": [
        "a = 38, 21, 47      #이렇게 써도 튜플로 읽힘. 파이썬에서만 있는 독특한 구조..\n",
        "a"
      ],
      "execution_count": 27,
      "outputs": [
        {
          "output_type": "execute_result",
          "data": {
            "text/plain": [
              "(38, 21, 47)"
            ]
          },
          "metadata": {
            "tags": []
          },
          "execution_count": 27
        }
      ]
    },
    {
      "cell_type": "code",
      "metadata": {
        "colab": {
          "base_uri": "https://localhost:8080/"
        },
        "id": "LNDBEEigo8Q_",
        "outputId": "00661683-9d80-4f6c-a446-93ef996d67aa"
      },
      "source": [
        "person = ('James', 19, 175.4, True, [120, 80])\n",
        "person"
      ],
      "execution_count": 28,
      "outputs": [
        {
          "output_type": "execute_result",
          "data": {
            "text/plain": [
              "('James', 19, 175.4, True, [120, 80])"
            ]
          },
          "metadata": {
            "tags": []
          },
          "execution_count": 28
        }
      ]
    },
    {
      "cell_type": "code",
      "metadata": {
        "colab": {
          "base_uri": "https://localhost:8080/"
        },
        "id": "_YV-HaeRpOVw",
        "outputId": "90722f6f-ff56-42e8-e483-18c52819983c"
      },
      "source": [
        "a = tuple('13')     #??? a = tuple() \\n a   = ()\n",
        "a"
      ],
      "execution_count": 35,
      "outputs": [
        {
          "output_type": "execute_result",
          "data": {
            "text/plain": [
              "('1', '3')"
            ]
          },
          "metadata": {
            "tags": []
          },
          "execution_count": 35
        }
      ]
    },
    {
      "cell_type": "code",
      "metadata": {
        "colab": {
          "base_uri": "https://localhost:8080/"
        },
        "id": "204FnBiepvuB",
        "outputId": "75e1643d-4421-49eb-bee3-24eed279d055"
      },
      "source": [
        "# a는 정수\n",
        "a = (38)\n",
        "a"
      ],
      "execution_count": 38,
      "outputs": [
        {
          "output_type": "execute_result",
          "data": {
            "text/plain": [
              "38"
            ]
          },
          "metadata": {
            "tags": []
          },
          "execution_count": 38
        }
      ]
    },
    {
      "cell_type": "code",
      "metadata": {
        "colab": {
          "base_uri": "https://localhost:8080/"
        },
        "id": "k6k4BBSLqKYf",
        "outputId": "b69628e4-7b06-4c82-e7b8-7191e59eda5c"
      },
      "source": [
        "# 튜플로 만들고 싶다면\n",
        "a = (38,)\n",
        "a"
      ],
      "execution_count": 39,
      "outputs": [
        {
          "output_type": "execute_result",
          "data": {
            "text/plain": [
              "(38,)"
            ]
          },
          "metadata": {
            "tags": []
          },
          "execution_count": 39
        }
      ]
    },
    {
      "cell_type": "code",
      "metadata": {
        "colab": {
          "base_uri": "https://localhost:8080/"
        },
        "id": "rhZZczg8qPh_",
        "outputId": "eadec8b9-b285-4e69-aea5-d1fdb77f80e0"
      },
      "source": [
        "tuple(range(5))"
      ],
      "execution_count": 40,
      "outputs": [
        {
          "output_type": "execute_result",
          "data": {
            "text/plain": [
              "(0, 1, 2, 3, 4)"
            ]
          },
          "metadata": {
            "tags": []
          },
          "execution_count": 40
        }
      ]
    },
    {
      "cell_type": "markdown",
      "metadata": {
        "id": "k3OM3YKnqyP0"
      },
      "source": [
        "### 리스트 <--> 튜플"
      ]
    },
    {
      "cell_type": "code",
      "metadata": {
        "colab": {
          "base_uri": "https://localhost:8080/"
        },
        "id": "VTfJzNS6qtxS",
        "outputId": "688fefa6-76f1-4ccc-dbfc-c38652efc528"
      },
      "source": [
        "# a는 원래 list 였는데 tuple로 바뀜\n",
        "a = [1, 3, 4]\n",
        "b = tuple(a)\n",
        "b"
      ],
      "execution_count": 41,
      "outputs": [
        {
          "output_type": "execute_result",
          "data": {
            "text/plain": [
              "(1, 3, 4)"
            ]
          },
          "metadata": {
            "tags": []
          },
          "execution_count": 41
        }
      ]
    },
    {
      "cell_type": "code",
      "metadata": {
        "colab": {
          "base_uri": "https://localhost:8080/"
        },
        "id": "2SwzR-varE32",
        "outputId": "43594acd-b89e-45e4-c13b-56eb47016f92"
      },
      "source": [
        "# b는 tuple였는데 list로 바뀜\n",
        "c =list(b)\n",
        "c"
      ],
      "execution_count": 43,
      "outputs": [
        {
          "output_type": "execute_result",
          "data": {
            "text/plain": [
              "[1, 3, 4]"
            ]
          },
          "metadata": {
            "tags": []
          },
          "execution_count": 43
        }
      ]
    },
    {
      "cell_type": "code",
      "metadata": {
        "colab": {
          "base_uri": "https://localhost:8080/",
          "height": 190
        },
        "id": "lkeKU_BXrLeY",
        "outputId": "6a57c7bd-0a16-46ee-b3d8-69b66f332f81"
      },
      "source": [
        "x = 10\n",
        "tuple(x,)     #? 숫자하나에 , 는 되는데 왜 x는 안되지??"
      ],
      "execution_count": 45,
      "outputs": [
        {
          "output_type": "error",
          "ename": "TypeError",
          "evalue": "ignored",
          "traceback": [
            "\u001b[0;31m---------------------------------------------------------------------------\u001b[0m",
            "\u001b[0;31mTypeError\u001b[0m                                 Traceback (most recent call last)",
            "\u001b[0;32m<ipython-input-45-a2507460135c>\u001b[0m in \u001b[0;36m<module>\u001b[0;34m()\u001b[0m\n\u001b[1;32m      1\u001b[0m \u001b[0mx\u001b[0m \u001b[0;34m=\u001b[0m \u001b[0;36m10\u001b[0m\u001b[0;34m\u001b[0m\u001b[0;34m\u001b[0m\u001b[0m\n\u001b[0;32m----> 2\u001b[0;31m \u001b[0mtuple\u001b[0m\u001b[0;34m(\u001b[0m\u001b[0mx\u001b[0m\u001b[0;34m,\u001b[0m\u001b[0;34m)\u001b[0m\u001b[0;34m\u001b[0m\u001b[0;34m\u001b[0m\u001b[0m\n\u001b[0m",
            "\u001b[0;31mTypeError\u001b[0m: 'int' object is not iterable"
          ]
        }
      ]
    },
    {
      "cell_type": "markdown",
      "metadata": {
        "id": "nbib2rdqrhxP"
      },
      "source": [
        "### 문자열"
      ]
    },
    {
      "cell_type": "code",
      "metadata": {
        "colab": {
          "base_uri": "https://localhost:8080/"
        },
        "id": "jBjR0EPZrVtK",
        "outputId": "632d14d1-e73f-4d65-e7e9-586e98fca4c2"
      },
      "source": [
        "# 문자열은 개별로 인식\n",
        "tuple('Hello')"
      ],
      "execution_count": 47,
      "outputs": [
        {
          "output_type": "execute_result",
          "data": {
            "text/plain": [
              "('H', 'e', 'l', 'l', 'o')"
            ]
          },
          "metadata": {
            "tags": []
          },
          "execution_count": 47
        }
      ]
    },
    {
      "cell_type": "code",
      "metadata": {
        "colab": {
          "base_uri": "https://localhost:8080/"
        },
        "id": "UFpZltiArkXP",
        "outputId": "a6a586bb-7dcf-46bc-d09e-082c56533e32"
      },
      "source": [
        "list('안녕하세요')      #list도 마찬가지"
      ],
      "execution_count": 49,
      "outputs": [
        {
          "output_type": "execute_result",
          "data": {
            "text/plain": [
              "['안', '녕', '하', '세', '요']"
            ]
          },
          "metadata": {
            "tags": []
          },
          "execution_count": 49
        }
      ]
    },
    {
      "cell_type": "markdown",
      "metadata": {
        "id": "vHY7sMY2r3PV"
      },
      "source": [
        "### 언팩킹(Unpacking)"
      ]
    },
    {
      "cell_type": "code",
      "metadata": {
        "colab": {
          "base_uri": "https://localhost:8080/"
        },
        "id": "CYiNGh9KrsY0",
        "outputId": "3422751c-6c0d-4017-b399-e097884e98d4"
      },
      "source": [
        "# tuple unpacking element 개수가 맞으면 가능\n",
        "a = (1, 3, 4)\n",
        "x, y, z = a\n",
        "x, y, z"
      ],
      "execution_count": 52,
      "outputs": [
        {
          "output_type": "execute_result",
          "data": {
            "text/plain": [
              "(1, 3, 4)"
            ]
          },
          "metadata": {
            "tags": []
          },
          "execution_count": 52
        }
      ]
    },
    {
      "cell_type": "code",
      "metadata": {
        "colab": {
          "base_uri": "https://localhost:8080/"
        },
        "id": "cNE9bMnNr_V4",
        "outputId": "3c741401-61ff-4ee8-b94f-a6149f3949df"
      },
      "source": [
        "# list unpacking\n",
        "x, y, z = [1, 3, 5]\n",
        "x, y, z"
      ],
      "execution_count": 53,
      "outputs": [
        {
          "output_type": "execute_result",
          "data": {
            "text/plain": [
              "(1, 3, 5)"
            ]
          },
          "metadata": {
            "tags": []
          },
          "execution_count": 53
        }
      ]
    }
  ]
}