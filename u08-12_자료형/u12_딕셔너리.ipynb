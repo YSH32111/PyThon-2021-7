{
  "nbformat": 4,
  "nbformat_minor": 0,
  "metadata": {
    "colab": {
      "name": "u12_딕셔너리.ipynb",
      "provenance": [],
      "collapsed_sections": []
    },
    "kernelspec": {
      "name": "python3",
      "display_name": "Python 3"
    },
    "language_info": {
      "name": "python"
    }
  },
  "cells": [
    {
      "cell_type": "markdown",
      "metadata": {
        "id": "awlbi41iRj19"
      },
      "source": [
        "# Unit 12. 딕셔너리(Dictionary)"
      ]
    },
    {
      "cell_type": "code",
      "metadata": {
        "id": "qP916-s8Ri_V"
      },
      "source": [
        "lux = [490, 334, 550, 18.72]\n",
        "lux"
      ],
      "execution_count": 1,
      "outputs": []
    },
    {
      "cell_type": "code",
      "metadata": {
        "colab": {
          "base_uri": "https://localhost:8080/"
        },
        "id": "g6zzLCWJSFp_",
        "outputId": "d32181c3-7520-4adc-9b47-b680e922aa5c"
      },
      "source": [
        "lux = {\n",
        "    'health': 490,      # 체력\n",
        "    'mana': 334,        # 마력\n",
        " 'melee': 550,       # 사거리\n",
        "        'armor': 18.72      # 방어력        #인덴테이션(들여쓰기)과 관계없음\n",
        "}\n",
        "lux"
      ],
      "execution_count": 8,
      "outputs": [
        {
          "output_type": "execute_result",
          "data": {
            "text/plain": [
              "{'armor': 18.72, 'health': 490, 'mana': 334, 'melee': 550}"
            ]
          },
          "metadata": {
            "tags": []
          },
          "execution_count": 8
        }
      ]
    },
    {
      "cell_type": "markdown",
      "metadata": {
        "id": "4Y613N0yTLwy"
      },
      "source": [
        "## 12.1 딕셔너리 생성"
      ]
    },
    {
      "cell_type": "code",
      "metadata": {
        "colab": {
          "base_uri": "https://localhost:8080/"
        },
        "id": "ggQWwfI2SlGx",
        "outputId": "6cd6db81-2283-412e-e1d7-f9fec2ab8f18"
      },
      "source": [
        "# 항목이 중복될경우 나중에 입력한 값만 출력\n",
        "lux = {'health': 490, 'health': 800, 'mana': 334, 'melee': 550, 'armor': 18.72}\n",
        "lux"
      ],
      "execution_count": 11,
      "outputs": [
        {
          "output_type": "execute_result",
          "data": {
            "text/plain": [
              "{'armor': 18.72, 'health': 800, 'mana': 334, 'melee': 550}"
            ]
          },
          "metadata": {
            "tags": []
          },
          "execution_count": 11
        }
      ]
    },
    {
      "cell_type": "code",
      "metadata": {
        "colab": {
          "base_uri": "https://localhost:8080/"
        },
        "id": "PjpegGdcTppg",
        "outputId": "28a905fa-9350-4141-ea16-6ac661afb900"
      },
      "source": [
        "#빈 딕셔너리\n",
        "a = {}\n",
        "b = dict()\n",
        "a, b        #튜플은 빈 거 만드는게 의미가 없지만 딕셔너리와 리스트는 쓰임\n",
        "#반복문을 쓸 때 초기화되는 값으로 많이 쓰임\n",
        "#sum=0, prod=1 / el=[]  emptylist\n",
        "#반복문 sum = sum+i / prod = prod*1 el.append(i) / d['key']=val"
      ],
      "execution_count": 13,
      "outputs": [
        {
          "output_type": "execute_result",
          "data": {
            "text/plain": [
              "({}, {})"
            ]
          },
          "metadata": {
            "tags": []
          },
          "execution_count": 13
        }
      ]
    },
    {
      "cell_type": "code",
      "metadata": {
        "colab": {
          "base_uri": "https://localhost:8080/"
        },
        "id": "BSh3E8WbUBMq",
        "outputId": "dbd2cb20-71d7-4a89-8977-7ead2c1821c9"
      },
      "source": [
        "a = set((1,2,3))\n",
        "a"
      ],
      "execution_count": 14,
      "outputs": [
        {
          "output_type": "execute_result",
          "data": {
            "text/plain": [
              "{1, 2, 3}"
            ]
          },
          "metadata": {
            "tags": []
          },
          "execution_count": 14
        }
      ]
    },
    {
      "cell_type": "code",
      "metadata": {
        "colab": {
          "base_uri": "https://localhost:8080/"
        },
        "id": "gOyCqffwVFHS",
        "outputId": "8c0a520d-2551-4348-8ddc-c643e38f3187"
      },
      "source": [
        "a = ['a', 'b', 'c', 'd']\n",
        "b = [1,2,3,4]\n",
        "dict(zip(a, b))"
      ],
      "execution_count": 17,
      "outputs": [
        {
          "output_type": "execute_result",
          "data": {
            "text/plain": [
              "{'a': 1, 'b': 2, 'c': 3, 'd': 4}"
            ]
          },
          "metadata": {
            "tags": []
          },
          "execution_count": 17
        }
      ]
    },
    {
      "cell_type": "markdown",
      "metadata": {
        "id": "5YnvbHRGV4cD"
      },
      "source": [
        "## 12. 2 딕셔너리 키에 접근하고 값 할당하기"
      ]
    },
    {
      "cell_type": "code",
      "metadata": {
        "colab": {
          "base_uri": "https://localhost:8080/"
        },
        "id": "jl0uUAz4VcTy",
        "outputId": "6f64e28e-43f0-4b4e-8324-3d000c9b0cac"
      },
      "source": [
        "lux"
      ],
      "execution_count": 18,
      "outputs": [
        {
          "output_type": "execute_result",
          "data": {
            "text/plain": [
              "{'armor': 18.72, 'health': 800, 'mana': 334, 'melee': 550}"
            ]
          },
          "metadata": {
            "tags": []
          },
          "execution_count": 18
        }
      ]
    },
    {
      "cell_type": "code",
      "metadata": {
        "colab": {
          "base_uri": "https://localhost:8080/"
        },
        "id": "SXVPvyE1WCvP",
        "outputId": "4879b108-603d-4c5f-8ed8-f0e0a4acce6c"
      },
      "source": [
        "lux['mana'], lux['armor']"
      ],
      "execution_count": 20,
      "outputs": [
        {
          "output_type": "execute_result",
          "data": {
            "text/plain": [
              "(334, 18.72)"
            ]
          },
          "metadata": {
            "tags": []
          },
          "execution_count": 20
        }
      ]
    },
    {
      "cell_type": "code",
      "metadata": {
        "id": "UZi0tKJ0WIeQ"
      },
      "source": [
        "# JavaScript 에서는 딕셔너리가 Object로 쓰임\n",
        "# obj = []    <- 이 표시가 딕셔너리\n",
        "# obj.key ~~~\n",
        "# 파이썬에서 lux.mana 쓰면 오류남. / 데이터프레임에서는 지원함"
      ],
      "execution_count": null,
      "outputs": []
    },
    {
      "cell_type": "code",
      "metadata": {
        "colab": {
          "base_uri": "https://localhost:8080/",
          "height": 172
        },
        "id": "7Vi5WaQsWqMb",
        "outputId": "89424760-1034-4c1e-8d30-ea509e1ad466"
      },
      "source": [
        "lux.mana    # 아직도 불편한 상태. 추후 버전이 업되면 바뀔 수 있음"
      ],
      "execution_count": 22,
      "outputs": [
        {
          "output_type": "error",
          "ename": "AttributeError",
          "evalue": "ignored",
          "traceback": [
            "\u001b[0;31m---------------------------------------------------------------------------\u001b[0m",
            "\u001b[0;31mAttributeError\u001b[0m                            Traceback (most recent call last)",
            "\u001b[0;32m<ipython-input-22-8262e856b843>\u001b[0m in \u001b[0;36m<module>\u001b[0;34m()\u001b[0m\n\u001b[0;32m----> 1\u001b[0;31m \u001b[0mlux\u001b[0m\u001b[0;34m.\u001b[0m\u001b[0mmana\u001b[0m    \u001b[0;31m# 아직도 불편한 상태. 추후 버전이 업되면 바뀔 수 있음\u001b[0m\u001b[0;34m\u001b[0m\u001b[0;34m\u001b[0m\u001b[0m\n\u001b[0m",
            "\u001b[0;31mAttributeError\u001b[0m: 'dict' object has no attribute 'mana'"
          ]
        }
      ]
    },
    {
      "cell_type": "code",
      "metadata": {
        "id": "Hc8fwX69WrNX"
      },
      "source": [
        "# f''         ```  back quote"
      ],
      "execution_count": 23,
      "outputs": []
    },
    {
      "cell_type": "code",
      "metadata": {
        "colab": {
          "base_uri": "https://localhost:8080/"
        },
        "id": "XZYfTpSaXG2i",
        "outputId": "228d12b4-0652-44da-91e5-3226a291a0d3"
      },
      "source": [
        "# 키값이 기존 딕셔너리에 없으면 새롭게 추가\n",
        "lux['new'] = 10\n",
        "lux"
      ],
      "execution_count": 25,
      "outputs": [
        {
          "output_type": "execute_result",
          "data": {
            "text/plain": [
              "{'armor': 18.72, 'health': 800, 'mana': 334, 'melee': 550, 'new': 10}"
            ]
          },
          "metadata": {
            "tags": []
          },
          "execution_count": 25
        }
      ]
    },
    {
      "cell_type": "code",
      "metadata": {
        "colab": {
          "base_uri": "https://localhost:8080/"
        },
        "id": "eLBROIiYXLrv",
        "outputId": "dce9783b-5e59-416d-e255-a8a277a9bd02"
      },
      "source": [
        "# 키값이 기존에 있으면?\n",
        "lux['mana'] = 1000\n",
        "lux"
      ],
      "execution_count": 26,
      "outputs": [
        {
          "output_type": "execute_result",
          "data": {
            "text/plain": [
              "{'armor': 18.72, 'health': 800, 'mana': 1000, 'melee': 550, 'new': 10}"
            ]
          },
          "metadata": {
            "tags": []
          },
          "execution_count": 26
        }
      ]
    },
    {
      "cell_type": "code",
      "metadata": {
        "colab": {
          "base_uri": "https://localhost:8080/"
        },
        "id": "Fi4D7JKoXazP",
        "outputId": "954df390-6f8d-4094-d9ae-d4e913d57651"
      },
      "source": [
        "'mana' in lux"
      ],
      "execution_count": 27,
      "outputs": [
        {
          "output_type": "execute_result",
          "data": {
            "text/plain": [
              "True"
            ]
          },
          "metadata": {
            "tags": []
          },
          "execution_count": 27
        }
      ]
    },
    {
      "cell_type": "code",
      "metadata": {
        "colab": {
          "base_uri": "https://localhost:8080/"
        },
        "id": "V9y3YpWoYF2Y",
        "outputId": "42001890-1ed2-4eed-df84-1ef297e2ad41"
      },
      "source": [
        "# 'mana' 항목이 존재하면 기존값 + 100, 없으면 값을 50이 되게 만드시오\n",
        "e = {'mana': 150}\n",
        "\n",
        "if 'mana' in e:\n",
        "  e['mana'] = e['mana'] + 100\n",
        "else:\n",
        "  e['mana'] = 50\n",
        "e"
      ],
      "execution_count": 31,
      "outputs": [
        {
          "output_type": "execute_result",
          "data": {
            "text/plain": [
              "{'mana': 250}"
            ]
          },
          "metadata": {
            "tags": []
          },
          "execution_count": 31
        }
      ]
    },
    {
      "cell_type": "code",
      "metadata": {
        "colab": {
          "base_uri": "https://localhost:8080/"
        },
        "id": "FGO4MxiTYy_H",
        "outputId": "17e110b7-0818-4af1-8952-e34df09f8e44"
      },
      "source": [
        "e = {}\n",
        "\n",
        "if 'mana' in e:\n",
        "  e['mana'] = e['mana'] + 100\n",
        "else:\n",
        "  e['mana'] = 50\n",
        "e"
      ],
      "execution_count": 37,
      "outputs": [
        {
          "output_type": "execute_result",
          "data": {
            "text/plain": [
              "{'mana': 50}"
            ]
          },
          "metadata": {
            "tags": []
          },
          "execution_count": 37
        }
      ]
    },
    {
      "cell_type": "markdown",
      "metadata": {
        "id": "m8bX_kdxZL8A"
      },
      "source": [
        "### 딕셔너리 키의 갯수"
      ]
    },
    {
      "cell_type": "code",
      "metadata": {
        "colab": {
          "base_uri": "https://localhost:8080/"
        },
        "id": "sjKz1p9sY31_",
        "outputId": "f4ed0a67-ff36-4ca4-c0fb-5e97fa6c112d"
      },
      "source": [
        "lux"
      ],
      "execution_count": 38,
      "outputs": [
        {
          "output_type": "execute_result",
          "data": {
            "text/plain": [
              "{'armor': 18.72, 'health': 800, 'mana': 1000, 'melee': 550, 'new': 10}"
            ]
          },
          "metadata": {
            "tags": []
          },
          "execution_count": 38
        }
      ]
    },
    {
      "cell_type": "code",
      "metadata": {
        "colab": {
          "base_uri": "https://localhost:8080/"
        },
        "id": "vgSaDyEHZP2Z",
        "outputId": "445fd65f-fbed-496f-ef7c-0a6d54d19edb"
      },
      "source": [
        "len(lux)"
      ],
      "execution_count": 39,
      "outputs": [
        {
          "output_type": "execute_result",
          "data": {
            "text/plain": [
              "5"
            ]
          },
          "metadata": {
            "tags": []
          },
          "execution_count": 39
        }
      ]
    },
    {
      "cell_type": "markdown",
      "metadata": {
        "id": "B16vsl6oZ7Ri"
      },
      "source": [
        "### 자료형"
      ]
    },
    {
      "cell_type": "code",
      "metadata": {
        "colab": {
          "base_uri": "https://localhost:8080/"
        },
        "id": "0v9AaBn3ZRrn",
        "outputId": "c054bffb-ad09-40b8-882b-d00ad6ad24cc"
      },
      "source": [
        "type(lux)"
      ],
      "execution_count": 40,
      "outputs": [
        {
          "output_type": "execute_result",
          "data": {
            "text/plain": [
              "dict"
            ]
          },
          "metadata": {
            "tags": []
          },
          "execution_count": 40
        }
      ]
    },
    {
      "cell_type": "code",
      "metadata": {
        "colab": {
          "base_uri": "https://localhost:8080/"
        },
        "id": "OiGDNKg2Z9kw",
        "outputId": "9cccc585-c514-4661-d1c3-e8310b371d82"
      },
      "source": [
        "type(lux['armor'])"
      ],
      "execution_count": 41,
      "outputs": [
        {
          "output_type": "execute_result",
          "data": {
            "text/plain": [
              "float"
            ]
          },
          "metadata": {
            "tags": []
          },
          "execution_count": 41
        }
      ]
    },
    {
      "cell_type": "code",
      "metadata": {
        "colab": {
          "base_uri": "https://localhost:8080/"
        },
        "id": "ISxcKhXPbjmx",
        "outputId": "d2a57ba4-a3b9-425c-c8c0-7744db8b6018"
      },
      "source": [
        "lux['mana'], lux['armor']"
      ],
      "execution_count": 47,
      "outputs": [
        {
          "output_type": "execute_result",
          "data": {
            "text/plain": [
              "(1000, 18.72)"
            ]
          },
          "metadata": {
            "tags": []
          },
          "execution_count": 47
        }
      ]
    },
    {
      "cell_type": "markdown",
      "metadata": {
        "id": "AM_XQQ0Hbnfg"
      },
      "source": [
        "### 반복문 추후 학습예정"
      ]
    },
    {
      "cell_type": "code",
      "metadata": {
        "colab": {
          "base_uri": "https://localhost:8080/"
        },
        "id": "QjXFgPnnZ_h4",
        "outputId": "e1eb0eb5-0cc2-43a8-d703-add6bb13da8e"
      },
      "source": [
        "lux.keys()"
      ],
      "execution_count": 42,
      "outputs": [
        {
          "output_type": "execute_result",
          "data": {
            "text/plain": [
              "dict_keys(['health', 'mana', 'melee', 'armor', 'new'])"
            ]
          },
          "metadata": {
            "tags": []
          },
          "execution_count": 42
        }
      ]
    },
    {
      "cell_type": "code",
      "metadata": {
        "colab": {
          "base_uri": "https://localhost:8080/"
        },
        "id": "ndnUTEZhasyJ",
        "outputId": "6197360b-96a8-45d0-8b38-116af05054d0"
      },
      "source": [
        "for key in lux.keys():\n",
        "  print(f'{key}: {lux[key]}')"
      ],
      "execution_count": 44,
      "outputs": [
        {
          "output_type": "stream",
          "text": [
            "health: 800\n",
            "mana: 1000\n",
            "melee: 550\n",
            "armor: 18.72\n",
            "new: 10\n"
          ],
          "name": "stdout"
        }
      ]
    },
    {
      "cell_type": "code",
      "metadata": {
        "colab": {
          "base_uri": "https://localhost:8080/"
        },
        "id": "_x2SELFja0wh",
        "outputId": "96f39260-0667-44a0-92f2-c794bc4b3dca"
      },
      "source": [
        "for key, value in lux.items():\n",
        "  print(f'{key}: {value}')"
      ],
      "execution_count": 46,
      "outputs": [
        {
          "output_type": "stream",
          "text": [
            "health: 800\n",
            "mana: 1000\n",
            "melee: 550\n",
            "armor: 18.72\n",
            "new: 10\n"
          ],
          "name": "stdout"
        }
      ]
    },
    {
      "cell_type": "markdown",
      "metadata": {
        "id": "m2MKM1SBfNWl"
      },
      "source": [
        "### 질문에 대한 답변"
      ]
    },
    {
      "cell_type": "code",
      "metadata": {
        "colab": {
          "base_uri": "https://localhost:8080/"
        },
        "id": "XkRc27qKbI3Y",
        "outputId": "4baebdd5-e4ac-4707-eb18-12b3e5b9445f"
      },
      "source": [
        "# 두가지를 동시에쓰면 (여러 개 일 경우)\n",
        "# 'mana' 항목이 존재하면 기존값 + 100, 없으면 값을 50이 되게 만드시오\n",
        "d = {'mana': 120}\n",
        "e = {}\n",
        "\n",
        "for item in [d, e]:\n",
        "  if 'mana' in item:\n",
        "    item['mana'] = item['mana'] + 100\n",
        "  else:\n",
        "    item['mana'] = 50\n",
        "d, e\n",
        "\n",
        "# 함수로 만들어서도 할 수 있음"
      ],
      "execution_count": 48,
      "outputs": [
        {
          "output_type": "execute_result",
          "data": {
            "text/plain": [
              "({'mana': 220}, {'mana': 50})"
            ]
          },
          "metadata": {
            "tags": []
          },
          "execution_count": 48
        }
      ]
    },
    {
      "cell_type": "code",
      "metadata": {
        "id": "5MR6kF78fpVX"
      },
      "source": [
        ""
      ],
      "execution_count": null,
      "outputs": []
    }
  ]
}