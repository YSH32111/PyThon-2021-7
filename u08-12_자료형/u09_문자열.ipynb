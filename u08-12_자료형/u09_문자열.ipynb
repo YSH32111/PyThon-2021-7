{
  "nbformat": 4,
  "nbformat_minor": 0,
  "metadata": {
    "colab": {
      "name": "u09_문자열.ipynb",
      "provenance": [],
      "collapsed_sections": []
    },
    "kernelspec": {
      "name": "python3",
      "display_name": "Python 3"
    },
    "language_info": {
      "name": "python"
    }
  },
  "cells": [
    {
      "cell_type": "markdown",
      "metadata": {
        "id": "jzsq-_itb08I"
      },
      "source": [
        "# Unit 9. 문자열"
      ]
    },
    {
      "cell_type": "code",
      "metadata": {
        "id": "XhGom1JlYxSR"
      },
      "source": [
        "# string 객체\n",
        "# string.split()   함수가 아닌 method라 함\n",
        "# math.abs()      function 함수라 함"
      ],
      "execution_count": 1,
      "outputs": []
    },
    {
      "cell_type": "code",
      "metadata": {
        "colab": {
          "base_uri": "https://localhost:8080/"
        },
        "id": "ORQznnMKci_X",
        "outputId": "df0ffa10-1ae1-426e-a870-31b035dd2360"
      },
      "source": [
        "hello = 'Hello, world!'\n",
        "hello2 = \"Hello, world!\"\n",
        "hello, hello2"
      ],
      "execution_count": 2,
      "outputs": [
        {
          "output_type": "execute_result",
          "data": {
            "text/plain": [
              "('Hello, world!', 'Hello, world!')"
            ]
          },
          "metadata": {
            "tags": []
          },
          "execution_count": 2
        }
      ]
    },
    {
      "cell_type": "code",
      "metadata": {
        "colab": {
          "base_uri": "https://localhost:8080/",
          "height": 136
        },
        "id": "WEY5y_btc6Pn",
        "outputId": "9196bbec-b57c-4a81-8843-e8353c7bce5c"
      },
      "source": [
        "# 두 줄짜리 문장을 쓰고 싶어서 이렇게 쓰면 프로그램 에러 뒷문장의 '이 빠짐\n",
        "multiline = 'Hello!\n",
        "World!'\n",
        "multiline"
      ],
      "execution_count": 7,
      "outputs": [
        {
          "output_type": "error",
          "ename": "SyntaxError",
          "evalue": "ignored",
          "traceback": [
            "\u001b[0;36m  File \u001b[0;32m\"<ipython-input-7-ce333a70c4e5>\"\u001b[0;36m, line \u001b[0;32m2\u001b[0m\n\u001b[0;31m    multiline = 'Hello!\u001b[0m\n\u001b[0m                       ^\u001b[0m\n\u001b[0;31mSyntaxError\u001b[0m\u001b[0;31m:\u001b[0m EOL while scanning string literal\n"
          ]
        }
      ]
    },
    {
      "cell_type": "code",
      "metadata": {
        "colab": {
          "base_uri": "https://localhost:8080/",
          "height": 35
        },
        "id": "YV22ICGUdMOJ",
        "outputId": "08eac001-51b9-4e83-c3c7-3df58b746804"
      },
      "source": [
        "multiline = '''Hello!\n",
        "World!'''\n",
        "multiline"
      ],
      "execution_count": 6,
      "outputs": [
        {
          "output_type": "execute_result",
          "data": {
            "application/vnd.google.colaboratory.intrinsic+json": {
              "type": "string"
            },
            "text/plain": [
              "'Hello!\\nWorld!'"
            ]
          },
          "metadata": {
            "tags": []
          },
          "execution_count": 6
        }
      ]
    },
    {
      "cell_type": "code",
      "metadata": {
        "id": "TOtPJPPVdVHg"
      },
      "source": [
        "# ''' 여러 라인에 있는 string를 정의할 때 쓰임   '''    \"\"\"\"\"\" 도 가능\n",
        "# python에서는 함수 입력하지 않으면 여러줄 인식함??"
      ],
      "execution_count": 8,
      "outputs": []
    },
    {
      "cell_type": "code",
      "metadata": {
        "colab": {
          "base_uri": "https://localhost:8080/",
          "height": 35
        },
        "id": "jVIlJgCWdj74",
        "outputId": "6c2bc3a1-e9d3-4f35-bb24-e4caa9b1a5aa"
      },
      "source": [
        "multi = 'Hello!\\nWorld!'\n",
        "multi"
      ],
      "execution_count": 9,
      "outputs": [
        {
          "output_type": "execute_result",
          "data": {
            "application/vnd.google.colaboratory.intrinsic+json": {
              "type": "string"
            },
            "text/plain": [
              "'Hello!\\nWorld!'"
            ]
          },
          "metadata": {
            "tags": []
          },
          "execution_count": 9
        }
      ]
    },
    {
      "cell_type": "code",
      "metadata": {
        "colab": {
          "base_uri": "https://localhost:8080/"
        },
        "id": "Ox_dLzlpdx3n",
        "outputId": "223e9855-619f-4987-afdc-91f21797fc7d"
      },
      "source": [
        "print(multi)\n",
        "# print를 사용하면 의도한대로 보여짐"
      ],
      "execution_count": 11,
      "outputs": [
        {
          "output_type": "stream",
          "text": [
            "Hello!\n",
            "World!\n"
          ],
          "name": "stdout"
        }
      ]
    },
    {
      "cell_type": "code",
      "metadata": {
        "id": "uxxnXue7d1zZ"
      },
      "source": [
        "# jupyter에서만 multi, multiline 출력가능한거고 다른 곳에서는 반드시 print 써야함"
      ],
      "execution_count": 12,
      "outputs": []
    },
    {
      "cell_type": "code",
      "metadata": {
        "colab": {
          "base_uri": "https://localhost:8080/",
          "height": 136
        },
        "id": "zi5fjA_aeGs1",
        "outputId": "bc26970c-8617-43ba-9c40-26b77a9edd9f"
      },
      "source": [
        "s = Phyton isn't difficult."
      ],
      "execution_count": 16,
      "outputs": [
        {
          "output_type": "error",
          "ename": "SyntaxError",
          "evalue": "ignored",
          "traceback": [
            "\u001b[0;36m  File \u001b[0;32m\"<ipython-input-16-5e0fa82f0512>\"\u001b[0;36m, line \u001b[0;32m1\u001b[0m\n\u001b[0;31m    s = Phyton isn't difficult.\u001b[0m\n\u001b[0m                 ^\u001b[0m\n\u001b[0;31mSyntaxError\u001b[0m\u001b[0;31m:\u001b[0m invalid syntax\n"
          ]
        }
      ]
    },
    {
      "cell_type": "code",
      "metadata": {
        "id": "QVcLZkC4eLrH"
      },
      "source": [
        "# 문장 안 '를 쓰고 싶으면 \"\"로 묶어주기\n",
        "s = \"Phyton isn't difficult.\""
      ],
      "execution_count": 19,
      "outputs": []
    },
    {
      "cell_type": "code",
      "metadata": {
        "id": "hU1OPFOBebaZ"
      },
      "source": [
        "s = 'Alice said \"I love you.\"'  # 반대로 \"를 쓰고 싶으면 ''로 묶어주기"
      ],
      "execution_count": 20,
      "outputs": []
    },
    {
      "cell_type": "code",
      "metadata": {
        "id": "etQ6UV4Eeq-Q"
      },
      "source": [
        "s = 'Phyton isn\\'t difficult.'    # 백슬래시를 쓰면 그 다음에 나오는게 의미를 갖지 않게 됨 / 의미가 있으면 의미를 갖게"
      ],
      "execution_count": 23,
      "outputs": []
    },
    {
      "cell_type": "code",
      "metadata": {
        "id": "KmQOGxB2e1Gp"
      },
      "source": [
        ""
      ],
      "execution_count": null,
      "outputs": []
    }
  ]
}