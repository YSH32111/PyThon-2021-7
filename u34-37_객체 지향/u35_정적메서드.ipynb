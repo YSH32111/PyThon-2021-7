{
  "nbformat": 4,
  "nbformat_minor": 0,
  "metadata": {
    "colab": {
      "name": "u35_정적메서드.ipynb",
      "provenance": [],
      "collapsed_sections": []
    },
    "kernelspec": {
      "name": "python3",
      "display_name": "Python 3"
    },
    "language_info": {
      "name": "python"
    }
  },
  "cells": [
    {
      "cell_type": "markdown",
      "metadata": {
        "id": "t93qcF9DBBwP"
      },
      "source": [
        "# Unit 35. 정적 메서드"
      ]
    },
    {
      "cell_type": "code",
      "metadata": {
        "id": "yUVdmfHUA87X"
      },
      "source": [
        "class Calc:\n",
        "    @staticmethod\n",
        "    def add(a, b):\n",
        "        print(a+ b)"
      ],
      "execution_count": 1,
      "outputs": []
    },
    {
      "cell_type": "code",
      "metadata": {
        "colab": {
          "base_uri": "https://localhost:8080/"
        },
        "id": "u79yzqTKBYXz",
        "outputId": "1ba31d76-f6e7-4162-ef64-8855c521e2b5"
      },
      "source": [
        "Calc.add(10, 20)"
      ],
      "execution_count": 2,
      "outputs": [
        {
          "output_type": "stream",
          "text": [
            "30\n"
          ],
          "name": "stdout"
        }
      ]
    },
    {
      "cell_type": "code",
      "metadata": {
        "id": "Tnu9dQWXBf8M"
      },
      "source": [
        ""
      ],
      "execution_count": null,
      "outputs": []
    }
  ]
}