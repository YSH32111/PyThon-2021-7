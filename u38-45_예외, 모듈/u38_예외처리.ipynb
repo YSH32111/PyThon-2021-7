{
  "nbformat": 4,
  "nbformat_minor": 0,
  "metadata": {
    "colab": {
      "name": "u38_예외처리.ipynb",
      "provenance": [],
      "collapsed_sections": []
    },
    "kernelspec": {
      "name": "python3",
      "display_name": "Python 3"
    },
    "language_info": {
      "name": "python"
    }
  },
  "cells": [
    {
      "cell_type": "code",
      "metadata": {
        "colab": {
          "base_uri": "https://localhost:8080/",
          "height": 195
        },
        "id": "bd6q80lAlYS6",
        "outputId": "e4cbc5dc-2d42-4378-ebbe-92c1848ea798"
      },
      "source": [
        "a = [1, 2, 3]\n",
        "a[4]"
      ],
      "execution_count": 1,
      "outputs": [
        {
          "output_type": "error",
          "ename": "IndexError",
          "evalue": "ignored",
          "traceback": [
            "\u001b[0;31m---------------------------------------------------------------------------\u001b[0m",
            "\u001b[0;31mIndexError\u001b[0m                                Traceback (most recent call last)",
            "\u001b[0;32m<ipython-input-1-ecb36250464f>\u001b[0m in \u001b[0;36m<module>\u001b[0;34m()\u001b[0m\n\u001b[1;32m      1\u001b[0m \u001b[0ma\u001b[0m \u001b[0;34m=\u001b[0m \u001b[0;34m[\u001b[0m\u001b[0;36m1\u001b[0m\u001b[0;34m,\u001b[0m \u001b[0;36m2\u001b[0m\u001b[0;34m,\u001b[0m \u001b[0;36m3\u001b[0m\u001b[0;34m]\u001b[0m\u001b[0;34m\u001b[0m\u001b[0;34m\u001b[0m\u001b[0m\n\u001b[0;32m----> 2\u001b[0;31m \u001b[0ma\u001b[0m\u001b[0;34m[\u001b[0m\u001b[0;36m4\u001b[0m\u001b[0;34m]\u001b[0m\u001b[0;34m\u001b[0m\u001b[0;34m\u001b[0m\u001b[0m\n\u001b[0m",
            "\u001b[0;31mIndexError\u001b[0m: list index out of range"
          ]
        }
      ]
    },
    {
      "cell_type": "markdown",
      "metadata": {
        "id": "cCZmAkGEtFC2"
      },
      "source": [
        "# Unit 38. 예외 처리"
      ]
    },
    {
      "cell_type": "markdown",
      "metadata": {
        "id": "BfEiwe7-tIPJ"
      },
      "source": [
        "## 38.1 try-except"
      ]
    },
    {
      "cell_type": "code",
      "metadata": {
        "colab": {
          "base_uri": "https://localhost:8080/"
        },
        "id": "1HCGnFnzstJx",
        "outputId": "5eaa5519-c8b3-40a1-a6fe-31a29ef3b9c1"
      },
      "source": [
        "a = [1,2,3]\n",
        "try:\n",
        "    a[4]\n",
        "except:\n",
        "    print('예외 발생')"
      ],
      "execution_count": 2,
      "outputs": [
        {
          "output_type": "stream",
          "text": [
            "예외 발생\n"
          ],
          "name": "stdout"
        }
      ]
    },
    {
      "cell_type": "code",
      "metadata": {
        "colab": {
          "base_uri": "https://localhost:8080/",
          "height": 138
        },
        "id": "JK6kbVTctbQO",
        "outputId": "30ef2598-8447-41c0-f82e-50b0b5e331f4"
      },
      "source": [
        "int(10d)"
      ],
      "execution_count": 3,
      "outputs": [
        {
          "output_type": "error",
          "ename": "SyntaxError",
          "evalue": "ignored",
          "traceback": [
            "\u001b[0;36m  File \u001b[0;32m\"<ipython-input-3-7d094ada6da0>\"\u001b[0;36m, line \u001b[0;32m1\u001b[0m\n\u001b[0;31m    int(10d)\u001b[0m\n\u001b[0m          ^\u001b[0m\n\u001b[0;31mSyntaxError\u001b[0m\u001b[0;31m:\u001b[0m invalid syntax\n"
          ]
        }
      ]
    },
    {
      "cell_type": "code",
      "metadata": {
        "colab": {
          "base_uri": "https://localhost:8080/",
          "height": 176
        },
        "id": "v0VMWTuvulve",
        "outputId": "d3d6f509-e50d-4953-801d-178b0b5a9974"
      },
      "source": [
        "int('10d')"
      ],
      "execution_count": 4,
      "outputs": [
        {
          "output_type": "error",
          "ename": "ValueError",
          "evalue": "ignored",
          "traceback": [
            "\u001b[0;31m---------------------------------------------------------------------------\u001b[0m",
            "\u001b[0;31mValueError\u001b[0m                                Traceback (most recent call last)",
            "\u001b[0;32m<ipython-input-4-331fb23f7ae1>\u001b[0m in \u001b[0;36m<module>\u001b[0;34m()\u001b[0m\n\u001b[0;32m----> 1\u001b[0;31m \u001b[0mint\u001b[0m\u001b[0;34m(\u001b[0m\u001b[0;34m'10d'\u001b[0m\u001b[0;34m)\u001b[0m\u001b[0;34m\u001b[0m\u001b[0;34m\u001b[0m\u001b[0m\n\u001b[0m",
            "\u001b[0;31mValueError\u001b[0m: invalid literal for int() with base 10: '10d'"
          ]
        }
      ]
    },
    {
      "cell_type": "markdown",
      "metadata": {
        "id": "ugJFaV2CwnTm"
      },
      "source": [
        "### 특정 예외만 처리하기"
      ]
    },
    {
      "cell_type": "code",
      "metadata": {
        "colab": {
          "base_uri": "https://localhost:8080/",
          "height": 252
        },
        "id": "8URhz3UBurk2",
        "outputId": "38150d45-bf7d-46b3-9836-7c42884c9b10"
      },
      "source": [
        "try:\n",
        "    int('10d')\n",
        "except ZeroDivisionError:\n",
        "    print('0으로 나눌 수 없습니다.')\n",
        "except IndexError:\n",
        "    print('Index Error 발생')"
      ],
      "execution_count": 6,
      "outputs": [
        {
          "output_type": "error",
          "ename": "ValueError",
          "evalue": "ignored",
          "traceback": [
            "\u001b[0;31m---------------------------------------------------------------------------\u001b[0m",
            "\u001b[0;31mValueError\u001b[0m                                Traceback (most recent call last)",
            "\u001b[0;32m<ipython-input-6-ee9b0c9a0598>\u001b[0m in \u001b[0;36m<module>\u001b[0;34m()\u001b[0m\n\u001b[1;32m      1\u001b[0m \u001b[0;32mtry\u001b[0m\u001b[0;34m:\u001b[0m\u001b[0;34m\u001b[0m\u001b[0;34m\u001b[0m\u001b[0m\n\u001b[0;32m----> 2\u001b[0;31m     \u001b[0mint\u001b[0m\u001b[0;34m(\u001b[0m\u001b[0;34m'10d'\u001b[0m\u001b[0;34m)\u001b[0m\u001b[0;34m\u001b[0m\u001b[0;34m\u001b[0m\u001b[0m\n\u001b[0m\u001b[1;32m      3\u001b[0m \u001b[0;32mexcept\u001b[0m \u001b[0mZeroDivisionError\u001b[0m\u001b[0;34m:\u001b[0m\u001b[0;34m\u001b[0m\u001b[0;34m\u001b[0m\u001b[0m\n\u001b[1;32m      4\u001b[0m     \u001b[0mprint\u001b[0m\u001b[0;34m(\u001b[0m\u001b[0;34m'0으로 나눌 수 없습니다.'\u001b[0m\u001b[0;34m)\u001b[0m\u001b[0;34m\u001b[0m\u001b[0;34m\u001b[0m\u001b[0m\n\u001b[1;32m      5\u001b[0m \u001b[0;32mexcept\u001b[0m \u001b[0mIndexError\u001b[0m\u001b[0;34m:\u001b[0m\u001b[0;34m\u001b[0m\u001b[0;34m\u001b[0m\u001b[0m\n",
            "\u001b[0;31mValueError\u001b[0m: invalid literal for int() with base 10: '10d'"
          ]
        }
      ]
    },
    {
      "cell_type": "code",
      "metadata": {
        "colab": {
          "base_uri": "https://localhost:8080/"
        },
        "id": "xG_lmWxhvyQ8",
        "outputId": "904c8dff-53a4-4c80-dd40-ae2107bf6883"
      },
      "source": [
        "try:\n",
        "    int('10d')\n",
        "except ZeroDivisionError:\n",
        "    print('0으로 나눌 수 없습니다.')\n",
        "except IndexError:\n",
        "    print('Index Error 발생')\n",
        "except ValueError:\n",
        "    print('Value Error 발생')"
      ],
      "execution_count": 9,
      "outputs": [
        {
          "output_type": "stream",
          "text": [
            "Value Error 발생\n"
          ],
          "name": "stdout"
        }
      ]
    },
    {
      "cell_type": "markdown",
      "metadata": {
        "id": "UQIDeP4uxCZ8"
      },
      "source": [
        "### 예외의 에러 메세지 받아오기"
      ]
    },
    {
      "cell_type": "code",
      "metadata": {
        "colab": {
          "base_uri": "https://localhost:8080/"
        },
        "id": "fji7mWyzv9zV",
        "outputId": "88199a20-60eb-4735-a783-264d66b3e6f2"
      },
      "source": [
        "try:\n",
        "    int('10d')\n",
        "except Exception as e:          # alias 에일리어싱 exception을 e라 부르겠다\n",
        "    print(e)                    # Exception 객체의 __str__() method"
      ],
      "execution_count": 13,
      "outputs": [
        {
          "output_type": "stream",
          "text": [
            "invalid literal for int() with base 10: '10d'\n"
          ],
          "name": "stdout"
        }
      ]
    },
    {
      "cell_type": "markdown",
      "metadata": {
        "id": "uVjmV6k0xkTb"
      },
      "source": [
        "## 38.2 else-finally"
      ]
    },
    {
      "cell_type": "code",
      "metadata": {
        "id": "mAu1KPJ72h6Y"
      },
      "source": [
        "#try:\n",
        "#    실행할 코드\n",
        "#except:\n",
        "#    예외가 발생했을 때 처리하는 코드\n",
        "#else:\n",
        "#    예외가 발생하지 않았을 때 실행할 코드"
      ],
      "execution_count": 20,
      "outputs": []
    },
    {
      "cell_type": "code",
      "metadata": {
        "colab": {
          "base_uri": "https://localhost:8080/"
        },
        "id": "lWmrNslqxI2_",
        "outputId": "968459a1-1451-4879-c081-1b878e70b74d"
      },
      "source": [
        "try:\n",
        "    x = int(input('나눌 숫자 입력> '))\n",
        "    y = 10 / x\n",
        "except Exception as e:\n",
        "    print(e)\n",
        "else:\n",
        "    print(y)"
      ],
      "execution_count": 21,
      "outputs": [
        {
          "output_type": "stream",
          "text": [
            "나눌 숫자 입력> 5\n",
            "2.0\n"
          ],
          "name": "stdout"
        }
      ]
    },
    {
      "cell_type": "code",
      "metadata": {
        "colab": {
          "base_uri": "https://localhost:8080/"
        },
        "id": "zJ_j7T3g13p6",
        "outputId": "ae8f186b-6354-4de7-f190-76ed1c0e0256"
      },
      "source": [
        "try:\n",
        "    x = int(input('나눌 숫자 입력> '))\n",
        "    y = 10 / x\n",
        "except Exception as e:\n",
        "    print(e)\n",
        "else:\n",
        "    print(y)"
      ],
      "execution_count": 24,
      "outputs": [
        {
          "output_type": "stream",
          "text": [
            "나눌 숫자 입력> 0\n",
            "division by zero\n"
          ],
          "name": "stdout"
        }
      ]
    },
    {
      "cell_type": "code",
      "metadata": {
        "colab": {
          "base_uri": "https://localhost:8080/"
        },
        "id": "xrDXRhsq15f4",
        "outputId": "28a398f7-799d-484e-9aca-833aff6a88a0"
      },
      "source": [
        "try:\n",
        "    x = int(input('나눌 숫자 입력> '))\n",
        "    y = 10 / x\n",
        "except Exception as e:\n",
        "    print(e)\n",
        "else:\n",
        "    print(y)"
      ],
      "execution_count": 23,
      "outputs": [
        {
          "output_type": "stream",
          "text": [
            "나눌 숫자 입력> 5r\n",
            "invalid literal for int() with base 10: '5r'\n"
          ],
          "name": "stdout"
        }
      ]
    },
    {
      "cell_type": "code",
      "metadata": {
        "id": "fBJfG5nX2aVD"
      },
      "source": [
        "#try:\n",
        "#    실행할 코드\n",
        "#except:\n",
        "#    예외가 발생했을 때 처리하는 코드\n",
        "#else:\n",
        "#    예외가 발생하지 않았을 때 실행할 코드\n",
        "#finally:\n",
        "#    예외 발생 여부와 상관없이 항상 실행할 코드"
      ],
      "execution_count": 18,
      "outputs": []
    },
    {
      "cell_type": "code",
      "metadata": {
        "colab": {
          "base_uri": "https://localhost:8080/"
        },
        "id": "lAxtLclF17rF",
        "outputId": "e5d6c116-c0d4-4380-a443-fdf81eca300e"
      },
      "source": [
        "# 예외와 상관없이 항상 실행\n",
        "try:\n",
        "    x = int(input('나눌 숫자 입력> '))\n",
        "    y = 10 / x\n",
        "except Exception as e:\n",
        "    print(e)\n",
        "else:\n",
        "    print(y)\n",
        "finally:\n",
        "    print('코드 실행 종료')"
      ],
      "execution_count": 19,
      "outputs": [
        {
          "output_type": "stream",
          "text": [
            "나눌 숫자 입력> 0\n",
            "division by zero\n",
            "코드 실행 종료\n"
          ],
          "name": "stdout"
        }
      ]
    },
    {
      "cell_type": "code",
      "metadata": {
        "id": "qgN2EpsC2dgT"
      },
      "source": [
        "#with opne(f) as file:\n",
        "#    key = file.read()   # key 바깥에서 쓸 수 있음\n",
        "\n",
        "# try도 마찬가지. try안에서 만든 변수는 try 바깥에서 사용가능"
      ],
      "execution_count": 26,
      "outputs": []
    },
    {
      "cell_type": "markdown",
      "metadata": {
        "id": "Kg7DecxX3UZO"
      },
      "source": [
        "## 38.3 예외 발생시키기"
      ]
    },
    {
      "cell_type": "code",
      "metadata": {
        "colab": {
          "base_uri": "https://localhost:8080/"
        },
        "id": "bN39bByi3OA5",
        "outputId": "201b2192-49db-446e-8cc2-46f2d67d1c1c"
      },
      "source": [
        "import random\n",
        "try:\n",
        "    x = random.randint(1, 10)\n",
        "    if x % 3 != 0:\n",
        "        raise Exception('3의 배수가 아닙니다.')\n",
        "    print(x)\n",
        "except Exception as e:\n",
        "    print('예외 발생', e)"
      ],
      "execution_count": 27,
      "outputs": [
        {
          "output_type": "stream",
          "text": [
            "예외 발생 3의 배수가 아닙니다.\n"
          ],
          "name": "stdout"
        }
      ]
    },
    {
      "cell_type": "code",
      "metadata": {
        "colab": {
          "base_uri": "https://localhost:8080/"
        },
        "id": "esCdlZZ55SwU",
        "outputId": "c37b58ce-4954-4313-f1d9-7bf4fd684ca7"
      },
      "source": [
        "import random\n",
        "try:\n",
        "    x = random.randint(1, 10)\n",
        "    print(x)\n",
        "    if x % 3 != 0:\n",
        "        raise Exception('3의 배수가 아닙니다.')\n",
        "\n",
        "except Exception as e:\n",
        "    print('예외 발생 -', e)"
      ],
      "execution_count": 29,
      "outputs": [
        {
          "output_type": "stream",
          "text": [
            "2\n",
            "예외 발생 - 3의 배수가 아닙니다.\n"
          ],
          "name": "stdout"
        }
      ]
    },
    {
      "cell_type": "code",
      "metadata": {
        "id": "np0cijBT5ir7"
      },
      "source": [
        "def multiple11(x):\n",
        "    if x % 11 != 0:\n",
        "        raise Exception('11의 배수가 아닙니다.')\n",
        "    print(x)"
      ],
      "execution_count": 30,
      "outputs": []
    },
    {
      "cell_type": "code",
      "metadata": {
        "id": "tQRWy2Ew6PZz"
      },
      "source": [
        "try:\n",
        "    multiple11(100)\n",
        "except Exception as e:\n",
        "    print('예외 발생 -', e)"
      ],
      "execution_count": null,
      "outputs": []
    },
    {
      "cell_type": "markdown",
      "metadata": {
        "id": "3uUwc2R87m2L"
      },
      "source": [
        "## 38.4 예외 만들기"
      ]
    },
    {
      "cell_type": "code",
      "metadata": {
        "id": "QmXg-DQ17onL"
      },
      "source": [
        "# Exception 객체를 상속받아 객체를 만들면 됨\n",
        "# 예외를 만들어 쓰는 일은 거의 없을꺼임. 넘어감"
      ],
      "execution_count": 31,
      "outputs": []
    },
    {
      "cell_type": "code",
      "metadata": {
        "id": "tv9uvlm-8CTo"
      },
      "source": [
        "# 예외처리는 꼭 기억하고 있어야함."
      ],
      "execution_count": 31,
      "outputs": []
    },
    {
      "cell_type": "code",
      "metadata": {
        "id": "ZXLnyGpu79hO"
      },
      "source": [
        ""
      ],
      "execution_count": null,
      "outputs": []
    }
  ]
}