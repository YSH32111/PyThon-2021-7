{
  "nbformat": 4,
  "nbformat_minor": 0,
  "metadata": {
    "colab": {
      "name": "u30_위치인수_키워드인수.ipynb",
      "provenance": [],
      "collapsed_sections": []
    },
    "kernelspec": {
      "name": "python3",
      "display_name": "Python 3"
    },
    "language_info": {
      "name": "python"
    }
  },
  "cells": [
    {
      "cell_type": "markdown",
      "metadata": {
        "id": "ppQ_MKVyfq1J"
      },
      "source": [
        "# Unit 30. 위치 인수와 키워드 인수"
      ]
    },
    {
      "cell_type": "markdown",
      "metadata": {
        "id": "csS8sJy1fubZ"
      },
      "source": [
        "## 30.1 위치 인수"
      ]
    },
    {
      "cell_type": "code",
      "metadata": {
        "colab": {
          "base_uri": "https://localhost:8080/",
          "height": 138
        },
        "id": "IovlISoUfj-c",
        "outputId": "878f06c1-a09d-4141-fa1f-9190a017551e"
      },
      "source": [
        "print(10, 20, 30. sep=', ', 40)         # 순서는 항상 위치인수 뒤 키워드 인수"
      ],
      "execution_count": 4,
      "outputs": [
        {
          "output_type": "error",
          "ename": "SyntaxError",
          "evalue": "ignored",
          "traceback": [
            "\u001b[0;36m  File \u001b[0;32m\"<ipython-input-4-697e32d92f90>\"\u001b[0;36m, line \u001b[0;32m1\u001b[0m\n\u001b[0;31m    print(10, 20, 30. sep=', ', 40)         # 순서는 항상 위치인수 뒤 키워드 인수\u001b[0m\n\u001b[0m                        ^\u001b[0m\n\u001b[0;31mSyntaxError\u001b[0m\u001b[0;31m:\u001b[0m invalid syntax\n"
          ]
        }
      ]
    },
    {
      "cell_type": "code",
      "metadata": {
        "colab": {
          "base_uri": "https://localhost:8080/"
        },
        "id": "4opvBc5Gf3E6",
        "outputId": "ad586ac5-6cf1-4600-b0be-76155897e0eb"
      },
      "source": [
        "print(10, 20, 30, 40, 50, 60, 70, 80, 90, 100)"
      ],
      "execution_count": 6,
      "outputs": [
        {
          "output_type": "stream",
          "text": [
            "10 20 30 40 50 60 70 80 90 100\n"
          ],
          "name": "stdout"
        }
      ]
    },
    {
      "cell_type": "code",
      "metadata": {
        "id": "O_DmvkxngfBj"
      },
      "source": [
        "def print_numbers(a,b,c):\n",
        "    print(a)\n",
        "    print(b)\n",
        "    print(c)"
      ],
      "execution_count": 7,
      "outputs": []
    },
    {
      "cell_type": "code",
      "metadata": {
        "colab": {
          "base_uri": "https://localhost:8080/"
        },
        "id": "w0DkqajGg3Ur",
        "outputId": "d670f415-918d-49ba-835c-eef37cc0e48f"
      },
      "source": [
        "print_numbers(10,20,30)"
      ],
      "execution_count": 8,
      "outputs": [
        {
          "output_type": "stream",
          "text": [
            "10\n",
            "20\n",
            "30\n"
          ],
          "name": "stdout"
        }
      ]
    },
    {
      "cell_type": "code",
      "metadata": {
        "colab": {
          "base_uri": "https://localhost:8080/"
        },
        "id": "8Tkd2ZnAg-3s",
        "outputId": "80567b0c-808f-44b7-c755-3b3cdf1018b4"
      },
      "source": [
        "# *x - 리스트/튜플 언패킹           #  *(애스터리스크) 붙임\n",
        "x, y = [10, 20, 30], (40, 50, 60)\n",
        "print_numbers(*x)\n",
        "print_numbers(*y)"
      ],
      "execution_count": 14,
      "outputs": [
        {
          "output_type": "stream",
          "text": [
            "10\n",
            "20\n",
            "30\n",
            "40\n",
            "50\n",
            "60\n"
          ],
          "name": "stdout"
        }
      ]
    },
    {
      "cell_type": "markdown",
      "metadata": {
        "id": "bOAlj8aqhxps"
      },
      "source": [
        "### 가변 인수 함수"
      ]
    },
    {
      "cell_type": "code",
      "metadata": {
        "id": "kfH9DJcThL2U"
      },
      "source": [
        "def print_numbers2(*args):\n",
        "    for arg in args:\n",
        "        print(arg)"
      ],
      "execution_count": 18,
      "outputs": []
    },
    {
      "cell_type": "code",
      "metadata": {
        "colab": {
          "base_uri": "https://localhost:8080/"
        },
        "id": "VEM3gQZGh-gt",
        "outputId": "3f848b5c-aa12-4ad0-829d-c46277893aa6"
      },
      "source": [
        "print_numbers2(10, 20, 30, 40)"
      ],
      "execution_count": 21,
      "outputs": [
        {
          "output_type": "stream",
          "text": [
            "10\n",
            "20\n",
            "30\n",
            "40\n"
          ],
          "name": "stdout"
        }
      ]
    },
    {
      "cell_type": "code",
      "metadata": {
        "colab": {
          "base_uri": "https://localhost:8080/"
        },
        "id": "eZB_rOQ0iFQD",
        "outputId": "54c6f141-e310-405f-b2ff-9d978d159331"
      },
      "source": [
        "print_numbers2(10)"
      ],
      "execution_count": 22,
      "outputs": [
        {
          "output_type": "stream",
          "text": [
            "10\n"
          ],
          "name": "stdout"
        }
      ]
    },
    {
      "cell_type": "markdown",
      "metadata": {
        "id": "xvvtTXY9iRZW"
      },
      "source": [
        "### 고정 인수와 가변 인수"
      ]
    },
    {
      "cell_type": "code",
      "metadata": {
        "id": "ayeW7XVaiIAs"
      },
      "source": [
        "def print_numbers3(a, *args):\n",
        "    print(a)\n",
        "    print(args)"
      ],
      "execution_count": 23,
      "outputs": []
    },
    {
      "cell_type": "code",
      "metadata": {
        "colab": {
          "base_uri": "https://localhost:8080/"
        },
        "id": "YlPnfIi_ip_a",
        "outputId": "23a32a9e-e9c2-4867-b8f3-24cc399e31c4"
      },
      "source": [
        "print_numbers3(1, 10, 20)"
      ],
      "execution_count": 27,
      "outputs": [
        {
          "output_type": "stream",
          "text": [
            "1\n",
            "(10, 20)\n"
          ],
          "name": "stdout"
        }
      ]
    },
    {
      "cell_type": "code",
      "metadata": {
        "colab": {
          "base_uri": "https://localhost:8080/"
        },
        "id": "uO21gGuyiyFj",
        "outputId": "d2510a7a-1636-447d-d003-c7a209b06a0e"
      },
      "source": [
        "print_numbers3(*x)"
      ],
      "execution_count": 28,
      "outputs": [
        {
          "output_type": "stream",
          "text": [
            "10\n",
            "(20, 30)\n"
          ],
          "name": "stdout"
        }
      ]
    },
    {
      "cell_type": "code",
      "metadata": {
        "id": "5VMWjkydjAGr"
      },
      "source": [
        "# 고정 위치 인수가 가변 위치 인수보다 먼저 나와야 함!\n",
        "def print_numbers4(*args, a):       # 가변이 고정보다 먼저 나올 수 없다.\n",
        "    print(args)\n",
        "    print(a)"
      ],
      "execution_count": 34,
      "outputs": []
    },
    {
      "cell_type": "code",
      "metadata": {
        "colab": {
          "base_uri": "https://localhost:8080/",
          "height": 176
        },
        "id": "-ArvCMfLjRXq",
        "outputId": "c2e1ffce-8ed4-4def-ebb8-80c62011a92b"
      },
      "source": [
        "print_numbers4(*x)"
      ],
      "execution_count": 35,
      "outputs": [
        {
          "output_type": "error",
          "ename": "TypeError",
          "evalue": "ignored",
          "traceback": [
            "\u001b[0;31m---------------------------------------------------------------------------\u001b[0m",
            "\u001b[0;31mTypeError\u001b[0m                                 Traceback (most recent call last)",
            "\u001b[0;32m<ipython-input-35-c9aba5af1127>\u001b[0m in \u001b[0;36m<module>\u001b[0;34m()\u001b[0m\n\u001b[0;32m----> 1\u001b[0;31m \u001b[0mprint_numbers4\u001b[0m\u001b[0;34m(\u001b[0m\u001b[0;34m*\u001b[0m\u001b[0mx\u001b[0m\u001b[0;34m)\u001b[0m\u001b[0;34m\u001b[0m\u001b[0;34m\u001b[0m\u001b[0m\n\u001b[0m",
            "\u001b[0;31mTypeError\u001b[0m: print_numbers4() missing 1 required keyword-only argument: 'a'"
          ]
        }
      ]
    },
    {
      "cell_type": "markdown",
      "metadata": {
        "id": "TTbET1IrmV8f"
      },
      "source": [
        "## 30.2 키워드 인수"
      ]
    },
    {
      "cell_type": "code",
      "metadata": {
        "id": "ho8TdAK6jcyT"
      },
      "source": [
        "def personal_info(name, age, addr):\n",
        "    print('이름:', name)\n",
        "    print('나이', age)\n",
        "    print('주소', addr)"
      ],
      "execution_count": 36,
      "outputs": []
    },
    {
      "cell_type": "code",
      "metadata": {
        "colab": {
          "base_uri": "https://localhost:8080/"
        },
        "id": "_R4PjJWcmtkv",
        "outputId": "546c8203-26d4-4fd5-e276-f95b5e4a4785"
      },
      "source": [
        "personal_info('홍길동', 30, '서울 강남구 도곡동')"
      ],
      "execution_count": 37,
      "outputs": [
        {
          "output_type": "stream",
          "text": [
            "이름: 홍길동\n",
            "나이 30\n",
            "주소 서울 강남구 도곡동\n"
          ],
          "name": "stdout"
        }
      ]
    },
    {
      "cell_type": "code",
      "metadata": {
        "colab": {
          "base_uri": "https://localhost:8080/"
        },
        "id": "1qdERhiSnCQJ",
        "outputId": "8650aa5d-39ad-48e1-d0db-acb62d5260bc"
      },
      "source": [
        "personal_info(age=30, addr='서울 강남구 도곡동', name='홍길동')     # 위치와 상관없이 키워드가 같으니 결과가 같게 나옴"
      ],
      "execution_count": 40,
      "outputs": [
        {
          "output_type": "stream",
          "text": [
            "이름: 홍길동\n",
            "나이 30\n",
            "주소 서울 강남구 도곡동\n"
          ],
          "name": "stdout"
        }
      ]
    },
    {
      "cell_type": "markdown",
      "metadata": {
        "id": "g1HwXAJ8ncBc"
      },
      "source": [
        "## 30.3 키워드 인수와 딕셔너리 언패킹"
      ]
    },
    {
      "cell_type": "code",
      "metadata": {
        "id": "pSt30VnwnH2L"
      },
      "source": [
        "x = {'name':'홍길동', 'age':30, 'addr':'서울 강남구 도곡동'}"
      ],
      "execution_count": 46,
      "outputs": []
    },
    {
      "cell_type": "code",
      "metadata": {
        "colab": {
          "base_uri": "https://localhost:8080/"
        },
        "id": "ptHDKKSkn2MR",
        "outputId": "3a94d659-539c-401a-bd91-5797d9ef5782"
      },
      "source": [
        "# *x는 x의 키를 불러냄\n",
        "personal_info(**x)"
      ],
      "execution_count": 49,
      "outputs": [
        {
          "output_type": "stream",
          "text": [
            "이름: 홍길동\n",
            "나이 30\n",
            "주소 서울 강남구 도곡동\n"
          ],
          "name": "stdout"
        }
      ]
    },
    {
      "cell_type": "code",
      "metadata": {
        "id": "uDqRVpzSn5Nh"
      },
      "source": [
        "# ** 딕셔너리 언패킹 / 함수(**딕셔너리)"
      ],
      "execution_count": 50,
      "outputs": []
    },
    {
      "cell_type": "markdown",
      "metadata": {
        "id": "GMsczod8oi6y"
      },
      "source": [
        "### 가변 키워드 인수"
      ]
    },
    {
      "cell_type": "code",
      "metadata": {
        "id": "rf0U3iVYoDkl"
      },
      "source": [
        "def personal_info2(**kwargs):\n",
        "    for key, value in kwargs.items():\n",
        "        print(f'{key}: {value}')"
      ],
      "execution_count": 51,
      "outputs": []
    },
    {
      "cell_type": "code",
      "metadata": {
        "colab": {
          "base_uri": "https://localhost:8080/"
        },
        "id": "KOjePGWpo7Fm",
        "outputId": "179e0e06-786e-4b8c-969a-90314890d89c"
      },
      "source": [
        "personal_info2(**x)"
      ],
      "execution_count": 52,
      "outputs": [
        {
          "output_type": "stream",
          "text": [
            "name: 홍길동\n",
            "age: 30\n",
            "addr: 서울 강남구 도곡동\n"
          ],
          "name": "stdout"
        }
      ]
    },
    {
      "cell_type": "code",
      "metadata": {
        "colab": {
          "base_uri": "https://localhost:8080/"
        },
        "id": "6bYdoQhLo-7Z",
        "outputId": "6b497a1e-c0e6-405d-dbb3-9ba9029e68b7"
      },
      "source": [
        "personal_info2(name='홍길동', age=30)       # 3개를 줘도 당연히 찍히고 2개만 줘도 찍힘"
      ],
      "execution_count": 54,
      "outputs": [
        {
          "output_type": "stream",
          "text": [
            "name: 홍길동\n",
            "age: 30\n"
          ],
          "name": "stdout"
        }
      ]
    },
    {
      "cell_type": "markdown",
      "metadata": {
        "id": "Aq45XJEspqyR"
      },
      "source": [
        "### 고정 인수와 가변 키워드 인수"
      ]
    },
    {
      "cell_type": "code",
      "metadata": {
        "id": "-WB0cvX1pWbI"
      },
      "source": [
        "def personal_info3(name, **kwargs):         # 고정인수가 먼저. 가변 인수가 나중에\n",
        "    print(name)     # 이름으로 나오고\n",
        "    print(kwargs)   # 딕셔너리 형태로 출력"
      ],
      "execution_count": 62,
      "outputs": []
    },
    {
      "cell_type": "code",
      "metadata": {
        "colab": {
          "base_uri": "https://localhost:8080/"
        },
        "id": "fbWRcnZsp0dA",
        "outputId": "f85b1c05-c5fc-4253-e1a1-4c564902d28b"
      },
      "source": [
        "personal_info3(**x)"
      ],
      "execution_count": 63,
      "outputs": [
        {
          "output_type": "stream",
          "text": [
            "홍길동\n",
            "{'age': 30, 'addr': '서울 강남구 도곡동'}\n"
          ],
          "name": "stdout"
        }
      ]
    },
    {
      "cell_type": "markdown",
      "metadata": {
        "id": "2GPxXSLzqSqL"
      },
      "source": [
        "### 위치 인수와 키워드 인수"
      ]
    },
    {
      "cell_type": "code",
      "metadata": {
        "id": "Oh62yl0nqBK1"
      },
      "source": [
        "def my_print(*args, **kwargs):\n",
        "    print(*args, **kwargs)"
      ],
      "execution_count": 69,
      "outputs": []
    },
    {
      "cell_type": "code",
      "metadata": {
        "colab": {
          "base_uri": "https://localhost:8080/"
        },
        "id": "eLYl8OKMqmi5",
        "outputId": "5aa82534-9fab-4f4d-8afe-c695e4b99319"
      },
      "source": [
        "my_print(10,20,30, sep=', ')"
      ],
      "execution_count": 70,
      "outputs": [
        {
          "output_type": "stream",
          "text": [
            "10, 20, 30\n"
          ],
          "name": "stdout"
        }
      ]
    },
    {
      "cell_type": "markdown",
      "metadata": {
        "id": "G_MuMdC2rXFU"
      },
      "source": [
        "## 30.4 매개변수에 초기값 지정"
      ]
    },
    {
      "cell_type": "code",
      "metadata": {
        "id": "HzYhFUdhqt0I"
      },
      "source": [
        "def personal_info4(name, age, addr='비공개'):\n",
        "    print('이름:', name)\n",
        "    print('나이:', age)\n",
        "    print('주소:', addr)"
      ],
      "execution_count": 74,
      "outputs": []
    },
    {
      "cell_type": "code",
      "metadata": {
        "colab": {
          "base_uri": "https://localhost:8080/"
        },
        "id": "xnJhcJGvrkKv",
        "outputId": "894e05ee-2830-45ac-bfe5-c6a07d81453b"
      },
      "source": [
        "personal_info4('홍길동', 30)"
      ],
      "execution_count": 75,
      "outputs": [
        {
          "output_type": "stream",
          "text": [
            "이름: 홍길동\n",
            "나이: 30\n",
            "주소: 비공개\n"
          ],
          "name": "stdout"
        }
      ]
    },
    {
      "cell_type": "code",
      "metadata": {
        "colab": {
          "base_uri": "https://localhost:8080/"
        },
        "id": "JffI3wImr3-H",
        "outputId": "b596b4e8-95be-4e05-f044-07f7085b95cd"
      },
      "source": [
        "personal_info4(**x)"
      ],
      "execution_count": 76,
      "outputs": [
        {
          "output_type": "stream",
          "text": [
            "이름: 홍길동\n",
            "나이: 30\n",
            "주소: 서울 강남구 도곡동\n"
          ],
          "name": "stdout"
        }
      ]
    },
    {
      "cell_type": "code",
      "metadata": {
        "id": "U6uJoXrsr8bH"
      },
      "source": [
        ""
      ],
      "execution_count": null,
      "outputs": []
    }
  ]
}