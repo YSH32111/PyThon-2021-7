{
  "nbformat": 4,
  "nbformat_minor": 0,
  "metadata": {
    "colab": {
      "name": "u29_함수.ipynb",
      "provenance": [],
      "collapsed_sections": []
    },
    "kernelspec": {
      "name": "python3",
      "display_name": "Python 3"
    },
    "language_info": {
      "name": "python"
    }
  },
  "cells": [
    {
      "cell_type": "markdown",
      "metadata": {
        "id": "77DJSUsxMJM6"
      },
      "source": [
        "# Unit 29. 함수"
      ]
    },
    {
      "cell_type": "code",
      "metadata": {
        "id": "j0GCK70U5v9F"
      },
      "source": [
        "# 반복되어 사용되는 경우가 많은데 일일이 입력하는 경우 오류가 날 수 있음\n",
        "# 가능하며 반복문 사용"
      ],
      "execution_count": 1,
      "outputs": []
    },
    {
      "cell_type": "markdown",
      "metadata": {
        "id": "hXIeTGSXOl8-"
      },
      "source": [
        "## 29.1 출력 함수 만들기"
      ]
    },
    {
      "cell_type": "code",
      "metadata": {
        "colab": {
          "base_uri": "https://localhost:8080/"
        },
        "id": "24QoehbdOUhP",
        "outputId": "6c100ca0-18af-4613-b9f6-ef6c5d901877"
      },
      "source": [
        "def hello():\n",
        "    print('Hello, wolrd!')\n",
        "\n",
        "hello()"
      ],
      "execution_count": 2,
      "outputs": [
        {
          "output_type": "stream",
          "text": [
            "Hello, wolrd!\n"
          ],
          "name": "stdout"
        }
      ]
    },
    {
      "cell_type": "code",
      "metadata": {
        "colab": {
          "base_uri": "https://localhost:8080/",
          "height": 252
        },
        "id": "wf0BsZ1pOw5M",
        "outputId": "80d9e026-3ee6-48e2-82d4-e0898f284bac"
      },
      "source": [
        "hello2()\n",
        "\n",
        "def hello2():\n",
        "    print('Hello, world!')\n",
        "\n",
        "\n",
        "# 함수 정의 만들기 전 입력시 오류"
      ],
      "execution_count": 5,
      "outputs": [
        {
          "output_type": "error",
          "ename": "NameError",
          "evalue": "ignored",
          "traceback": [
            "\u001b[0;31m---------------------------------------------------------------------------\u001b[0m",
            "\u001b[0;31mNameError\u001b[0m                                 Traceback (most recent call last)",
            "\u001b[0;32m<ipython-input-5-9a2df9c049fc>\u001b[0m in \u001b[0;36m<module>\u001b[0;34m()\u001b[0m\n\u001b[0;32m----> 1\u001b[0;31m \u001b[0mhello2\u001b[0m\u001b[0;34m(\u001b[0m\u001b[0;34m)\u001b[0m\u001b[0;34m\u001b[0m\u001b[0;34m\u001b[0m\u001b[0m\n\u001b[0m\u001b[1;32m      2\u001b[0m \u001b[0;34m\u001b[0m\u001b[0m\n\u001b[1;32m      3\u001b[0m \u001b[0;32mdef\u001b[0m \u001b[0mhello2\u001b[0m\u001b[0;34m(\u001b[0m\u001b[0;34m)\u001b[0m\u001b[0;34m:\u001b[0m\u001b[0;34m\u001b[0m\u001b[0;34m\u001b[0m\u001b[0m\n\u001b[1;32m      4\u001b[0m     \u001b[0mprint\u001b[0m\u001b[0;34m(\u001b[0m\u001b[0;34m'Hello, world!'\u001b[0m\u001b[0;34m)\u001b[0m\u001b[0;34m\u001b[0m\u001b[0;34m\u001b[0m\u001b[0m\n\u001b[1;32m      5\u001b[0m \u001b[0;34m\u001b[0m\u001b[0m\n",
            "\u001b[0;31mNameError\u001b[0m: name 'hello2' is not defined"
          ]
        }
      ]
    },
    {
      "cell_type": "code",
      "metadata": {
        "id": "N6UEA4GBPapz"
      },
      "source": [
        "def hello():\n",
        "    pass\n",
        "# 빈 함수\n",
        "hello()"
      ],
      "execution_count": 8,
      "outputs": []
    },
    {
      "cell_type": "markdown",
      "metadata": {
        "id": "9J4JTxxTPwN1"
      },
      "source": [
        "## 29.2 덧셈 함수"
      ]
    },
    {
      "cell_type": "code",
      "metadata": {
        "id": "FzJ_XFKGPlGa"
      },
      "source": [
        "# 매개변수, parameter, argument 라고 이야기함. 다 같은 말\n",
        "def add(a, b):      # 대푯값\n",
        "    print(a+b)"
      ],
      "execution_count": 16,
      "outputs": []
    },
    {
      "cell_type": "code",
      "metadata": {
        "colab": {
          "base_uri": "https://localhost:8080/"
        },
        "id": "_FmpmXUyP_cL",
        "outputId": "e15fe1ed-b587-4d46-ebbe-6b74e31e918b"
      },
      "source": [
        "add(4,5)            # 실제값"
      ],
      "execution_count": 17,
      "outputs": [
        {
          "output_type": "stream",
          "text": [
            "9\n"
          ],
          "name": "stdout"
        }
      ]
    },
    {
      "cell_type": "code",
      "metadata": {
        "id": "kyCtmNPEQCjS"
      },
      "source": [
        "# Docstrings(documentation strings)\n",
        "def add(a, b):\n",
        "    \"\"\"\n",
        "    이 함수는 a와 b를 더한 뒤 결과를 반환하는 함수입니다.\n",
        "    \"\"\"\n",
        "    print(a+b)"
      ],
      "execution_count": 18,
      "outputs": []
    },
    {
      "cell_type": "code",
      "metadata": {
        "id": "_1Ao-EDIQ1gc"
      },
      "source": [
        "# ? 도움말 호출 팝업되는 오른쪽참고\n",
        "add?"
      ],
      "execution_count": 21,
      "outputs": []
    },
    {
      "cell_type": "markdown",
      "metadata": {
        "id": "nr1KMygzRb5q"
      },
      "source": [
        "## 29.3 결과값 반환"
      ]
    },
    {
      "cell_type": "code",
      "metadata": {
        "id": "yVuwDjRQRbOK"
      },
      "source": [
        "def add(a,b):\n",
        "    return a+b"
      ],
      "execution_count": 23,
      "outputs": []
    },
    {
      "cell_type": "code",
      "metadata": {
        "colab": {
          "base_uri": "https://localhost:8080/"
        },
        "id": "jFTbK_9-RmmR",
        "outputId": "66c72f19-6dbf-4c16-eef9-77a7ee54ac32"
      },
      "source": [
        "add(4,5), add(10,20)"
      ],
      "execution_count": 24,
      "outputs": [
        {
          "output_type": "execute_result",
          "data": {
            "text/plain": [
              "(9, 30)"
            ]
          },
          "metadata": {
            "tags": []
          },
          "execution_count": 24
        }
      ]
    },
    {
      "cell_type": "code",
      "metadata": {
        "colab": {
          "base_uri": "https://localhost:8080/"
        },
        "id": "MIF6-dAdRrNp",
        "outputId": "15ad6862-82c8-49f1-8ee1-4defcb056304"
      },
      "source": [
        "x = add(23,45)      # 물론 이런경우 그냥 덧셈함. add로 따로 함수 지정하지 않음. 하나의 예\n",
        "x"
      ],
      "execution_count": 26,
      "outputs": [
        {
          "output_type": "execute_result",
          "data": {
            "text/plain": [
              "68"
            ]
          },
          "metadata": {
            "tags": []
          },
          "execution_count": 26
        }
      ]
    },
    {
      "cell_type": "code",
      "metadata": {
        "id": "pbda0_-5R31x"
      },
      "source": [
        "def is_ten(x):\n",
        "    return x == 10"
      ],
      "execution_count": 28,
      "outputs": []
    },
    {
      "cell_type": "code",
      "metadata": {
        "colab": {
          "base_uri": "https://localhost:8080/"
        },
        "id": "rzh6AoGkSESj",
        "outputId": "f19e4c16-9016-4d24-d090-7411b7fde881"
      },
      "source": [
        "is_ten(101//10)"
      ],
      "execution_count": 29,
      "outputs": [
        {
          "output_type": "execute_result",
          "data": {
            "text/plain": [
              "True"
            ]
          },
          "metadata": {
            "tags": []
          },
          "execution_count": 29
        }
      ]
    },
    {
      "cell_type": "code",
      "metadata": {
        "id": "3EwwY3iQSMMh"
      },
      "source": [
        "def not_ten(x):\n",
        "    if x == 10:\n",
        "        return\n",
        "    else:\n",
        "        print('It is not 10.')"
      ],
      "execution_count": 38,
      "outputs": []
    },
    {
      "cell_type": "code",
      "metadata": {
        "colab": {
          "base_uri": "https://localhost:8080/"
        },
        "id": "0eon0-9cTXPc",
        "outputId": "e99ec78d-2dd5-4ff9-cfd3-1d51d9b2bf0b"
      },
      "source": [
        "not_ten(5)"
      ],
      "execution_count": 52,
      "outputs": [
        {
          "output_type": "stream",
          "text": [
            "It is not 10.\n"
          ],
          "name": "stdout"
        }
      ]
    },
    {
      "cell_type": "code",
      "metadata": {
        "id": "d6Vi0SXoTYt6"
      },
      "source": [
        "not_ten(101//10)"
      ],
      "execution_count": 53,
      "outputs": []
    },
    {
      "cell_type": "code",
      "metadata": {
        "id": "qBA5e56ETAvD"
      },
      "source": [
        "def not_ten(x):                     # 위 else랑 같음\n",
        "    if x == 10:\n",
        "        return\n",
        "    print('It is not 10.')"
      ],
      "execution_count": 49,
      "outputs": []
    },
    {
      "cell_type": "code",
      "metadata": {
        "colab": {
          "base_uri": "https://localhost:8080/"
        },
        "id": "xHCGjVWKTMXx",
        "outputId": "8a45713d-da8f-4801-9408-9a77be3b55f3"
      },
      "source": [
        "not_ten(5)"
      ],
      "execution_count": 50,
      "outputs": [
        {
          "output_type": "stream",
          "text": [
            "It is not 10.\n"
          ],
          "name": "stdout"
        }
      ]
    },
    {
      "cell_type": "code",
      "metadata": {
        "id": "whG3frnWTNAy"
      },
      "source": [
        "not_ten(101//10)"
      ],
      "execution_count": 51,
      "outputs": []
    },
    {
      "cell_type": "code",
      "metadata": {
        "id": "433w42PCS6sM"
      },
      "source": [
        "def not_ten(x):\n",
        "    if x == 10:\n",
        "        pass\n",
        "    print('It is not 10.')"
      ],
      "execution_count": 46,
      "outputs": []
    },
    {
      "cell_type": "code",
      "metadata": {
        "colab": {
          "base_uri": "https://localhost:8080/"
        },
        "id": "4Bv1hjs8Sas7",
        "outputId": "b0a3753b-31e7-4111-efbf-88bc4e9066a9"
      },
      "source": [
        "not_ten(5)"
      ],
      "execution_count": 47,
      "outputs": [
        {
          "output_type": "stream",
          "text": [
            "It is not 10.\n"
          ],
          "name": "stdout"
        }
      ]
    },
    {
      "cell_type": "code",
      "metadata": {
        "colab": {
          "base_uri": "https://localhost:8080/"
        },
        "id": "e0BqYzwjSe_K",
        "outputId": "0224c588-a2e7-4980-8c93-5e8e447676b9"
      },
      "source": [
        "not_ten(101//10)"
      ],
      "execution_count": 48,
      "outputs": [
        {
          "output_type": "stream",
          "text": [
            "It is not 10.\n"
          ],
          "name": "stdout"
        }
      ]
    },
    {
      "cell_type": "markdown",
      "metadata": {
        "id": "e1HXHS93Tcvs"
      },
      "source": [
        "## 29.4 여러개의 결과값 반환"
      ]
    },
    {
      "cell_type": "code",
      "metadata": {
        "id": "CgUFLFQ8TtCf"
      },
      "source": [
        "# 파이썬에서만 가능. 튜플 언패킹"
      ],
      "execution_count": 58,
      "outputs": []
    },
    {
      "cell_type": "code",
      "metadata": {
        "id": "tBuy-a5uTb_R"
      },
      "source": [
        "def add_sub(a,b):\n",
        "    return a+b, a-b"
      ],
      "execution_count": 59,
      "outputs": []
    },
    {
      "cell_type": "code",
      "metadata": {
        "id": "a9ci9xa3Tki5"
      },
      "source": [
        "x, y = add_sub(15, 7)"
      ],
      "execution_count": 60,
      "outputs": []
    },
    {
      "cell_type": "code",
      "metadata": {
        "colab": {
          "base_uri": "https://localhost:8080/"
        },
        "id": "uyzOzn78Tmhg",
        "outputId": "aba5faa1-f1f3-441a-af1f-844699b036b0"
      },
      "source": [
        "x, y"
      ],
      "execution_count": 61,
      "outputs": [
        {
          "output_type": "execute_result",
          "data": {
            "text/plain": [
              "(22, 8)"
            ]
          },
          "metadata": {
            "tags": []
          },
          "execution_count": 61
        }
      ]
    },
    {
      "cell_type": "code",
      "metadata": {
        "id": "NEudHVQpU-_W"
      },
      "source": [
        "# 함수는 어렵지 않지만 내 프로그램에서 함수로 만들까 말까 하는게 더 힘든 문제"
      ],
      "execution_count": 63,
      "outputs": []
    },
    {
      "cell_type": "markdown",
      "metadata": {
        "id": "G0-iDTkOUGCE"
      },
      "source": [
        "## 29.5 함수의 호출 과정"
      ]
    },
    {
      "cell_type": "code",
      "metadata": {
        "id": "xnHV5OazTosX"
      },
      "source": [
        " # Stack을 이용한다"
      ],
      "execution_count": 65,
      "outputs": []
    },
    {
      "cell_type": "markdown",
      "metadata": {
        "id": "Y1ZQ7IL0VMSD"
      },
      "source": [
        "## 연습문제\n",
        "- 3자리수 정수 두 개를 곱해서 나온 결과가 팔린드롬(Palindrome)이 되도록 할 때, 가장 큰 숫자는?"
      ]
    },
    {
      "cell_type": "code",
      "metadata": {
        "colab": {
          "base_uri": "https://localhost:8080/",
          "height": 138
        },
        "id": "GVgrX6ugU7f0",
        "outputId": "79875bcf-e487-4eda-d1a5-783812d61eb4"
      },
      "source": [
        "max_pal = 0\n",
        "for i in range(100, 1000):\n",
        "    for k in ragne(i, 1000):\n",
        "# i*k 곱한값이 팔린드롬인지를 확인\n",
        "# 팔림드롬이면 max_pal과 비교"
      ],
      "execution_count": 68,
      "outputs": [
        {
          "output_type": "error",
          "ename": "SyntaxError",
          "evalue": "ignored",
          "traceback": [
            "\u001b[0;36m  File \u001b[0;32m\"<ipython-input-68-5cba072e8689>\"\u001b[0;36m, line \u001b[0;32m5\u001b[0m\n\u001b[0;31m    # 팔림드롬이면 max_pal과 비교\u001b[0m\n\u001b[0m                        ^\u001b[0m\n\u001b[0;31mSyntaxError\u001b[0m\u001b[0;31m:\u001b[0m unexpected EOF while parsing\n"
          ]
        }
      ]
    },
    {
      "cell_type": "code",
      "metadata": {
        "id": "fPD1smvnbyY1"
      },
      "source": [
        "def is_palindrome(x):\n",
        "    s = str(x)\n",
        "    return s == s[::-1]"
      ],
      "execution_count": 70,
      "outputs": []
    },
    {
      "cell_type": "code",
      "metadata": {
        "colab": {
          "base_uri": "https://localhost:8080/"
        },
        "id": "XXj8HglTdBSm",
        "outputId": "6caf9bec-f0df-4b0e-9d29-c61905262806"
      },
      "source": [
        "is_palindrome(12345), is_palindrome(906609)"
      ],
      "execution_count": 72,
      "outputs": [
        {
          "output_type": "execute_result",
          "data": {
            "text/plain": [
              "(False, True)"
            ]
          },
          "metadata": {
            "tags": []
          },
          "execution_count": 72
        }
      ]
    },
    {
      "cell_type": "code",
      "metadata": {
        "colab": {
          "base_uri": "https://localhost:8080/"
        },
        "id": "gdjpNnd2dKm3",
        "outputId": "1b02ec35-357d-4d26-d249-648b207e8db0"
      },
      "source": [
        "max_pal, m, n = 0, 0, 0\n",
        "for i in range(100, 1000):\n",
        "    for k in range(i, 1000):\n",
        "        if is_palindrome(i*k):\n",
        "            if i*k > max_pal:\n",
        "                max_pal = i*k\n",
        "                m = i\n",
        "                n = k\n",
        "\n",
        "print(f'{m} x {n} = {max_pal}')"
      ],
      "execution_count": 75,
      "outputs": [
        {
          "output_type": "stream",
          "text": [
            "913 x 993 = 906609\n"
          ],
          "name": "stdout"
        }
      ]
    },
    {
      "cell_type": "code",
      "metadata": {
        "id": "hWL1uz8sd-uO"
      },
      "source": [
        ""
      ],
      "execution_count": null,
      "outputs": []
    }
  ]
}