{
  "nbformat": 4,
  "nbformat_minor": 0,
  "metadata": {
    "colab": {
      "name": "u32_람다함수.ipynb",
      "provenance": [],
      "collapsed_sections": []
    },
    "kernelspec": {
      "name": "python3",
      "display_name": "Python 3"
    },
    "language_info": {
      "name": "python"
    }
  },
  "cells": [
    {
      "cell_type": "markdown",
      "metadata": {
        "id": "_CthU9sNg5GP"
      },
      "source": [
        "# Unit 32. 람다 표현식 사용하기 - 익명(Anonymous 함수)"
      ]
    },
    {
      "cell_type": "markdown",
      "metadata": {
        "id": "-cer557hg15J"
      },
      "source": [
        "## 32.1 람다 표현식으로 함수 만들기"
      ]
    },
    {
      "cell_type": "code",
      "metadata": {
        "id": "VnXcFqUGazfU"
      },
      "source": [
        "def plus_ten(x):\n",
        "    return x+10"
      ],
      "execution_count": 3,
      "outputs": []
    },
    {
      "cell_type": "code",
      "metadata": {
        "colab": {
          "base_uri": "https://localhost:8080/"
        },
        "id": "OY2cmE6jh4TD",
        "outputId": "24c4ad6e-e463-405e-abac-c4a679c77bf6"
      },
      "source": [
        "plus_ten(5)"
      ],
      "execution_count": 4,
      "outputs": [
        {
          "output_type": "execute_result",
          "data": {
            "text/plain": [
              "15"
            ]
          },
          "metadata": {
            "tags": []
          },
          "execution_count": 4
        }
      ]
    },
    {
      "cell_type": "code",
      "metadata": {
        "colab": {
          "base_uri": "https://localhost:8080/"
        },
        "id": "FuU3t8hIh5lJ",
        "outputId": "d110b1a1-87bd-49b1-ada8-c30a978abab0"
      },
      "source": [
        "plus_ten2 = lambda x: x+10\n",
        "plus_ten2(5)"
      ],
      "execution_count": 5,
      "outputs": [
        {
          "output_type": "execute_result",
          "data": {
            "text/plain": [
              "15"
            ]
          },
          "metadata": {
            "tags": []
          },
          "execution_count": 5
        }
      ]
    },
    {
      "cell_type": "code",
      "metadata": {
        "colab": {
          "base_uri": "https://localhost:8080/"
        },
        "id": "dAL9PAUriKBZ",
        "outputId": "42606137-471e-4397-dce2-bd2fb7a34a6f"
      },
      "source": [
        "(lambda x: x+10)(5)     # 변수없이 사용"
      ],
      "execution_count": 6,
      "outputs": [
        {
          "output_type": "execute_result",
          "data": {
            "text/plain": [
              "15"
            ]
          },
          "metadata": {
            "tags": []
          },
          "execution_count": 6
        }
      ]
    },
    {
      "cell_type": "code",
      "metadata": {
        "colab": {
          "base_uri": "https://localhost:8080/"
        },
        "id": "ekpoNsYOiixW",
        "outputId": "60ccf7cd-01c5-45bd-a8cf-5d7a724fc390"
      },
      "source": [
        "list(map(lambda x: int(x)+10, input().split()))"
      ],
      "execution_count": 7,
      "outputs": [
        {
          "output_type": "stream",
          "text": [
            "2 5 10\n"
          ],
          "name": "stdout"
        },
        {
          "output_type": "execute_result",
          "data": {
            "text/plain": [
              "[12, 15, 20]"
            ]
          },
          "metadata": {
            "tags": []
          },
          "execution_count": 7
        }
      ]
    },
    {
      "cell_type": "code",
      "metadata": {
        "colab": {
          "base_uri": "https://localhost:8080/"
        },
        "id": "Mtch8cdTi6O6",
        "outputId": "3729773c-1402-4ae5-a160-8935bbe3d36a"
      },
      "source": [
        "def plus_ten(x):\n",
        "    return int(x)+10\n",
        "list(map(plus_ten, input().split()))"
      ],
      "execution_count": 8,
      "outputs": [
        {
          "output_type": "stream",
          "text": [
            "2 5 10\n"
          ],
          "name": "stdout"
        },
        {
          "output_type": "execute_result",
          "data": {
            "text/plain": [
              "[12, 15, 20]"
            ]
          },
          "metadata": {
            "tags": []
          },
          "execution_count": 8
        }
      ]
    },
    {
      "cell_type": "markdown",
      "metadata": {
        "id": "tQdwCtq1j6Qe"
      },
      "source": [
        "### 제약사항"
      ]
    },
    {
      "cell_type": "code",
      "metadata": {
        "id": "V0w31sZ1jRna"
      },
      "source": [
        "# 람다함수에서 변수를 만들 수 없음"
      ],
      "execution_count": 9,
      "outputs": []
    },
    {
      "cell_type": "code",
      "metadata": {
        "colab": {
          "base_uri": "https://localhost:8080/",
          "height": 138
        },
        "id": "kdgckNMnj-6Y",
        "outputId": "c3b57edc-073f-4369-c671-af1e649d4456"
      },
      "source": [
        "(lambda x: y=10; x+y)(3)"
      ],
      "execution_count": 10,
      "outputs": [
        {
          "output_type": "error",
          "ename": "SyntaxError",
          "evalue": "ignored",
          "traceback": [
            "\u001b[0;36m  File \u001b[0;32m\"<ipython-input-10-97910243940c>\"\u001b[0;36m, line \u001b[0;32m1\u001b[0m\n\u001b[0;31m    (lambda x: y=10; x+y)(3)\u001b[0m\n\u001b[0m                ^\u001b[0m\n\u001b[0;31mSyntaxError\u001b[0m\u001b[0;31m:\u001b[0m invalid syntax\n"
          ]
        }
      ]
    },
    {
      "cell_type": "code",
      "metadata": {
        "colab": {
          "base_uri": "https://localhost:8080/"
        },
        "id": "tj06-NDqkINJ",
        "outputId": "26d8d3cf-a69b-490f-cdb8-7e2a8dd4b90c"
      },
      "source": [
        "y=10        # 함수 바깥에서 미리 지정하면 가능\n",
        "(lambda x: x+y)(3)"
      ],
      "execution_count": 12,
      "outputs": [
        {
          "output_type": "execute_result",
          "data": {
            "text/plain": [
              "13"
            ]
          },
          "metadata": {
            "tags": []
          },
          "execution_count": 12
        }
      ]
    },
    {
      "cell_type": "markdown",
      "metadata": {
        "id": "U9_qQscKks9U"
      },
      "source": [
        "## 32.2 람다 표현식과 map, filter, reduce 함수 활용하기"
      ]
    },
    {
      "cell_type": "code",
      "metadata": {
        "id": "HZ83EnIokNQI"
      },
      "source": [
        "# lambda 매개변수들: 식1 if 조건식 else 식2"
      ],
      "execution_count": 13,
      "outputs": []
    },
    {
      "cell_type": "code",
      "metadata": {
        "colab": {
          "base_uri": "https://localhost:8080/"
        },
        "id": "8lkd0uFEkzfZ",
        "outputId": "fcca94b7-7a30-47cb-bd18-c08889e479d6"
      },
      "source": [
        "# 리스트 a에서 3의 배수를 문자열로 변환\n",
        "a = list(range(1,11))\n",
        "list(map(lambda x: str(x) if x % 3 == 0 else x, a))     # 삼항연산자 사용"
      ],
      "execution_count": 28,
      "outputs": [
        {
          "output_type": "execute_result",
          "data": {
            "text/plain": [
              "[1, 2, '3', 4, 5, '6', 7, 8, '9', 10]"
            ]
          },
          "metadata": {
            "tags": []
          },
          "execution_count": 28
        }
      ]
    },
    {
      "cell_type": "code",
      "metadata": {
        "colab": {
          "base_uri": "https://localhost:8080/",
          "height": 138
        },
        "id": "-wDGUhdllJII",
        "outputId": "5beb045d-58b9-42d6-812e-797e25aecc2d"
      },
      "source": [
        "# 특히 람다 표현식에서 if를 사용했다면 반드시 else를 사용해야 합니다.\n",
        "# 다음과 같이 if만 사용하면 문법 에러가 발생하므로 주의해야 합니다.\n",
        "list(map(lambda x: str(x) if x % 3 == 0, a))"
      ],
      "execution_count": 29,
      "outputs": [
        {
          "output_type": "error",
          "ename": "SyntaxError",
          "evalue": "ignored",
          "traceback": [
            "\u001b[0;36m  File \u001b[0;32m\"<ipython-input-29-84d55ad7d5fe>\"\u001b[0;36m, line \u001b[0;32m3\u001b[0m\n\u001b[0;31m    list(map(lambda x: str(x) if x % 3 == 0, a))\u001b[0m\n\u001b[0m                                           ^\u001b[0m\n\u001b[0;31mSyntaxError\u001b[0m\u001b[0;31m:\u001b[0m invalid syntax\n"
          ]
        }
      ]
    },
    {
      "cell_type": "code",
      "metadata": {
        "colab": {
          "base_uri": "https://localhost:8080/"
        },
        "id": "1BPPG82Ul2I2",
        "outputId": "4400a3ea-7ae0-453b-830d-42795695d6b3"
      },
      "source": [
        "# lambda 매개변수들: 식1 if 조건식1 else 식2 if 조건식2 else 식3\n",
        "# 리스트 a에서 3의 배수는 문자열로, 5의 배수는 실수로 변환\n",
        "list(map(lambda x: str(x) if x % 3 == 0 else float(x) if x % 5 == 0 else x, a))\n",
        "# 코드가 직관적이지 않고 나만이 알아볼 수 있으면 되도록 안쓰는게 좋음.\n",
        "# 이런 코드는 코딩실력을 자랑할 순 있어도 민폐가 될 수 있음. 1년 뒤 자바를 하다 내가 못 알아볼 수 있고,\n",
        "# 다른 사람들이 쉽게 알아보기 힘듦\n",
        "# 복잡하고 어렵게 코드를 작성하면 나중에 시간이 지나서 자기가 만든 코드인데도 못 알아보는 경우가 생깁니다.\n",
        "# 코드는 길이가 조금 길어지더라도 알아보기 쉽게 작성하는 것이 좋습니다."
      ],
      "execution_count": 33,
      "outputs": [
        {
          "output_type": "execute_result",
          "data": {
            "text/plain": [
              "[1, 2, '3', 4, 5.0, '6', 7, 8, '9', 10.0]"
            ]
          },
          "metadata": {
            "tags": []
          },
          "execution_count": 33
        }
      ]
    },
    {
      "cell_type": "markdown",
      "metadata": {
        "id": "wJ_W3ZTPnsz8"
      },
      "source": [
        "### map에 여러개의 객체 넣기"
      ]
    },
    {
      "cell_type": "code",
      "metadata": {
        "colab": {
          "base_uri": "https://localhost:8080/"
        },
        "id": "q-ZfCzJWmTNn",
        "outputId": "e22b2945-a25c-45a4-aaac-2840ea0435f2"
      },
      "source": [
        "a = [1,2,3,4,5]\n",
        "b = [6,7,8,9,10]\n",
        "list(map(lambda x, y: x*y, a, b))"
      ],
      "execution_count": 34,
      "outputs": [
        {
          "output_type": "execute_result",
          "data": {
            "text/plain": [
              "[6, 14, 24, 36, 50]"
            ]
          },
          "metadata": {
            "tags": []
          },
          "execution_count": 34
        }
      ]
    },
    {
      "cell_type": "markdown",
      "metadata": {
        "id": "wNoLDR4ToTUo"
      },
      "source": [
        "### filter"
      ]
    },
    {
      "cell_type": "code",
      "metadata": {
        "id": "X38eFZ8in-v_"
      },
      "source": [
        "# 데이터 프레임에서 filter는 써도 람다함수에서 filter은 안 씀"
      ],
      "execution_count": 35,
      "outputs": []
    },
    {
      "cell_type": "code",
      "metadata": {
        "colab": {
          "base_uri": "https://localhost:8080/"
        },
        "id": "ruCkeHCFocjn",
        "outputId": "d78f2d68-f781-491c-d4ec-05a940ba998e"
      },
      "source": [
        "a = list(range(1,11))\n",
        "list(filter(lambda x: 4 <= x < 8, a))"
      ],
      "execution_count": 37,
      "outputs": [
        {
          "output_type": "execute_result",
          "data": {
            "text/plain": [
              "[4, 5, 6, 7]"
            ]
          },
          "metadata": {
            "tags": []
          },
          "execution_count": 37
        }
      ]
    },
    {
      "cell_type": "code",
      "metadata": {
        "id": "GPfdSIAFrKUL"
      },
      "source": [
        ""
      ],
      "execution_count": null,
      "outputs": []
    }
  ]
}