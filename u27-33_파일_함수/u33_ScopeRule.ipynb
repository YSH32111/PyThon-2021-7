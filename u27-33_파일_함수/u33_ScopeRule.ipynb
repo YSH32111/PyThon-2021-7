{
  "nbformat": 4,
  "nbformat_minor": 0,
  "metadata": {
    "colab": {
      "name": "u33_ScopeRule.ipynb",
      "provenance": [],
      "collapsed_sections": []
    },
    "kernelspec": {
      "name": "python3",
      "display_name": "Python 3"
    },
    "language_info": {
      "name": "python"
    }
  },
  "cells": [
    {
      "cell_type": "markdown",
      "metadata": {
        "id": "qstkbWJorhzL"
      },
      "source": [
        "# Unit 33. 클로저 사용하기"
      ]
    },
    {
      "cell_type": "markdown",
      "metadata": {
        "id": "m8qd6_I7rlZM"
      },
      "source": [
        "## 33.1 변수의 사용 범위 알아보기 (Scope Rule)"
      ]
    },
    {
      "cell_type": "code",
      "metadata": {
        "colab": {
          "base_uri": "https://localhost:8080/"
        },
        "id": "7Qkt6ITMreNg",
        "outputId": "afb1c632-6871-42c7-d788-202392941a4d"
      },
      "source": [
        "x = 10      #  전역(global) 변수\n",
        "def foo():\n",
        "    print(x)\n",
        "\n",
        "foo()\n",
        "print(x)\n",
        "\n",
        "# 스크립트 전체에서 접근할 수 있는 변수를 전역 변수(global variable)라고 부릅니다.\n",
        "# 특히 전역 변수에 접근할 수 있는 범위를 전역 범위(global scope)라고 합니다."
      ],
      "execution_count": 8,
      "outputs": [
        {
          "output_type": "stream",
          "text": [
            "10\n",
            "10\n"
          ],
          "name": "stdout"
        }
      ]
    },
    {
      "cell_type": "code",
      "metadata": {
        "colab": {
          "base_uri": "https://localhost:8080/"
        },
        "id": "QBxrYaWDsEcc",
        "outputId": "d1ff02ab-292e-445f-c870-60309f885429"
      },
      "source": [
        "def foo():\n",
        "    y = 10      # 지역(local) 변수\n",
        "    print(y)\n",
        "\n",
        "foo()"
      ],
      "execution_count": 4,
      "outputs": [
        {
          "output_type": "stream",
          "text": [
            "10\n"
          ],
          "name": "stdout"
        }
      ]
    },
    {
      "cell_type": "code",
      "metadata": {
        "colab": {
          "base_uri": "https://localhost:8080/",
          "height": 176
        },
        "id": "aYM_C84bsKmH",
        "outputId": "eb02c77f-e947-496f-a1b7-b934ae8c6c17"
      },
      "source": [
        "print(y)        # 지역 변수는 함수 바깥에서는 사용할 수 없다"
      ],
      "execution_count": 6,
      "outputs": [
        {
          "output_type": "error",
          "ename": "NameError",
          "evalue": "ignored",
          "traceback": [
            "\u001b[0;31m---------------------------------------------------------------------------\u001b[0m",
            "\u001b[0;31mNameError\u001b[0m                                 Traceback (most recent call last)",
            "\u001b[0;32m<ipython-input-6-1f85223261e1>\u001b[0m in \u001b[0;36m<module>\u001b[0;34m()\u001b[0m\n\u001b[0;32m----> 1\u001b[0;31m \u001b[0mprint\u001b[0m\u001b[0;34m(\u001b[0m\u001b[0my\u001b[0m\u001b[0;34m)\u001b[0m        \u001b[0;31m# 지역 변수는 함수 바깥에서는 사용할 수 없다\u001b[0m\u001b[0;34m\u001b[0m\u001b[0;34m\u001b[0m\u001b[0m\n\u001b[0m",
            "\u001b[0;31mNameError\u001b[0m: name 'y' is not defined"
          ]
        }
      ]
    },
    {
      "cell_type": "markdown",
      "metadata": {
        "id": "V4OBv-N8ttdM"
      },
      "source": [
        "### 함수 안에서 전역 변수 변경하기"
      ]
    },
    {
      "cell_type": "code",
      "metadata": {
        "colab": {
          "base_uri": "https://localhost:8080/"
        },
        "id": "I93306Mssggt",
        "outputId": "e818cbc0-eeea-448a-c87c-74f04bd9d773"
      },
      "source": [
        "# 절대로 이런 코드 쓰면 안됨. 수업용\n",
        "x = 10\n",
        "def foo():\n",
        "    x = 20      # 로컬 변수\n",
        "    print(x)\n",
        "\n",
        "foo()\n",
        "print(x)"
      ],
      "execution_count": 7,
      "outputs": [
        {
          "output_type": "stream",
          "text": [
            "20\n",
            "10\n"
          ],
          "name": "stdout"
        }
      ]
    },
    {
      "cell_type": "code",
      "metadata": {
        "colab": {
          "base_uri": "https://localhost:8080/"
        },
        "id": "1kjP4cV6t_Td",
        "outputId": "49ae1cf4-669f-4b50-df31-299ee49e653f"
      },
      "source": [
        "x = 10          # 전역(global) 변수\n",
        "def foo():\n",
        "    global x    # 로컬 변수 -> 전역(global) 변수\n",
        "    x = 20\n",
        "    print(x)\n",
        "\n",
        "foo()\n",
        "print(x)"
      ],
      "execution_count": 9,
      "outputs": [
        {
          "output_type": "stream",
          "text": [
            "20\n",
            "20\n"
          ],
          "name": "stdout"
        }
      ]
    },
    {
      "cell_type": "code",
      "metadata": {
        "colab": {
          "base_uri": "https://localhost:8080/"
        },
        "id": "ma-zMDIouqJE",
        "outputId": "9dc28feb-f477-4c9b-a517-50589d4e946d"
      },
      "source": [
        "def foo():\n",
        "    global z\n",
        "    z = 10\n",
        "    print(z)\n",
        "\n",
        "foo()\n",
        "print(z)"
      ],
      "execution_count": 15,
      "outputs": [
        {
          "output_type": "stream",
          "text": [
            "10\n",
            "10\n"
          ],
          "name": "stdout"
        }
      ]
    },
    {
      "cell_type": "code",
      "metadata": {
        "id": "nu8R05lwvFkm"
      },
      "source": [
        "# 파이썬은 ScopeRule가 간단하지만 자바는 내용이 엄청 긺? 블록이 생김\n",
        "# 자바 for (int i = 10; i < 10; i ++) {              }\n",
        "# 파이썬에서는 함수에서만 신경쓰면 됨"
      ],
      "execution_count": 16,
      "outputs": []
    },
    {
      "cell_type": "code",
      "metadata": {
        "id": "u4hhhfGAvvuM"
      },
      "source": [
        ""
      ],
      "execution_count": null,
      "outputs": []
    }
  ]
}