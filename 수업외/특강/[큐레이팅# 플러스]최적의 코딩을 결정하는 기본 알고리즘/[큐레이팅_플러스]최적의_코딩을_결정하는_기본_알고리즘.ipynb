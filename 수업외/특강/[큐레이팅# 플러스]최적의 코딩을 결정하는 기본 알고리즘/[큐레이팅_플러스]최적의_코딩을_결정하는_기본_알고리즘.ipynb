{
  "nbformat": 4,
  "nbformat_minor": 0,
  "metadata": {
    "colab": {
      "name": "[큐레이팅# 플러스]최적의 코딩을 결정하는 기본 알고리즘.ipynb",
      "provenance": [],
      "collapsed_sections": []
    },
    "kernelspec": {
      "name": "python3",
      "display_name": "Python 3"
    },
    "language_info": {
      "name": "python"
    }
  },
  "cells": [
    {
      "cell_type": "markdown",
      "metadata": {
        "id": "xo6YWk6nRUs7"
      },
      "source": [
        "# 1차시 가장 기본이 되는 자료구조: 스택과 큐"
      ]
    },
    {
      "cell_type": "markdown",
      "metadata": {
        "id": "33HISeWVRhvF"
      },
      "source": [
        "스택 자료구조\n",
        "- 먼저 들어 온 데이터가 나중에 나가는 형식(선입후출)의 자료구조\n",
        "- 입구와 출구가 동일한 형태로 스택을 시각화 할 수 있음\n",
        "\n",
        "\n",
        "a, b + c\n",
        "a, b -> c 부터 나감\n",
        "\n",
        "제일 마지막에 들어온게 제일 빨리 나감"
      ]
    },
    {
      "cell_type": "code",
      "metadata": {
        "id": "03Ze0BbTRf8Q"
      },
      "source": [
        "# 스택 동작 예시\n",
        "# 삽입(5) - 삽입(2) - 삽입(3) - 삽입(7) - 삭제() - 삽입(1) - 삽입(4) - 삭제()\n",
        "# 오른쪽으로만 들어오고 나감 5 2 3 (7) 1 (4)"
      ],
      "execution_count": 3,
      "outputs": []
    },
    {
      "cell_type": "code",
      "metadata": {
        "colab": {
          "base_uri": "https://localhost:8080/"
        },
        "id": "9NlLsyrVR2Zz",
        "outputId": "b086dde9-84e8-4135-af19-f20b5abac33d"
      },
      "source": [
        "# Python에서의 스택 구현 예제\n",
        "stack = []      # 삽입(5) - 삽입(2) - 삽입(3) - 삽입(7) - 삭제() - 삽입(1) - 삽입(4) - 삭제()\n",
        "stack.append(5)\n",
        "stack.append(2)\n",
        "stack.append(3)\n",
        "stack.append(7)\n",
        "stack.pop()\n",
        "stack.append(1)\n",
        "stack.append(4)\n",
        "stack.pop()\n",
        "\n",
        "print(stack[::-1])  # 최상단 원소부터 출력\n",
        "print(stack)        # 최하단 원소부터 출력"
      ],
      "execution_count": 5,
      "outputs": [
        {
          "output_type": "stream",
          "text": [
            "[1, 3, 2, 5]\n",
            "[5, 2, 3, 1]\n"
          ],
          "name": "stdout"
        }
      ]
    },
    {
      "cell_type": "code",
      "metadata": {
        "id": "9rb9BCf4SJ7T"
      },
      "source": [
        "# 시간복잡도 5의 1??\n",
        "# 파이썬에서는 별도의 표준 라이브러리 없이 기본적으로 제공되는 객체인 리스트를 이용해 나타낼 수 있음"
      ],
      "execution_count": 6,
      "outputs": []
    },
    {
      "cell_type": "code",
      "metadata": {
        "id": "1nLi3ZWnSsZ7"
      },
      "source": [
        "# C++ 에서의 스택 구현 예제"
      ],
      "execution_count": 7,
      "outputs": []
    },
    {
      "cell_type": "code",
      "metadata": {
        "id": "uPhnB7PUS_ql"
      },
      "source": [
        "# Java에서의 스택 구현 예제"
      ],
      "execution_count": 8,
      "outputs": []
    },
    {
      "cell_type": "markdown",
      "metadata": {
        "id": "XOFeu3jtTXgN"
      },
      "source": [
        "큐 자료구조\n",
        "- 먼저 들어 온 데이터가 먼저 나가는 형식(선입선출)의 자료구조\n",
        "- 큐는 입구와 출구가 모두 뚫려 있는 터널과 같은 형태로 시각화 할 수 있음"
      ]
    },
    {
      "cell_type": "code",
      "metadata": {
        "id": "TOtv63S5TLBz"
      },
      "source": [
        "# 큐 동작 예시\n",
        "# 삽입(5) - 삽입(2) - 삽입(3) - 삽입(7) - 삭제() - 삽입(1) - 삽입(4) - 삭제()\n",
        "# 왼쪽으로 들어옴 4 1 7 3 2 오른쪽으로 나감"
      ],
      "execution_count": 9,
      "outputs": []
    },
    {
      "cell_type": "code",
      "metadata": {
        "colab": {
          "base_uri": "https://localhost:8080/"
        },
        "id": "7USE_MYiT_Q7",
        "outputId": "1f477cca-ae84-40e0-b89a-c39c0c6c85ca"
      },
      "source": [
        "# Python에서의 스택 구현 예제\n",
        "from collections import deque # 삽입(5) - 삽입(2) - 삽입(3) - 삽입(7) - 삭제() - 삽입(1) - 삽입(4) - 삭제()\n",
        "# 큐(Queue) 구현을 위해 deque 라이브러리 사용\n",
        "queue = deque()\n",
        "\n",
        "queue.append(5)\n",
        "queue.append(2)\n",
        "queue.append(3)\n",
        "queue.append(7)\n",
        "queue.popleft()\n",
        "queue.append(1)\n",
        "queue.append(4)\n",
        "queue.popleft()\n",
        "\n",
        "print(queue)        # 먼저 들어온 순서대로 출력\n",
        "queue.reverse()     # 역순으로 바꾸기\n",
        "print(queue)        # 나중에 들어온 원소부터 출력\n",
        "\n",
        "# 리스트 자료형을 이용해 큐를 구현할 수도 있음. 단 시간복잡도(?)가 더 높아 비효율적으로 동작할 수 있음\n",
        "# 큐를 이용할 땐 꼭 deque 라이브러리 사용\n",
        "# 시간복잡도 : 연산하는데 걸리는 시간"
      ],
      "execution_count": 14,
      "outputs": [
        {
          "output_type": "stream",
          "text": [
            "deque([3, 7, 1, 4])\n",
            "deque([4, 1, 7, 3])\n"
          ],
          "name": "stdout"
        }
      ]
    },
    {
      "cell_type": "code",
      "metadata": {
        "id": "FFoSzQa9Ufl2"
      },
      "source": [
        "# C++ 에서의 큐 구현 예제"
      ],
      "execution_count": 15,
      "outputs": []
    },
    {
      "cell_type": "code",
      "metadata": {
        "id": "qLZpohmlVvdR"
      },
      "source": [
        "# Java에서의 큐 구현 예제"
      ],
      "execution_count": 16,
      "outputs": []
    },
    {
      "cell_type": "markdown",
      "metadata": {
        "id": "K2RAB6vnWOil"
      },
      "source": [
        "# 2차시 우선순위에 따라 데이터를 꺼내는 자료구조"
      ]
    },
    {
      "cell_type": "code",
      "metadata": {
        "id": "U2s0KG3uVxRc"
      },
      "source": [
        ""
      ],
      "execution_count": null,
      "outputs": []
    }
  ]
}