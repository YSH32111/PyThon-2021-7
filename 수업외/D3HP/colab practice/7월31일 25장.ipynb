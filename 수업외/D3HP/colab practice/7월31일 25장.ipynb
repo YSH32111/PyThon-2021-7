{
  "nbformat": 4,
  "nbformat_minor": 0,
  "metadata": {
    "colab": {
      "name": "7월31일.ipynb",
      "provenance": [],
      "collapsed_sections": []
    },
    "kernelspec": {
      "name": "python3",
      "display_name": "Python 3"
    },
    "language_info": {
      "name": "python"
    }
  },
  "cells": [
    {
      "cell_type": "markdown",
      "metadata": {
        "id": "gCp2Hz7OdjTz"
      },
      "source": [
        "# 25.2->24,23->19,29,21,22->10,11,12,13,14,중요<16>->1~26"
      ]
    },
    {
      "cell_type": "markdown",
      "metadata": {
        "id": "mBDw14dmd1I9"
      },
      "source": [
        "## 25.2 반복문으로 딕셔너리의 키-값 쌍을 모두 출력하기\n"
      ]
    },
    {
      "cell_type": "code",
      "metadata": {
        "colab": {
          "base_uri": "https://localhost:8080/"
        },
        "id": "EEyxcakTdgNc",
        "outputId": "6bf5b9b8-bf6f-43cc-9e7a-71b2d0cf9896"
      },
      "source": [
        "# 딕셔너리와 for 반복문을 사용하여 모든 키-값 쌍 출력\n",
        "x = {'a': 10, 'b': 20, 'c': 30, 'd': 40}\n",
        "for i in x:\n",
        "    print(i, end=' ')           # 값은 출력되지 않고 키만 출력\n",
        "\n",
        "# keys랑 차이점이 뭐지? 어치파 keys도 키만 출력하는데?"
      ],
      "execution_count": 1,
      "outputs": [
        {
          "output_type": "stream",
          "text": [
            "a b c d "
          ],
          "name": "stdout"
        }
      ]
    },
    {
      "cell_type": "code",
      "metadata": {
        "colab": {
          "base_uri": "https://localhost:8080/"
        },
        "id": "7jXJW_ddeBVJ",
        "outputId": "4943ec6d-0cb7-4fd7-a8cc-0b5a6a8c909c"
      },
      "source": [
        "x = {'a': 10, 'b': 20, 'c': 30, 'd': 40}\n",
        "for i in x:\n",
        "    print(i)        # \\n 기본설정이였지"
      ],
      "execution_count": 2,
      "outputs": [
        {
          "output_type": "stream",
          "text": [
            "a\n",
            "b\n",
            "c\n",
            "d\n"
          ],
          "name": "stdout"
        }
      ]
    },
    {
      "cell_type": "code",
      "metadata": {
        "id": "iORrZUgOeNXU"
      },
      "source": [
        "#for 키, 값 in 딕셔너리.items():\n",
        "#     반복할 코드"
      ],
      "execution_count": 3,
      "outputs": []
    },
    {
      "cell_type": "code",
      "metadata": {
        "colab": {
          "base_uri": "https://localhost:8080/"
        },
        "id": "i0BxOX43eY70",
        "outputId": "94b9e170-b012-43ef-c7c0-4e06efd70c66"
      },
      "source": [
        "x = {'a': 10, 'b': 20, 'c': 30, 'd': 40}\n",
        "for key, value in x. items():\n",
        "    print(key, value)"
      ],
      "execution_count": 4,
      "outputs": [
        {
          "output_type": "stream",
          "text": [
            "a 10\n",
            "b 20\n",
            "c 30\n",
            "d 40\n"
          ],
          "name": "stdout"
        }
      ]
    },
    {
      "cell_type": "code",
      "metadata": {
        "colab": {
          "base_uri": "https://localhost:8080/"
        },
        "id": "AbEPI6Ihetc0",
        "outputId": "25e0170d-bccd-4d54-f439-4637476292a1"
      },
      "source": [
        "x = {'a': 10, 'b': 20, 'c': 30, 'd': 40}\n",
        "for k, v in x. items():\n",
        "    print(k, v)"
      ],
      "execution_count": 5,
      "outputs": [
        {
          "output_type": "stream",
          "text": [
            "a 10\n",
            "b 20\n",
            "c 30\n",
            "d 40\n"
          ],
          "name": "stdout"
        }
      ]
    },
    {
      "cell_type": "code",
      "metadata": {
        "colab": {
          "base_uri": "https://localhost:8080/",
          "height": 214
        },
        "id": "9zen8Gy3e0Nk",
        "outputId": "0433012c-9fe2-42b6-808d-9ef9f7d7fb13"
      },
      "source": [
        "x = {'a': 10, 'b': 20, 'c': 30, 'd': 40}\n",
        "for i, k in x:\n",
        "    print(i, k)         # items()가 빠지면 오류 "
      ],
      "execution_count": 7,
      "outputs": [
        {
          "output_type": "error",
          "ename": "ValueError",
          "evalue": "ignored",
          "traceback": [
            "\u001b[0;31m---------------------------------------------------------------------------\u001b[0m",
            "\u001b[0;31mValueError\u001b[0m                                Traceback (most recent call last)",
            "\u001b[0;32m<ipython-input-7-fb6a867abd59>\u001b[0m in \u001b[0;36m<module>\u001b[0;34m()\u001b[0m\n\u001b[1;32m      1\u001b[0m \u001b[0mx\u001b[0m \u001b[0;34m=\u001b[0m \u001b[0;34m{\u001b[0m\u001b[0;34m'a'\u001b[0m\u001b[0;34m:\u001b[0m \u001b[0;36m10\u001b[0m\u001b[0;34m,\u001b[0m \u001b[0;34m'b'\u001b[0m\u001b[0;34m:\u001b[0m \u001b[0;36m20\u001b[0m\u001b[0;34m,\u001b[0m \u001b[0;34m'c'\u001b[0m\u001b[0;34m:\u001b[0m \u001b[0;36m30\u001b[0m\u001b[0;34m,\u001b[0m \u001b[0;34m'd'\u001b[0m\u001b[0;34m:\u001b[0m \u001b[0;36m40\u001b[0m\u001b[0;34m}\u001b[0m\u001b[0;34m\u001b[0m\u001b[0;34m\u001b[0m\u001b[0m\n\u001b[0;32m----> 2\u001b[0;31m \u001b[0;32mfor\u001b[0m \u001b[0mi\u001b[0m\u001b[0;34m,\u001b[0m \u001b[0mk\u001b[0m \u001b[0;32min\u001b[0m \u001b[0mx\u001b[0m\u001b[0;34m:\u001b[0m\u001b[0;34m\u001b[0m\u001b[0;34m\u001b[0m\u001b[0m\n\u001b[0m\u001b[1;32m      3\u001b[0m     \u001b[0mprint\u001b[0m\u001b[0;34m(\u001b[0m\u001b[0mi\u001b[0m\u001b[0;34m,\u001b[0m \u001b[0mk\u001b[0m\u001b[0;34m)\u001b[0m         \u001b[0;31m# items()가 빠지면 오류\u001b[0m\u001b[0;34m\u001b[0m\u001b[0;34m\u001b[0m\u001b[0m\n",
            "\u001b[0;31mValueError\u001b[0m: not enough values to unpack (expected 2, got 1)"
          ]
        }
      ]
    },
    {
      "cell_type": "code",
      "metadata": {
        "colab": {
          "base_uri": "https://localhost:8080/"
        },
        "id": "1JHeE3Ege66E",
        "outputId": "74ce7910-dd48-4043-9c1f-776cbcf31523"
      },
      "source": [
        "for key, value in {'a': 10, 'b': 20, 'c':30, 'd': 40}.items():\n",
        "    print(key, value, end=', ')"
      ],
      "execution_count": 11,
      "outputs": [
        {
          "output_type": "stream",
          "text": [
            "a 10, b 20, c 30, d 40, "
          ],
          "name": "stdout"
        }
      ]
    },
    {
      "cell_type": "code",
      "metadata": {
        "id": "pfaJ9aSefQAj"
      },
      "source": [
        "# items: 키-값 쌍을 모두 가져옴\n",
        "# keys: 키를 모두 가져옴\n",
        "# values: 값을 모두 가져옴"
      ],
      "execution_count": 12,
      "outputs": []
    },
    {
      "cell_type": "code",
      "metadata": {
        "colab": {
          "base_uri": "https://localhost:8080/"
        },
        "id": "VktkJgyTfdGj",
        "outputId": "ca9f3e41-bc8f-46bc-c721-d0f72786d9cf"
      },
      "source": [
        "# 키만 출력\n",
        "x = {'a': 10, 'b': 20, 'c': 30, 'd': 40}\n",
        "for key in x.keys():\n",
        "    print(key, end=' ')"
      ],
      "execution_count": 13,
      "outputs": [
        {
          "output_type": "stream",
          "text": [
            "a b c d "
          ],
          "name": "stdout"
        }
      ]
    },
    {
      "cell_type": "code",
      "metadata": {
        "colab": {
          "base_uri": "https://localhost:8080/"
        },
        "id": "0nntkGPJfpvj",
        "outputId": "58b36eb5-ddbb-42d2-da07-d98f35bbe464"
      },
      "source": [
        "# 값만 출력\n",
        "x = {'a': 10, 'b': 20, 'c': 30, 'd': 40}\n",
        "for value in x.values():\n",
        "    print(value, end=' ')"
      ],
      "execution_count": 14,
      "outputs": [
        {
          "output_type": "stream",
          "text": [
            "10 20 30 40 "
          ],
          "name": "stdout"
        }
      ]
    },
    {
      "cell_type": "markdown",
      "metadata": {
        "id": "o27xy1MIf8ri"
      },
      "source": [
        "## 25.3 딕셔너리 표현식 사용하기"
      ]
    },
    {
      "cell_type": "code",
      "metadata": {
        "id": "MZ-WIjIpf4BU"
      },
      "source": [
        "# {키: 값 for 키, 값 in 딕셔너리}\n",
        "# dict({키: 값 for 키, 값 in 딕셔너리})"
      ],
      "execution_count": 15,
      "outputs": []
    },
    {
      "cell_type": "code",
      "metadata": {
        "colab": {
          "base_uri": "https://localhost:8080/"
        },
        "id": "_O7VHUJNgtR6",
        "outputId": "638dcf80-819c-4e32-ae77-ccde5e61df83"
      },
      "source": [
        "keys = ['a', 'b', 'c', 'd']\n",
        "x = {key: value for key, value in dict.fromkeys(keys).items()}\n",
        "x"
      ],
      "execution_count": 17,
      "outputs": [
        {
          "output_type": "execute_result",
          "data": {
            "text/plain": [
              "{'a': None, 'b': None, 'c': None, 'd': None}"
            ]
          },
          "metadata": {
            "tags": []
          },
          "execution_count": 17
        }
      ]
    },
    {
      "cell_type": "code",
      "metadata": {
        "colab": {
          "base_uri": "https://localhost:8080/"
        },
        "id": "o2FqXaNTg18L",
        "outputId": "5011e088-6936-4748-ad4b-55e6e545eea2"
      },
      "source": [
        "{key: 0 for key in dict.fromkeys(['a', 'b', 'c', 'd']).keys()}"
      ],
      "execution_count": 18,
      "outputs": [
        {
          "output_type": "execute_result",
          "data": {
            "text/plain": [
              "{'a': 0, 'b': 0, 'c': 0, 'd': 0}"
            ]
          },
          "metadata": {
            "tags": []
          },
          "execution_count": 18
        }
      ]
    },
    {
      "cell_type": "code",
      "metadata": {
        "colab": {
          "base_uri": "https://localhost:8080/"
        },
        "id": "RB4Dbz9hhS_y",
        "outputId": "f108f657-c542-480a-dc4d-7730f5499e58"
      },
      "source": [
        "{value: 0 for value in {'a': 10, 'b': 20, 'c': 30, 'd': 40}.values()}"
      ],
      "execution_count": 19,
      "outputs": [
        {
          "output_type": "execute_result",
          "data": {
            "text/plain": [
              "{10: 0, 20: 0, 30: 0, 40: 0}"
            ]
          },
          "metadata": {
            "tags": []
          },
          "execution_count": 19
        }
      ]
    },
    {
      "cell_type": "code",
      "metadata": {
        "colab": {
          "base_uri": "https://localhost:8080/"
        },
        "id": "J5Kl0fz3hczy",
        "outputId": "9841b87a-ba8d-47cc-b996-defd03eea9bf"
      },
      "source": [
        "{value: key for key, value in {'a': 10, 'b': 20, 'c': 30, 'd': 40}.items()}"
      ],
      "execution_count": 20,
      "outputs": [
        {
          "output_type": "execute_result",
          "data": {
            "text/plain": [
              "{10: 'a', 20: 'b', 30: 'c', 40: 'd'}"
            ]
          },
          "metadata": {
            "tags": []
          },
          "execution_count": 20
        }
      ]
    },
    {
      "cell_type": "code",
      "metadata": {
        "id": "Uq6T6vMkhweS"
      },
      "source": [
        "# 딕셔너리 표현식을 사용해보면 복잡하기만 하고 dict.fromkeys 함수만 사용한 결과와 큰 차이점이 없습니다.\n",
        "# 대신 딕셔너리 표현식은 딕셔너리에서 특정 값을 찾아서 삭제할 때 유용합니다."
      ],
      "execution_count": null,
      "outputs": []
    },
    {
      "cell_type": "markdown",
      "metadata": {
        "id": "xQ7ZRmaviP8H"
      },
      "source": [
        "딕셔너리는 특정 키를 삭제하는 pop 메서드만 제공할 뿐 특정 값을 삭제하는 메서드는 제공하지 않습니다. 그러면 특정 값을 찾아서 키-값 쌍을 삭제하려면 어떻게 해야 할까요? 간단하게 for 반복문으로 반복하면서 del로 삭제하는 방식을 떠올릴 수 있습니다."
      ]
    },
    {
      "cell_type": "code",
      "metadata": {
        "colab": {
          "base_uri": "https://localhost:8080/",
          "height": 252
        },
        "id": "qF1LOf0NiQIx",
        "outputId": "0c1bff4c-be8a-4946-ae6d-5f968e2e5fed"
      },
      "source": [
        "x = {'a': 10, 'b': 20, 'c': 30, 'd': 40}\n",
        "\n",
        "for key, value in x.items():\n",
        "    if value == 20:\n",
        "        del x[key]\n",
        "\n",
        "print(x)\n",
        "\n",
        "# 딕셔너리는 for 반복문으로 반복하면서 키-값 쌍을 삭제하면 안 됩니다."
      ],
      "execution_count": 22,
      "outputs": [
        {
          "output_type": "error",
          "ename": "RuntimeError",
          "evalue": "ignored",
          "traceback": [
            "\u001b[0;31m---------------------------------------------------------------------------\u001b[0m",
            "\u001b[0;31mRuntimeError\u001b[0m                              Traceback (most recent call last)",
            "\u001b[0;32m<ipython-input-22-2f1226ae7930>\u001b[0m in \u001b[0;36m<module>\u001b[0;34m()\u001b[0m\n\u001b[1;32m      1\u001b[0m \u001b[0mx\u001b[0m \u001b[0;34m=\u001b[0m \u001b[0;34m{\u001b[0m\u001b[0;34m'a'\u001b[0m\u001b[0;34m:\u001b[0m \u001b[0;36m10\u001b[0m\u001b[0;34m,\u001b[0m \u001b[0;34m'b'\u001b[0m\u001b[0;34m:\u001b[0m \u001b[0;36m20\u001b[0m\u001b[0;34m,\u001b[0m \u001b[0;34m'c'\u001b[0m\u001b[0;34m:\u001b[0m \u001b[0;36m30\u001b[0m\u001b[0;34m,\u001b[0m \u001b[0;34m'd'\u001b[0m\u001b[0;34m:\u001b[0m \u001b[0;36m40\u001b[0m\u001b[0;34m}\u001b[0m\u001b[0;34m\u001b[0m\u001b[0;34m\u001b[0m\u001b[0m\n\u001b[1;32m      2\u001b[0m \u001b[0;34m\u001b[0m\u001b[0m\n\u001b[0;32m----> 3\u001b[0;31m \u001b[0;32mfor\u001b[0m \u001b[0mkey\u001b[0m\u001b[0;34m,\u001b[0m \u001b[0mvalue\u001b[0m \u001b[0;32min\u001b[0m \u001b[0mx\u001b[0m\u001b[0;34m.\u001b[0m\u001b[0mitems\u001b[0m\u001b[0;34m(\u001b[0m\u001b[0;34m)\u001b[0m\u001b[0;34m:\u001b[0m\u001b[0;34m\u001b[0m\u001b[0;34m\u001b[0m\u001b[0m\n\u001b[0m\u001b[1;32m      4\u001b[0m     \u001b[0;32mif\u001b[0m \u001b[0mvalue\u001b[0m \u001b[0;34m==\u001b[0m \u001b[0;36m20\u001b[0m\u001b[0;34m:\u001b[0m\u001b[0;34m\u001b[0m\u001b[0;34m\u001b[0m\u001b[0m\n\u001b[1;32m      5\u001b[0m         \u001b[0;32mdel\u001b[0m \u001b[0mx\u001b[0m\u001b[0;34m[\u001b[0m\u001b[0mkey\u001b[0m\u001b[0;34m]\u001b[0m\u001b[0;34m\u001b[0m\u001b[0;34m\u001b[0m\u001b[0m\n",
            "\u001b[0;31mRuntimeError\u001b[0m: dictionary changed size during iteration"
          ]
        }
      ]
    },
    {
      "cell_type": "code",
      "metadata": {
        "id": "J4Nob49mit2a"
      },
      "source": [
        "# 이때는 딕셔너리 표현식에서 if 조건문을 사용하여 삭제할 값을 제외하면 됩니다.\n",
        "# {키: 값 for 키, 값 in 딕셔너리 if 조건식}\n",
        "# dict({키: 값 for 키, 값 in 딕셔너리 if 조건식})"
      ],
      "execution_count": 24,
      "outputs": []
    },
    {
      "cell_type": "code",
      "metadata": {
        "colab": {
          "base_uri": "https://localhost:8080/"
        },
        "id": "bsNIeZBli3R0",
        "outputId": "34d1fc16-7b6d-4034-c2f5-7c315c9ef86e"
      },
      "source": [
        "x = {'a': 10, 'b': 20, 'c': 30, 'd': 40}\n",
        "x = {key: value for key, value in x.items() if value !=20}\n",
        "x"
      ],
      "execution_count": 25,
      "outputs": [
        {
          "output_type": "execute_result",
          "data": {
            "text/plain": [
              "{'a': 10, 'c': 30, 'd': 40}"
            ]
          },
          "metadata": {
            "tags": []
          },
          "execution_count": 25
        }
      ]
    },
    {
      "cell_type": "code",
      "metadata": {
        "colab": {
          "base_uri": "https://localhost:8080/"
        },
        "id": "nNiZL7vcjHfq",
        "outputId": "c1fca0fc-0dba-42b6-da81-3d31d78ff0c0"
      },
      "source": [
        "x = {'a': 10, 'b': 20, 'c': 30, 'd': 40}\n",
        "x = {key: value for key, value in x.items() if key !='a'}\n",
        "x"
      ],
      "execution_count": 27,
      "outputs": [
        {
          "output_type": "execute_result",
          "data": {
            "text/plain": [
              "{'b': 20, 'c': 30, 'd': 40}"
            ]
          },
          "metadata": {
            "tags": []
          },
          "execution_count": 27
        }
      ]
    },
    {
      "cell_type": "markdown",
      "metadata": {
        "id": "KkZrj2XjoaMo"
      },
      "source": [
        "## 25.4 딕셔너리 안에서 딕셔너리 사용하기"
      ]
    },
    {
      "cell_type": "code",
      "metadata": {
        "id": "Lk7-qBVgjPkq"
      },
      "source": [
        "# 딕셔너리 = {키1: {키A: 값A}, 키2: {키B: 값B}}"
      ],
      "execution_count": 28,
      "outputs": []
    },
    {
      "cell_type": "code",
      "metadata": {
        "colab": {
          "base_uri": "https://localhost:8080/"
        },
        "id": "pYOnSIQql74w",
        "outputId": "4a35126c-e59f-405a-fe29-e3e42c18d13a"
      },
      "source": [
        "terrestrial_planet = {\n",
        "    'Mercury': {\n",
        "        'mean_radius': 2439.7,\n",
        "        'mass': 3.3022E+23,\n",
        "        'orbital_period': 87.969\n",
        "     },\n",
        "    'Venus': {\n",
        "        'mean_radius': 6051.8,\n",
        "        'mass': 4.8676E+24,\n",
        "        'orbital_period': 224.70069,\n",
        "    },\n",
        "    'Earth': {\n",
        "        'mean_radius': 6371.0,\n",
        "        'mass': 5.97219E+24,\n",
        "        'orbital_period': 365.25641,\n",
        "    },\n",
        "    'Mars': {\n",
        "        'mean_radius': 3389.5,\n",
        "        'mass': 6.4185E+23,\n",
        "        'orbital_period': 686.9600,\n",
        "    }\n",
        "}\n",
        "\n",
        "print(terrestrial_planet['Venus']['mean_radius'])\n",
        "# 하긴.. 실제 생활에서 숫자만 주어진 경우는 거의 없고, 의미있는 뜻을 가져 문자와 숫자가 나열될테고.. \n",
        "# 그 안에 또 정보가 있는 경우가 많겠지"
      ],
      "execution_count": 31,
      "outputs": [
        {
          "output_type": "stream",
          "text": [
            "6051.8\n"
          ],
          "name": "stdout"
        }
      ]
    },
    {
      "cell_type": "code",
      "metadata": {
        "colab": {
          "base_uri": "https://localhost:8080/"
        },
        "id": "fnXDPJqgm2HP",
        "outputId": "2a1b0878-00c3-46f8-89f0-bf5593ccff36"
      },
      "source": [
        "terrestrial_planet = {'M': {'a':0}, 'V': {'a':0}, 'E': {'a':1}, 'M2': {'a':1}}\n",
        "print(terrestrial_planet['V']['a'])"
      ],
      "execution_count": 38,
      "outputs": [
        {
          "output_type": "stream",
          "text": [
            "0\n"
          ],
          "name": "stdout"
        }
      ]
    },
    {
      "cell_type": "code",
      "metadata": {
        "id": "bQ-EmZsinV3B"
      },
      "source": [
        "# 딕셔너리[키][키]\n",
        "# 딕셔너리[키][키] = 값"
      ],
      "execution_count": 39,
      "outputs": []
    },
    {
      "cell_type": "markdown",
      "metadata": {
        "id": "TgGELguHoXmI"
      },
      "source": [
        "## 25.5 딕셔너리의 할당과 복사"
      ]
    },
    {
      "cell_type": "code",
      "metadata": {
        "colab": {
          "base_uri": "https://localhost:8080/"
        },
        "id": "2K9o-oWsnzfA",
        "outputId": "2984c838-20ca-4024-9a89-3c02ae860ccf"
      },
      "source": [
        "x = {'a': 0, 'b': 0, 'c': 0, 'd': 0}\n",
        "y = x\n",
        "x is y, x == y\n",
        "# 딕셔너리는 한 개임. 즉 y값을 바꾸면 x값도 바뀜"
      ],
      "execution_count": 50,
      "outputs": [
        {
          "output_type": "execute_result",
          "data": {
            "text/plain": [
              "(True, True)"
            ]
          },
          "metadata": {
            "tags": []
          },
          "execution_count": 50
        }
      ]
    },
    {
      "cell_type": "code",
      "metadata": {
        "colab": {
          "base_uri": "https://localhost:8080/"
        },
        "id": "1EmcWnd8oiso",
        "outputId": "16ca28d2-f06a-4ce9-d918-e8d50ab09728"
      },
      "source": [
        "y['a'] = 99\n",
        "print(x, y, sep=', ')"
      ],
      "execution_count": 43,
      "outputs": [
        {
          "output_type": "stream",
          "text": [
            "{'a': 99, 'b': 0, 'c': 0, 'd': 0}, {'a': 99, 'b': 0, 'c': 0, 'd': 0}\n"
          ],
          "name": "stdout"
        }
      ]
    },
    {
      "cell_type": "code",
      "metadata": {
        "colab": {
          "base_uri": "https://localhost:8080/"
        },
        "id": "IsAgsjTWotmo",
        "outputId": "a6e037db-72ff-4cae-8002-333f045e9629"
      },
      "source": [
        "x = {'a': 0 , 'b': 0, 'c': 0, 'd': 0}\n",
        "y = x.copy()\n",
        "x is y, x == y"
      ],
      "execution_count": 54,
      "outputs": [
        {
          "output_type": "execute_result",
          "data": {
            "text/plain": [
              "(False, True)"
            ]
          },
          "metadata": {
            "tags": []
          },
          "execution_count": 54
        }
      ]
    },
    {
      "cell_type": "code",
      "metadata": {
        "colab": {
          "base_uri": "https://localhost:8080/"
        },
        "id": "mMLVSKEco91A",
        "outputId": "c15307c6-801b-47c9-9bf8-b0181c0e0221"
      },
      "source": [
        "y['a'] = 99\n",
        "x, y"
      ],
      "execution_count": 56,
      "outputs": [
        {
          "output_type": "execute_result",
          "data": {
            "text/plain": [
              "({'a': 0, 'b': 0, 'c': 0, 'd': 0}, {'a': 99, 'b': 0, 'c': 0, 'd': 0})"
            ]
          },
          "metadata": {
            "tags": []
          },
          "execution_count": 56
        }
      ]
    },
    {
      "cell_type": "code",
      "metadata": {
        "colab": {
          "base_uri": "https://localhost:8080/"
        },
        "id": "rXOMeQx8pPIH",
        "outputId": "4b39e801-2723-4143-f487-a74ba2f3de7e"
      },
      "source": [
        "# 중첩 딕셔너리의 경우 .copy()만으로도 원본이 바뀐다\n",
        "x = {'a': {'python': 2.7}, 'b': {'python': '3.6'}}\n",
        "y = x.copy()\n",
        "y['a']['python'] = '2.7.15'\n",
        "x, y            # 뭐지 얘는 왜 두 줄에 나오지?"
      ],
      "execution_count": 60,
      "outputs": [
        {
          "output_type": "execute_result",
          "data": {
            "text/plain": [
              "({'a': {'python': '2.7.15'}, 'b': {'python': '3.6'}},\n",
              " {'a': {'python': '2.7.15'}, 'b': {'python': '3.6'}})"
            ]
          },
          "metadata": {
            "tags": []
          },
          "execution_count": 60
        }
      ]
    },
    {
      "cell_type": "code",
      "metadata": {
        "colab": {
          "base_uri": "https://localhost:8080/"
        },
        "id": "MD65w5VHppZH",
        "outputId": "fb076c43-d80e-40ff-f257-39ae0c48cb7c"
      },
      "source": [
        "print(x, y)     # 한줄인데..."
      ],
      "execution_count": 61,
      "outputs": [
        {
          "output_type": "stream",
          "text": [
            "{'a': {'python': '2.7.15'}, 'b': {'python': '3.6'}} {'a': {'python': '2.7.15'}, 'b': {'python': '3.6'}}\n"
          ],
          "name": "stdout"
        }
      ]
    },
    {
      "cell_type": "code",
      "metadata": {
        "colab": {
          "base_uri": "https://localhost:8080/"
        },
        "id": "ZcGc5aHVp1aP",
        "outputId": "98e086ca-fcbb-4ebf-9572-2937b56f2e8a"
      },
      "source": [
        "# copy method 대신 deepcopy 함수를 사용해야함\n",
        "x = {'a': {'python': '2.7'}, 'b': {'python': '3.6'}}\n",
        "import copy\n",
        "y = copy.deepcopy(x)\n",
        "y['a']['python'] = '2.7.15'\n",
        "x, y            # 오 y만 바뀌엇네"
      ],
      "execution_count": 64,
      "outputs": [
        {
          "output_type": "execute_result",
          "data": {
            "text/plain": [
              "({'a': {'python': '2.7'}, 'b': {'python': '3.6'}},\n",
              " {'a': {'python': '2.7.15'}, 'b': {'python': '3.6'}})"
            ]
          },
          "metadata": {
            "tags": []
          },
          "execution_count": 64
        }
      ]
    },
    {
      "cell_type": "code",
      "metadata": {
        "colab": {
          "base_uri": "https://localhost:8080/"
        },
        "id": "nSKfx0Gmrczv",
        "outputId": "8391cd6a-1cf6-429b-fe6c-1b1796a31f1b"
      },
      "source": [
        "from copy import deepcopy\n",
        "y = deepcopy(x)\n",
        "y                               # from import 와 그냥 import의 차이"
      ],
      "execution_count": 66,
      "outputs": [
        {
          "output_type": "execute_result",
          "data": {
            "text/plain": [
              "{'a': {'python': '2.7'}, 'b': {'python': '3.6'}}"
            ]
          },
          "metadata": {
            "tags": []
          },
          "execution_count": 66
        }
      ]
    },
    {
      "cell_type": "markdown",
      "metadata": {
        "id": "6dzyjC7iuNU4"
      },
      "source": [
        "## 25.7 연습문제: 평균 점수 구하기"
      ]
    },
    {
      "cell_type": "code",
      "metadata": {
        "colab": {
          "base_uri": "https://localhost:8080/"
        },
        "id": "9OUdJkhqrpn3",
        "outputId": "8e0a3204-eef7-4bb3-d9df-79c7409eb519"
      },
      "source": [
        "maria = {'korean': 94, 'english': 91, 'mathematics': 89, 'science': 83}\n",
        "average = sum(maria.values()) / len(maria)\n",
        "print(average)"
      ],
      "execution_count": 82,
      "outputs": [
        {
          "output_type": "stream",
          "text": [
            "89.25\n"
          ],
          "name": "stdout"
        }
      ]
    },
    {
      "cell_type": "markdown",
      "metadata": {
        "id": "iyPj7cnfv_bq"
      },
      "source": [
        "## 25.8 심사문제: 딕셔너리에서 특정 값 삭제하기"
      ]
    },
    {
      "cell_type": "code",
      "metadata": {
        "id": "WB9voQcbvq11"
      },
      "source": [
        "keys = input().split()\n",
        "values = map(int, input(), split())\n",
        "\n",
        "x = dict(zip(keys, values))\n",
        "\n",
        "del x['delta']\n",
        "x = {key: value for key, value in x.items() if value != 30}\n",
        "\n",
        "print(x)"
      ],
      "execution_count": null,
      "outputs": []
    }
  ]
}