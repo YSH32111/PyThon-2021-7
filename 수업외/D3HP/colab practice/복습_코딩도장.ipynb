{
  "nbformat": 4,
  "nbformat_minor": 0,
  "metadata": {
    "colab": {
      "name": "자습_코딩도장.ipynb",
      "provenance": [],
      "collapsed_sections": []
    },
    "kernelspec": {
      "name": "python3",
      "display_name": "Python 3"
    },
    "language_info": {
      "name": "python"
    }
  },
  "cells": [
    {
      "cell_type": "markdown",
      "metadata": {
        "id": "SoS9-7Qo_YVo"
      },
      "source": [
        "# 3장"
      ]
    },
    {
      "cell_type": "markdown",
      "metadata": {
        "id": "fdp-LNyY_cjJ"
      },
      "source": [
        "## 3.1"
      ]
    },
    {
      "cell_type": "markdown",
      "metadata": {
        "id": "HzbjiGvq_V5p"
      },
      "source": [
        "NameError: name ... is not defined: 함수 이름을 잘못 입력했을 때 발생하는 에러입니다. 파이썬은 대소문자를 구분하므로 대소문자를 정확히 입력해야 합니다. print처럼 전부 소문자로 입력했는지 확인해주세요.\n",
        "\n",
        "SyntaxError: invalid syntax: print( )안에 Hello, world!를 넣을 때 ' '(작은따옴표)로 묶지 않아서 발생하는 구문 에러(syntax error)입니다. 작은따옴표로 묶어주세요.\n",
        "\n",
        "SyntaxError: EOL while scanning string literal: 따옴표를 잘못 사용했을 때 발생하는 구문 에러입니다. 'Hello, world!'와 같이 앞 뒤로 작은따옴표 쌍이 맞는지 확인해주세요."
      ]
    },
    {
      "cell_type": "code",
      "metadata": {
        "colab": {
          "base_uri": "https://localhost:8080/",
          "height": 136
        },
        "id": "QaA2v9OG-YA_",
        "outputId": "300ecaab-614b-41fe-eb05-88d14d06f75b"
      },
      "source": [
        "print(Hello, world!)"
      ],
      "execution_count": null,
      "outputs": [
        {
          "output_type": "error",
          "ename": "SyntaxError",
          "evalue": "ignored",
          "traceback": [
            "\u001b[0;36m  File \u001b[0;32m\"<ipython-input-6-d14e6f3d0ea2>\"\u001b[0;36m, line \u001b[0;32m1\u001b[0m\n\u001b[0;31m    print(Hello, world!)\u001b[0m\n\u001b[0m                      ^\u001b[0m\n\u001b[0;31mSyntaxError\u001b[0m\u001b[0;31m:\u001b[0m invalid syntax\n"
          ]
        }
      ]
    },
    {
      "cell_type": "code",
      "metadata": {
        "colab": {
          "base_uri": "https://localhost:8080/"
        },
        "id": "Sd3oazP7_KkP",
        "outputId": "735beb9e-9f94-46f2-8a0b-3fd27d2b1dfe"
      },
      "source": [
        "print('Hello, world!')"
      ],
      "execution_count": null,
      "outputs": [
        {
          "output_type": "stream",
          "text": [
            "Hello, world!\n"
          ],
          "name": "stdout"
        }
      ]
    },
    {
      "cell_type": "markdown",
      "metadata": {
        "id": "OpBI7dOg_ix3"
      },
      "source": [
        "## 3.2 idle에서 소스 파일 실행하기"
      ]
    },
    {
      "cell_type": "markdown",
      "metadata": {
        "id": "mbF2w6RnAzZf"
      },
      "source": [
        "## 3.3 명령 프롬프트에서 Hello, world! 출력하기"
      ]
    },
    {
      "cell_type": "markdown",
      "metadata": {
        "id": "VAc-J3d-CGeL"
      },
      "source": [
        "## 3.4 소스 코드 살펴보기"
      ]
    },
    {
      "cell_type": "code",
      "metadata": {
        "colab": {
          "base_uri": "https://localhost:8080/"
        },
        "id": "1RkU9HQN_PdH",
        "outputId": "fac3998a-32ee-456e-ad30-3f2220059dc7"
      },
      "source": [
        "print('Hello, world!')        #'' 문자열, print는 값을 화면에 출력 / () 함수"
      ],
      "execution_count": null,
      "outputs": [
        {
          "output_type": "stream",
          "text": [
            "Hello, world!\n"
          ],
          "name": "stdout"
        }
      ]
    },
    {
      "cell_type": "markdown",
      "metadata": {
        "id": "NbYpjiCoCksE"
      },
      "source": [
        "## 3.7 연습문제: 문자열 출력하기"
      ]
    },
    {
      "cell_type": "code",
      "metadata": {
        "colab": {
          "base_uri": "https://localhost:8080/"
        },
        "id": "DPKNmkjtCPHX",
        "outputId": "8b06bfaf-da71-4d58-ddc5-d7c2804c4bdf"
      },
      "source": [
        "print('Hello, world!')\n",
        "print('Python Promgramming')"
      ],
      "execution_count": null,
      "outputs": [
        {
          "output_type": "stream",
          "text": [
            "Hello, world!\n",
            "Python Promgramming\n"
          ],
          "name": "stdout"
        }
      ]
    },
    {
      "cell_type": "markdown",
      "metadata": {
        "id": "rXhCUjUnDDuf"
      },
      "source": [
        "# 4장"
      ]
    },
    {
      "cell_type": "markdown",
      "metadata": {
        "id": "XE0GXrGtDF8M"
      },
      "source": [
        "## 4.1 세미콜론"
      ]
    },
    {
      "cell_type": "code",
      "metadata": {
        "colab": {
          "base_uri": "https://localhost:8080/"
        },
        "id": "fKD9NWZuCsog",
        "outputId": "c7ac1ccf-1538-4b12-96a9-e6bd11c05c32"
      },
      "source": [
        "# 여러 구문 사용할 때 세미콜론으로 구분\n",
        "print('Hello'); print('1234')"
      ],
      "execution_count": null,
      "outputs": [
        {
          "output_type": "stream",
          "text": [
            "Hello\n",
            "1234\n"
          ],
          "name": "stdout"
        }
      ]
    },
    {
      "cell_type": "code",
      "metadata": {
        "colab": {
          "base_uri": "https://localhost:8080/",
          "height": 136
        },
        "id": "IMK8HdfbDWxI",
        "outputId": "bfe25650-393b-42e8-ded6-6cbf6f9ca14d"
      },
      "source": [
        "print('Hello') print('1234')      #세미콜론이 없으니까 에러가 나네"
      ],
      "execution_count": null,
      "outputs": [
        {
          "output_type": "error",
          "ename": "SyntaxError",
          "evalue": "ignored",
          "traceback": [
            "\u001b[0;36m  File \u001b[0;32m\"<ipython-input-10-2967b0ea6678>\"\u001b[0;36m, line \u001b[0;32m1\u001b[0m\n\u001b[0;31m    print('Hello') print('1234')\u001b[0m\n\u001b[0m                       ^\u001b[0m\n\u001b[0;31mSyntaxError\u001b[0m\u001b[0;31m:\u001b[0m invalid syntax\n"
          ]
        }
      ]
    },
    {
      "cell_type": "markdown",
      "metadata": {
        "id": "nBxyEiUNDdVs"
      },
      "source": [
        "## 4.2 주석"
      ]
    },
    {
      "cell_type": "code",
      "metadata": {
        "id": "iiNOUpUSDZY4"
      },
      "source": [
        "# 보통 블록 주석을 작성할 때는 코드를 읽기 쉽도록 # 뒤에 공백을 한 칸 띄웁니다.\n",
        "# .py 스크립트 파일의 기본 인코딩이 UTF-8입니다. 스크립트 파일을 다른 인코딩(CP949, EUC-KR)으로 저장하면 실행을 했을 때 에러가 발생합니다.\n",
        "# 이때는 스크립트 파일을 UTF-8로 저장하면 됩니다. 대부분의 텍스트 편집기는 저장할 파일의 인코딩을 설정할 수 있습니다. \n",
        "# 메모장에서는 파일(F) > 다른 이름으로 저장(A)… > 인코딩(E)에서 UTF-8을 선택한 뒤 저장합니다."
      ],
      "execution_count": null,
      "outputs": []
    },
    {
      "cell_type": "code",
      "metadata": {
        "id": "8JuovyfmE2ys"
      },
      "source": [
        "# 주석은 소스 코드에 대한 설명을 작성하거나 코드를 임시로 사용하지 않도록 만들 때 사용합니다."
      ],
      "execution_count": null,
      "outputs": []
    },
    {
      "cell_type": "code",
      "metadata": {
        "colab": {
          "base_uri": "https://localhost:8080/"
        },
        "id": "2AdKCMa1E5mC",
        "outputId": "89e13821-8d78-4af4-b082-78e7467d895b"
      },
      "source": [
        "# Hello, world! 출력\n",
        "print('Hello, world!')\n",
        " \n",
        "# 코드를 사용하지 않음\n",
        "#print('Hello, world!')\n",
        " \n",
        "# 여러 줄로 된\n",
        "# 블록 주석\n",
        "# print('Hello, world!')"
      ],
      "execution_count": null,
      "outputs": [
        {
          "output_type": "stream",
          "text": [
            "Hello, world!\n"
          ],
          "name": "stdout"
        }
      ]
    },
    {
      "cell_type": "markdown",
      "metadata": {
        "id": "3HpnxMPyD5cQ"
      },
      "source": [
        "## 4.3 들여쓰기(Indentation)"
      ]
    },
    {
      "cell_type": "code",
      "metadata": {
        "colab": {
          "base_uri": "https://localhost:8080/"
        },
        "id": "EFaR0bGKDpaI",
        "outputId": "ac091be9-fe3d-4427-c6e1-23af5eb92126"
      },
      "source": [
        "if a == 10:\n",
        "    print('10입니다')     #엔터치면 기본 공백이 2칸이고 탭을 한번 더 눌러야 4칸이 되네. 기본은 4칸으로 규정한다고함\n",
        "a = 10\n",
        "# 작업할때 일괄적으로 맞추는게 에러가 안나고 좋음"
      ],
      "execution_count": null,
      "outputs": [
        {
          "output_type": "stream",
          "text": [
            "10입니다\n"
          ],
          "name": "stdout"
        }
      ]
    },
    {
      "cell_type": "markdown",
      "metadata": {
        "id": "glNsxe2rEeMZ"
      },
      "source": [
        "## 4.4 코드 블록"
      ]
    },
    {
      "cell_type": "code",
      "metadata": {
        "colab": {
          "base_uri": "https://localhost:8080/"
        },
        "id": "N4pALCZUEBMa",
        "outputId": "b3d87c25-928c-4d16-d595-9c89fd2cc8b4"
      },
      "source": [
        "if a == 10:\n",
        "      print('10')\n",
        "      print('입니다.')"
      ],
      "execution_count": null,
      "outputs": [
        {
          "output_type": "stream",
          "text": [
            "10\n",
            "입니다.\n"
          ],
          "name": "stdout"
        }
      ]
    },
    {
      "cell_type": "code",
      "metadata": {
        "colab": {
          "base_uri": "https://localhost:8080/",
          "height": 136
        },
        "id": "ckQXBAnfEkbX",
        "outputId": "968e0843-21e4-4c65-c022-00b1eb733627"
      },
      "source": [
        "if a == 10:\n",
        "    print('10')\n",
        "      print('입니다.')"
      ],
      "execution_count": null,
      "outputs": [
        {
          "output_type": "error",
          "ename": "IndentationError",
          "evalue": "ignored",
          "traceback": [
            "\u001b[0;36m  File \u001b[0;32m\"<ipython-input-24-d1e39a1cefea>\"\u001b[0;36m, line \u001b[0;32m3\u001b[0m\n\u001b[0;31m    print('입니다.')\u001b[0m\n\u001b[0m    ^\u001b[0m\n\u001b[0;31mIndentationError\u001b[0m\u001b[0;31m:\u001b[0m unexpected indent\n"
          ]
        }
      ]
    },
    {
      "cell_type": "code",
      "metadata": {
        "colab": {
          "base_uri": "https://localhost:8080/",
          "height": 136
        },
        "id": "DoPpgge9EmCw",
        "outputId": "e0a4cfdd-35fb-44fe-b5d0-bef0d5255ee6"
      },
      "source": [
        "if a == 10:\n",
        "      print('10')\n",
        "          print('입니다.')"
      ],
      "execution_count": null,
      "outputs": [
        {
          "output_type": "error",
          "ename": "IndentationError",
          "evalue": "ignored",
          "traceback": [
            "\u001b[0;36m  File \u001b[0;32m\"<ipython-input-25-7eac073a6d01>\"\u001b[0;36m, line \u001b[0;32m3\u001b[0m\n\u001b[0;31m    print('입니다.')\u001b[0m\n\u001b[0m    ^\u001b[0m\n\u001b[0;31mIndentationError\u001b[0m\u001b[0;31m:\u001b[0m unexpected indent\n"
          ]
        }
      ]
    },
    {
      "cell_type": "code",
      "metadata": {
        "id": "m24bnw85Eudz"
      },
      "source": [
        "# 파이썬 코드를 저장한 .py 파일을 파이썬 스크립트 또는 스크립트 파일이라고 부르며 \n",
        "# 콘솔(터미널, 명령 프롬프트)에서 python 스크립트파일.py 형식으로 실행할 수 있습니다\n",
        "# (리눅스와 macOS에서는 python3 스크립트파일.py 형식)"
      ],
      "execution_count": null,
      "outputs": []
    },
    {
      "cell_type": "markdown",
      "metadata": {
        "id": "4Dz_9-cnE_uZ"
      },
      "source": [
        "# 5장 숫자 계산하기"
      ]
    },
    {
      "cell_type": "markdown",
      "metadata": {
        "id": "8SZD-NNuFD_c"
      },
      "source": [
        "## 5.1 정수 계산하기"
      ]
    },
    {
      "cell_type": "code",
      "metadata": {
        "id": "lU-c4Tw5EpnQ"
      },
      "source": [
        "# 정수int, 실수float, 복소수complex"
      ],
      "execution_count": null,
      "outputs": []
    },
    {
      "cell_type": "code",
      "metadata": {
        "colab": {
          "base_uri": "https://localhost:8080/"
        },
        "id": "0V8z2bGTFJPg",
        "outputId": "8bc5f702-afd9-4a70-f561-c4e8664dbbd1"
      },
      "source": [
        "# 파이썬 2에서는 정수끼리 나눗셈 결과 정수가 나옴\n",
        "# 파이썬 3에서는 정수끼리 나눗셈 해도 실수가 나옴\n",
        "5 / 2 , 4 / 2"
      ],
      "execution_count": null,
      "outputs": [
        {
          "output_type": "execute_result",
          "data": {
            "text/plain": [
              "(2.5, 2.0)"
            ]
          },
          "metadata": {
            "tags": []
          },
          "execution_count": 33
        }
      ]
    },
    {
      "cell_type": "code",
      "metadata": {
        "id": "4uqOyb27Fay4"
      },
      "source": [
        "# // 버림. 결과는 항상 .0으로 끝남\n",
        "# ! 이런 차이점이 별 것 아닌 것처럼 느껴지지만 코드(알고리즘)를 작성할 때 정수냐 실수냐에 따라\n",
        "# 결과가 완전히 달라질 수도 있습니다.\n",
        "# 즉, 눈에 잘 띄지 않는 버그가 되므로 이 부분은 꼭 기억해두세요."
      ],
      "execution_count": null,
      "outputs": []
    },
    {
      "cell_type": "code",
      "metadata": {
        "colab": {
          "base_uri": "https://localhost:8080/"
        },
        "id": "Z481uGg_FsgB",
        "outputId": "1d6dbff6-9960-49a0-ec89-f788579c8cb2"
      },
      "source": [
        "5.5 // 2 , 4 // 2.0 , 4.1 // 2.1"
      ],
      "execution_count": null,
      "outputs": [
        {
          "output_type": "execute_result",
          "data": {
            "text/plain": [
              "(2.0, 2.0, 1.0)"
            ]
          },
          "metadata": {
            "tags": []
          },
          "execution_count": 35
        }
      ]
    },
    {
      "cell_type": "code",
      "metadata": {
        "colab": {
          "base_uri": "https://localhost:8080/"
        },
        "id": "2c1BhJK6FpwH",
        "outputId": "9966aa65-040d-4e19-e114-9327a2d776ca"
      },
      "source": [
        "# % 나머지      모듈로(mudulo) 연산자라고 부름\n",
        "5 % 2"
      ],
      "execution_count": null,
      "outputs": [
        {
          "output_type": "execute_result",
          "data": {
            "text/plain": [
              "1"
            ]
          },
          "metadata": {
            "tags": []
          },
          "execution_count": 34
        }
      ]
    },
    {
      "cell_type": "code",
      "metadata": {
        "colab": {
          "base_uri": "https://localhost:8080/"
        },
        "id": "5OOs3UMxFr8I",
        "outputId": "991c7527-2af5-4c96-cd4f-ccf7b81ecd32"
      },
      "source": [
        "# ** 거듭제곱\n",
        "2 ** 10"
      ],
      "execution_count": null,
      "outputs": [
        {
          "output_type": "execute_result",
          "data": {
            "text/plain": [
              "1024"
            ]
          },
          "metadata": {
            "tags": []
          },
          "execution_count": 38
        }
      ]
    },
    {
      "cell_type": "code",
      "metadata": {
        "colab": {
          "base_uri": "https://localhost:8080/"
        },
        "id": "VTwvQxCTF6oH",
        "outputId": "2c1f3725-9ca7-423a-c521-45d1ee83342b"
      },
      "source": [
        "# int () 정수로 나타내기. 소숫점 이하는 버림\n",
        "int(3.3), int(5 / 2), int('10')"
      ],
      "execution_count": null,
      "outputs": [
        {
          "output_type": "execute_result",
          "data": {
            "text/plain": [
              "(3, 2, 10)"
            ]
          },
          "metadata": {
            "tags": []
          },
          "execution_count": 39
        }
      ]
    },
    {
      "cell_type": "code",
      "metadata": {
        "colab": {
          "base_uri": "https://localhost:8080/"
        },
        "id": "vWpkGqfdGFEY",
        "outputId": "9ed11ada-7a0b-403f-fff1-c729402331b3"
      },
      "source": [
        "# 객체의 자료형 알아내기. type(값)\n",
        "type(10)"
      ],
      "execution_count": null,
      "outputs": [
        {
          "output_type": "execute_result",
          "data": {
            "text/plain": [
              "int"
            ]
          },
          "metadata": {
            "tags": []
          },
          "execution_count": 40
        }
      ]
    },
    {
      "cell_type": "code",
      "metadata": {
        "id": "6nQ6PdanGOQH"
      },
      "source": [
        "# type은 말그대로 객체의 타입(자료형)을 알아내는 함수입니다. type에 괄호를 붙이고 10을 넣어보면\n",
        "# <class 'int'>라고 나오는데 정수(int) 클래스라는 뜻입니다. \n",
        "# 파이썬에서는 숫자도 객체(object)이며, 객체는 클래스(class)로 표현합니다."
      ],
      "execution_count": null,
      "outputs": []
    },
    {
      "cell_type": "code",
      "metadata": {
        "colab": {
          "base_uri": "https://localhost:8080/"
        },
        "id": "8j6q15GuGThf",
        "outputId": "708ad461-e781-445a-c00f-d02237afb189"
      },
      "source": [
        "# 몫과 나머지를 함께 구하기\n",
        "# 몫과 나머지를 함께 구하려면 divmod를 사용하면 됩니다.\n",
        "divmod (5, 2)"
      ],
      "execution_count": null,
      "outputs": [
        {
          "output_type": "execute_result",
          "data": {
            "text/plain": [
              "(2, 1)"
            ]
          },
          "metadata": {
            "tags": []
          },
          "execution_count": 43
        }
      ]
    },
    {
      "cell_type": "code",
      "metadata": {
        "colab": {
          "base_uri": "https://localhost:8080/"
        },
        "id": "VJzHOy0EGYev",
        "outputId": "4027f68d-1c14-4e25-e8f1-584be641226e"
      },
      "source": [
        "# 튜플은 변수 여러 개에 저장할 수 있는데 \n",
        "# divmod의 결과가 튜플로 나오므로 몫과 나머지는 변수 두 개에 저장할 수 있습니다.\n",
        "quotient, remainder = divmod(5, 2)\n",
        "print(quotient, remainder)"
      ],
      "execution_count": null,
      "outputs": [
        {
          "output_type": "stream",
          "text": [
            "2 1\n"
          ],
          "name": "stdout"
        }
      ]
    },
    {
      "cell_type": "code",
      "metadata": {
        "id": "vh6eVcN6Gfm_"
      },
      "source": [
        "# 정수는 10진수 이외에도 2진수, 8진수, 16진수로도 표현 가능\n",
        "# 2진수: 숫자 앞에 0b를 붙이며 0과 1을 사용합니다.\n",
        "# 8진수: 숫자 앞에 0o(숫자 0과 소문자 o)를 붙이며 0부터 7까지 사용합니다.\n",
        "# 16진수: 숫자 앞에 0x 또는 0X를 붙이며 0부터 9, A부터 F까지 사용합니다(소문자 a부터 f도 가능)."
      ],
      "execution_count": null,
      "outputs": []
    },
    {
      "cell_type": "markdown",
      "metadata": {
        "id": "1B1uU5MZG2Ip"
      },
      "source": [
        "## 5.2 실수 계산하기"
      ]
    },
    {
      "cell_type": "code",
      "metadata": {
        "id": "JN1k5tspG0AH"
      },
      "source": [
        "# 실수 표현할때 오차생김\n",
        "# 실수를 부동소수점 방식으로 표현함    !!! 부동소수점 추가 공부"
      ],
      "execution_count": null,
      "outputs": []
    },
    {
      "cell_type": "code",
      "metadata": {
        "colab": {
          "base_uri": "https://localhost:8080/"
        },
        "id": "6SlhQXCYHZff",
        "outputId": "ca106adc-3f50-4c35-da77-df206004ae96"
      },
      "source": [
        "3.5 + 2.1"
      ],
      "execution_count": null,
      "outputs": [
        {
          "output_type": "execute_result",
          "data": {
            "text/plain": [
              "5.6"
            ]
          },
          "metadata": {
            "tags": []
          },
          "execution_count": 49
        }
      ]
    },
    {
      "cell_type": "code",
      "metadata": {
        "colab": {
          "base_uri": "https://localhost:8080/"
        },
        "id": "g8Tppm1FHYR3",
        "outputId": "8e8aeb76-d47a-4be1-a933-58bf044a3ee1"
      },
      "source": [
        "4.3 - 2.7"
      ],
      "execution_count": null,
      "outputs": [
        {
          "output_type": "execute_result",
          "data": {
            "text/plain": [
              "1.5999999999999996"
            ]
          },
          "metadata": {
            "tags": []
          },
          "execution_count": 48
        }
      ]
    },
    {
      "cell_type": "code",
      "metadata": {
        "colab": {
          "base_uri": "https://localhost:8080/"
        },
        "id": "jrzBvMJSHbg_",
        "outputId": "7d2e9a23-503e-480c-ca84-4e5485f09268"
      },
      "source": [
        "1.5 * 3.1"
      ],
      "execution_count": null,
      "outputs": [
        {
          "output_type": "execute_result",
          "data": {
            "text/plain": [
              "4.65"
            ]
          },
          "metadata": {
            "tags": []
          },
          "execution_count": 50
        }
      ]
    },
    {
      "cell_type": "code",
      "metadata": {
        "colab": {
          "base_uri": "https://localhost:8080/"
        },
        "id": "5qtE8XyDHeOP",
        "outputId": "7497be36-5fce-42c1-a610-e8d40f5e6880"
      },
      "source": [
        "5.5 / 3.1"
      ],
      "execution_count": null,
      "outputs": [
        {
          "output_type": "execute_result",
          "data": {
            "text/plain": [
              "1.7741935483870968"
            ]
          },
          "metadata": {
            "tags": []
          },
          "execution_count": 51
        }
      ]
    },
    {
      "cell_type": "code",
      "metadata": {
        "colab": {
          "base_uri": "https://localhost:8080/"
        },
        "id": "V6Wcp6kBHf5u",
        "outputId": "143efa99-c281-4eba-b35a-f093290bcec0"
      },
      "source": [
        "# 실수와 정수의 계산 -> 실수로 나옴\n",
        "4.2 + 5"
      ],
      "execution_count": null,
      "outputs": [
        {
          "output_type": "execute_result",
          "data": {
            "text/plain": [
              "9.2"
            ]
          },
          "metadata": {
            "tags": []
          },
          "execution_count": 54
        }
      ]
    },
    {
      "cell_type": "code",
      "metadata": {
        "id": "gS8roVeAHh3X"
      },
      "source": [
        "# 값을 강제로 실수로 만들기 float()활용\n",
        "# 부동소수점(floating point)에서 따왔으며 값을 실수로 만들어줍니다.\n",
        "# float(숫자), float(계산식), float(문자열)"
      ],
      "execution_count": null,
      "outputs": []
    },
    {
      "cell_type": "code",
      "metadata": {
        "colab": {
          "base_uri": "https://localhost:8080/"
        },
        "id": "jmvsw7NqHvY_",
        "outputId": "a15340d4-1a7c-4595-bf84-066621aeaaed"
      },
      "source": [
        "float(5), float(1+2), float('5.3')"
      ],
      "execution_count": null,
      "outputs": [
        {
          "output_type": "execute_result",
          "data": {
            "text/plain": [
              "(5.0, 3.0, 5.3)"
            ]
          },
          "metadata": {
            "tags": []
          },
          "execution_count": 57
        }
      ]
    },
    {
      "cell_type": "code",
      "metadata": {
        "colab": {
          "base_uri": "https://localhost:8080/"
        },
        "id": "SxIpplJ1H1nf",
        "outputId": "2f33b888-4944-49e0-dcdb-3848c7c88237"
      },
      "source": [
        "type(3.5)"
      ],
      "execution_count": null,
      "outputs": [
        {
          "output_type": "execute_result",
          "data": {
            "text/plain": [
              "float"
            ]
          },
          "metadata": {
            "tags": []
          },
          "execution_count": 59
        }
      ]
    },
    {
      "cell_type": "code",
      "metadata": {
        "id": "8eku4UFEIaTf"
      },
      "source": [
        "# 복소수 원한다면 추가공부\n",
        "# 파이썬에서는 실수부와 허수부로 이루어진 복소수(complex number)도 사용할 수 있습니다.\n",
        "# 이때 허수부는 숫자 뒤에 j를 붙입니다(수학에서는 허수를 i로 표현하지만 공학에서는 j를 사용합니다).\n",
        "#complex(1.2, 1.3)"
      ],
      "execution_count": null,
      "outputs": []
    },
    {
      "cell_type": "code",
      "metadata": {
        "id": "dhX7YEYNwOQZ"
      },
      "source": [
        "# ? 실수 계산에서 값이 소숫점 여러자리로 나올텐데 계산 어떤 방식으로? 소숫점 첫번째에서 올림 내림? 각 계산마다? 마지막계산에만?"
      ],
      "execution_count": null,
      "outputs": []
    },
    {
      "cell_type": "markdown",
      "metadata": {
        "id": "nCjLMQaMIoFU"
      },
      "source": [
        "## 5.3 괄호 사용하기"
      ]
    },
    {
      "cell_type": "code",
      "metadata": {
        "id": "PIuVt8FvIiZI"
      },
      "source": [
        ""
      ],
      "execution_count": null,
      "outputs": []
    },
    {
      "cell_type": "markdown",
      "metadata": {
        "id": "FN0Ak3wmJ_yR"
      },
      "source": [
        "## 5.5 연습문제"
      ]
    },
    {
      "cell_type": "code",
      "metadata": {
        "colab": {
          "base_uri": "https://localhost:8080/"
        },
        "id": "Wqs4n9spKBRX",
        "outputId": "56a9f44e-fd35-4475-ced7-5a7ac75536d1"
      },
      "source": [
        "print(int(0.2467 * 12 + 4.159))"
      ],
      "execution_count": null,
      "outputs": [
        {
          "output_type": "stream",
          "text": [
            "7\n"
          ],
          "name": "stdout"
        }
      ]
    },
    {
      "cell_type": "code",
      "metadata": {
        "colab": {
          "base_uri": "https://localhost:8080/",
          "height": 190
        },
        "id": "fEDFkhT_KJIn",
        "outputId": "6c64646c-b7f3-4d03-98a4-e6c7188a9bad"
      },
      "source": [
        "int(print(0.2467 * 12 + 4.159))         # 결과값을 출력하고 정수로 나타내라는 안되네??"
      ],
      "execution_count": null,
      "outputs": [
        {
          "output_type": "stream",
          "text": [
            "7.1194\n"
          ],
          "name": "stdout"
        },
        {
          "output_type": "error",
          "ename": "TypeError",
          "evalue": "ignored",
          "traceback": [
            "\u001b[0;31m---------------------------------------------------------------------------\u001b[0m",
            "\u001b[0;31mTypeError\u001b[0m                                 Traceback (most recent call last)",
            "\u001b[0;32m<ipython-input-63-8d481ee05355>\u001b[0m in \u001b[0;36m<module>\u001b[0;34m()\u001b[0m\n\u001b[0;32m----> 1\u001b[0;31m \u001b[0mint\u001b[0m\u001b[0;34m(\u001b[0m\u001b[0mprint\u001b[0m\u001b[0;34m(\u001b[0m\u001b[0;36m0.2467\u001b[0m \u001b[0;34m*\u001b[0m \u001b[0;36m12\u001b[0m \u001b[0;34m+\u001b[0m \u001b[0;36m4.159\u001b[0m\u001b[0;34m)\u001b[0m\u001b[0;34m)\u001b[0m\u001b[0;34m\u001b[0m\u001b[0;34m\u001b[0m\u001b[0m\n\u001b[0m",
            "\u001b[0;31mTypeError\u001b[0m: int() argument must be a string, a bytes-like object or a number, not 'NoneType'"
          ]
        }
      ]
    },
    {
      "cell_type": "markdown",
      "metadata": {
        "id": "mnhxmVoTKkjL"
      },
      "source": [
        "# 6장 변수와 입력 사용하기"
      ]
    },
    {
      "cell_type": "markdown",
      "metadata": {
        "id": "DD3wnBadKm_Y"
      },
      "source": [
        "## 6.1 변수 만들기"
      ]
    },
    {
      "cell_type": "code",
      "metadata": {
        "id": "uo5zr_yWKOTp"
      },
      "source": [
        "x = 10\n",
        "# x(변수이름) = 10(값)"
      ],
      "execution_count": null,
      "outputs": []
    },
    {
      "cell_type": "code",
      "metadata": {
        "id": "yAu7Oni8Ks_5"
      },
      "source": [
        "# 변수의 특징\n",
        "# 영문 문자와 숫자를 사용할 수 있습니다.\n",
        "# 대소문자를 구분합니다.\n",
        "# 문자부터 시작해야 하며 숫자부터 시작하면 안 됩니다.\n",
        "# _(밑줄 문자)로 시작할 수 있습니다.\n",
        "# 특수 문자(+, -, *, /, $, @, &, % 등)는 사용할 수 없습니다.\n",
        "# 파이썬의 키워드(if, for, while, and, or 등)는 사용할 수 없습니다."
      ],
      "execution_count": null,
      "outputs": []
    },
    {
      "cell_type": "code",
      "metadata": {
        "colab": {
          "base_uri": "https://localhost:8080/"
        },
        "id": "weQU9zTSKzJb",
        "outputId": "75fe0a38-2925-4254-a055-37c9d0b45ae6"
      },
      "source": [
        "x = 10\n",
        "x"
      ],
      "execution_count": null,
      "outputs": [
        {
          "output_type": "execute_result",
          "data": {
            "text/plain": [
              "10"
            ]
          },
          "metadata": {
            "tags": []
          },
          "execution_count": 66
        }
      ]
    },
    {
      "cell_type": "code",
      "metadata": {
        "colab": {
          "base_uri": "https://localhost:8080/",
          "height": 35
        },
        "id": "pFfmZqRzK3zn",
        "outputId": "14c9e36c-6efb-4bc8-a3e6-09c157bd6f00"
      },
      "source": [
        "y = 'Hello, world!'\n",
        "y"
      ],
      "execution_count": null,
      "outputs": [
        {
          "output_type": "execute_result",
          "data": {
            "application/vnd.google.colaboratory.intrinsic+json": {
              "type": "string"
            },
            "text/plain": [
              "'Hello, world!'"
            ]
          },
          "metadata": {
            "tags": []
          },
          "execution_count": 68
        }
      ]
    },
    {
      "cell_type": "code",
      "metadata": {
        "colab": {
          "base_uri": "https://localhost:8080/"
        },
        "id": "Lkaz64MzK7Df",
        "outputId": "ae8185a8-5b07-4c59-a5e7-839e1717c248"
      },
      "source": [
        "type(x), type(y)    # int는 정수( integer), str은 문자열(string)에서 따왔습니다"
      ],
      "execution_count": null,
      "outputs": [
        {
          "output_type": "execute_result",
          "data": {
            "text/plain": [
              "(int, str)"
            ]
          },
          "metadata": {
            "tags": []
          },
          "execution_count": 71
        }
      ]
    },
    {
      "cell_type": "code",
      "metadata": {
        "colab": {
          "base_uri": "https://localhost:8080/"
        },
        "id": "5oRSZtHkK_4n",
        "outputId": "76132610-676c-4961-d4ff-23c1c980e02e"
      },
      "source": [
        "x, y, z = 10, 20, 30\n",
        "x"
      ],
      "execution_count": null,
      "outputs": [
        {
          "output_type": "execute_result",
          "data": {
            "text/plain": [
              "10"
            ]
          },
          "metadata": {
            "tags": []
          },
          "execution_count": 72
        }
      ]
    },
    {
      "cell_type": "code",
      "metadata": {
        "colab": {
          "base_uri": "https://localhost:8080/"
        },
        "id": "EKauNsLVLIj_",
        "outputId": "a23146fe-3a3b-4e8e-8771-6054e6c8e77f"
      },
      "source": [
        "y"
      ],
      "execution_count": null,
      "outputs": [
        {
          "output_type": "execute_result",
          "data": {
            "text/plain": [
              "20"
            ]
          },
          "metadata": {
            "tags": []
          },
          "execution_count": 73
        }
      ]
    },
    {
      "cell_type": "code",
      "metadata": {
        "colab": {
          "base_uri": "https://localhost:8080/"
        },
        "id": "pfsJw0s8LI8G",
        "outputId": "23d07879-9763-40c8-fdb5-dd8c1251409d"
      },
      "source": [
        "z"
      ],
      "execution_count": null,
      "outputs": [
        {
          "output_type": "execute_result",
          "data": {
            "text/plain": [
              "30"
            ]
          },
          "metadata": {
            "tags": []
          },
          "execution_count": 74
        }
      ]
    },
    {
      "cell_type": "code",
      "metadata": {
        "colab": {
          "base_uri": "https://localhost:8080/",
          "height": 190
        },
        "id": "j1g_1f52LJU3",
        "outputId": "37f73893-55e2-4d03-997e-f949890838ab"
      },
      "source": [
        "# 만약 변수와 값의 개수가 맞지 않으면 이렇게 에러가 발생합니다.\n",
        "x, y, z = 10, 20"
      ],
      "execution_count": null,
      "outputs": [
        {
          "output_type": "error",
          "ename": "ValueError",
          "evalue": "ignored",
          "traceback": [
            "\u001b[0;31m---------------------------------------------------------------------------\u001b[0m",
            "\u001b[0;31mValueError\u001b[0m                                Traceback (most recent call last)",
            "\u001b[0;32m<ipython-input-75-6c34b2ed93f8>\u001b[0m in \u001b[0;36m<module>\u001b[0;34m()\u001b[0m\n\u001b[1;32m      1\u001b[0m \u001b[0;31m# 만약 변수와 값의 개수가 맞지 않으면 이렇게 에러가 발생합니다.\u001b[0m\u001b[0;34m\u001b[0m\u001b[0;34m\u001b[0m\u001b[0;34m\u001b[0m\u001b[0m\n\u001b[0;32m----> 2\u001b[0;31m \u001b[0mx\u001b[0m\u001b[0;34m,\u001b[0m \u001b[0my\u001b[0m\u001b[0;34m,\u001b[0m \u001b[0mz\u001b[0m \u001b[0;34m=\u001b[0m \u001b[0;36m10\u001b[0m\u001b[0;34m,\u001b[0m \u001b[0;36m20\u001b[0m\u001b[0;34m\u001b[0m\u001b[0;34m\u001b[0m\u001b[0m\n\u001b[0m",
            "\u001b[0;31mValueError\u001b[0m: not enough values to unpack (expected 3, got 2)"
          ]
        }
      ]
    },
    {
      "cell_type": "code",
      "metadata": {
        "colab": {
          "base_uri": "https://localhost:8080/"
        },
        "id": "MBbWN9WdLQRv",
        "outputId": "1634fb42-4fca-445d-dd34-5e4f30bb2a0a"
      },
      "source": [
        "# 변수 여러 개를 만들 때 값이 모두 같아도 된다면 다음과 같은 방식도 사용할 수 있습니다.\n",
        "x = y = z = 10\n",
        "x, y, z"
      ],
      "execution_count": null,
      "outputs": [
        {
          "output_type": "execute_result",
          "data": {
            "text/plain": [
              "(10, 10, 10)"
            ]
          },
          "metadata": {
            "tags": []
          },
          "execution_count": 77
        }
      ]
    },
    {
      "cell_type": "code",
      "metadata": {
        "colab": {
          "base_uri": "https://localhost:8080/"
        },
        "id": "BVu8FWjcLU1n",
        "outputId": "a67dcd1d-9f15-4b05-ac12-630a536ba97b"
      },
      "source": [
        "# 변수의 값 바꾸기\n",
        "x, y = 10, 20\n",
        "x, y = y, x\n",
        "x"
      ],
      "execution_count": null,
      "outputs": [
        {
          "output_type": "execute_result",
          "data": {
            "text/plain": [
              "20"
            ]
          },
          "metadata": {
            "tags": []
          },
          "execution_count": 78
        }
      ]
    },
    {
      "cell_type": "code",
      "metadata": {
        "colab": {
          "base_uri": "https://localhost:8080/"
        },
        "id": "BlQVNBpjLceX",
        "outputId": "9aa5a0f2-448c-4442-afd1-ae7d257be02e"
      },
      "source": [
        "y"
      ],
      "execution_count": null,
      "outputs": [
        {
          "output_type": "execute_result",
          "data": {
            "text/plain": [
              "10"
            ]
          },
          "metadata": {
            "tags": []
          },
          "execution_count": 79
        }
      ]
    },
    {
      "cell_type": "code",
      "metadata": {
        "colab": {
          "base_uri": "https://localhost:8080/",
          "height": 208
        },
        "id": "phSjhq7zLc0H",
        "outputId": "85456218-4ba3-4d6c-af78-75583f8150bf"
      },
      "source": [
        "# 변수 삭제하기\n",
        "x = 10\n",
        "del x\n",
        "x     # 지금은 변수 삭제가 큰 의미가 없지만 나중에 리스트를 사용할 때 del이 유용하게 쓰입니다."
      ],
      "execution_count": null,
      "outputs": [
        {
          "output_type": "error",
          "ename": "NameError",
          "evalue": "ignored",
          "traceback": [
            "\u001b[0;31m---------------------------------------------------------------------------\u001b[0m",
            "\u001b[0;31mNameError\u001b[0m                                 Traceback (most recent call last)",
            "\u001b[0;32m<ipython-input-80-de1a721b3d46>\u001b[0m in \u001b[0;36m<module>\u001b[0;34m()\u001b[0m\n\u001b[1;32m      2\u001b[0m \u001b[0mx\u001b[0m \u001b[0;34m=\u001b[0m \u001b[0;36m10\u001b[0m\u001b[0;34m\u001b[0m\u001b[0;34m\u001b[0m\u001b[0m\n\u001b[1;32m      3\u001b[0m \u001b[0;32mdel\u001b[0m \u001b[0mx\u001b[0m\u001b[0;34m\u001b[0m\u001b[0;34m\u001b[0m\u001b[0m\n\u001b[0;32m----> 4\u001b[0;31m \u001b[0mx\u001b[0m\u001b[0;34m\u001b[0m\u001b[0;34m\u001b[0m\u001b[0m\n\u001b[0m",
            "\u001b[0;31mNameError\u001b[0m: name 'x' is not defined"
          ]
        }
      ]
    },
    {
      "cell_type": "code",
      "metadata": {
        "colab": {
          "base_uri": "https://localhost:8080/"
        },
        "id": "TbMy6x23LgeQ",
        "outputId": "38a9e1e4-1014-4f90-b650-0178ce3299b3"
      },
      "source": [
        "# 빈 변수 만들기\n",
        "x = None\n",
        "print(x)\n",
        "\n",
        "# 파이썬에서 None은 아무것도 없는 상태를 나타내는 자료형입니다. 보통 다른 언어에서는 널(null)이라고 표현합니다."
      ],
      "execution_count": null,
      "outputs": [
        {
          "output_type": "stream",
          "text": [
            "None\n"
          ],
          "name": "stdout"
        }
      ]
    },
    {
      "cell_type": "code",
      "metadata": {
        "id": "mF5w-aK4LnmX"
      },
      "source": [
        "x   # 아무것도 출력되지 않음"
      ],
      "execution_count": null,
      "outputs": []
    },
    {
      "cell_type": "markdown",
      "metadata": {
        "id": "qVSElyDYLx_M"
      },
      "source": [
        "## 6.2 변수로 계산하기"
      ]
    },
    {
      "cell_type": "code",
      "metadata": {
        "colab": {
          "base_uri": "https://localhost:8080/"
        },
        "id": "hKd7I6deLpTn",
        "outputId": "0c9233ec-fe9f-47c5-9138-66b4eab1c688"
      },
      "source": [
        "a = 10\n",
        "b = 20\n",
        "c = a + b\n",
        "c"
      ],
      "execution_count": null,
      "outputs": [
        {
          "output_type": "execute_result",
          "data": {
            "text/plain": [
              "30"
            ]
          },
          "metadata": {
            "tags": []
          },
          "execution_count": 83
        }
      ]
    },
    {
      "cell_type": "code",
      "metadata": {
        "colab": {
          "base_uri": "https://localhost:8080/"
        },
        "id": "6VMDkspNL4oX",
        "outputId": "fac1985c-02ff-4039-965d-2ee5dc352455"
      },
      "source": [
        "# 산술 연산 후 할당 연산자 사용해야함\n",
        "a = 10\n",
        "a + 20"
      ],
      "execution_count": null,
      "outputs": [
        {
          "output_type": "execute_result",
          "data": {
            "text/plain": [
              "30"
            ]
          },
          "metadata": {
            "tags": []
          },
          "execution_count": 84
        }
      ]
    },
    {
      "cell_type": "code",
      "metadata": {
        "colab": {
          "base_uri": "https://localhost:8080/"
        },
        "id": "ooqBu-4wL8qn",
        "outputId": "19880340-e836-4f30-a5dc-ccff54aaeee2"
      },
      "source": [
        "a # a + 20은 a에 20을 더하기만 할 뿐 계산 결과를 유지하지 않습니다."
      ],
      "execution_count": null,
      "outputs": [
        {
          "output_type": "execute_result",
          "data": {
            "text/plain": [
              "10"
            ]
          },
          "metadata": {
            "tags": []
          },
          "execution_count": 85
        }
      ]
    },
    {
      "cell_type": "code",
      "metadata": {
        "colab": {
          "base_uri": "https://localhost:8080/"
        },
        "id": "yJpJmOgJL9Bv",
        "outputId": "43916b18-24df-4249-fb57-842a679091e0"
      },
      "source": [
        "a = 10\n",
        "a = a + 20\n",
        "a"
      ],
      "execution_count": null,
      "outputs": [
        {
          "output_type": "execute_result",
          "data": {
            "text/plain": [
              "30"
            ]
          },
          "metadata": {
            "tags": []
          },
          "execution_count": 86
        }
      ]
    },
    {
      "cell_type": "code",
      "metadata": {
        "colab": {
          "base_uri": "https://localhost:8080/"
        },
        "id": "rHeFAgKNMJNf",
        "outputId": "f150d201-8712-45af-9c22-1596845e5e53"
      },
      "source": [
        "a = 10\n",
        "a += 20 # a와 20을 더한 후 결과를 다시 a에 저장\n",
        "a   # a += 20은 a = a + 20을 축약한 형태"
      ],
      "execution_count": null,
      "outputs": [
        {
          "output_type": "execute_result",
          "data": {
            "text/plain": [
              "30"
            ]
          },
          "metadata": {
            "tags": []
          },
          "execution_count": 87
        }
      ]
    },
    {
      "cell_type": "code",
      "metadata": {
        "id": "PSGtger1MP5H"
      },
      "source": [
        "# 덧셈(+=)만 해보았는데 뺄셈(-=), 곱셈(*=), 나눗셈(/=, //=), 나머지(%=)도 같은 방식입니다. \n",
        "# 똑같이 연산(-, *, /, //) 후 할당(=) 한다는 뜻입니다."
      ],
      "execution_count": null,
      "outputs": []
    },
    {
      "cell_type": "code",
      "metadata": {
        "colab": {
          "base_uri": "https://localhost:8080/",
          "height": 226
        },
        "id": "8xLt8Z6uMZFv",
        "outputId": "e0671ad2-3a17-4c5f-d9e4-17304044ce62"
      },
      "source": [
        "d += 10    # d는 만들지 않은 변수\n",
        "# d += 10    # 계산 결과를 d에 할당하기 전에 d와 10을 더해야 하는데 d라는 변수가 없어서 덧셈이 안 되기 때문입니다.\n",
        "# 따라서 연산 후 할당을 하려면 값이 들어있는 변수를 사용해야 합니다."
      ],
      "execution_count": null,
      "outputs": [
        {
          "output_type": "error",
          "ename": "NameError",
          "evalue": "ignored",
          "traceback": [
            "\u001b[0;31m---------------------------------------------------------------------------\u001b[0m",
            "\u001b[0;31mNameError\u001b[0m                                 Traceback (most recent call last)",
            "\u001b[0;32m<ipython-input-91-e50937f6bede>\u001b[0m in \u001b[0;36m<module>\u001b[0;34m()\u001b[0m\n\u001b[0;32m----> 1\u001b[0;31m \u001b[0md\u001b[0m \u001b[0;34m+=\u001b[0m \u001b[0;36m10\u001b[0m    \u001b[0;31m# d는 만들지 않은 변수\u001b[0m\u001b[0;34m\u001b[0m\u001b[0;34m\u001b[0m\u001b[0m\n\u001b[0m\u001b[1;32m      2\u001b[0m \u001b[0;31m# d += 10    # 계산 결과를 d에 할당하기 전에 d와 10을 더해야 하는데 d라는 변수가 없어서 덧셈이 안 되기 때문입니다.\u001b[0m\u001b[0;34m\u001b[0m\u001b[0;34m\u001b[0m\u001b[0;34m\u001b[0m\u001b[0m\n\u001b[1;32m      3\u001b[0m \u001b[0;31m# 따라서 연산 후 할당을 하려면 값이 들어있는 변수를 사용해야 합니다.\u001b[0m\u001b[0;34m\u001b[0m\u001b[0;34m\u001b[0m\u001b[0;34m\u001b[0m\u001b[0m\n",
            "\u001b[0;31mNameError\u001b[0m: name 'd' is not defined"
          ]
        }
      ]
    },
    {
      "cell_type": "code",
      "metadata": {
        "colab": {
          "base_uri": "https://localhost:8080/"
        },
        "id": "27mvgeDzMetn",
        "outputId": "d80198e0-050c-4de2-b583-b84291842a4e"
      },
      "source": [
        "# 부호 붙이기\n",
        "x = -10\n",
        "+x"
      ],
      "execution_count": null,
      "outputs": [
        {
          "output_type": "execute_result",
          "data": {
            "text/plain": [
              "-10"
            ]
          },
          "metadata": {
            "tags": []
          },
          "execution_count": 92
        }
      ]
    },
    {
      "cell_type": "code",
      "metadata": {
        "colab": {
          "base_uri": "https://localhost:8080/"
        },
        "id": "u3OuMNEeMobX",
        "outputId": "7b74f7fb-4792-42aa-f776-1c824129a030"
      },
      "source": [
        "-x"
      ],
      "execution_count": null,
      "outputs": [
        {
          "output_type": "execute_result",
          "data": {
            "text/plain": [
              "10"
            ]
          },
          "metadata": {
            "tags": []
          },
          "execution_count": 93
        }
      ]
    },
    {
      "cell_type": "code",
      "metadata": {
        "id": "0TuEPj5ZMpWt"
      },
      "source": [
        "# 양수, 음수 부호 붙이기는 수학 시간에 배운 내용과 같습니다. \n",
        "# -10에 + 부호를 붙이면 부호의 변화가 없고, -10에 - 부호를 붙이면 양수 10이 됩니다."
      ],
      "execution_count": null,
      "outputs": []
    },
    {
      "cell_type": "code",
      "metadata": {
        "id": "5lRmbb2zMuzX"
      },
      "source": [
        ""
      ],
      "execution_count": null,
      "outputs": []
    },
    {
      "cell_type": "markdown",
      "metadata": {
        "id": "8mnq-kieMyMl"
      },
      "source": [
        "## 6.3 입력 값을 변수에 저장하기"
      ]
    },
    {
      "cell_type": "markdown",
      "metadata": {
        "id": "9a63p4zaM0t_"
      },
      "source": [
        "### input"
      ]
    },
    {
      "cell_type": "markdown",
      "metadata": {
        "id": "SM5rsH6XM3LT"
      },
      "source": [
        "### input 함수 사용"
      ]
    },
    {
      "cell_type": "code",
      "metadata": {
        "colab": {
          "base_uri": "https://localhost:8080/",
          "height": 53
        },
        "id": "4uUsHU-MMz41",
        "outputId": "c1c4f78c-cfc3-486b-984e-b669fd7fd658"
      },
      "source": [
        "input()       # Hello, world! 입력 -> 'Hello, world!' 출력"
      ],
      "execution_count": null,
      "outputs": [
        {
          "output_type": "stream",
          "text": [
            "Hello, world!\n"
          ],
          "name": "stdout"
        },
        {
          "output_type": "execute_result",
          "data": {
            "application/vnd.google.colaboratory.intrinsic+json": {
              "type": "string"
            },
            "text/plain": [
              "'Hello, world!'"
            ]
          },
          "metadata": {
            "tags": []
          },
          "execution_count": 102
        }
      ]
    },
    {
      "cell_type": "code",
      "metadata": {
        "id": "6eLASUvSM71_"
      },
      "source": [
        "# input 함수 결과 변수 할당"
      ],
      "execution_count": null,
      "outputs": []
    },
    {
      "cell_type": "code",
      "metadata": {
        "colab": {
          "base_uri": "https://localhost:8080/"
        },
        "id": "5VS0-XTaNZnT",
        "outputId": "ffca0368-cbc9-4bc5-9af4-d9c14739945f"
      },
      "source": [
        "x = input()"
      ],
      "execution_count": null,
      "outputs": [
        {
          "output_type": "stream",
          "text": [
            "Hello, wolrd!\n"
          ],
          "name": "stdout"
        }
      ]
    },
    {
      "cell_type": "code",
      "metadata": {
        "colab": {
          "base_uri": "https://localhost:8080/",
          "height": 35
        },
        "id": "05yDktKgN2hv",
        "outputId": "eb800d5c-9241-490e-b68e-0cc3c16ad18f"
      },
      "source": [
        "x"
      ],
      "execution_count": null,
      "outputs": [
        {
          "output_type": "execute_result",
          "data": {
            "application/vnd.google.colaboratory.intrinsic+json": {
              "type": "string"
            },
            "text/plain": [
              "'Hello, wolrd!'"
            ]
          },
          "metadata": {
            "tags": []
          },
          "execution_count": 107
        }
      ]
    },
    {
      "cell_type": "code",
      "metadata": {
        "id": "MDbErN-jN6Uv"
      },
      "source": [
        "# 여기서 한 가지 불편한 점은 input 함수가 실행된 다음에는 아무 내용이 없어서 입력을 받는 상태인지\n",
        "# 출력이 없는 상태인지 알 수가 없다는 점입니다.\n",
        "# 이때는 input의 괄호 안에 문자열을 지정해주면 됩니다."
      ],
      "execution_count": null,
      "outputs": []
    },
    {
      "cell_type": "code",
      "metadata": {
        "colab": {
          "base_uri": "https://localhost:8080/"
        },
        "id": "LWJBed65OC9A",
        "outputId": "1b94cd66-c70d-4601-8e46-4ed22b67fdfe"
      },
      "source": [
        "x = input('문자열을 입력하세요: ')\n",
        "\n",
        "# 즉, 이 문자열은 사용자에게 입력받는 값의 용도를 미리 알려줄 때 사용합니다.\n",
        "# 다른 말로는 프롬프트(prompt)라고도 부릅니다(파이썬 프롬프트 >>>와 같은 의미입니다)."
      ],
      "execution_count": null,
      "outputs": [
        {
          "output_type": "stream",
          "text": [
            "문자열을 입력하세요: Hello, world!\n"
          ],
          "name": "stdout"
        }
      ]
    },
    {
      "cell_type": "code",
      "metadata": {
        "colab": {
          "base_uri": "https://localhost:8080/",
          "height": 35
        },
        "id": "uzvv6d_HOHno",
        "outputId": "0cf5025e-9c47-43d0-f6ed-58c16fdcccf9"
      },
      "source": [
        "x"
      ],
      "execution_count": null,
      "outputs": [
        {
          "output_type": "execute_result",
          "data": {
            "application/vnd.google.colaboratory.intrinsic+json": {
              "type": "string"
            },
            "text/plain": [
              "'Hello, world!'"
            ]
          },
          "metadata": {
            "tags": []
          },
          "execution_count": 112
        }
      ]
    },
    {
      "cell_type": "code",
      "metadata": {
        "id": "Ci42tLwvOJ_X"
      },
      "source": [
        "# 두 숫자의 합 구하기"
      ],
      "execution_count": null,
      "outputs": []
    },
    {
      "cell_type": "code",
      "metadata": {
        "colab": {
          "base_uri": "https://localhost:8080/"
        },
        "id": "pmZ5oXfZOs03",
        "outputId": "fd9c365e-2323-4086-a734-0ca953b210cb"
      },
      "source": [
        "a = input('첫 번째 숫자를 입력하세요: ')\n",
        "b = input('두 번째 숫자를 입력하세요: ')\n",
        "\n",
        "print(a + b)\n",
        "# input에서 입력받은 값은 항상 문자열 형태이기 때문입니다.\n",
        "# 즉, 10과 20은 겉보기에는 숫자이지만 실제로는 문자열이므로 10과 20를 +로 연결하여 1020이 나오게 됩니다."
      ],
      "execution_count": null,
      "outputs": [
        {
          "output_type": "stream",
          "text": [
            "첫 번째 숫자를 입력하세요: 10\n",
            "두 번째 숫자를 입력하세요: 20\n",
            "1020\n"
          ],
          "name": "stdout"
        }
      ]
    },
    {
      "cell_type": "code",
      "metadata": {
        "colab": {
          "base_uri": "https://localhost:8080/"
        },
        "id": "33jB3kk2Oz8_",
        "outputId": "0a2fa243-3655-4787-85ce-dba3ab66fe30"
      },
      "source": [
        "a = input()"
      ],
      "execution_count": null,
      "outputs": [
        {
          "output_type": "stream",
          "text": [
            "10\n"
          ],
          "name": "stdout"
        }
      ]
    },
    {
      "cell_type": "code",
      "metadata": {
        "colab": {
          "base_uri": "https://localhost:8080/"
        },
        "id": "AGV6cFd3O9To",
        "outputId": "10981385-1702-42c3-f79a-931a4803f185"
      },
      "source": [
        "type(a)"
      ],
      "execution_count": null,
      "outputs": [
        {
          "output_type": "execute_result",
          "data": {
            "text/plain": [
              "str"
            ]
          },
          "metadata": {
            "tags": []
          },
          "execution_count": 116
        }
      ]
    },
    {
      "cell_type": "code",
      "metadata": {
        "colab": {
          "base_uri": "https://localhost:8080/"
        },
        "id": "thcqmNaCO-6f",
        "outputId": "e2979d6b-1192-47fc-8323-b8321aa29953"
      },
      "source": [
        "a = int(input('첫 번째 숫자를 입력하세요: '))   # int를 사용하여 입력 값을 정수로 변환\n",
        "b = int(input('두 번째 숫자를 입력하세요: '))    # int를 사용하여 입력 값을 정수로 변환\n",
        "\n",
        "print (a + b)"
      ],
      "execution_count": null,
      "outputs": [
        {
          "output_type": "stream",
          "text": [
            "첫 번째 숫자를 입력하세요: 10\n",
            "두 번째 숫자를 입력하세요: 20\n",
            "30\n"
          ],
          "name": "stdout"
        }
      ]
    },
    {
      "cell_type": "code",
      "metadata": {
        "colab": {
          "base_uri": "https://localhost:8080/"
        },
        "id": "OSbaMqwHxP2Z",
        "outputId": "5cb6eb59-54c9-478d-ce6f-72aac293df5d"
      },
      "source": [
        "# ? 뭐지 왜 따로 떨어서 적었는데 값이 다르게 나오지??\n",
        "a = input('첫 번째 숫자를 입력하세요: ') == x\n",
        "b = input('두 번째 숫자를 입력하세요: ') == y\n",
        "k = int(x)+int(y)\n",
        "print(k)"
      ],
      "execution_count": null,
      "outputs": [
        {
          "output_type": "stream",
          "text": [
            "첫 번째 숫자를 입력하세요: 10\n",
            "두 번째 숫자를 입력하세요: 20\n",
            "2040\n"
          ],
          "name": "stdout"
        }
      ]
    },
    {
      "cell_type": "code",
      "metadata": {
        "colab": {
          "base_uri": "https://localhost:8080/"
        },
        "id": "c8C6fGknyywR",
        "outputId": "bb8805a8-3fa4-4bc2-a077-ca92b04d1bb4"
      },
      "source": [
        "# print 시에 int 써줘도 되는군.\n",
        "a = input('첫 번째 숫자를 입력하세요: ')\n",
        "b = input('두 번째 숫자를 입력하세요: ')\n",
        "\n",
        "print(int(a) + int(b))"
      ],
      "execution_count": null,
      "outputs": [
        {
          "output_type": "stream",
          "text": [
            "첫 번째 숫자를 입력하세요: 10\n",
            "두 번째 숫자를 입력하세요: 20\n",
            "30\n"
          ],
          "name": "stdout"
        }
      ]
    },
    {
      "cell_type": "code",
      "metadata": {
        "colab": {
          "base_uri": "https://localhost:8080/"
        },
        "id": "xWyD9jtJPG4v",
        "outputId": "5f11f255-d5f7-4078-db67-062fe2e6ba21"
      },
      "source": [
        "a = float(input('첫 번째 숫자를 입력하세요: '))\n",
        "b = float(input('두 번째 숫자를 입력하세요: '))\n",
        "\n",
        "print(a + b)"
      ],
      "execution_count": null,
      "outputs": [
        {
          "output_type": "stream",
          "text": [
            "첫 번째 숫자를 입력하세요: 3.5\n",
            "두 번째 숫자를 입력하세요: 2.1\n",
            "5.6\n"
          ],
          "name": "stdout"
        }
      ]
    },
    {
      "cell_type": "code",
      "metadata": {
        "colab": {
          "base_uri": "https://localhost:8080/"
        },
        "id": "m5a1WzFwPTUg",
        "outputId": "37ff1b19-3cf8-45ec-de2f-57c1fb23bcfb"
      },
      "source": [
        "korean = int(input('점수를 입력하세요'))\n",
        "\n",
        "print(korean>=90)"
      ],
      "execution_count": null,
      "outputs": [
        {
          "output_type": "stream",
          "text": [
            "점수를 입력하세요91\n",
            "True\n"
          ],
          "name": "stdout"
        }
      ]
    },
    {
      "cell_type": "code",
      "metadata": {
        "colab": {
          "base_uri": "https://localhost:8080/"
        },
        "id": "IRkRi69jPqu-",
        "outputId": "3b0490a5-6bc2-4592-e2d3-6a90447f8f47"
      },
      "source": [
        "korean = int(input('점수를 입력하세요'))\n",
        "\n",
        "print(korean>=90)"
      ],
      "execution_count": null,
      "outputs": [
        {
          "output_type": "stream",
          "text": [
            "점수를 입력하세요89\n",
            "False\n"
          ],
          "name": "stdout"
        }
      ]
    },
    {
      "cell_type": "markdown",
      "metadata": {
        "id": "DJjLuPk8P3S9"
      },
      "source": [
        "## 6.4 입력 값을 변수 두 개에 저장하기 split"
      ]
    },
    {
      "cell_type": "markdown",
      "metadata": {
        "id": "HaO8OI57QGQO"
      },
      "source": [
        "- 변수1, 변수2 = input().split()\n",
        "- 변수1, 변수2 = input().split('기준문자열')\n",
        "- 변수1, 변수2 = input('문자열').split()\n",
        "- 변수1, 변수2 = input('문자열').split('기준문자열')"
      ]
    },
    {
      "cell_type": "code",
      "metadata": {
        "colab": {
          "base_uri": "https://localhost:8080/"
        },
        "id": "eu6047jRQLPa",
        "outputId": "94ea78c4-f83e-42c8-9b82-51aa3a36fb4d"
      },
      "source": [
        "a, b = input('문자열 두 개를 입력하세요: ').split()\n",
        "\n",
        "print(a)\n",
        "print(b)\n",
        "# 공백을 기준으로 분리. 변수에 차례대로 저장 \n",
        "# split은 분리하다, 나누다라는 뜻"
      ],
      "execution_count": null,
      "outputs": [
        {
          "output_type": "stream",
          "text": [
            "문자열 두 개를 입력하세요: Hello Python\n",
            "Hello\n",
            "Python\n"
          ],
          "name": "stdout"
        }
      ]
    },
    {
      "cell_type": "code",
      "metadata": {
        "colab": {
          "base_uri": "https://localhost:8080/",
          "height": 244
        },
        "id": "rZNvLYPJQSTo",
        "outputId": "bd36fdc9-fc84-4b25-8970-b5264c523555"
      },
      "source": [
        "a, b = input('문자열 두 개를 입력하세요: ')\n",
        "\n",
        "print(a)\n",
        "print(b)"
      ],
      "execution_count": null,
      "outputs": [
        {
          "output_type": "stream",
          "text": [
            "문자열 두 개를 입력하세요: Hello Python\n"
          ],
          "name": "stdout"
        },
        {
          "output_type": "error",
          "ename": "ValueError",
          "evalue": "ignored",
          "traceback": [
            "\u001b[0;31m---------------------------------------------------------------------------\u001b[0m",
            "\u001b[0;31mValueError\u001b[0m                                Traceback (most recent call last)",
            "\u001b[0;32m<ipython-input-123-0a3a662c5d7f>\u001b[0m in \u001b[0;36m<module>\u001b[0;34m()\u001b[0m\n\u001b[0;32m----> 1\u001b[0;31m \u001b[0ma\u001b[0m\u001b[0;34m,\u001b[0m \u001b[0mb\u001b[0m \u001b[0;34m=\u001b[0m \u001b[0minput\u001b[0m\u001b[0;34m(\u001b[0m\u001b[0;34m'문자열 두 개를 입력하세요: '\u001b[0m\u001b[0;34m)\u001b[0m\u001b[0;34m\u001b[0m\u001b[0;34m\u001b[0m\u001b[0m\n\u001b[0m\u001b[1;32m      2\u001b[0m \u001b[0;34m\u001b[0m\u001b[0m\n\u001b[1;32m      3\u001b[0m \u001b[0mprint\u001b[0m\u001b[0;34m(\u001b[0m\u001b[0ma\u001b[0m\u001b[0;34m)\u001b[0m\u001b[0;34m\u001b[0m\u001b[0;34m\u001b[0m\u001b[0m\n\u001b[1;32m      4\u001b[0m \u001b[0mprint\u001b[0m\u001b[0;34m(\u001b[0m\u001b[0mb\u001b[0m\u001b[0;34m)\u001b[0m\u001b[0;34m\u001b[0m\u001b[0;34m\u001b[0m\u001b[0m\n",
            "\u001b[0;31mValueError\u001b[0m: too many values to unpack (expected 2)"
          ]
        }
      ]
    },
    {
      "cell_type": "code",
      "metadata": {
        "colab": {
          "base_uri": "https://localhost:8080/",
          "height": 244
        },
        "id": "P01UOw82QhO_",
        "outputId": "e03fabda-15f3-4404-f75d-3b8ba305935f"
      },
      "source": [
        "a, b = input('문자열 두 개를 입력하세요: ')\n",
        "\n",
        "print(a)\n",
        "print(b)"
      ],
      "execution_count": null,
      "outputs": [
        {
          "output_type": "stream",
          "text": [
            "문자열 두 개를 입력하세요: HelloPython\n"
          ],
          "name": "stdout"
        },
        {
          "output_type": "error",
          "ename": "ValueError",
          "evalue": "ignored",
          "traceback": [
            "\u001b[0;31m---------------------------------------------------------------------------\u001b[0m",
            "\u001b[0;31mValueError\u001b[0m                                Traceback (most recent call last)",
            "\u001b[0;32m<ipython-input-124-0a3a662c5d7f>\u001b[0m in \u001b[0;36m<module>\u001b[0;34m()\u001b[0m\n\u001b[0;32m----> 1\u001b[0;31m \u001b[0ma\u001b[0m\u001b[0;34m,\u001b[0m \u001b[0mb\u001b[0m \u001b[0;34m=\u001b[0m \u001b[0minput\u001b[0m\u001b[0;34m(\u001b[0m\u001b[0;34m'문자열 두 개를 입력하세요: '\u001b[0m\u001b[0;34m)\u001b[0m\u001b[0;34m\u001b[0m\u001b[0;34m\u001b[0m\u001b[0m\n\u001b[0m\u001b[1;32m      2\u001b[0m \u001b[0;34m\u001b[0m\u001b[0m\n\u001b[1;32m      3\u001b[0m \u001b[0mprint\u001b[0m\u001b[0;34m(\u001b[0m\u001b[0ma\u001b[0m\u001b[0;34m)\u001b[0m\u001b[0;34m\u001b[0m\u001b[0;34m\u001b[0m\u001b[0m\n\u001b[1;32m      4\u001b[0m \u001b[0mprint\u001b[0m\u001b[0;34m(\u001b[0m\u001b[0mb\u001b[0m\u001b[0;34m)\u001b[0m\u001b[0;34m\u001b[0m\u001b[0;34m\u001b[0m\u001b[0m\n",
            "\u001b[0;31mValueError\u001b[0m: too many values to unpack (expected 2)"
          ]
        }
      ]
    },
    {
      "cell_type": "markdown",
      "metadata": {
        "id": "HyQrrYg_SMMa"
      },
      "source": [
        "### input int"
      ]
    },
    {
      "cell_type": "code",
      "metadata": {
        "id": "Vh91kZIYQluv"
      },
      "source": [
        "# 두 숫자의 합 구하기"
      ],
      "execution_count": null,
      "outputs": []
    },
    {
      "cell_type": "code",
      "metadata": {
        "colab": {
          "base_uri": "https://localhost:8080/"
        },
        "id": "jen77Um9QtAA",
        "outputId": "8e8bb310-1468-401f-9084-c890f52d6b02"
      },
      "source": [
        "a, b = input('숫자 두 개를 입력하세요: ').split()\n",
        "\n",
        "print(a + b)\n",
        "# 이 문자열은 split으로 분리해도 문자열이기 때문"
      ],
      "execution_count": null,
      "outputs": [
        {
          "output_type": "stream",
          "text": [
            "숫자 두 개를 입력하세요: 10 20\n",
            "1020\n"
          ],
          "name": "stdout"
        }
      ]
    },
    {
      "cell_type": "code",
      "metadata": {
        "colab": {
          "base_uri": "https://localhost:8080/",
          "height": 226
        },
        "id": "9V327KUsQyRw",
        "outputId": "da709ebf-d87a-4ca9-e88d-ba2b4ac87c1b"
      },
      "source": [
        "a, b = int(input('숫자 두 개를 입력하세요: ').split())\n",
        "\n",
        "print(a + b)"
      ],
      "execution_count": null,
      "outputs": [
        {
          "output_type": "stream",
          "text": [
            "숫자 두 개를 입력하세요: 10 20\n"
          ],
          "name": "stdout"
        },
        {
          "output_type": "error",
          "ename": "TypeError",
          "evalue": "ignored",
          "traceback": [
            "\u001b[0;31m---------------------------------------------------------------------------\u001b[0m",
            "\u001b[0;31mTypeError\u001b[0m                                 Traceback (most recent call last)",
            "\u001b[0;32m<ipython-input-129-6ff3d12ebd63>\u001b[0m in \u001b[0;36m<module>\u001b[0;34m()\u001b[0m\n\u001b[0;32m----> 1\u001b[0;31m \u001b[0ma\u001b[0m\u001b[0;34m,\u001b[0m \u001b[0mb\u001b[0m \u001b[0;34m=\u001b[0m \u001b[0mint\u001b[0m\u001b[0;34m(\u001b[0m\u001b[0minput\u001b[0m\u001b[0;34m(\u001b[0m\u001b[0;34m'숫자 두 개를 입력하세요: '\u001b[0m\u001b[0;34m)\u001b[0m\u001b[0;34m.\u001b[0m\u001b[0msplit\u001b[0m\u001b[0;34m(\u001b[0m\u001b[0;34m)\u001b[0m\u001b[0;34m)\u001b[0m\u001b[0;34m\u001b[0m\u001b[0;34m\u001b[0m\u001b[0m\n\u001b[0m\u001b[1;32m      2\u001b[0m \u001b[0;34m\u001b[0m\u001b[0m\n\u001b[1;32m      3\u001b[0m \u001b[0mprint\u001b[0m\u001b[0;34m(\u001b[0m\u001b[0ma\u001b[0m \u001b[0;34m+\u001b[0m \u001b[0mb\u001b[0m\u001b[0;34m)\u001b[0m\u001b[0;34m\u001b[0m\u001b[0;34m\u001b[0m\u001b[0m\n",
            "\u001b[0;31mTypeError\u001b[0m: int() argument must be a string, a bytes-like object or a number, not 'list'"
          ]
        }
      ]
    },
    {
      "cell_type": "code",
      "metadata": {
        "colab": {
          "base_uri": "https://localhost:8080/"
        },
        "id": "0bdEQ962RBo_",
        "outputId": "32120900-f6c2-4f20-c490-d5755b834243"
      },
      "source": [
        "a = int(input('숫자를 입력하세요: '))\n",
        "print(a)"
      ],
      "execution_count": null,
      "outputs": [
        {
          "output_type": "stream",
          "text": [
            "숫자를 입력하세요: 10\n",
            "10\n"
          ],
          "name": "stdout"
        }
      ]
    },
    {
      "cell_type": "code",
      "metadata": {
        "colab": {
          "base_uri": "https://localhost:8080/"
        },
        "id": "9CudgtsD4P0J",
        "outputId": "5e0a7832-6c2d-43b1-d68d-dbdee490bc06"
      },
      "source": [
        "type(a)"
      ],
      "execution_count": null,
      "outputs": [
        {
          "output_type": "execute_result",
          "data": {
            "text/plain": [
              "int"
            ]
          },
          "metadata": {
            "tags": []
          },
          "execution_count": 22
        }
      ]
    },
    {
      "cell_type": "code",
      "metadata": {
        "colab": {
          "base_uri": "https://localhost:8080/",
          "height": 208
        },
        "id": "sgqPmjfDRZlo",
        "outputId": "7deabc58-62c8-43a8-e013-0c5092069de1"
      },
      "source": [
        "a, b = int, input('숫자 두 개를 입력하세요: ')\n",
        "print(a + b)"
      ],
      "execution_count": null,
      "outputs": [
        {
          "output_type": "stream",
          "text": [
            "숫자 두 개를 입력하세요: 10 20\n"
          ],
          "name": "stdout"
        },
        {
          "output_type": "error",
          "ename": "TypeError",
          "evalue": "ignored",
          "traceback": [
            "\u001b[0;31m---------------------------------------------------------------------------\u001b[0m",
            "\u001b[0;31mTypeError\u001b[0m                                 Traceback (most recent call last)",
            "\u001b[0;32m<ipython-input-121-ab037fc9dc58>\u001b[0m in \u001b[0;36m<module>\u001b[0;34m()\u001b[0m\n\u001b[1;32m      1\u001b[0m \u001b[0ma\u001b[0m\u001b[0;34m,\u001b[0m \u001b[0mb\u001b[0m \u001b[0;34m=\u001b[0m \u001b[0mint\u001b[0m\u001b[0;34m,\u001b[0m \u001b[0minput\u001b[0m\u001b[0;34m(\u001b[0m\u001b[0;34m'숫자 두 개를 입력하세요: '\u001b[0m\u001b[0;34m)\u001b[0m\u001b[0;34m\u001b[0m\u001b[0;34m\u001b[0m\u001b[0m\n\u001b[0;32m----> 2\u001b[0;31m \u001b[0mprint\u001b[0m\u001b[0;34m(\u001b[0m\u001b[0ma\u001b[0m \u001b[0;34m+\u001b[0m \u001b[0mb\u001b[0m\u001b[0;34m)\u001b[0m\u001b[0;34m\u001b[0m\u001b[0;34m\u001b[0m\u001b[0m\n\u001b[0m",
            "\u001b[0;31mTypeError\u001b[0m: unsupported operand type(s) for +: 'type' and 'str'"
          ]
        }
      ]
    },
    {
      "cell_type": "code",
      "metadata": {
        "colab": {
          "base_uri": "https://localhost:8080/"
        },
        "id": "Tx5Se8fYRf0-",
        "outputId": "b8513551-6f49-4d76-8388-c9daa493f1f2"
      },
      "source": [
        "a, b = input('숫자 두 개를 입력하세요: ').split()\n",
        "a = int(a)\n",
        "b = int(b)\n",
        "\n",
        "print(a + b)"
      ],
      "execution_count": null,
      "outputs": [
        {
          "output_type": "stream",
          "text": [
            "숫자 두 개를 입력하세요: 10 20\n",
            "30\n"
          ],
          "name": "stdout"
        }
      ]
    },
    {
      "cell_type": "code",
      "metadata": {
        "id": "r4i9bLWnRuPo"
      },
      "source": [
        "# a = int(a)와 같이 int에 변수를 넣은 뒤 다시 변수에 저장해주면 변수가 정수 자료형으로 변환됩니다.\n",
        "# 이때 int(a)처럼 int만 사용하고 결과를 변수에 저장하지 않으면 정수로 변환되지 않습니다.\n",
        "# 이 부분 꼭 기억해두세요."
      ],
      "execution_count": null,
      "outputs": []
    },
    {
      "cell_type": "code",
      "metadata": {
        "colab": {
          "base_uri": "https://localhost:8080/"
        },
        "id": "YMfHnHnuR1tP",
        "outputId": "577d0bff-64cd-48eb-da64-2460b34ead8f"
      },
      "source": [
        "# 물론 print 안에서 int로 변수를 변환하고 바로 더해도 상관없습니다.\n",
        "print(int(a) + int(b))"
      ],
      "execution_count": null,
      "outputs": [
        {
          "output_type": "stream",
          "text": [
            "30\n"
          ],
          "name": "stdout"
        }
      ]
    },
    {
      "cell_type": "markdown",
      "metadata": {
        "id": "VnPXiA3vSFj6"
      },
      "source": [
        "### map 사용\n",
        "\n",
        "- 변수1, 변수2 = map(int, input().split())\n",
        "- 변수1, 변수2 = map(int, input().split('기준문자열'))\n",
        "- 변수1, 변수2 = map(int, input('문자열').split())\n",
        "- 변수1, 변수2 = map(int, input('문자열').split('기준문자열'))"
      ]
    },
    {
      "cell_type": "code",
      "metadata": {
        "id": "EYVAeTJ7R-nP"
      },
      "source": [
        "# split의 결과를 매번 int로 변환해주려니 귀찮습니다. 이때는 map을 함께 사용하면 됩니다.\n",
        "# map에 int와 input().split()을 넣으면 split의 결과를 모두 int로 변환해줍니다\n",
        "# (실수로 변환할 때는 int 대신 float를 넣습니다.)."
      ],
      "execution_count": null,
      "outputs": []
    },
    {
      "cell_type": "code",
      "metadata": {
        "colab": {
          "base_uri": "https://localhost:8080/"
        },
        "id": "71I3VTLGzerX",
        "outputId": "067dc7fa-bb8e-4a69-8998-b51e7f800297"
      },
      "source": [
        "a, b = map(int, input('숫자 두 개를 입력하세요: ').split())\n",
        " \n",
        "print(a + b)"
      ],
      "execution_count": null,
      "outputs": [
        {
          "output_type": "stream",
          "text": [
            "숫자 두 개를 입력하세요: 10 20\n",
            "30\n"
          ],
          "name": "stdout"
        }
      ]
    },
    {
      "cell_type": "code",
      "metadata": {
        "colab": {
          "base_uri": "https://localhost:8080/"
        },
        "id": "pWDPzJZEze7v",
        "outputId": "f8224a83-918d-4f05-b01e-14f27c8dba9b"
      },
      "source": [
        "a, b = map(int, input('숫자 두 개를 입력하세요: ').split(',')) # 입력받은 값을 콤마를 기준으로 분리\n",
        " \n",
        "print(a + b)"
      ],
      "execution_count": null,
      "outputs": [
        {
          "output_type": "stream",
          "text": [
            "숫자 두 개를 입력하세요: 10,20\n",
            "30\n"
          ],
          "name": "stdout"
        }
      ]
    },
    {
      "cell_type": "code",
      "metadata": {
        "colab": {
          "base_uri": "https://localhost:8080/",
          "height": 226
        },
        "id": "6DmHfbH70Mwu",
        "outputId": "b63ce332-5967-424d-c1cc-7e26229fbf33"
      },
      "source": [
        "a, b = map(int, input('숫자 두 개를 입력하세요: ').split(',')) # 입력받은 값을 콤마를 기준으로 분리\n",
        " \n",
        "print(a + b)"
      ],
      "execution_count": null,
      "outputs": [
        {
          "output_type": "stream",
          "text": [
            "숫자 두 개를 입력하세요: 10 20\n"
          ],
          "name": "stdout"
        },
        {
          "output_type": "error",
          "ename": "ValueError",
          "evalue": "ignored",
          "traceback": [
            "\u001b[0;31m---------------------------------------------------------------------------\u001b[0m",
            "\u001b[0;31mValueError\u001b[0m                                Traceback (most recent call last)",
            "\u001b[0;32m<ipython-input-18-03b074a2e1d4>\u001b[0m in \u001b[0;36m<module>\u001b[0;34m()\u001b[0m\n\u001b[0;32m----> 1\u001b[0;31m \u001b[0ma\u001b[0m\u001b[0;34m,\u001b[0m \u001b[0mb\u001b[0m \u001b[0;34m=\u001b[0m \u001b[0mmap\u001b[0m\u001b[0;34m(\u001b[0m\u001b[0mint\u001b[0m\u001b[0;34m,\u001b[0m \u001b[0minput\u001b[0m\u001b[0;34m(\u001b[0m\u001b[0;34m'숫자 두 개를 입력하세요: '\u001b[0m\u001b[0;34m)\u001b[0m\u001b[0;34m.\u001b[0m\u001b[0msplit\u001b[0m\u001b[0;34m(\u001b[0m\u001b[0;34m','\u001b[0m\u001b[0;34m)\u001b[0m\u001b[0;34m)\u001b[0m \u001b[0;31m# 입력받은 값을 콤마를 기준으로 분리\u001b[0m\u001b[0;34m\u001b[0m\u001b[0;34m\u001b[0m\u001b[0m\n\u001b[0m\u001b[1;32m      2\u001b[0m \u001b[0;34m\u001b[0m\u001b[0m\n\u001b[1;32m      3\u001b[0m \u001b[0mprint\u001b[0m\u001b[0;34m(\u001b[0m\u001b[0ma\u001b[0m \u001b[0;34m+\u001b[0m \u001b[0mb\u001b[0m\u001b[0;34m)\u001b[0m\u001b[0;34m\u001b[0m\u001b[0;34m\u001b[0m\u001b[0m\n",
            "\u001b[0;31mValueError\u001b[0m: invalid literal for int() with base 10: '10 20'"
          ]
        }
      ]
    },
    {
      "cell_type": "code",
      "metadata": {
        "id": "C5MoKx3Z0Pbu"
      },
      "source": [
        "# 지금까지 변수를 만들고 input 함수를 사용해보았습니다.\n",
        "# 변수는 값이나 계산 결과를 저장할 때 사용한다는 점, 변수를 만드는 방법, 변수 이름을 짓는 방법만 기억하면 됩니다.\n",
        "# 특히 input과 split의 결과가 문자열라는 점이 중요합니다.\n",
        "# 따라서 숫자 계산을 한다면 int, float를 사용해서 결과를 숫자로 변환해주어야 한다는 점 기억하세요.\n",
        "# 그리고 split의 결과를 모두 int, float로 변환할 때는 map을 사용하면 편리합니다."
      ],
      "execution_count": null,
      "outputs": []
    },
    {
      "cell_type": "markdown",
      "metadata": {
        "id": "K1b75Lxq2G3X"
      },
      "source": [
        "## 6.6 연습문제: 정수 세 개를 입력하고 합계 출력하기"
      ]
    },
    {
      "cell_type": "code",
      "metadata": {
        "colab": {
          "base_uri": "https://localhost:8080/"
        },
        "id": "rg7PqFzO2Jmp",
        "outputId": "f6ec0526-212c-4d37-8624-bd050af676ab"
      },
      "source": [
        "a, b, c = map(int, input('정수 세 개를 입력하세요').split())\n",
        "\n",
        "print(a + b + c)"
      ],
      "execution_count": null,
      "outputs": [
        {
          "output_type": "stream",
          "text": [
            "정수 세 개를 입력하세요-10 20 30\n",
            "40\n"
          ],
          "name": "stdout"
        }
      ]
    },
    {
      "cell_type": "markdown",
      "metadata": {
        "id": "g_MRSDL67SKd"
      },
      "source": [
        "## 6.8 심사문제: 평균 점수 구하기"
      ]
    },
    {
      "cell_type": "code",
      "metadata": {
        "colab": {
          "base_uri": "https://localhost:8080/"
        },
        "id": "GCokUosm5ygP",
        "outputId": "7906040c-de1c-49d1-c8af-157f3559f40d"
      },
      "source": [
        "국어, 영어, 수학, 과학 = map(int, input().split())\n",
        "\n",
        "print(int((국어 + 영어 + 수학 + 과학) / 4 ))"
      ],
      "execution_count": null,
      "outputs": [
        {
          "output_type": "stream",
          "text": [
            "83 92 87 90\n",
            "88\n"
          ],
          "name": "stdout"
        }
      ]
    },
    {
      "cell_type": "code",
      "metadata": {
        "colab": {
          "base_uri": "https://localhost:8080/"
        },
        "id": "MOaNlaMk68Ze",
        "outputId": "fa66635e-c82f-4fb8-edb2-f356a6834d62"
      },
      "source": [
        "국어, 영어, 수학, 과학 = map(int, input().split())\n",
        "\n",
        "print(int((국어 + 영어 + 수학 + 과학) / 4 ))"
      ],
      "execution_count": null,
      "outputs": [
        {
          "output_type": "stream",
          "text": [
            "32 53 22 95\n",
            "50\n"
          ],
          "name": "stdout"
        }
      ]
    },
    {
      "cell_type": "markdown",
      "metadata": {
        "id": "hyUDw6k37WUy"
      },
      "source": [
        "# 7. 출력방법 알아보기"
      ]
    },
    {
      "cell_type": "markdown",
      "metadata": {
        "id": "JjsC9Ak-7YJN"
      },
      "source": [
        "## 7.1 값을 여러 개 출력하기"
      ]
    },
    {
      "cell_type": "code",
      "metadata": {
        "colab": {
          "base_uri": "https://localhost:8080/",
          "height": 190
        },
        "id": "VxU_aZY_7QeG",
        "outputId": "ec2780ed-c65a-42f8-fff3-dbd6004a279d"
      },
      "source": [
        "print(값1, 값2, 값3)\n",
        "print(변수1, 변수2, 변수3)"
      ],
      "execution_count": null,
      "outputs": [
        {
          "output_type": "error",
          "ename": "NameError",
          "evalue": "ignored",
          "traceback": [
            "\u001b[0;31m---------------------------------------------------------------------------\u001b[0m",
            "\u001b[0;31mNameError\u001b[0m                                 Traceback (most recent call last)",
            "\u001b[0;32m<ipython-input-37-16f4c5917124>\u001b[0m in \u001b[0;36m<module>\u001b[0;34m()\u001b[0m\n\u001b[0;32m----> 1\u001b[0;31m \u001b[0mprint\u001b[0m\u001b[0;34m(\u001b[0m\u001b[0m값1\u001b[0m\u001b[0;34m,\u001b[0m \u001b[0m값2\u001b[0m\u001b[0;34m,\u001b[0m \u001b[0m값3\u001b[0m\u001b[0;34m)\u001b[0m\u001b[0;34m\u001b[0m\u001b[0;34m\u001b[0m\u001b[0m\n\u001b[0m\u001b[1;32m      2\u001b[0m \u001b[0mprint\u001b[0m\u001b[0;34m(\u001b[0m\u001b[0m변수1\u001b[0m\u001b[0;34m,\u001b[0m \u001b[0m변수2\u001b[0m\u001b[0;34m,\u001b[0m \u001b[0m변수3\u001b[0m\u001b[0;34m)\u001b[0m\u001b[0;34m\u001b[0m\u001b[0;34m\u001b[0m\u001b[0m\n",
            "\u001b[0;31mNameError\u001b[0m: name '값1' is not defined"
          ]
        }
      ]
    },
    {
      "cell_type": "code",
      "metadata": {
        "colab": {
          "base_uri": "https://localhost:8080/"
        },
        "id": "kXVnD0sZ7mnm",
        "outputId": "a9640077-17e4-4f62-e970-3a384f219290"
      },
      "source": [
        "print(1, 2, 3)"
      ],
      "execution_count": null,
      "outputs": [
        {
          "output_type": "stream",
          "text": [
            "1 2 3\n"
          ],
          "name": "stdout"
        }
      ]
    },
    {
      "cell_type": "code",
      "metadata": {
        "colab": {
          "base_uri": "https://localhost:8080/"
        },
        "id": "sP26aSFI7oQW",
        "outputId": "2d06ee20-2ae7-4d61-f122-6935b2086b26"
      },
      "source": [
        "print('Hello', 'Python')"
      ],
      "execution_count": null,
      "outputs": [
        {
          "output_type": "stream",
          "text": [
            "Hello Python\n"
          ],
          "name": "stdout"
        }
      ]
    },
    {
      "cell_type": "code",
      "metadata": {
        "id": "csQjSHyi7smW"
      },
      "source": [
        "# print에 변수나 값을 콤마로 구분해서 넣으면 각 값이 공백으로 띄워져서 한 줄로 출력됩니다.\n",
        "# 이제 값을 여러 개 출력할 때 print 함수를 여러 번 쓰지 않아도 됩니다."
      ],
      "execution_count": null,
      "outputs": []
    },
    {
      "cell_type": "markdown",
      "metadata": {
        "id": "Vv3UhjJG8EaW"
      },
      "source": [
        "### sep로 값 사이 문자 넣기"
      ]
    },
    {
      "cell_type": "code",
      "metadata": {
        "colab": {
          "base_uri": "https://localhost:8080/"
        },
        "id": "OGjjoeaY7yY9",
        "outputId": "3603b5d5-969e-4afc-d4a1-feb776f6afff"
      },
      "source": [
        "print(1, 2, 3, sep=', ') # sep에 콤마와 공백을 지정"
      ],
      "execution_count": null,
      "outputs": [
        {
          "output_type": "stream",
          "text": [
            "1, 2, 3\n"
          ],
          "name": "stdout"
        }
      ]
    },
    {
      "cell_type": "code",
      "metadata": {
        "colab": {
          "base_uri": "https://localhost:8080/"
        },
        "id": "LWf7tvY68JQ-",
        "outputId": "df1055aa-e199-4e3c-fa3b-f5d8ff061972"
      },
      "source": [
        "print(4, 5, 6, sep=',') # sep에 콤마만 지정"
      ],
      "execution_count": null,
      "outputs": [
        {
          "output_type": "stream",
          "text": [
            "4,5,6\n"
          ],
          "name": "stdout"
        }
      ]
    },
    {
      "cell_type": "code",
      "metadata": {
        "colab": {
          "base_uri": "https://localhost:8080/"
        },
        "id": "45nuv6SY8VoO",
        "outputId": "2ba927bd-cfab-46c5-e015-9baa936891df"
      },
      "source": [
        "print('Hello', 'Python', sep='')    # sep에 빈 문자열을 지정"
      ],
      "execution_count": null,
      "outputs": [
        {
          "output_type": "stream",
          "text": [
            "HelloPython\n"
          ],
          "name": "stdout"
        }
      ]
    },
    {
      "cell_type": "code",
      "metadata": {
        "colab": {
          "base_uri": "https://localhost:8080/"
        },
        "id": "BNAB2sZR8XlW",
        "outputId": "1ab8c53f-c597-4378-94af-6cf7c2a5ae7c"
      },
      "source": [
        "print(1920, 1080, sep='x')    # sep에 x를 지정"
      ],
      "execution_count": null,
      "outputs": [
        {
          "output_type": "stream",
          "text": [
            "1920x1080\n"
          ],
          "name": "stdout"
        }
      ]
    },
    {
      "cell_type": "markdown",
      "metadata": {
        "id": "ODQ4t0uy8ecK"
      },
      "source": [
        "## 7.2 줄바꿈 활용하기"
      ]
    },
    {
      "cell_type": "code",
      "metadata": {
        "colab": {
          "base_uri": "https://localhost:8080/"
        },
        "id": "dGAIk68b8Z0m",
        "outputId": "26cbddc8-a8c8-4731-fb50-10188e233952"
      },
      "source": [
        "print(1, 2, 3, sep='\\n')      #\\n을 활용하여 여러 줄에 출력\n",
        "# 단, \\n 자체는 제어 문자이므로 화면에 출력되지 않습니다."
      ],
      "execution_count": null,
      "outputs": [
        {
          "output_type": "stream",
          "text": [
            "1\n",
            "2\n",
            "3\n"
          ],
          "name": "stdout"
        }
      ]
    },
    {
      "cell_type": "code",
      "metadata": {
        "colab": {
          "base_uri": "https://localhost:8080/",
          "height": 136
        },
        "id": "qL4WxBbb81TG",
        "outputId": "954b3675-6c16-4bbf-b02c-190143fb59c1"
      },
      "source": [
        "print(\\n)"
      ],
      "execution_count": null,
      "outputs": [
        {
          "output_type": "error",
          "ename": "SyntaxError",
          "evalue": "ignored",
          "traceback": [
            "\u001b[0;36m  File \u001b[0;32m\"<ipython-input-49-506ece28f33b>\"\u001b[0;36m, line \u001b[0;32m1\u001b[0m\n\u001b[0;31m    print(\\n)\u001b[0m\n\u001b[0m             ^\u001b[0m\n\u001b[0;31mSyntaxError\u001b[0m\u001b[0;31m:\u001b[0m unexpected character after line continuation character\n"
          ]
        }
      ]
    },
    {
      "cell_type": "code",
      "metadata": {
        "colab": {
          "base_uri": "https://localhost:8080/"
        },
        "id": "WzmO7HxV86F-",
        "outputId": "d0447ce1-1c4f-4720-bee9-7423e64daa62"
      },
      "source": [
        "print('1\\n2\\n3') # 문자열 안에 \\n을 사용하여 줄바꿈 / print(1, 2, 3, sep='\\n')와 값이 같음"
      ],
      "execution_count": null,
      "outputs": [
        {
          "output_type": "stream",
          "text": [
            "1\n",
            "2\n",
            "3\n"
          ],
          "name": "stdout"
        }
      ]
    },
    {
      "cell_type": "code",
      "metadata": {
        "colab": {
          "base_uri": "https://localhost:8080/",
          "height": 136
        },
        "id": "RPk6sx0m9GL1",
        "outputId": "61b32f95-33d5-4121-b0cb-1f9c5d998d79"
      },
      "source": [
        "print(1\\n2\\n3)"
      ],
      "execution_count": null,
      "outputs": [
        {
          "output_type": "error",
          "ename": "SyntaxError",
          "evalue": "ignored",
          "traceback": [
            "\u001b[0;36m  File \u001b[0;32m\"<ipython-input-51-0933191a107b>\"\u001b[0;36m, line \u001b[0;32m1\u001b[0m\n\u001b[0;31m    print(1\\n2\\n3)\u001b[0m\n\u001b[0m                  ^\u001b[0m\n\u001b[0;31mSyntaxError\u001b[0m\u001b[0;31m:\u001b[0m unexpected character after line continuation character\n"
          ]
        }
      ]
    },
    {
      "cell_type": "code",
      "metadata": {
        "colab": {
          "base_uri": "https://localhost:8080/"
        },
        "id": "IuzaO5YG9Ob2",
        "outputId": "e2c3dfa0-349f-45d4-d37f-bf9451ea5aa0"
      },
      "source": [
        "print('1 \\n  2 \\n3')"
      ],
      "execution_count": null,
      "outputs": [
        {
          "output_type": "stream",
          "text": [
            "1 \n",
            "  2 \n",
            "3\n"
          ],
          "name": "stdout"
        }
      ]
    },
    {
      "cell_type": "code",
      "metadata": {
        "id": "ZU4QgpCx9oIu"
      },
      "source": [
        "#print는 기본적으로 출력하는 값 끝에 \\n을 붙입니다.\n",
        "# 그래서 print를 여러 번 사용하면 값이 여러 줄에 출력됩니다. "
      ],
      "execution_count": null,
      "outputs": []
    },
    {
      "cell_type": "code",
      "metadata": {
        "colab": {
          "base_uri": "https://localhost:8080/"
        },
        "id": "6u4BlX1g-SGW",
        "outputId": "33fb48ab-ab08-48ba-a67e-a960c4bebb88"
      },
      "source": [
        "print(1)\n",
        "print(2)\n",
        "print(3)"
      ],
      "execution_count": null,
      "outputs": [
        {
          "output_type": "stream",
          "text": [
            "1\n",
            "2\n",
            "3\n"
          ],
          "name": "stdout"
        }
      ]
    },
    {
      "cell_type": "code",
      "metadata": {
        "colab": {
          "base_uri": "https://localhost:8080/"
        },
        "id": "SF5RRTU0-Ktm",
        "outputId": "66a20b4c-e6c1-4e24-b579-40c0f2c36cf1"
      },
      "source": [
        "print(1, end='')\n",
        "print(2, end=' ')\n",
        "print(3)"
      ],
      "execution_count": null,
      "outputs": [
        {
          "output_type": "stream",
          "text": [
            "12 3\n"
          ],
          "name": "stdout"
        }
      ]
    },
    {
      "cell_type": "code",
      "metadata": {
        "id": "GTGaSZUl-Y7W"
      },
      "source": [
        "#end=''와 같이 end에 빈 문자열을 지정하면 1, 2, 3이 세 줄로 출력되지 않고 한 줄로 붙어서 출력됩니다.\n",
        "# 기본적으로 print의 end에 \\n이 지정된 상태인데 빈 문자열을 지정하면 강제로 \\n을 지워주기 때문입니다."
      ],
      "execution_count": null,
      "outputs": []
    },
    {
      "cell_type": "code",
      "metadata": {
        "colab": {
          "base_uri": "https://localhost:8080/"
        },
        "id": "NX0s8d_c-dv-",
        "outputId": "06f0b00e-d580-4ae0-83c7-a1db338a9158"
      },
      "source": [
        "print('Hello', '\\n', 'Python', sep='')"
      ],
      "execution_count": null,
      "outputs": [
        {
          "output_type": "stream",
          "text": [
            "Hello\n",
            "Python\n"
          ],
          "name": "stdout"
        }
      ]
    },
    {
      "cell_type": "code",
      "metadata": {
        "colab": {
          "base_uri": "https://localhost:8080/"
        },
        "id": "QvBjAdWY_Aqe",
        "outputId": "cecfcd0e-19a3-444b-dabd-4d4e9aa9781c"
      },
      "source": [
        "print('Hello', 'Python', end='\\n')"
      ],
      "execution_count": null,
      "outputs": [
        {
          "output_type": "stream",
          "text": [
            "Hello Python\n"
          ],
          "name": "stdout"
        }
      ]
    },
    {
      "cell_type": "markdown",
      "metadata": {
        "id": "OrkAkhit_3hs"
      },
      "source": [
        "## 7.4 연습문제"
      ]
    },
    {
      "cell_type": "code",
      "metadata": {
        "colab": {
          "base_uri": "https://localhost:8080/"
        },
        "id": "QnWv5IZC_Czo",
        "outputId": "72395ea2-8d39-46de-bab2-62e67596ea86"
      },
      "source": [
        "year = 2000\n",
        "month = 10\n",
        "day = 27\n",
        "hour = 11\n",
        "minute = 43\n",
        "second = 59\n",
        " \n",
        "print(year, month, day, sep='/', end=' ')\n",
        "print(hour, minute, second, sep=':')"
      ],
      "execution_count": null,
      "outputs": [
        {
          "output_type": "stream",
          "text": [
            "2000/10/27 11:43:59\n"
          ],
          "name": "stdout"
        }
      ]
    },
    {
      "cell_type": "markdown",
      "metadata": {
        "id": "X47-HqTx_9AK"
      },
      "source": [
        "## 7.5 심사문제"
      ]
    },
    {
      "cell_type": "code",
      "metadata": {
        "colab": {
          "base_uri": "https://localhost:8080/"
        },
        "id": "Cv18klfq_uSG",
        "outputId": "50154872-4d19-49fa-845a-323976c91e16"
      },
      "source": [
        "year, month, day, hour, minute, second = input().split()\n",
        "\n",
        "print(year, month, day, sep='-', end='T')\n",
        "print(hour, minute, second, sep=':')"
      ],
      "execution_count": null,
      "outputs": [
        {
          "output_type": "stream",
          "text": [
            "199 12 31 10 37 21\n",
            "199-12-31T10:37:21\n"
          ],
          "name": "stdout"
        }
      ]
    },
    {
      "cell_type": "code",
      "metadata": {
        "colab": {
          "base_uri": "https://localhost:8080/"
        },
        "id": "kJJu_MGgAK5e",
        "outputId": "41b65769-7f4d-4531-e9de-82c63c12760f"
      },
      "source": [
        "year, month, day, hour, minute, second = input().split()\n",
        "\n",
        "print(year, month, day, sep='-', end='T')\n",
        "print(hour, minute, second, sep=':')"
      ],
      "execution_count": null,
      "outputs": [
        {
          "output_type": "stream",
          "text": [
            "2017 10 27 11 43 59\n",
            "2017-10-27T11:43:59\n"
          ],
          "name": "stdout"
        }
      ]
    },
    {
      "cell_type": "code",
      "metadata": {
        "colab": {
          "base_uri": "https://localhost:8080/"
        },
        "id": "l-gyAI92AoS3",
        "outputId": "b0754e62-3cc5-416b-e8b5-ba63b4e20c31"
      },
      "source": [
        "year, month, day, hour, minute, second = map(int, input().split())\n",
        "\n",
        "print(year, month, day, sep='-', end='T')\n",
        "print(hour, minute, second, sep=':')"
      ],
      "execution_count": null,
      "outputs": [
        {
          "output_type": "stream",
          "text": [
            "2017 10 27 11 43 59\n",
            "2017-10-27T11:43:59\n"
          ],
          "name": "stdout"
        }
      ]
    },
    {
      "cell_type": "markdown",
      "metadata": {
        "id": "6dopqgwmEKBK"
      },
      "source": [
        "# 8장 불과 비교, 논리 연산자"
      ]
    },
    {
      "cell_type": "markdown",
      "metadata": {
        "id": "_WsKdbTkFSyK"
      },
      "source": [
        "## 8.1 비교 연산자"
      ]
    },
    {
      "cell_type": "code",
      "metadata": {
        "colab": {
          "base_uri": "https://localhost:8080/"
        },
        "id": "w2tp6FeiAzb2",
        "outputId": "5c6809f9-f269-42be-8e56-0ceda0d6cfb0"
      },
      "source": [
        "3 > 1"
      ],
      "execution_count": null,
      "outputs": [
        {
          "output_type": "execute_result",
          "data": {
            "text/plain": [
              "True"
            ]
          },
          "metadata": {
            "tags": []
          },
          "execution_count": 74
        }
      ]
    },
    {
      "cell_type": "code",
      "metadata": {
        "colab": {
          "base_uri": "https://localhost:8080/"
        },
        "id": "fLa8RmCYEa5f",
        "outputId": "03df9c25-4249-417c-c136-0bb76fc4ea97"
      },
      "source": [
        "print(10 == 10 , 10 != 5, sep=', ')"
      ],
      "execution_count": null,
      "outputs": [
        {
          "output_type": "stream",
          "text": [
            "True, True\n"
          ],
          "name": "stdout"
        }
      ]
    },
    {
      "cell_type": "code",
      "metadata": {
        "colab": {
          "base_uri": "https://localhost:8080/"
        },
        "id": "2w3cVTxjEe8G",
        "outputId": "cf91fc43-90f9-4b2d-dd30-7bf0a1fa54ed"
      },
      "source": [
        "print(1 == 1.0, 1 is 1.0, 1 is not 1.0, sep=', ')"
      ],
      "execution_count": null,
      "outputs": [
        {
          "output_type": "stream",
          "text": [
            "True, False, True\n"
          ],
          "name": "stdout"
        }
      ]
    },
    {
      "cell_type": "markdown",
      "metadata": {
        "id": "OV36qPWCFWPp"
      },
      "source": [
        "## 8.2 논리 연산자"
      ]
    },
    {
      "cell_type": "code",
      "metadata": {
        "colab": {
          "base_uri": "https://localhost:8080/",
          "height": 35
        },
        "id": "tyoqiF3eE4He",
        "outputId": "6084aec0-a96c-486c-af85-afe3c5477dfe"
      },
      "source": [
        "a and b   # 모두 True여야 True\n",
        "a or b    # 하나라도 True면 True\n",
        "not x\n",
        "x"
      ],
      "execution_count": null,
      "outputs": [
        {
          "output_type": "execute_result",
          "data": {
            "application/vnd.google.colaboratory.intrinsic+json": {
              "type": "string"
            },
            "text/plain": [
              "'1020'"
            ]
          },
          "metadata": {
            "tags": []
          },
          "execution_count": 89
        }
      ]
    },
    {
      "cell_type": "code",
      "metadata": {
        "colab": {
          "base_uri": "https://localhost:8080/"
        },
        "id": "nRj_h6KyFga2",
        "outputId": "906967eb-7f64-4cf2-d0e4-9708cba12c06"
      },
      "source": [
        "not True and False or not False \n",
        "((not True) and False) or (not False)"
      ],
      "execution_count": null,
      "outputs": [
        {
          "output_type": "execute_result",
          "data": {
            "text/plain": [
              "True"
            ]
          },
          "metadata": {
            "tags": []
          },
          "execution_count": 93
        }
      ]
    },
    {
      "cell_type": "code",
      "metadata": {
        "colab": {
          "base_uri": "https://localhost:8080/"
        },
        "id": "R8qOsuOhFs-0",
        "outputId": "d92a385e-9e68-4ec4-a3f4-b415c047a35e"
      },
      "source": [
        "# != 다르다\n",
        "print(10 == 10 and 10 != 5, 10 > 5 or 10 < 3, not 10 > 5, not 1 is 1.0, sep=', ')"
      ],
      "execution_count": null,
      "outputs": [
        {
          "output_type": "stream",
          "text": [
            "True, True, False, True\n"
          ],
          "name": "stdout"
        }
      ]
    },
    {
      "cell_type": "code",
      "metadata": {
        "colab": {
          "base_uri": "https://localhost:8080/"
        },
        "id": "epN0sGK3GE3W",
        "outputId": "f0b2e85b-cba7-4a15-ec20-9f24f3c6b170"
      },
      "source": [
        "bool(1)"
      ],
      "execution_count": null,
      "outputs": [
        {
          "output_type": "execute_result",
          "data": {
            "text/plain": [
              "True"
            ]
          },
          "metadata": {
            "tags": []
          },
          "execution_count": 96
        }
      ]
    },
    {
      "cell_type": "code",
      "metadata": {
        "colab": {
          "base_uri": "https://localhost:8080/"
        },
        "id": "GpiTvUajHG3-",
        "outputId": "3c471288-b547-4975-f800-b3656f6a1e6c"
      },
      "source": [
        "bool(0)"
      ],
      "execution_count": null,
      "outputs": [
        {
          "output_type": "execute_result",
          "data": {
            "text/plain": [
              "False"
            ]
          },
          "metadata": {
            "tags": []
          },
          "execution_count": 97
        }
      ]
    },
    {
      "cell_type": "code",
      "metadata": {
        "colab": {
          "base_uri": "https://localhost:8080/"
        },
        "id": "MhC1p-1lHHv0",
        "outputId": "391cbcd5-70a3-42e6-a295-49068e61b9ee"
      },
      "source": [
        "bool('')"
      ],
      "execution_count": null,
      "outputs": [
        {
          "output_type": "execute_result",
          "data": {
            "text/plain": [
              "False"
            ]
          },
          "metadata": {
            "tags": []
          },
          "execution_count": 98
        }
      ]
    },
    {
      "cell_type": "code",
      "metadata": {
        "colab": {
          "base_uri": "https://localhost:8080/"
        },
        "id": "knWBFrjwHIw3",
        "outputId": "e432b541-5c99-4752-c76a-cf28bbf19bcb"
      },
      "source": [
        "bool(\"\")"
      ],
      "execution_count": null,
      "outputs": [
        {
          "output_type": "execute_result",
          "data": {
            "text/plain": [
              "False"
            ]
          },
          "metadata": {
            "tags": []
          },
          "execution_count": 99
        }
      ]
    },
    {
      "cell_type": "code",
      "metadata": {
        "colab": {
          "base_uri": "https://localhost:8080/",
          "height": 136
        },
        "id": "K8m3LDyNHJvW",
        "outputId": "6096492d-b0e8-43e6-cd25-33d36a8b26e1"
      },
      "source": [
        "bool(,)"
      ],
      "execution_count": null,
      "outputs": [
        {
          "output_type": "error",
          "ename": "SyntaxError",
          "evalue": "ignored",
          "traceback": [
            "\u001b[0;36m  File \u001b[0;32m\"<ipython-input-100-0cb552749576>\"\u001b[0;36m, line \u001b[0;32m1\u001b[0m\n\u001b[0;31m    bool(,)\u001b[0m\n\u001b[0m         ^\u001b[0m\n\u001b[0;31mSyntaxError\u001b[0m\u001b[0;31m:\u001b[0m invalid syntax\n"
          ]
        }
      ]
    },
    {
      "cell_type": "code",
      "metadata": {
        "colab": {
          "base_uri": "https://localhost:8080/"
        },
        "id": "2umWjKlHHK9-",
        "outputId": "3530d9f9-8b53-4992-98cb-c2ff631c8708"
      },
      "source": [
        "bool(',')"
      ],
      "execution_count": null,
      "outputs": [
        {
          "output_type": "execute_result",
          "data": {
            "text/plain": [
              "True"
            ]
          },
          "metadata": {
            "tags": []
          },
          "execution_count": 101
        }
      ]
    },
    {
      "cell_type": "code",
      "metadata": {
        "colab": {
          "base_uri": "https://localhost:8080/"
        },
        "id": "6TugFbsZHMEd",
        "outputId": "5c2f910f-2d36-471a-b181-eaaa3d49ddc2"
      },
      "source": [
        "bool(1.5)"
      ],
      "execution_count": null,
      "outputs": [
        {
          "output_type": "execute_result",
          "data": {
            "text/plain": [
              "True"
            ]
          },
          "metadata": {
            "tags": []
          },
          "execution_count": 102
        }
      ]
    },
    {
      "cell_type": "code",
      "metadata": {
        "colab": {
          "base_uri": "https://localhost:8080/"
        },
        "id": "O89zkjA5HNb2",
        "outputId": "da74d47a-aa10-47a8-dd92-9eef52521e8f"
      },
      "source": [
        "bool('False')"
      ],
      "execution_count": null,
      "outputs": [
        {
          "output_type": "execute_result",
          "data": {
            "text/plain": [
              "True"
            ]
          },
          "metadata": {
            "tags": []
          },
          "execution_count": 103
        }
      ]
    },
    {
      "cell_type": "code",
      "metadata": {
        "colab": {
          "base_uri": "https://localhost:8080/",
          "height": 35
        },
        "id": "TeGWkp5eHOd-",
        "outputId": "bedf77d0-aa2d-4c44-d224-f582e980abf8"
      },
      "source": [
        "True and 'Python'\n",
        "# 문자열 'Python'도 불로 따지면 True라서 True and True가 되어 True가 나올 것 같지만 'Python'이 나왔습니다.\n",
        "# 왜냐하면 파이썬에서 논리 연산자는 마지막으로 단락 평가를 실시한 값을 그대로 반환하기 때문입니다.\n",
        "# 따라서 논리 연산자는 무조건 불을 반환하지 않습니다.\n",
        "# https://dojang.io/mod/page/view.php?id=2192 참고"
      ],
      "execution_count": null,
      "outputs": [
        {
          "output_type": "execute_result",
          "data": {
            "application/vnd.google.colaboratory.intrinsic+json": {
              "type": "string"
            },
            "text/plain": [
              "'Python'"
            ]
          },
          "metadata": {
            "tags": []
          },
          "execution_count": 104
        }
      ]
    },
    {
      "cell_type": "code",
      "metadata": {
        "colab": {
          "base_uri": "https://localhost:8080/"
        },
        "id": "MwTY_H5LHec-",
        "outputId": "7db303a6-9309-4a5b-80f4-e2469b73e121"
      },
      "source": [
        "8 is 4 * 2.0"
      ],
      "execution_count": null,
      "outputs": [
        {
          "output_type": "execute_result",
          "data": {
            "text/plain": [
              "False"
            ]
          },
          "metadata": {
            "tags": []
          },
          "execution_count": 105
        }
      ]
    },
    {
      "cell_type": "code",
      "metadata": {
        "colab": {
          "base_uri": "https://localhost:8080/"
        },
        "id": "3lThjfcrIGM3",
        "outputId": "bb974b9a-a4dd-4dd3-b65c-82dc7f789ceb"
      },
      "source": [
        " 2 * 3 is 3 + 3"
      ],
      "execution_count": null,
      "outputs": [
        {
          "output_type": "execute_result",
          "data": {
            "text/plain": [
              "True"
            ]
          },
          "metadata": {
            "tags": []
          },
          "execution_count": 106
        }
      ]
    },
    {
      "cell_type": "code",
      "metadata": {
        "colab": {
          "base_uri": "https://localhost:8080/"
        },
        "id": "LiW0dTPvIIFG",
        "outputId": "d9be7454-c3bb-4a4e-dc67-0c2b28721570"
      },
      "source": [
        "4 != 2 + 2"
      ],
      "execution_count": null,
      "outputs": [
        {
          "output_type": "execute_result",
          "data": {
            "text/plain": [
              "False"
            ]
          },
          "metadata": {
            "tags": []
          },
          "execution_count": 107
        }
      ]
    },
    {
      "cell_type": "code",
      "metadata": {
        "colab": {
          "base_uri": "https://localhost:8080/"
        },
        "id": "sRUC5P2tIJ5-",
        "outputId": "d76b9402-0a30-488d-f573-20b329112704"
      },
      "source": [
        "a = 10\n",
        "b = 20\n",
        "print(a == 10 or b == 10, a >= 10 and b < 30, not a == 10, b != 20 or a != 10, not b != 20 and a > 5)"
      ],
      "execution_count": null,
      "outputs": [
        {
          "output_type": "stream",
          "text": [
            "True True False False True\n"
          ],
          "name": "stdout"
        }
      ]
    },
    {
      "cell_type": "markdown",
      "metadata": {
        "id": "QpVLHX-EJL1v"
      },
      "source": [
        "## 8.4 연습문제: 합격 여부 출력하기"
      ]
    },
    {
      "cell_type": "code",
      "metadata": {
        "colab": {
          "base_uri": "https://localhost:8080/"
        },
        "id": "eneaZh70JOCz",
        "outputId": "10a6a2bf-8429-474a-9673-4ecb50bb85e7"
      },
      "source": [
        "korean = 92\n",
        "english = 47\n",
        "mathematics = 86\n",
        "science = 81\n",
        "\n",
        "print(korean >=50 and english >=50 and mathematics >=50 and science >= 50)"
      ],
      "execution_count": null,
      "outputs": [
        {
          "output_type": "stream",
          "text": [
            "False\n"
          ],
          "name": "stdout"
        }
      ]
    },
    {
      "cell_type": "markdown",
      "metadata": {
        "id": "vaUWhjZVL6oN"
      },
      "source": [
        "### 8장 심사문제"
      ]
    },
    {
      "cell_type": "code",
      "metadata": {
        "colab": {
          "base_uri": "https://localhost:8080/"
        },
        "id": "Im_LZTckJfop",
        "outputId": "44c46896-898a-4553-a30a-64820053264e"
      },
      "source": [
        "korean, english, mathmatics, science = map(int, input().split())\n",
        "korean >= 90 and english > 80 and mathmatics > 85 and science >= 80"
      ],
      "execution_count": null,
      "outputs": [
        {
          "output_type": "stream",
          "text": [
            "90 81 86 80\n"
          ],
          "name": "stdout"
        },
        {
          "output_type": "execute_result",
          "data": {
            "text/plain": [
              "True"
            ]
          },
          "metadata": {
            "tags": []
          },
          "execution_count": 119
        }
      ]
    },
    {
      "cell_type": "code",
      "metadata": {
        "colab": {
          "base_uri": "https://localhost:8080/"
        },
        "id": "vg75fxljKRVF",
        "outputId": "22f69a2d-aeb4-44c1-c585-d90781654ca7"
      },
      "source": [
        "korean, english, mathmatics, science = map(int,input().split())\n",
        "print(korean >= 90 and english > 80 and mathmatics > 85 and science >= 80)"
      ],
      "execution_count": null,
      "outputs": [
        {
          "output_type": "stream",
          "text": [
            "90 80 85 80\n",
            "False\n"
          ],
          "name": "stdout"
        }
      ]
    },
    {
      "cell_type": "code",
      "metadata": {
        "id": "wVx3HZOjLyyM"
      },
      "source": [
        "korean, english, mathmatics, science = map(int, input().split())\n",
        "korean >= 90 and english > 80 and mathmatics > 85 and science >= 80\n",
        "# 오답 print 안써서"
      ],
      "execution_count": null,
      "outputs": []
    },
    {
      "cell_type": "code",
      "metadata": {
        "id": "JHyQ8jN_Kvlf"
      },
      "source": [
        "korean, english, mathmatics, science = map(int, input().split())\n",
        "print(korean >= 90 and english > 80 and mathmatics > 85 and science >= 80)\n",
        "# 오답 int, input 띄어쓰기로"
      ],
      "execution_count": null,
      "outputs": []
    },
    {
      "cell_type": "markdown",
      "metadata": {
        "id": "-iLsy74PNRrT"
      },
      "source": [
        "# 9장 문자열 사용하기"
      ]
    },
    {
      "cell_type": "code",
      "metadata": {
        "colab": {
          "base_uri": "https://localhost:8080/",
          "height": 35
        },
        "id": "4YBc_zsENS2h",
        "outputId": "504a2b33-0682-4505-904c-f687ed119ee2"
      },
      "source": [
        "hello = 'Hello, world!'\n",
        "hello"
      ],
      "execution_count": null,
      "outputs": [
        {
          "output_type": "execute_result",
          "data": {
            "application/vnd.google.colaboratory.intrinsic+json": {
              "type": "string"
            },
            "text/plain": [
              "'Hello, world!'"
            ]
          },
          "metadata": {
            "tags": []
          },
          "execution_count": 126
        }
      ]
    },
    {
      "cell_type": "code",
      "metadata": {
        "colab": {
          "base_uri": "https://localhost:8080/"
        },
        "id": "9BOsFnR5NaQ3",
        "outputId": "146e5e1e-987e-44c5-a92a-d0380ce5c94e"
      },
      "source": [
        "hello = 'Hello, world!'\n",
        "print(hello)"
      ],
      "execution_count": null,
      "outputs": [
        {
          "output_type": "stream",
          "text": [
            "Hello, world!\n"
          ],
          "name": "stdout"
        }
      ]
    },
    {
      "cell_type": "code",
      "metadata": {
        "colab": {
          "base_uri": "https://localhost:8080/"
        },
        "id": "nkfClxMoNgHR",
        "outputId": "9abe8bf9-8654-434b-dc54-ca7cd8f9f1ac"
      },
      "source": [
        "hello = 'Hello, world!'\n",
        "print('hello')"
      ],
      "execution_count": null,
      "outputs": [
        {
          "output_type": "stream",
          "text": [
            "hello\n"
          ],
          "name": "stdout"
        }
      ]
    },
    {
      "cell_type": "code",
      "metadata": {
        "colab": {
          "base_uri": "https://localhost:8080/",
          "height": 35
        },
        "id": "mH9Fw5wCNhj-",
        "outputId": "7dd5a434-aceb-4750-fa10-20779869b923"
      },
      "source": [
        "hello = '안녕하세요'    # 작은따옴표로 묶기\n",
        "hello"
      ],
      "execution_count": null,
      "outputs": [
        {
          "output_type": "execute_result",
          "data": {
            "application/vnd.google.colaboratory.intrinsic+json": {
              "type": "string"
            },
            "text/plain": [
              "'안녕하세요'"
            ]
          },
          "metadata": {
            "tags": []
          },
          "execution_count": 130
        }
      ]
    },
    {
      "cell_type": "code",
      "metadata": {
        "colab": {
          "base_uri": "https://localhost:8080/",
          "height": 35
        },
        "id": "K5LfNKGHNk7W",
        "outputId": "8e3e4eaa-9858-4ead-9885-8ba202b61a86"
      },
      "source": [
        "hello = \"Hello, world!\"     # 큰따옴표로 묶기\n",
        "hello"
      ],
      "execution_count": null,
      "outputs": [
        {
          "output_type": "execute_result",
          "data": {
            "application/vnd.google.colaboratory.intrinsic+json": {
              "type": "string"
            },
            "text/plain": [
              "'Hello, world!'"
            ]
          },
          "metadata": {
            "tags": []
          },
          "execution_count": 131
        }
      ]
    },
    {
      "cell_type": "code",
      "metadata": {
        "colab": {
          "base_uri": "https://localhost:8080/",
          "height": 35
        },
        "id": "agCLA6EfNqzu",
        "outputId": "cd7347f2-8d9b-4432-e428-094a5377adc0"
      },
      "source": [
        "hello = '''Hello, Python!'''      # '''작은따옴표3개를 사용해 묶기'''\n",
        "hello"
      ],
      "execution_count": null,
      "outputs": [
        {
          "output_type": "execute_result",
          "data": {
            "application/vnd.google.colaboratory.intrinsic+json": {
              "type": "string"
            },
            "text/plain": [
              "'Hello, Python!'"
            ]
          },
          "metadata": {
            "tags": []
          },
          "execution_count": 132
        }
      ]
    },
    {
      "cell_type": "code",
      "metadata": {
        "colab": {
          "base_uri": "https://localhost:8080/",
          "height": 35
        },
        "id": "QOOiqB7GNulN",
        "outputId": "157eb986-ed51-40c2-eb5d-e839bf8a6637"
      },
      "source": [
        "python = \"\"\"Python Programming\"\"\"   # \"\"\"큰따옴표3개를 사용해 묶기\"\"\"\n",
        "python"
      ],
      "execution_count": null,
      "outputs": [
        {
          "output_type": "execute_result",
          "data": {
            "application/vnd.google.colaboratory.intrinsic+json": {
              "type": "string"
            },
            "text/plain": [
              "'Python Programming'"
            ]
          },
          "metadata": {
            "tags": []
          },
          "execution_count": 134
        }
      ]
    },
    {
      "cell_type": "code",
      "metadata": {
        "colab": {
          "base_uri": "https://localhost:8080/",
          "height": 136
        },
        "id": "6q_c9WlTNzUG",
        "outputId": "53b8cafd-f60f-40ae-b713-590a7525d665"
      },
      "source": [
        "# \" ' \"     / ' \" '\n",
        "# 같은 따옴표만 아니면 됨.\n",
        "s = 'Python isn't difficult'\n",
        "s"
      ],
      "execution_count": null,
      "outputs": [
        {
          "output_type": "error",
          "ename": "SyntaxError",
          "evalue": "ignored",
          "traceback": [
            "\u001b[0;36m  File \u001b[0;32m\"<ipython-input-140-0ed6b4406515>\"\u001b[0;36m, line \u001b[0;32m3\u001b[0m\n\u001b[0;31m    s = 'Python isn't difficult'\u001b[0m\n\u001b[0m                    ^\u001b[0m\n\u001b[0;31mSyntaxError\u001b[0m\u001b[0;31m:\u001b[0m invalid syntax\n"
          ]
        }
      ]
    },
    {
      "cell_type": "code",
      "metadata": {
        "colab": {
          "base_uri": "https://localhost:8080/",
          "height": 136
        },
        "id": "BFp3onhwONL2",
        "outputId": "92f721b2-c43f-4a96-cc6a-f09734d08dbd"
      },
      "source": [
        "s = \"He said \"Python is easy\"\"\n",
        "s"
      ],
      "execution_count": null,
      "outputs": [
        {
          "output_type": "error",
          "ename": "SyntaxError",
          "evalue": "ignored",
          "traceback": [
            "\u001b[0;36m  File \u001b[0;32m\"<ipython-input-139-625ce2196d4a>\"\u001b[0;36m, line \u001b[0;32m1\u001b[0m\n\u001b[0;31m    s = \"He said \"Python is easy\"\"\u001b[0m\n\u001b[0m                       ^\u001b[0m\n\u001b[0;31mSyntaxError\u001b[0m\u001b[0;31m:\u001b[0m invalid syntax\n"
          ]
        }
      ]
    },
    {
      "cell_type": "code",
      "metadata": {
        "colab": {
          "base_uri": "https://localhost:8080/",
          "height": 35
        },
        "id": "7HDLPFHAOQKG",
        "outputId": "a5530db3-4832-43bf-8f80-5e7b84aec993"
      },
      "source": [
        "s = 'He said \"Python is easy\"'\n",
        "s"
      ],
      "execution_count": null,
      "outputs": [
        {
          "output_type": "execute_result",
          "data": {
            "application/vnd.google.colaboratory.intrinsic+json": {
              "type": "string"
            },
            "text/plain": [
              "'He said \"Python is easy\"'"
            ]
          },
          "metadata": {
            "tags": []
          },
          "execution_count": 138
        }
      ]
    },
    {
      "cell_type": "code",
      "metadata": {
        "colab": {
          "base_uri": "https://localhost:8080/"
        },
        "id": "HBxZAe2kORW9",
        "outputId": "f2a7ccad-91ac-4e26-fa5e-26f9445fcbd2"
      },
      "source": [
        "single_quote = '''\"안녕하세요.\"\n",
        "'파이썬'입니다.'''\n",
        "\n",
        "double_quote1 = \"\"\"\"Hello\"\n",
        "'Python'\"\"\"\n",
        " \n",
        "double_quote2 = \"\"\"Hello, 'Python'\"\"\"    # 한 줄로 작성\n",
        " \n",
        "print(single_quote)\n",
        "print(double_quote1)\n",
        "print(double_quote2)"
      ],
      "execution_count": null,
      "outputs": [
        {
          "output_type": "stream",
          "text": [
            "\"안녕하세요.\"\n",
            "'파이썬'입니다.\n",
            "\"Hello\"\n",
            "'Python'\n",
            "Hello, 'Python'\n"
          ],
          "name": "stdout"
        }
      ]
    },
    {
      "cell_type": "code",
      "metadata": {
        "colab": {
          "base_uri": "https://localhost:8080/",
          "height": 35
        },
        "id": "0RE7GcqGOZ3e",
        "outputId": "b3959cd5-ab22-4e14-8bdd-8f1424d7eff4"
      },
      "source": [
        "'Python isn\\'t difficult'   #print('Python isn\\'t difficult')\n",
        "# 역슬래시 붙이면 가능"
      ],
      "execution_count": null,
      "outputs": [
        {
          "output_type": "execute_result",
          "data": {
            "application/vnd.google.colaboratory.intrinsic+json": {
              "type": "string"
            },
            "text/plain": [
              "\"Python isn't difficult\""
            ]
          },
          "metadata": {
            "tags": []
          },
          "execution_count": 144
        }
      ]
    },
    {
      "cell_type": "code",
      "metadata": {
        "colab": {
          "base_uri": "https://localhost:8080/",
          "height": 35
        },
        "id": "OfR3zeBAOvw-",
        "outputId": "c07eb158-a031-4cfb-c7f8-42f4f15272cb"
      },
      "source": [
        "s = \"He said \\\"Python is easy\\\"\"\n",
        "s"
      ],
      "execution_count": null,
      "outputs": [
        {
          "output_type": "execute_result",
          "data": {
            "application/vnd.google.colaboratory.intrinsic+json": {
              "type": "string"
            },
            "text/plain": [
              "'He said \"Python is easy\"'"
            ]
          },
          "metadata": {
            "tags": []
          },
          "execution_count": 147
        }
      ]
    },
    {
      "cell_type": "code",
      "metadata": {
        "colab": {
          "base_uri": "https://localhost:8080/"
        },
        "id": "VqdTuL9SOze2",
        "outputId": "71d094eb-a6dd-438a-9225-523958dcadde"
      },
      "source": [
        "# 줄을 여러줄 쓰고 싶을 때 \"\"\"이거나 \"\"\"     \\n 활용\n",
        "print('Hello\\nPython')"
      ],
      "execution_count": null,
      "outputs": [
        {
          "output_type": "stream",
          "text": [
            "Hello\n",
            "Python\n"
          ],
          "name": "stdout"
        }
      ]
    },
    {
      "cell_type": "code",
      "metadata": {
        "colab": {
          "base_uri": "https://localhost:8080/"
        },
        "id": "TPF72AJhPCl2",
        "outputId": "e4ea959d-f44e-4816-f2a2-9c3ef2f49846"
      },
      "source": [
        "print('''Hello\n",
        "Python''')\n",
        "print('Hello\\nPython')"
      ],
      "execution_count": null,
      "outputs": [
        {
          "output_type": "stream",
          "text": [
            "Hello\n",
            "Python\n",
            "Hello\n",
            "Python\n"
          ],
          "name": "stdout"
        }
      ]
    },
    {
      "cell_type": "code",
      "metadata": {
        "colab": {
          "base_uri": "https://localhost:8080/",
          "height": 35
        },
        "id": "McthmeqCPIS-",
        "outputId": "a90f26a5-e735-4a26-8fa3-2e00957cf589"
      },
      "source": [
        "'Hello, world!'   # 따옴표 있게 출력"
      ],
      "execution_count": null,
      "outputs": [
        {
          "output_type": "execute_result",
          "data": {
            "application/vnd.google.colaboratory.intrinsic+json": {
              "type": "string"
            },
            "text/plain": [
              "'Hello, world!'"
            ]
          },
          "metadata": {
            "tags": []
          },
          "execution_count": 155
        }
      ]
    },
    {
      "cell_type": "code",
      "metadata": {
        "colab": {
          "base_uri": "https://localhost:8080/"
        },
        "id": "d8_4t92vPiAm",
        "outputId": "4145c5ed-951e-42a9-da06-1b06e200f13e"
      },
      "source": [
        "print('Hello, world!')    # 스크립트 파일에서는 print 사용 '안에 내용'을 적으므로 따옴표 사라짐\n",
        "# 원래 이게 맞는거 같은데? '를 넣고 싶으면 print(''Hello, world!'') 이러면 되지 않을까?\n",
        "# 같은 따옴표 사용 못하니까 다른걸로 바꿔줘서 나옴. 아래참고"
      ],
      "execution_count": null,
      "outputs": [
        {
          "output_type": "stream",
          "text": [
            "Hello, world!\n"
          ],
          "name": "stdout"
        }
      ]
    },
    {
      "cell_type": "code",
      "metadata": {
        "colab": {
          "base_uri": "https://localhost:8080/"
        },
        "id": "FXeHrHu5Pjj4",
        "outputId": "2b9b0c08-51ab-40c5-fe1c-31f2324410b6"
      },
      "source": [
        "print(\"Hello, world!'\")"
      ],
      "execution_count": null,
      "outputs": [
        {
          "output_type": "stream",
          "text": [
            "Hello, world!'\n"
          ],
          "name": "stdout"
        }
      ]
    },
    {
      "cell_type": "markdown",
      "metadata": {
        "id": "sBkTIX7YQQ5g"
      },
      "source": [
        "## 9.3 연습문제: 여러 줄로 된 문자열 사용하기"
      ]
    },
    {
      "cell_type": "code",
      "metadata": {
        "colab": {
          "base_uri": "https://localhost:8080/"
        },
        "id": "zXMaFYX4P0vm",
        "outputId": "234cb07a-c28d-4b20-aab3-97d8a4c84097"
      },
      "source": [
        "s = \"\"\"Python is a programming language that lets you work quickly\n",
        "and\n",
        "integrate systems more effectively.\"\"\"\n",
        "\n",
        "print(s)"
      ],
      "execution_count": null,
      "outputs": [
        {
          "output_type": "stream",
          "text": [
            "Python is a programming language that lets you work quickly\n",
            "and\n",
            "integrate systems more effectively.\n"
          ],
          "name": "stdout"
        }
      ]
    },
    {
      "cell_type": "markdown",
      "metadata": {
        "id": "z1s_CXDwQlub"
      },
      "source": [
        "## 9.4 심사문제: 여러 줄로 된 문자"
      ]
    },
    {
      "cell_type": "code",
      "metadata": {
        "colab": {
          "base_uri": "https://localhost:8080/"
        },
        "id": "plOoWxCLQ-Et",
        "outputId": "8d23fc88-d543-4a1e-f6e3-5729c610dda8"
      },
      "source": [
        "s=\"\"\"\\'Python\\' is a \\\"programming language\\\"\n",
        "that lets you work quickly\n",
        "and\n",
        "integrate systems more effectively.\"\"\"\n",
        "\n",
        "print(s)"
      ],
      "execution_count": null,
      "outputs": [
        {
          "output_type": "stream",
          "text": [
            "'Python' is a \"programming language\"\n",
            "that lets you work quickly\n",
            "and\n",
            "integrate systems more effectively.\n"
          ],
          "name": "stdout"
        }
      ]
    },
    {
      "cell_type": "code",
      "metadata": {
        "colab": {
          "base_uri": "https://localhost:8080/"
        },
        "id": "ifGc7CAURl7G",
        "outputId": "bd85b1bd-f162-4513-ebef-60d6214c3a27"
      },
      "source": [
        "s=\"\"\"'Python' is a \"programming language\"\n",
        "that lets you work quickly\n",
        "and\n",
        "integrate systems more effectively.\"\"\"\n",
        "\n",
        "print(s)"
      ],
      "execution_count": null,
      "outputs": [
        {
          "output_type": "stream",
          "text": [
            "'Python' is a \"programming language\"\n",
            "that lets you work quickly\n",
            "and\n",
            "integrate systems more effectively.\n"
          ],
          "name": "stdout"
        }
      ]
    },
    {
      "cell_type": "markdown",
      "metadata": {
        "id": "dPw5eLpSS1P9"
      },
      "source": [
        "# 10장. 리스트와 튜플 사용하기    (여기서부턴 집중도 떨어짐)"
      ]
    },
    {
      "cell_type": "code",
      "metadata": {
        "colab": {
          "base_uri": "https://localhost:8080/"
        },
        "id": "1BeYkFcLRutu",
        "outputId": "238491ae-0d5e-471a-e6ca-79573921db3e"
      },
      "source": [
        "person = ['james95', 'tom93']\n",
        "print(person)"
      ],
      "execution_count": null,
      "outputs": [
        {
          "output_type": "stream",
          "text": [
            "['james95', 'tom93']\n"
          ],
          "name": "stdout"
        }
      ]
    },
    {
      "cell_type": "code",
      "metadata": {
        "colab": {
          "base_uri": "https://localhost:8080/"
        },
        "id": "Mx3AYyJ4TY89",
        "outputId": "c16358b2-bef7-49bf-ea70-b24bfe82ed5b"
      },
      "source": [
        "[] == list()"
      ],
      "execution_count": null,
      "outputs": [
        {
          "output_type": "execute_result",
          "data": {
            "text/plain": [
              "True"
            ]
          },
          "metadata": {
            "tags": []
          },
          "execution_count": 176
        }
      ]
    },
    {
      "cell_type": "code",
      "metadata": {
        "colab": {
          "base_uri": "https://localhost:8080/"
        },
        "id": "mRJQycbzTh9-",
        "outputId": "b3066175-3466-4bb8-db91-fc158e8eb18c"
      },
      "source": [
        "a = list(range(-3, 0))\n",
        "a"
      ],
      "execution_count": null,
      "outputs": [
        {
          "output_type": "execute_result",
          "data": {
            "text/plain": [
              "[-3, -2, -1]"
            ]
          },
          "metadata": {
            "tags": []
          },
          "execution_count": 179
        }
      ]
    },
    {
      "cell_type": "code",
      "metadata": {
        "colab": {
          "base_uri": "https://localhost:8080/"
        },
        "id": "y-Kd48vcTpfz",
        "outputId": "54196d5c-cf35-41c4-b9c5-d8ea659b1890"
      },
      "source": [
        "a = list(range(0, -3))\n",
        "a"
      ],
      "execution_count": null,
      "outputs": [
        {
          "output_type": "execute_result",
          "data": {
            "text/plain": [
              "[]"
            ]
          },
          "metadata": {
            "tags": []
          },
          "execution_count": 180
        }
      ]
    },
    {
      "cell_type": "code",
      "metadata": {
        "colab": {
          "base_uri": "https://localhost:8080/",
          "height": 190
        },
        "id": "_ewwemP3Twm-",
        "outputId": "19a6594f-ec12-467b-81e4-4af8f35974bd"
      },
      "source": [
        "a = list(range(-3.0, 0.0))\n",
        "a"
      ],
      "execution_count": null,
      "outputs": [
        {
          "output_type": "error",
          "ename": "TypeError",
          "evalue": "ignored",
          "traceback": [
            "\u001b[0;31m---------------------------------------------------------------------------\u001b[0m",
            "\u001b[0;31mTypeError\u001b[0m                                 Traceback (most recent call last)",
            "\u001b[0;32m<ipython-input-181-0e88d2154727>\u001b[0m in \u001b[0;36m<module>\u001b[0;34m()\u001b[0m\n\u001b[0;32m----> 1\u001b[0;31m \u001b[0ma\u001b[0m \u001b[0;34m=\u001b[0m \u001b[0mlist\u001b[0m\u001b[0;34m(\u001b[0m\u001b[0mrange\u001b[0m\u001b[0;34m(\u001b[0m\u001b[0;34m-\u001b[0m\u001b[0;36m3.0\u001b[0m\u001b[0;34m,\u001b[0m \u001b[0;36m0.0\u001b[0m\u001b[0;34m)\u001b[0m\u001b[0;34m)\u001b[0m\u001b[0;34m\u001b[0m\u001b[0;34m\u001b[0m\u001b[0m\n\u001b[0m\u001b[1;32m      2\u001b[0m \u001b[0ma\u001b[0m\u001b[0;34m\u001b[0m\u001b[0;34m\u001b[0m\u001b[0m\n",
            "\u001b[0;31mTypeError\u001b[0m: 'float' object cannot be interpreted as an integer"
          ]
        }
      ]
    },
    {
      "cell_type": "code",
      "metadata": {
        "colab": {
          "base_uri": "https://localhost:8080/"
        },
        "id": "fDIfsS-gTz6Q",
        "outputId": "273c4d44-febc-437d-f89f-64adb1a78563"
      },
      "source": [
        "# 리스트 = list(range(횟수))\n",
        "# 리스트 = list(range(시작, 끝))\n",
        "# 리스트 = list(range(시작, 끝, 증가폭))\n",
        "c = list(range(-4, 10, 2))\n",
        "print(c)"
      ],
      "execution_count": null,
      "outputs": [
        {
          "output_type": "stream",
          "text": [
            "[-4, -2, 0, 2, 4, 6, 8]\n"
          ],
          "name": "stdout"
        }
      ]
    },
    {
      "cell_type": "code",
      "metadata": {
        "colab": {
          "base_uri": "https://localhost:8080/"
        },
        "id": "lrRyjnJoUM3m",
        "outputId": "d107cb4d-e8a5-4561-fef9-1a94fec623d1"
      },
      "source": [
        "d = list(range(10, 0, -1))\n",
        "d"
      ],
      "execution_count": null,
      "outputs": [
        {
          "output_type": "execute_result",
          "data": {
            "text/plain": [
              "[10, 9, 8, 7, 6, 5, 4, 3, 2, 1]"
            ]
          },
          "metadata": {
            "tags": []
          },
          "execution_count": 183
        }
      ]
    },
    {
      "cell_type": "code",
      "metadata": {
        "colab": {
          "base_uri": "https://localhost:8080/"
        },
        "id": "blJPwoP6UOp3",
        "outputId": "478b27ef-556b-45b0-afc7-827669ceb2c5"
      },
      "source": [
        "# 요소(element)가 한 개인 튜플\n",
        "# 튜플 = (값, ) / 튜플 = 값,\n",
        "(38, )"
      ],
      "execution_count": null,
      "outputs": [
        {
          "output_type": "execute_result",
          "data": {
            "text/plain": [
              "(38,)"
            ]
          },
          "metadata": {
            "tags": []
          },
          "execution_count": 186
        }
      ]
    },
    {
      "cell_type": "code",
      "metadata": {
        "colab": {
          "base_uri": "https://localhost:8080/"
        },
        "id": "4ML-K1pyUqTG",
        "outputId": "cd02ca44-3690-4e99-aefb-6217aaef01bf"
      },
      "source": [
        "38,\n",
        "\n",
        "# 튜플 형태를 유지하기 위한 문법"
      ],
      "execution_count": null,
      "outputs": [
        {
          "output_type": "execute_result",
          "data": {
            "text/plain": [
              "(38,)"
            ]
          },
          "metadata": {
            "tags": []
          },
          "execution_count": 187
        }
      ]
    },
    {
      "cell_type": "code",
      "metadata": {
        "id": "Y_lwqE3AUvEX"
      },
      "source": [
        "# 튜플 = tuple(range(횟수))\n",
        "# 튜플 = tuple(range(시작, 끝))\n",
        "# 튜플 = tuple(range(시작, 끝, 증가폭))"
      ],
      "execution_count": null,
      "outputs": []
    },
    {
      "cell_type": "code",
      "metadata": {
        "id": "HXZFdy0wVKMd"
      },
      "source": [
        "# 리스트를 생성할 때는 [ ](대괄호)를 사용하고, \n",
        "# 튜플을 생성할 때는 ( )(괄호)를 사용한다는 점이 중요합니다.\n",
        "# 특히, 튜플은 안에 저장된 요소를 변경, 추가, 삭제할 수 없으므로 \n",
        "# 요소가 그대로 유지되어야 할 때 사용한다는 점도 기억해두세요."
      ],
      "execution_count": null,
      "outputs": []
    },
    {
      "cell_type": "code",
      "metadata": {
        "colab": {
          "base_uri": "https://localhost:8080/"
        },
        "id": "usXyZv_JVoy-",
        "outputId": "d2c124b0-50ae-44ec-907c-bc82a26b27c4"
      },
      "source": [
        "input().split()"
      ],
      "execution_count": null,
      "outputs": [
        {
          "output_type": "stream",
          "text": [
            "10 20\n"
          ],
          "name": "stdout"
        },
        {
          "output_type": "execute_result",
          "data": {
            "text/plain": [
              "['10', '20']"
            ]
          },
          "metadata": {
            "tags": []
          },
          "execution_count": 189
        }
      ]
    },
    {
      "cell_type": "code",
      "metadata": {
        "colab": {
          "base_uri": "https://localhost:8080/"
        },
        "id": "uKrP4LMZVpKA",
        "outputId": "9a329147-6361-4af9-92f5-b27074ac0d4a"
      },
      "source": [
        "a, b = input().split()\n",
        "\n",
        "print(a, b)"
      ],
      "execution_count": null,
      "outputs": [
        {
          "output_type": "stream",
          "text": [
            "10 20\n",
            "10 20\n"
          ],
          "name": "stdout"
        }
      ]
    },
    {
      "cell_type": "code",
      "metadata": {
        "colab": {
          "base_uri": "https://localhost:8080/"
        },
        "id": "jUUrozWEWCGu",
        "outputId": "0221755c-53b4-4e30-ab84-4477b0ed31bb"
      },
      "source": [
        "a = 10, 20, 30, False, 'Hello'\n",
        "a"
      ],
      "execution_count": null,
      "outputs": [
        {
          "output_type": "execute_result",
          "data": {
            "text/plain": [
              "(10, 20, 30, False, 'Hello')"
            ]
          },
          "metadata": {
            "tags": []
          },
          "execution_count": 192
        }
      ]
    },
    {
      "cell_type": "code",
      "metadata": {
        "colab": {
          "base_uri": "https://localhost:8080/"
        },
        "id": "KEoc9Hp6WmFu",
        "outputId": "33e35e5d-4016-4502-a366-d0ce098df536"
      },
      "source": [
        "a = (False, 'Python')\n",
        "a"
      ],
      "execution_count": null,
      "outputs": [
        {
          "output_type": "execute_result",
          "data": {
            "text/plain": [
              "(False, 'Python')"
            ]
          },
          "metadata": {
            "tags": []
          },
          "execution_count": 193
        }
      ]
    },
    {
      "cell_type": "code",
      "metadata": {
        "colab": {
          "base_uri": "https://localhost:8080/"
        },
        "id": "50iwsMW1WoXO",
        "outputId": "903e6a03-e3b2-4bd9-b602-1e8109e9b1ca"
      },
      "source": [
        "a = tuple([10, 20, 30])\n",
        "a"
      ],
      "execution_count": null,
      "outputs": [
        {
          "output_type": "execute_result",
          "data": {
            "text/plain": [
              "(10, 20, 30)"
            ]
          },
          "metadata": {
            "tags": []
          },
          "execution_count": 195
        }
      ]
    },
    {
      "cell_type": "markdown",
      "metadata": {
        "id": "luVw5NG_YLMk"
      },
      "source": [
        "## 10장 심사문제"
      ]
    },
    {
      "cell_type": "code",
      "metadata": {
        "colab": {
          "base_uri": "https://localhost:8080/"
        },
        "id": "o8H96RznWqLO",
        "outputId": "a4e8e6b1-baeb-4f2c-dab2-7e6e784bdaf3"
      },
      "source": [
        "a = list(range(5, -10, -2))\n",
        "\n",
        "print(a)"
      ],
      "execution_count": null,
      "outputs": [
        {
          "output_type": "stream",
          "text": [
            "[5, 3, 1, -1, -3, -5, -7, -9]\n"
          ],
          "name": "stdout"
        }
      ]
    },
    {
      "cell_type": "code",
      "metadata": {
        "colab": {
          "base_uri": "https://localhost:8080/"
        },
        "id": "4UwMIeXtXGFG",
        "outputId": "878a3c97-5a34-4dd8-d555-d20f2490e1c6"
      },
      "source": [
        "a = tuple(range(-10, 9, 2))\n",
        "\n",
        "print(a)"
      ],
      "execution_count": null,
      "outputs": [
        {
          "output_type": "stream",
          "text": [
            "(-10, -8, -6, -4, -2, 0, 2, 4, 6, 8)\n"
          ],
          "name": "stdout"
        }
      ]
    },
    {
      "cell_type": "code",
      "metadata": {
        "colab": {
          "base_uri": "https://localhost:8080/"
        },
        "id": "Lk3Vc8J8Xanm",
        "outputId": "8135dfd5-bc69-4907-d490-c399d503c2d5"
      },
      "source": [
        "n=int(input())\n",
        "a = tuple(range(-10, 11, n))\n",
        "\n",
        "print(a)"
      ],
      "execution_count": null,
      "outputs": [
        {
          "output_type": "stream",
          "text": [
            "3\n",
            "(-10, -7, -4, -1, 2, 5, 8)\n"
          ],
          "name": "stdout"
        }
      ]
    },
    {
      "cell_type": "markdown",
      "metadata": {
        "id": "gYHLs7UqYObh"
      },
      "source": [
        "# 11장 시퀀스 자료형 활용하기"
      ]
    },
    {
      "cell_type": "markdown",
      "metadata": {
        "id": "9LoNvEtaYnOh"
      },
      "source": [
        "## 11.1 시퀀스 자료형의 공통 기능 사용하기"
      ]
    },
    {
      "cell_type": "markdown",
      "metadata": {
        "id": "_woVy1YdYohv"
      },
      "source": [
        "## in 특정 값이 있는지 확인\n",
        "\n",
        "not in 특정값이 없는지\n",
        "\n"
      ]
    },
    {
      "cell_type": "markdown",
      "metadata": {
        "id": "1pA9mZl7ZbFv"
      },
      "source": [
        "## 11.2 시퀀스 객체의 요소 개수 구하기"
      ]
    },
    {
      "cell_type": "markdown",
      "metadata": {
        "id": "Se9as5nZZenE"
      },
      "source": [
        "## len (length)에서 따옴"
      ]
    },
    {
      "cell_type": "markdown",
      "metadata": {
        "id": "sasOFn3UZ2kR"
      },
      "source": [
        "## 11.3 인덱스 사용하기"
      ]
    },
    {
      "cell_type": "code",
      "metadata": {
        "colab": {
          "base_uri": "https://localhost:8080/",
          "height": 136
        },
        "id": "cVo3bCqlXhn2",
        "outputId": "1029febe-66ff-4385-90d6-4d794b6a7a45"
      },
      "source": [
        "a = [38, 21, 53, 62, 19]\n",
        "a[]"
      ],
      "execution_count": null,
      "outputs": [
        {
          "output_type": "error",
          "ename": "SyntaxError",
          "evalue": "ignored",
          "traceback": [
            "\u001b[0;36m  File \u001b[0;32m\"<ipython-input-204-e2d0cf5a96b7>\"\u001b[0;36m, line \u001b[0;32m2\u001b[0m\n\u001b[0;31m    a[]\u001b[0m\n\u001b[0m      ^\u001b[0m\n\u001b[0;31mSyntaxError\u001b[0m\u001b[0;31m:\u001b[0m invalid syntax\n"
          ]
        }
      ]
    },
    {
      "cell_type": "code",
      "metadata": {
        "colab": {
          "base_uri": "https://localhost:8080/"
        },
        "id": "vlafGD2ZaQ-P",
        "outputId": "99b26ea5-3d73-46b9-b2b3-c06ab07abd8c"
      },
      "source": [
        "a = [38, 21, 53, 62, 19]\n",
        "a[4]"
      ],
      "execution_count": null,
      "outputs": [
        {
          "output_type": "execute_result",
          "data": {
            "text/plain": [
              "19"
            ]
          },
          "metadata": {
            "tags": []
          },
          "execution_count": 207
        }
      ]
    },
    {
      "cell_type": "code",
      "metadata": {
        "colab": {
          "base_uri": "https://localhost:8080/"
        },
        "id": "HuPY5fm7aoIF",
        "outputId": "94d94dd5-daf6-4681-c9f2-b8a407bd7dda"
      },
      "source": [
        " a[len(a) - 1]    # 마지막 요소(인덱스 4) 출력"
      ],
      "execution_count": null,
      "outputs": [
        {
          "output_type": "execute_result",
          "data": {
            "text/plain": [
              "19"
            ]
          },
          "metadata": {
            "tags": []
          },
          "execution_count": 208
        }
      ]
    },
    {
      "cell_type": "code",
      "metadata": {
        "colab": {
          "base_uri": "https://localhost:8080/"
        },
        "id": "EV0-nmTEbFiG",
        "outputId": "83aa2a4a-852c-4857-b3e0-da9ffec95c9c"
      },
      "source": [
        "a = [38, 21, 53, 62, 19]\n",
        "a[len(a) - 1]"
      ],
      "execution_count": null,
      "outputs": [
        {
          "output_type": "execute_result",
          "data": {
            "text/plain": [
              "19"
            ]
          },
          "metadata": {
            "tags": []
          },
          "execution_count": 210
        }
      ]
    },
    {
      "cell_type": "markdown",
      "metadata": {
        "id": "lKuIYdv1fR-B"
      },
      "source": [
        "# 12장 딕셔너리 사용하기"
      ]
    },
    {
      "cell_type": "code",
      "metadata": {
        "id": "A3eARo8CF3rN"
      },
      "source": [
        "# 딕셔너리 = {키1: 값1, 키2: 값2}\n",
        "# 키는 문자열뿐만 아니라 정수, 실수, 불도 사용할 수 있으며 자료형 / 리스트, 딕셔너리는 사용불가\n",
        "# 값에는 리스트, 딕셔너리 등을 포함하여 모든 자료형"
      ],
      "execution_count": null,
      "outputs": []
    },
    {
      "cell_type": "code",
      "metadata": {
        "id": "BrDfYdzzbH9-",
        "colab": {
          "base_uri": "https://localhost:8080/"
        },
        "outputId": "ed74bfab-78b0-480d-8d6d-c4048980da54"
      },
      "source": [
        "lux = [490, 334, 550, 18.72]\n",
        "lux = {'health': 490, 'mana': 334, 'melee': 550, 'armor': 18.72}\n",
        "lux"
      ],
      "execution_count": 9,
      "outputs": [
        {
          "output_type": "execute_result",
          "data": {
            "text/plain": [
              "{'armor': 18.72, 'health': 490, 'mana': 334, 'melee': 550}"
            ]
          },
          "metadata": {
            "tags": []
          },
          "execution_count": 9
        }
      ]
    },
    {
      "cell_type": "code",
      "metadata": {
        "colab": {
          "base_uri": "https://localhost:8080/"
        },
        "id": "7E57dv4WE6Hg",
        "outputId": "1bb1ff53-fd2f-4d18-c9d6-6c064da97ed7"
      },
      "source": [
        "x = {100: 'hundred', False: 0, 3.5: [3.5, 3.5]}\n",
        "x"
      ],
      "execution_count": 10,
      "outputs": [
        {
          "output_type": "execute_result",
          "data": {
            "text/plain": [
              "{False: 0, 3.5: [3.5, 3.5], 100: 'hundred'}"
            ]
          },
          "metadata": {
            "tags": []
          },
          "execution_count": 10
        }
      ]
    },
    {
      "cell_type": "code",
      "metadata": {
        "colab": {
          "base_uri": "https://localhost:8080/"
        },
        "id": "_aZYxMGcFm6g",
        "outputId": "988d43d1-4e41-4423-ddd0-1c65ec0075a8"
      },
      "source": [
        "x = {100: 'hundred', False: 0, 3.5: [3.5, 3.5]}\n",
        "x"
      ],
      "execution_count": 12,
      "outputs": [
        {
          "output_type": "execute_result",
          "data": {
            "text/plain": [
              "{False: 0, 3.5: [3.5, 3.5], 100: 'hundred'}"
            ]
          },
          "metadata": {
            "tags": []
          },
          "execution_count": 12
        }
      ]
    },
    {
      "cell_type": "code",
      "metadata": {
        "id": "jmwsiT3NFvrY"
      },
      "source": [
        "# 빈 딕셔너리\n",
        "# 딕셔너리 = {}\n",
        "# 딕셔너리 = dict()"
      ],
      "execution_count": 13,
      "outputs": []
    },
    {
      "cell_type": "code",
      "metadata": {
        "id": "oUcN4Ei_GnNu"
      },
      "source": [
        "# 딕셔너리 = dict(키1=값1, 키2=값2)\n",
        "# 딕셔너리 = dict(zip([키1, 키2], [값1, 값2]))\n",
        "# 딕셔너리 = dict([(키1, 값1), (키2, 값2)])\n",
        "# 딕셔너리 = dict({키1: 값1, 키2: 값2})"
      ],
      "execution_count": 15,
      "outputs": []
    },
    {
      "cell_type": "code",
      "metadata": {
        "colab": {
          "base_uri": "https://localhost:8080/"
        },
        "id": "gWPJGOwKGFOe",
        "outputId": "d870ea77-c879-4bb0-d7ec-f5d44fd822d3"
      },
      "source": [
        "lux1 = dict(health=490, mana=334, melee=550, armor=18.72)    # 키=값 형식으로 딕셔너리를 만듦\n",
        "lux1"
      ],
      "execution_count": 14,
      "outputs": [
        {
          "output_type": "execute_result",
          "data": {
            "text/plain": [
              "{'armor': 18.72, 'health': 490, 'mana': 334, 'melee': 550}"
            ]
          },
          "metadata": {
            "tags": []
          },
          "execution_count": 14
        }
      ]
    },
    {
      "cell_type": "code",
      "metadata": {
        "colab": {
          "base_uri": "https://localhost:8080/"
        },
        "id": "P5zUSgA9Gpku",
        "outputId": "2955b56f-da4b-454d-ca2b-280e234fb377"
      },
      "source": [
        "lux2 = dict(zip(['health', 'mana', 'melee', 'armor'], [490, 334, 550, 18.72]))\n",
        "lux2"
      ],
      "execution_count": 16,
      "outputs": [
        {
          "output_type": "execute_result",
          "data": {
            "text/plain": [
              "{'armor': 18.72, 'health': 490, 'mana': 334, 'melee': 550}"
            ]
          },
          "metadata": {
            "tags": []
          },
          "execution_count": 16
        }
      ]
    },
    {
      "cell_type": "code",
      "metadata": {
        "colab": {
          "base_uri": "https://localhost:8080/"
        },
        "id": "J0_mm3UdG3fv",
        "outputId": "a7eaffad-ce98-4adb-d07f-663e6cf3c7d4"
      },
      "source": [
        "lux3 = dict([('health', 490), ('mana', 334), ('melee', 550), ('armor', 18.72)])\n",
        "lux3                                                  # (키, 값) 형식의 튜플로 딕셔너리를 만듦"
      ],
      "execution_count": 17,
      "outputs": [
        {
          "output_type": "execute_result",
          "data": {
            "text/plain": [
              "{'armor': 18.72, 'health': 490, 'mana': 334, 'melee': 550}"
            ]
          },
          "metadata": {
            "tags": []
          },
          "execution_count": 17
        }
      ]
    },
    {
      "cell_type": "code",
      "metadata": {
        "colab": {
          "base_uri": "https://localhost:8080/"
        },
        "id": "bCt8_fEwG6TG",
        "outputId": "fcbeec06-3b7c-4999-fcb8-88362b14744d"
      },
      "source": [
        "lux4 = dict({'health': 490, 'mana': 334, 'melee': 550, 'armor': 18.72})     # dict 안에서\n",
        "lux4    # 중괄호로 딕셔너리를 만듦"
      ],
      "execution_count": 18,
      "outputs": [
        {
          "output_type": "execute_result",
          "data": {
            "text/plain": [
              "{'armor': 18.72, 'health': 490, 'mana': 334, 'melee': 550}"
            ]
          },
          "metadata": {
            "tags": []
          },
          "execution_count": 18
        }
      ]
    },
    {
      "cell_type": "markdown",
      "metadata": {
        "id": "Q7N8aNnqHDUH"
      },
      "source": [
        "## 12.2 딕셔너리 키에 접근. 값 할당"
      ]
    },
    {
      "cell_type": "code",
      "metadata": {
        "colab": {
          "base_uri": "https://localhost:8080/"
        },
        "id": "vUqzDZ85G_CP",
        "outputId": "e23d3b51-822a-42cb-9a1f-78117616e748"
      },
      "source": [
        "lux = {'health': 490, 'mana': 334, 'melee': 550, 'armor': 18.72}\n",
        "print(lux['health'], lux['armor'], sep=', ')"
      ],
      "execution_count": 19,
      "outputs": [
        {
          "output_type": "stream",
          "text": [
            "490, 18.72\n"
          ],
          "name": "stdout"
        }
      ]
    },
    {
      "cell_type": "code",
      "metadata": {
        "id": "JFhWuhXsHRjn"
      },
      "source": [
        "# 딕셔너리에 키를 지정하지 않은 상태는 해당 딕셔너리 전체를 뜻함"
      ],
      "execution_count": 22,
      "outputs": []
    },
    {
      "cell_type": "code",
      "metadata": {
        "colab": {
          "base_uri": "https://localhost:8080/"
        },
        "id": "lg8TfJQ7HaT_",
        "outputId": "a9dfa093-03b2-43b0-aca4-4fdb19f556f7"
      },
      "source": [
        "lux['mana_regen'] = 3.28    # 딕셔너리에 값 추가, 할당(수정) 가능함\n",
        "lux"
      ],
      "execution_count": 23,
      "outputs": [
        {
          "output_type": "execute_result",
          "data": {
            "text/plain": [
              "{'armor': 18.72, 'health': 490, 'mana': 334, 'mana_regen': 3.28, 'melee': 550}"
            ]
          },
          "metadata": {
            "tags": []
          },
          "execution_count": 23
        }
      ]
    },
    {
      "cell_type": "code",
      "metadata": {
        "colab": {
          "base_uri": "https://localhost:8080/",
          "height": 190
        },
        "id": "ws9R6d35HkTY",
        "outputId": "2644ede6-c165-4655-ec24-9d75301602e2"
      },
      "source": [
        "lux['attack_speed']     # 딕셔너리에 없는 값은 가져오지 못함\n",
        "lux"
      ],
      "execution_count": 24,
      "outputs": [
        {
          "output_type": "error",
          "ename": "KeyError",
          "evalue": "ignored",
          "traceback": [
            "\u001b[0;31m---------------------------------------------------------------------------\u001b[0m",
            "\u001b[0;31mKeyError\u001b[0m                                  Traceback (most recent call last)",
            "\u001b[0;32m<ipython-input-24-a9a4930b50df>\u001b[0m in \u001b[0;36m<module>\u001b[0;34m()\u001b[0m\n\u001b[0;32m----> 1\u001b[0;31m \u001b[0mlux\u001b[0m\u001b[0;34m[\u001b[0m\u001b[0;34m'attack_speed'\u001b[0m\u001b[0;34m]\u001b[0m\u001b[0;34m\u001b[0m\u001b[0;34m\u001b[0m\u001b[0m\n\u001b[0m\u001b[1;32m      2\u001b[0m \u001b[0mlux\u001b[0m\u001b[0;34m\u001b[0m\u001b[0;34m\u001b[0m\u001b[0m\n",
            "\u001b[0;31mKeyError\u001b[0m: 'attack_speed'"
          ]
        }
      ]
    },
    {
      "cell_type": "code",
      "metadata": {
        "colab": {
          "base_uri": "https://localhost:8080/"
        },
        "id": "iiNL2ZbpHosQ",
        "outputId": "5565a952-1a29-40e2-abcf-b0225a0dd6e0"
      },
      "source": [
        "'attack_speed' not in lux, 'health' not in lux"
      ],
      "execution_count": 25,
      "outputs": [
        {
          "output_type": "execute_result",
          "data": {
            "text/plain": [
              "(True, False)"
            ]
          },
          "metadata": {
            "tags": []
          },
          "execution_count": 25
        }
      ]
    },
    {
      "cell_type": "code",
      "metadata": {
        "colab": {
          "base_uri": "https://localhost:8080/"
        },
        "id": "PE5jhUZTH0xX",
        "outputId": "f26885fb-634c-4e18-a7a4-f24f2c6dcbc5"
      },
      "source": [
        "len(lux)"
      ],
      "execution_count": 26,
      "outputs": [
        {
          "output_type": "execute_result",
          "data": {
            "text/plain": [
              "5"
            ]
          },
          "metadata": {
            "tags": []
          },
          "execution_count": 26
        }
      ]
    },
    {
      "cell_type": "code",
      "metadata": {
        "colab": {
          "base_uri": "https://localhost:8080/"
        },
        "id": "dtjf9cx_H4sH",
        "outputId": "aa82b704-0263-49ee-9af0-25bc34ae8225"
      },
      "source": [
        "len({'health': 490, 'mana': 334, 'melee': 550, 'armor': 18.72})"
      ],
      "execution_count": 27,
      "outputs": [
        {
          "output_type": "execute_result",
          "data": {
            "text/plain": [
              "4"
            ]
          },
          "metadata": {
            "tags": []
          },
          "execution_count": 27
        }
      ]
    },
    {
      "cell_type": "code",
      "metadata": {
        "colab": {
          "base_uri": "https://localhost:8080/"
        },
        "id": "eh8lke6IH5v3",
        "outputId": "18fd4cd2-08c1-456e-f83e-b9a1649982be"
      },
      "source": [
        "x = {10: 'Hello', 'world': 30}\n",
        "\n",
        "print(x[10])"
      ],
      "execution_count": 33,
      "outputs": [
        {
          "output_type": "stream",
          "text": [
            "Hello\n"
          ],
          "name": "stdout"
        }
      ]
    },
    {
      "cell_type": "markdown",
      "metadata": {
        "id": "c0xL5zU4I9Iu"
      },
      "source": [
        "## 12.4 연습문제: 딕셔너리에 게임 캐릭터 능력치 저장하기"
      ]
    },
    {
      "cell_type": "code",
      "metadata": {
        "colab": {
          "base_uri": "https://localhost:8080/"
        },
        "id": "JBydo5HdI8N5",
        "outputId": "5c1a2215-d4b1-4cd8-ec13-53e7bc886c9c"
      },
      "source": [
        "camille = {\n",
        "    'health': 575.6,\n",
        "    'health_regen': 1.7,\n",
        "    'mana': 338.8,\n",
        "    'mana_regen': 1.63,\n",
        "    'melee': 125,\n",
        "    'attack_damage': 60,\n",
        "    'attack_speed': 0.625,\n",
        "    'armor': 26,\n",
        "    'magic_resistance': 32.1,\n",
        "    'movement_speed': 340\n",
        "}\n",
        " \n",
        "print(camille['health'])\n",
        "print(camille['movement_speed'])"
      ],
      "execution_count": 44,
      "outputs": [
        {
          "output_type": "stream",
          "text": [
            "575.6\n",
            "340\n"
          ],
          "name": "stdout"
        }
      ]
    },
    {
      "cell_type": "markdown",
      "metadata": {
        "id": "V_j4JId8JwuT"
      },
      "source": [
        "## 12.5 심사문제 내가 풀어봐야겠다"
      ]
    },
    {
      "cell_type": "code",
      "metadata": {
        "colab": {
          "base_uri": "https://localhost:8080/"
        },
        "id": "T92UquJHIULY",
        "outputId": "8bed30fe-6178-4d09-d35f-de9bf6753a04"
      },
      "source": [
        "x = input().split()\n",
        "y = map(float,input().split())\n",
        "lux = dict(zip(x,y))\n",
        "print(lux)"
      ],
      "execution_count": 45,
      "outputs": [
        {
          "output_type": "stream",
          "text": [
            "health health_regen mana mana_regen\n",
            "575.6 1.7 338.8 1.63\n",
            "{'health': 575.6, 'health_regen': 1.7, 'mana': 338.8, 'mana_regen': 1.63}\n"
          ],
          "name": "stdout"
        }
      ]
    },
    {
      "cell_type": "markdown",
      "metadata": {
        "id": "1JtiqYHdL_Vp"
      },
      "source": [
        "# 13. if 조건문"
      ]
    },
    {
      "cell_type": "code",
      "metadata": {
        "colab": {
          "base_uri": "https://localhost:8080/"
        },
        "id": "jIBp-EK7KP_O",
        "outputId": "923ddbbd-5736-48aa-81a2-b959240a1025"
      },
      "source": [
        "x = 8\n",
        "if x >= 8:\n",
        "    print('8보다 큼')"
      ],
      "execution_count": 47,
      "outputs": [
        {
          "output_type": "stream",
          "text": [
            "8보다 큼\n"
          ],
          "name": "stdout"
        }
      ]
    },
    {
      "cell_type": "code",
      "metadata": {
        "id": "HuTIRZSML7sG"
      },
      "source": [
        "x = 7\n",
        "if x >= 8:\n",
        "    print('8보다 큼')"
      ],
      "execution_count": 48,
      "outputs": []
    },
    {
      "cell_type": "code",
      "metadata": {
        "id": "fXaaGf1qL-3A"
      },
      "source": [
        "x = 10\n",
        "if x == 10:\n",
        "    pass      # TODO: x가 10일 때 처리가 필요함       개발자들끼리 쉽게 알아볼 수 있게 TODO, FIXME, BUG, NOTE 사용"
      ],
      "execution_count": 53,
      "outputs": []
    },
    {
      "cell_type": "code",
      "metadata": {
        "id": "77Bc_mthMjB3"
      },
      "source": [
        "# 파이썬에서 :가 나오면 그 다음 줄부터는 무조건 들여쓰기를 한다"
      ],
      "execution_count": 54,
      "outputs": []
    },
    {
      "cell_type": "code",
      "metadata": {
        "colab": {
          "base_uri": "https://localhost:8080/"
        },
        "id": "udulHPF7M9zp",
        "outputId": "5b09b5fd-7a75-40d7-a13f-9286f24560f3"
      },
      "source": [
        "x = 15\n",
        " \n",
        "if x >= 10:\n",
        "     print('10 이상입니다.')\n",
        " \n",
        "     if x == 15:\n",
        "         print('15입니다.')\n",
        " \n",
        "     if x == 20:\n",
        "         print('20입니다.')"
      ],
      "execution_count": 60,
      "outputs": [
        {
          "output_type": "stream",
          "text": [
            "10 이상입니다.\n",
            "15입니다.\n"
          ],
          "name": "stdout"
        }
      ]
    },
    {
      "cell_type": "code",
      "metadata": {
        "colab": {
          "base_uri": "https://localhost:8080/"
        },
        "id": "0qaRFFcZNLb8",
        "outputId": "c2852efc-2d70-4db6-dd63-fc559e195a86"
      },
      "source": [
        "x = 15\n",
        " \n",
        "if x >= 10:\n",
        "     print('10 이상입니다.')\n",
        " \n",
        "if x == 15:\n",
        "     print('15입니다.')\n",
        " \n",
        "if x == 20:\n",
        "     print('20입니다.')"
      ],
      "execution_count": 58,
      "outputs": [
        {
          "output_type": "stream",
          "text": [
            "10 이상입니다.\n",
            "15입니다.\n"
          ],
          "name": "stdout"
        }
      ]
    },
    {
      "cell_type": "code",
      "metadata": {
        "colab": {
          "base_uri": "https://localhost:8080/"
        },
        "id": "_gMPo926NNi_",
        "outputId": "16d10e0c-600b-433c-fa13-6d865250b88c"
      },
      "source": [
        "x = int(input())          # 입력받은 값을 변수에 저장\n",
        " \n",
        "if x == 10:               # x가 10이면\n",
        "    print('10입니다.')    # '10입니다.'를 출력\n",
        " \n",
        "if x == 20:               # x가 20이면\n",
        "    print('20입니다.')    # '20입니다.'를 출력"
      ],
      "execution_count": 61,
      "outputs": [
        {
          "output_type": "stream",
          "text": [
            "10\n",
            "10입니다.\n"
          ],
          "name": "stdout"
        }
      ]
    },
    {
      "cell_type": "code",
      "metadata": {
        "colab": {
          "base_uri": "https://localhost:8080/"
        },
        "id": "FO9m7HlzNcv3",
        "outputId": "c2300882-3d5d-45ad-df03-75474a6c2f8a"
      },
      "source": [
        "x = int(input())          # 입력받은 값을 변수에 저장\n",
        "\n",
        "if x >= 10:\n",
        "     print('10 이상입니다.')\n",
        "\n",
        "if x == 10:               # x가 10이면\n",
        "    print('10입니다.')    # '10입니다.'를 출력\n",
        " \n",
        "if x == 20:               # x가 20이면\n",
        "    print('20입니다.')    # '20입니다.'를 출력"
      ],
      "execution_count": 62,
      "outputs": [
        {
          "output_type": "stream",
          "text": [
            "10\n",
            "10 이상입니다.\n",
            "10입니다.\n"
          ],
          "name": "stdout"
        }
      ]
    },
    {
      "cell_type": "markdown",
      "metadata": {
        "id": "LL5JX2OROO1F"
      },
      "source": [
        "#13.6 연습문제: if 조건문 사용하기"
      ]
    },
    {
      "cell_type": "code",
      "metadata": {
        "colab": {
          "base_uri": "https://localhost:8080/"
        },
        "id": "AoKHJkK2NmYf",
        "outputId": "2bd174a6-0bb1-486c-f951-99b7587fe1ea"
      },
      "source": [
        "x = 5\n",
        "\n",
        "if x != 10:\n",
        "    print('ok')"
      ],
      "execution_count": 63,
      "outputs": [
        {
          "output_type": "stream",
          "text": [
            "ok\n"
          ],
          "name": "stdout"
        }
      ]
    },
    {
      "cell_type": "markdown",
      "metadata": {
        "id": "-fWWWJmQOaJt"
      },
      "source": [
        "## 13.7 심사문제"
      ]
    },
    {
      "cell_type": "code",
      "metadata": {
        "colab": {
          "base_uri": "https://localhost:8080/"
        },
        "id": "z_FPeDVJOWOY",
        "outputId": "078c6207-b1a4-4077-ca86-bd6891948e2f"
      },
      "source": [
        "price = int(input())\n",
        "coupon = input()\n",
        "if coupon == 'Cash3000':\n",
        "    price -= 3000\n",
        "if coupon == 'Cash5000':\n",
        "    price -= 5000\n",
        "\n",
        "print(price)"
      ],
      "execution_count": 65,
      "outputs": [
        {
          "output_type": "stream",
          "text": [
            "27000\n",
            "Cash3000\n",
            "24000\n"
          ],
          "name": "stdout"
        }
      ]
    },
    {
      "cell_type": "markdown",
      "metadata": {
        "id": "H55kAorGPWP_"
      },
      "source": [
        "# 14. else 사용하여 두 방향으로 분기하기"
      ]
    },
    {
      "cell_type": "code",
      "metadata": {
        "colab": {
          "base_uri": "https://localhost:8080/"
        },
        "id": "KdnL5d79OxFs",
        "outputId": "97b9d7c1-a92d-4a9e-c0c5-5426c7c9b209"
      },
      "source": [
        " x = 5\n",
        ">>> if x == 10:\n",
        "...     y = x\n",
        "... else:\n",
        "...     y = 0\n",
        "...\n",
        ">>> y"
      ],
      "execution_count": 66,
      "outputs": [
        {
          "output_type": "execute_result",
          "data": {
            "text/plain": [
              "0"
            ]
          },
          "metadata": {
            "tags": []
          },
          "execution_count": 66
        }
      ]
    },
    {
      "cell_type": "code",
      "metadata": {
        "colab": {
          "base_uri": "https://localhost:8080/",
          "height": 136
        },
        "id": "S2-D5GHKPosZ",
        "outputId": "7d2afed9-ff54-4556-eb9f-f92dae79b49e"
      },
      "source": [
        "# 조건문 한줄 작성\n",
        "\n",
        ">>> x = 5\n",
        ">>> y = x if x == 10 else 0\n",
        ">>> y"
      ],
      "execution_count": 74,
      "outputs": [
        {
          "output_type": "error",
          "ename": "SyntaxError",
          "evalue": "ignored",
          "traceback": [
            "\u001b[0;36m  File \u001b[0;32m\"<ipython-input-74-7f097921c819>\"\u001b[0;36m, line \u001b[0;32m3\u001b[0m\n\u001b[0;31m    >>> x = 5\u001b[0m\n\u001b[0m     ^\u001b[0m\n\u001b[0;31mSyntaxError\u001b[0m\u001b[0;31m:\u001b[0m invalid syntax\n"
          ]
        }
      ]
    },
    {
      "cell_type": "code",
      "metadata": {
        "colab": {
          "base_uri": "https://localhost:8080/"
        },
        "id": "sxRsO1OLPqIx",
        "outputId": "d2c53101-8e48-46f1-86a9-813656e9578c"
      },
      "source": [
        "x = 5\n",
        " \n",
        "if x == 10:\n",
        "    print('10입니다.') \n",
        "else:\n",
        "    print('x에 들어있는 숫자는')\n",
        "    print('10이 아닙니다.')"
      ],
      "execution_count": 68,
      "outputs": [
        {
          "output_type": "stream",
          "text": [
            "x에 들어있는 숫자는\n",
            "10이 아닙니다.\n"
          ],
          "name": "stdout"
        }
      ]
    },
    {
      "cell_type": "code",
      "metadata": {
        "colab": {
          "base_uri": "https://localhost:8080/"
        },
        "id": "hhPPuDhZPu7v",
        "outputId": "5c8ef119-9a15-414b-fa0d-4a65c4a6b738"
      },
      "source": [
        "x = 10\n",
        " \n",
        "if x == 10:    # x가 10이라 조건식이 참\n",
        "    print('10입니다.')    # 출력\n",
        "else:\n",
        "     print('x에 들어있는 숫자는')\n",
        "print('10이 아닙니다.')    # 출력되지 않아야 하는데 출력됨"
      ],
      "execution_count": 69,
      "outputs": [
        {
          "output_type": "stream",
          "text": [
            "10입니다.\n",
            "10이 아닙니다.\n"
          ],
          "name": "stdout"
        }
      ]
    },
    {
      "cell_type": "code",
      "metadata": {
        "colab": {
          "base_uri": "https://localhost:8080/"
        },
        "id": "sgWFes35PzQp",
        "outputId": "13cef76d-8b6d-40d8-9782-2438e327a7dc"
      },
      "source": [
        "if True:\n",
        "    print('참')    # True는 참\n",
        "else:\n",
        "    print('거짓')\n",
        " \n",
        "if False:\n",
        "    print('참')\n",
        "else:\n",
        "    print('거짓')    # False는 거짓\n",
        " \n",
        "if None:\n",
        "    print('참')\n",
        "else:\n",
        "    print('거짓')    # None은 거짓"
      ],
      "execution_count": 70,
      "outputs": [
        {
          "output_type": "stream",
          "text": [
            "참\n",
            "거짓\n",
            "거짓\n"
          ],
          "name": "stdout"
        }
      ]
    },
    {
      "cell_type": "code",
      "metadata": {
        "id": "xjcMogb5QAP2"
      },
      "source": [
        "# 특히 None은 False로 취급되므로 else의 코드가 실행됩니다.\n",
        "# 실제 코드를 작성할 때 변수에 들어있는 값이나 함수의 결과가 None인 경우가 많으므로 이 부분은 꼭 기억해두세요."
      ],
      "execution_count": 71,
      "outputs": []
    },
    {
      "cell_type": "code",
      "metadata": {
        "colab": {
          "base_uri": "https://localhost:8080/"
        },
        "id": "HfdkHVFHQI8v",
        "outputId": "0108303b-8098-479a-e0a2-f3dd5b6bb5ca"
      },
      "source": [
        "if 0:\n",
        "    print('참')\n",
        "else:\n",
        "    print('거짓')    # 0은 거짓\n",
        " \n",
        "if 1:\n",
        "    print('참')    # 1은 참\n",
        "else:\n",
        "    print('거짓')\n",
        " \n",
        "if 0x1F:    # 16진수\n",
        "    print('참')    # 0x1F는 참\n",
        "else:\n",
        "    print('거짓')\n",
        " \n",
        "if 0b1000:    # 2진수\n",
        "    print('참')    # 0b1000은 참\n",
        "else:\n",
        "    print('거짓')\n",
        " \n",
        "if 13.5:    # 실수\n",
        "    print('참')    # 13.5는 참\n",
        "else:\n",
        "    print('거짓')"
      ],
      "execution_count": 72,
      "outputs": [
        {
          "output_type": "stream",
          "text": [
            "거짓\n",
            "참\n",
            "참\n",
            "참\n",
            "참\n"
          ],
          "name": "stdout"
        }
      ]
    },
    {
      "cell_type": "code",
      "metadata": {
        "colab": {
          "base_uri": "https://localhost:8080/"
        },
        "id": "ngaW8cE7QM8Y",
        "outputId": "0e0eed60-59ef-4a04-87b3-6fc9d78bcef6"
      },
      "source": [
        "x = 10\n",
        "y = 20\n",
        " \n",
        "if x == 10 and y == 20:     # x가 10이면서 y가 20일 때\n",
        "    print('참')\n",
        "else:\n",
        "    print('거짓')"
      ],
      "execution_count": 75,
      "outputs": [
        {
          "output_type": "stream",
          "text": [
            "참\n"
          ],
          "name": "stdout"
        }
      ]
    },
    {
      "cell_type": "code",
      "metadata": {
        "id": "W-pyTuGsQpQI"
      },
      "source": [
        "# 중첩 논리 연산자"
      ],
      "execution_count": 76,
      "outputs": []
    },
    {
      "cell_type": "code",
      "metadata": {
        "colab": {
          "base_uri": "https://localhost:8080/"
        },
        "id": "RsFUJUysQxmA",
        "outputId": "9e72aedb-541f-450a-fa88-a7ceb891b853"
      },
      "source": [
        "if x > 0:\n",
        "    if x < 20:\n",
        "        print('20보다 작은 양수입니다.')"
      ],
      "execution_count": 77,
      "outputs": [
        {
          "output_type": "stream",
          "text": [
            "20보다 작은 양수입니다.\n"
          ],
          "name": "stdout"
        }
      ]
    },
    {
      "cell_type": "code",
      "metadata": {
        "colab": {
          "base_uri": "https://localhost:8080/"
        },
        "id": "vpGKmAz8QyTQ",
        "outputId": "9a3f5201-7a30-416d-ad4b-f09bea388713"
      },
      "source": [
        "if x > 0 and x < 20:\n",
        "    print('20보다 작은 양수입니다.')"
      ],
      "execution_count": 78,
      "outputs": [
        {
          "output_type": "stream",
          "text": [
            "20보다 작은 양수입니다.\n"
          ],
          "name": "stdout"
        }
      ]
    },
    {
      "cell_type": "code",
      "metadata": {
        "colab": {
          "base_uri": "https://localhost:8080/"
        },
        "id": "idaOZ_tbQ2OY",
        "outputId": "47e74719-b5a9-40a3-8e05-1e007c5e08c1"
      },
      "source": [
        "if 0 < x < 20:\n",
        "    print('20보다 작은 양수입니다.')\n",
        "\n",
        "# 부등호의 방향과는 관계 없이 조건의 뜻만 만족하면 됩니다. 즉, x > 0과 0 < x의 뜻은 같습니다."
      ],
      "execution_count": 80,
      "outputs": [
        {
          "output_type": "stream",
          "text": [
            "20보다 작은 양수입니다.\n"
          ],
          "name": "stdout"
        }
      ]
    },
    {
      "cell_type": "markdown",
      "metadata": {
        "id": "KGAcIzyiRnCl"
      },
      "source": [
        "## 14.6 연습문제: 합격 여부 판단하기"
      ]
    },
    {
      "cell_type": "code",
      "metadata": {
        "colab": {
          "base_uri": "https://localhost:8080/"
        },
        "id": "MB5XF96aQ3on",
        "outputId": "2c550de5-f9fb-4c28-b136-0ecd029e1c50"
      },
      "source": [
        "written_test = 75\n",
        "coding_test = True\n",
        " \n",
        "if written_test >= 80 and coding_test == True:\n",
        "    print('합격')\n",
        "else:\n",
        "    print('불합격')"
      ],
      "execution_count": 81,
      "outputs": [
        {
          "output_type": "stream",
          "text": [
            "불합격\n"
          ],
          "name": "stdout"
        }
      ]
    },
    {
      "cell_type": "markdown",
      "metadata": {
        "id": "LrhLtqaxR3Va"
      },
      "source": [
        "## 14.7 심사문제"
      ]
    },
    {
      "cell_type": "code",
      "metadata": {
        "colab": {
          "base_uri": "https://localhost:8080/"
        },
        "id": "_rgAx6HARzIa",
        "outputId": "38c7315f-1644-4d66-9108-0e2c8fa40bc4"
      },
      "source": [
        "korean, english, mathmathics, science = map(int, input().split())\n",
        "if (korean + english + mathmathics + science) / 4 >=80:\n",
        "    print('합격')\n",
        "else:\n",
        "    print('불합격')"
      ],
      "execution_count": 86,
      "outputs": [
        {
          "output_type": "stream",
          "text": [
            "89 72 93 82\n",
            "합격\n"
          ],
          "name": "stdout"
        }
      ]
    },
    {
      "cell_type": "code",
      "metadata": {
        "colab": {
          "base_uri": "https://localhost:8080/"
        },
        "id": "1yovwz44SNCo",
        "outputId": "48529d96-2877-47df-90eb-c9af12c4aeaa"
      },
      "source": [
        "korean, english, mathmathics, science = map(int, input().split())\n",
        "if (korean + english + mathmathics + science) / 4 >=80:\n",
        "    print('합격')\n",
        "else:\n",
        "    print('불합격')"
      ],
      "execution_count": 87,
      "outputs": [
        {
          "output_type": "stream",
          "text": [
            "100 79 68 71\n",
            "불합격\n"
          ],
          "name": "stdout"
        }
      ]
    },
    {
      "cell_type": "code",
      "metadata": {
        "colab": {
          "base_uri": "https://localhost:8080/"
        },
        "id": "O49exAqESanf",
        "outputId": "8f815d18-d8f0-4c2c-dbaf-cd6f2cc0b499"
      },
      "source": [
        "korean, english, mathmathics, science = map(int, input().split())\n",
        "if korean > 100 or korean < 0 or english > 100 or english < 0 or mathmathics > 100 or mathmathics < 0 or science > 100 or science < 0:\n",
        "    print('잘못된 점수')\n",
        "else:\n",
        "    if (korean + english + mathmathics + science) / 4 >= 80:\n",
        "        print('합격')\n",
        "    else:\n",
        "        print('불합격')"
      ],
      "execution_count": 94,
      "outputs": [
        {
          "output_type": "stream",
          "text": [
            "99 85 101 90\n",
            "잘못된 점수\n"
          ],
          "name": "stdout"
        }
      ]
    },
    {
      "cell_type": "code",
      "metadata": {
        "id": "Q3ToLX51Sqz3"
      },
      "source": [
        ""
      ],
      "execution_count": null,
      "outputs": []
    }
  ]
}