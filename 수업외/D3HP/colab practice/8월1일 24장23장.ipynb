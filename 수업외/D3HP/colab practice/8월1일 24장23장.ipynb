{
  "nbformat": 4,
  "nbformat_minor": 0,
  "metadata": {
    "colab": {
      "name": "8월1일.ipynb",
      "provenance": [],
      "collapsed_sections": [
        "RFz7zxJf0HJo",
        "IcY7h7R20MzD",
        "etyIiPeT0QPh",
        "eseQPcMZ8Nte",
        "WTQF8Ol0Ayou",
        "3M4ihkZJGJQM",
        "6GD7zcetI4L2",
        "QgcecdSkORtL"
      ]
    },
    "kernelspec": {
      "name": "python3",
      "display_name": "Python 3"
    },
    "language_info": {
      "name": "python"
    }
  },
  "cells": [
    {
      "cell_type": "markdown",
      "metadata": {
        "id": "RFz7zxJf0HJo"
      },
      "source": [
        "# 24,23->19,29,21,22->10,11,12,13,14,중요<16>->1~26"
      ]
    },
    {
      "cell_type": "markdown",
      "metadata": {
        "id": "IcY7h7R20MzD"
      },
      "source": [
        "# Unit24. 문자열 응용하기"
      ]
    },
    {
      "cell_type": "markdown",
      "metadata": {
        "id": "etyIiPeT0QPh"
      },
      "source": [
        "## 24.1 문자열 조작하기"
      ]
    },
    {
      "cell_type": "code",
      "metadata": {
        "colab": {
          "base_uri": "https://localhost:8080/",
          "height": 35
        },
        "id": "QkfXjInl0GiK",
        "outputId": "7e9b68eb-1439-4e8d-cf4c-af40b3834f04"
      },
      "source": [
        "# replace('바꿀문자열', '새문자열')\n",
        "x = 'Hello, world!'\n",
        "x.replace('world', 'Python')"
      ],
      "execution_count": null,
      "outputs": [
        {
          "output_type": "execute_result",
          "data": {
            "application/vnd.google.colaboratory.intrinsic+json": {
              "type": "string"
            },
            "text/plain": [
              "'Hello, Python!'"
            ]
          },
          "metadata": {
            "tags": []
          },
          "execution_count": 11
        }
      ]
    },
    {
      "cell_type": "code",
      "metadata": {
        "colab": {
          "base_uri": "https://localhost:8080/",
          "height": 35
        },
        "id": "4pX4kst-1HDx",
        "outputId": "29e3ed00-0be1-4336-ea41-c412c49236af"
      },
      "source": [
        "x                       # x 값은 그대로"
      ],
      "execution_count": null,
      "outputs": [
        {
          "output_type": "execute_result",
          "data": {
            "application/vnd.google.colaboratory.intrinsic+json": {
              "type": "string"
            },
            "text/plain": [
              "'Hello, world!'"
            ]
          },
          "metadata": {
            "tags": []
          },
          "execution_count": 12
        }
      ]
    },
    {
      "cell_type": "code",
      "metadata": {
        "colab": {
          "base_uri": "https://localhost:8080/",
          "height": 35
        },
        "id": "y-1blXCv0dHu",
        "outputId": "b721b75b-21de-47e3-ae83-9e2101c7679a"
      },
      "source": [
        "s = 'Hello, world!'\n",
        "s = s.replace('world!', 'Python')       # 다시 변수 할당해서 s 값 바뀜\n",
        "s"
      ],
      "execution_count": null,
      "outputs": [
        {
          "output_type": "execute_result",
          "data": {
            "application/vnd.google.colaboratory.intrinsic+json": {
              "type": "string"
            },
            "text/plain": [
              "'Hello, Python'"
            ]
          },
          "metadata": {
            "tags": []
          },
          "execution_count": 6
        }
      ]
    },
    {
      "cell_type": "code",
      "metadata": {
        "id": "5lLtIWmE01K2"
      },
      "source": [
        "# str.maketrans('바꿀문자', '새문자')"
      ],
      "execution_count": null,
      "outputs": []
    },
    {
      "cell_type": "code",
      "metadata": {
        "colab": {
          "base_uri": "https://localhost:8080/",
          "height": 35
        },
        "id": "NJAOvKGr1Tq2",
        "outputId": "46e22845-6133-4a73-8238-81aaa3ccdead"
      },
      "source": [
        "table = str.maketrans('apeioeue', '10234758') # 겹치면 제일 뒤에꺼\n",
        "'apple'.translate(table)"
      ],
      "execution_count": null,
      "outputs": [
        {
          "output_type": "execute_result",
          "data": {
            "application/vnd.google.colaboratory.intrinsic+json": {
              "type": "string"
            },
            "text/plain": [
              "'100l8'"
            ]
          },
          "metadata": {
            "tags": []
          },
          "execution_count": 17
        }
      ]
    },
    {
      "cell_type": "code",
      "metadata": {
        "colab": {
          "base_uri": "https://localhost:8080/"
        },
        "id": "RkU4ya4k1gaX",
        "outputId": "2847518e-94ef-404e-ca3f-6acdb13121cb"
      },
      "source": [
        "#split()\n",
        "'apple pear grape pineapple orange'.split() # 공백을 기준으로 문자열을 분리하여 리스트로 만듦"
      ],
      "execution_count": null,
      "outputs": [
        {
          "output_type": "execute_result",
          "data": {
            "text/plain": [
              "['apple', 'pear', 'grape', 'pineapple', 'orange']"
            ]
          },
          "metadata": {
            "tags": []
          },
          "execution_count": 18
        }
      ]
    },
    {
      "cell_type": "code",
      "metadata": {
        "colab": {
          "base_uri": "https://localhost:8080/"
        },
        "id": "vB08WMRn13-u",
        "outputId": "e17b2b11-9742-4ae4-8287-00abe7fec1c8"
      },
      "source": [
        "'apple, pear, grape, pineapple, orange'.split()"
      ],
      "execution_count": null,
      "outputs": [
        {
          "output_type": "execute_result",
          "data": {
            "text/plain": [
              "['apple,', 'pear,', 'grape,', 'pineapple,', 'orange']"
            ]
          },
          "metadata": {
            "tags": []
          },
          "execution_count": 20
        }
      ]
    },
    {
      "cell_type": "code",
      "metadata": {
        "colab": {
          "base_uri": "https://localhost:8080/"
        },
        "id": "u0n2-VHM2GN1",
        "outputId": "efcec74c-4116-4489-954b-d56226b476e4"
      },
      "source": [
        "'apple, pear, grape, pineapple, orange'.split(', ')\n",
        "# split('기준문자열')과 같이 기준 문자열을 지정하면 기준 문자열로 문자열을 분리"
      ],
      "execution_count": null,
      "outputs": [
        {
          "output_type": "execute_result",
          "data": {
            "text/plain": [
              "['apple', 'pear', 'grape', 'pineapple', 'orange']"
            ]
          },
          "metadata": {
            "tags": []
          },
          "execution_count": 21
        }
      ]
    },
    {
      "cell_type": "code",
      "metadata": {
        "colab": {
          "base_uri": "https://localhost:8080/",
          "height": 35
        },
        "id": "bVmNQJPW2Vhe",
        "outputId": "76a5c84c-043c-400f-f7fd-9f4daca69773"
      },
      "source": [
        "# join(리스트)\n",
        "'+'.join(['apple', 'pear', 'grape', 'pineapple', 'orange']) # 리스트, 앞에 써야함"
      ],
      "execution_count": null,
      "outputs": [
        {
          "output_type": "execute_result",
          "data": {
            "application/vnd.google.colaboratory.intrinsic+json": {
              "type": "string"
            },
            "text/plain": [
              "'apple+pear+grape+pineapple+orange'"
            ]
          },
          "metadata": {
            "tags": []
          },
          "execution_count": 23
        }
      ]
    },
    {
      "cell_type": "code",
      "metadata": {
        "colab": {
          "base_uri": "https://localhost:8080/"
        },
        "id": "pltSviJp2vBe",
        "outputId": "cdf06d41-ffe9-46b7-dbdc-0bfa0415e399"
      },
      "source": [
        "'apple', 'pear', 'grape', 'pineapple', 'orange'.join('+')"
      ],
      "execution_count": null,
      "outputs": [
        {
          "output_type": "execute_result",
          "data": {
            "text/plain": [
              "('apple', 'pear', 'grape', 'pineapple', '+')"
            ]
          },
          "metadata": {
            "tags": []
          },
          "execution_count": 24
        }
      ]
    },
    {
      "cell_type": "code",
      "metadata": {
        "colab": {
          "base_uri": "https://localhost:8080/",
          "height": 176
        },
        "id": "C6ru_mDn3AK1",
        "outputId": "7f2aa1e5-7cb1-48a0-f1bf-992c1b5dd488"
      },
      "source": [
        "(['apple', 'pear', 'grape', 'pineapple', 'orange']).join('+')"
      ],
      "execution_count": null,
      "outputs": [
        {
          "output_type": "error",
          "ename": "AttributeError",
          "evalue": "ignored",
          "traceback": [
            "\u001b[0;31m---------------------------------------------------------------------------\u001b[0m",
            "\u001b[0;31mAttributeError\u001b[0m                            Traceback (most recent call last)",
            "\u001b[0;32m<ipython-input-27-e7530adaf64b>\u001b[0m in \u001b[0;36m<module>\u001b[0;34m()\u001b[0m\n\u001b[0;32m----> 1\u001b[0;31m \u001b[0;34m(\u001b[0m\u001b[0;34m[\u001b[0m\u001b[0;34m'apple'\u001b[0m\u001b[0;34m,\u001b[0m \u001b[0;34m'pear'\u001b[0m\u001b[0;34m,\u001b[0m \u001b[0;34m'grape'\u001b[0m\u001b[0;34m,\u001b[0m \u001b[0;34m'pineapple'\u001b[0m\u001b[0;34m,\u001b[0m \u001b[0;34m'orange'\u001b[0m\u001b[0;34m]\u001b[0m\u001b[0;34m)\u001b[0m\u001b[0;34m.\u001b[0m\u001b[0mjoin\u001b[0m\u001b[0;34m(\u001b[0m\u001b[0;34m'+'\u001b[0m\u001b[0;34m)\u001b[0m\u001b[0;34m\u001b[0m\u001b[0;34m\u001b[0m\u001b[0m\n\u001b[0m",
            "\u001b[0;31mAttributeError\u001b[0m: 'list' object has no attribute 'join'"
          ]
        }
      ]
    },
    {
      "cell_type": "code",
      "metadata": {
        "id": "1898LkP-3Nq1"
      },
      "source": [
        "# .upper() 소문자 -> 대문자      문자열 모두\n",
        "# .lower() 대문자 -> 소문자      문자열 모두\n",
        "# 왼쪽 공백 삭제 .lstrip()       /  왼쪽 특정문자 삭제 .lstrip('삭제할문자')\n",
        "# 오른쪽 공백 삭제 .rstrip()     /  오른쪽 특정문자 삭제 .rstrip('삭제할문자')\n",
        "# 양쪽 공백 삭제 .strip()        /  양쪽 특정문자 삭제 .strip('삭제할문자')\n",
        "# 왼쪽 정렬 .ljust(길이)\n",
        "# 오른쪽 정렬 .rjust(길이)\n",
        "# 가운데 정렬 .center(길이)"
      ],
      "execution_count": null,
      "outputs": []
    },
    {
      "cell_type": "code",
      "metadata": {
        "colab": {
          "base_uri": "https://localhost:8080/",
          "height": 35
        },
        "id": "lZQr3ifr37sN",
        "outputId": "831ba18d-692a-4533-c6c0-40d16819bd7a"
      },
      "source": [
        "import string\n",
        "', python..,.,\\\\\\\\{}!!;'.strip(string.punctuation)"
      ],
      "execution_count": null,
      "outputs": [
        {
          "output_type": "execute_result",
          "data": {
            "application/vnd.google.colaboratory.intrinsic+json": {
              "type": "string"
            },
            "text/plain": [
              "' python'"
            ]
          },
          "metadata": {
            "tags": []
          },
          "execution_count": 42
        }
      ]
    },
    {
      "cell_type": "code",
      "metadata": {
        "colab": {
          "base_uri": "https://localhost:8080/",
          "height": 35
        },
        "id": "pOkurYYL4ePn",
        "outputId": "f2277313-f830-46e3-edd7-936e71e18f7d"
      },
      "source": [
        "', python..,.,\\  \\\\ \\{}!!;'.strip(string.punctuation)       # 공백은 삭제 불가"
      ],
      "execution_count": null,
      "outputs": [
        {
          "output_type": "execute_result",
          "data": {
            "application/vnd.google.colaboratory.intrinsic+json": {
              "type": "string"
            },
            "text/plain": [
              "' python..,.,\\\\  \\\\ '"
            ]
          },
          "metadata": {
            "tags": []
          },
          "execution_count": 45
        }
      ]
    },
    {
      "cell_type": "code",
      "metadata": {
        "colab": {
          "base_uri": "https://localhost:8080/",
          "height": 35
        },
        "id": "LH13AO6V4BSF",
        "outputId": "70831194-3d02-4aad-ced4-b4fb0097a74b"
      },
      "source": [
        "string.punctuation"
      ],
      "execution_count": null,
      "outputs": [
        {
          "output_type": "execute_result",
          "data": {
            "application/vnd.google.colaboratory.intrinsic+json": {
              "type": "string"
            },
            "text/plain": [
              "'!\"#$%&\\'()*+,-./:;<=>?@[\\\\]^_`{|}~'"
            ]
          },
          "metadata": {
            "tags": []
          },
          "execution_count": 46
        }
      ]
    },
    {
      "cell_type": "code",
      "metadata": {
        "colab": {
          "base_uri": "https://localhost:8080/",
          "height": 35
        },
        "id": "aNRwsFxi4Nml",
        "outputId": "906c6c40-d465-43e7-ed84-f46eaa89413c"
      },
      "source": [
        "', python..,.,\\  \\\\\\{}  !!;'.strip(string.punctuation + ' ')    # 공백 추가"
      ],
      "execution_count": null,
      "outputs": [
        {
          "output_type": "execute_result",
          "data": {
            "application/vnd.google.colaboratory.intrinsic+json": {
              "type": "string"
            },
            "text/plain": [
              "'python'"
            ]
          },
          "metadata": {
            "tags": []
          },
          "execution_count": 41
        }
      ]
    },
    {
      "cell_type": "code",
      "metadata": {
        "colab": {
          "base_uri": "https://localhost:8080/",
          "height": 35
        },
        "id": "mV9g4soG4X_8",
        "outputId": "02e4187e-1a66-4445-9da2-c9434b59cb96"
      },
      "source": [
        "'python'.ljust(10)"
      ],
      "execution_count": null,
      "outputs": [
        {
          "output_type": "execute_result",
          "data": {
            "application/vnd.google.colaboratory.intrinsic+json": {
              "type": "string"
            },
            "text/plain": [
              "'python    '"
            ]
          },
          "metadata": {
            "tags": []
          },
          "execution_count": 47
        }
      ]
    },
    {
      "cell_type": "code",
      "metadata": {
        "colab": {
          "base_uri": "https://localhost:8080/",
          "height": 35
        },
        "id": "5gCdwA0p4vw1",
        "outputId": "a41619f5-41ce-4eba-b777-307b09a10aab"
      },
      "source": [
        "'python'.center(3)  # 길이가 문자열보다 적으면 의미없음 # 홀수면 왼쪽이 공백+1"
      ],
      "execution_count": null,
      "outputs": [
        {
          "output_type": "execute_result",
          "data": {
            "application/vnd.google.colaboratory.intrinsic+json": {
              "type": "string"
            },
            "text/plain": [
              "'python'"
            ]
          },
          "metadata": {
            "tags": []
          },
          "execution_count": 51
        }
      ]
    },
    {
      "cell_type": "code",
      "metadata": {
        "colab": {
          "base_uri": "https://localhost:8080/",
          "height": 35
        },
        "id": "KbVTDlhG47ab",
        "outputId": "03dbea4c-ee67-4180-89e7-b26dccc6606c"
      },
      "source": [
        "# method chaining\n",
        "'python'.rjust(10).upper()"
      ],
      "execution_count": null,
      "outputs": [
        {
          "output_type": "execute_result",
          "data": {
            "application/vnd.google.colaboratory.intrinsic+json": {
              "type": "string"
            },
            "text/plain": [
              "'    PYTHON'"
            ]
          },
          "metadata": {
            "tags": []
          },
          "execution_count": 53
        }
      ]
    },
    {
      "cell_type": "code",
      "metadata": {
        "id": "ULEhB08x5MfV"
      },
      "source": [
        "# 공백에 0 채움. zfill(길이)\n",
        "# 보통 zfill은 숫자를 일정 자릿수로 맞추고 앞자리는 0으로 채울 때 사용합니다."
      ],
      "execution_count": null,
      "outputs": []
    },
    {
      "cell_type": "code",
      "metadata": {
        "colab": {
          "base_uri": "https://localhost:8080/",
          "height": 35
        },
        "id": "3fZB3Pc-5aPk",
        "outputId": "53e4e1a7-fbfa-4816-b3d2-bbe5b79f5b11"
      },
      "source": [
        "'35'.zfill(4)"
      ],
      "execution_count": null,
      "outputs": [
        {
          "output_type": "execute_result",
          "data": {
            "application/vnd.google.colaboratory.intrinsic+json": {
              "type": "string"
            },
            "text/plain": [
              "'0035'"
            ]
          },
          "metadata": {
            "tags": []
          },
          "execution_count": 55
        }
      ]
    },
    {
      "cell_type": "code",
      "metadata": {
        "colab": {
          "base_uri": "https://localhost:8080/",
          "height": 35
        },
        "id": "eXWR2PmM5cAE",
        "outputId": "3e16e4d4-0196-496b-a708-6d0508a962e5"
      },
      "source": [
        "'3.5'.zfill(6)      # 소숫점도 들어감"
      ],
      "execution_count": null,
      "outputs": [
        {
          "output_type": "execute_result",
          "data": {
            "application/vnd.google.colaboratory.intrinsic+json": {
              "type": "string"
            },
            "text/plain": [
              "'0003.5'"
            ]
          },
          "metadata": {
            "tags": []
          },
          "execution_count": 56
        }
      ]
    },
    {
      "cell_type": "code",
      "metadata": {
        "colab": {
          "base_uri": "https://localhost:8080/",
          "height": 35
        },
        "id": "fuzThbV55en0",
        "outputId": "d7837ff0-55c6-43a5-a94f-81b37a1839c3"
      },
      "source": [
        "'hello'.zfill(10)   # 문자열 앞에 0 채울 수 있음"
      ],
      "execution_count": null,
      "outputs": [
        {
          "output_type": "execute_result",
          "data": {
            "application/vnd.google.colaboratory.intrinsic+json": {
              "type": "string"
            },
            "text/plain": [
              "'00000hello'"
            ]
          },
          "metadata": {
            "tags": []
          },
          "execution_count": 57
        }
      ]
    },
    {
      "cell_type": "code",
      "metadata": {
        "colab": {
          "base_uri": "https://localhost:8080/"
        },
        "id": "C1b49-Z35hQ7",
        "outputId": "95848b66-bdcd-4fd5-a60d-6d6dd78b89f0"
      },
      "source": [
        "'apple pineapple'.find('pl')  # 왼쪽 처음 찾는 'pl'의 인덱스 반환"
      ],
      "execution_count": null,
      "outputs": [
        {
          "output_type": "execute_result",
          "data": {
            "text/plain": [
              "2"
            ]
          },
          "metadata": {
            "tags": []
          },
          "execution_count": 59
        }
      ]
    },
    {
      "cell_type": "code",
      "metadata": {
        "colab": {
          "base_uri": "https://localhost:8080/"
        },
        "id": "A8KX_4yq7dz0",
        "outputId": "82dcd0d3-28aa-481e-c86d-81449a45ee34"
      },
      "source": [
        "'apple pineapple'.find('xy')"
      ],
      "execution_count": null,
      "outputs": [
        {
          "output_type": "execute_result",
          "data": {
            "text/plain": [
              "-1"
            ]
          },
          "metadata": {
            "tags": []
          },
          "execution_count": 60
        }
      ]
    },
    {
      "cell_type": "code",
      "metadata": {
        "id": "7cmr2ExX7n9T"
      },
      "source": [
        "# 오른쪽부터 찾기 rfind(찾을문자열)"
      ],
      "execution_count": null,
      "outputs": []
    },
    {
      "cell_type": "code",
      "metadata": {
        "colab": {
          "base_uri": "https://localhost:8080/"
        },
        "id": "Idl58nkq7vUj",
        "outputId": "3230996f-5877-4cdc-a1f6-e2bd3d44e367"
      },
      "source": [
        "# index('찾을문자열')\n",
        "'apple pineapple'.index('pl')           # find, index 둘 다 가능"
      ],
      "execution_count": null,
      "outputs": [
        {
          "output_type": "execute_result",
          "data": {
            "text/plain": [
              "2"
            ]
          },
          "metadata": {
            "tags": []
          },
          "execution_count": 65
        }
      ]
    },
    {
      "cell_type": "code",
      "metadata": {
        "colab": {
          "base_uri": "https://localhost:8080/"
        },
        "id": "ZrHdG9mf71hb",
        "outputId": "523bf710-da8a-4a19-9d1d-d3c331bdd24a"
      },
      "source": [
        "'apple pineapple'.rindex('pl')"
      ],
      "execution_count": null,
      "outputs": [
        {
          "output_type": "execute_result",
          "data": {
            "text/plain": [
              "12"
            ]
          },
          "metadata": {
            "tags": []
          },
          "execution_count": 66
        }
      ]
    },
    {
      "cell_type": "code",
      "metadata": {
        "colab": {
          "base_uri": "https://localhost:8080/"
        },
        "id": "ZwDl11DE7-kr",
        "outputId": "4a7f8788-1358-4e3a-a1dc-ea5ca552d35c"
      },
      "source": [
        "'apple pineapple'.count('pk')       # 찾으려는 문자열이 몇 번 나오는지"
      ],
      "execution_count": null,
      "outputs": [
        {
          "output_type": "execute_result",
          "data": {
            "text/plain": [
              "0"
            ]
          },
          "metadata": {
            "tags": []
          },
          "execution_count": 70
        }
      ]
    },
    {
      "cell_type": "markdown",
      "metadata": {
        "id": "eseQPcMZ8Nte"
      },
      "source": [
        "## 24.2 문자열 서식 지정자(format specifier)와 포매팅 사용하기"
      ]
    },
    {
      "cell_type": "code",
      "metadata": {
        "colab": {
          "base_uri": "https://localhost:8080/",
          "height": 35
        },
        "id": "zyVGktJK8EQr",
        "outputId": "bc61b00f-068f-43ce-a52f-279d6ea9d623"
      },
      "source": [
        "# '%s' % '문자열'\n",
        "'I am %s.' % 'james'        # %로 시작 s (string) 자료형뜻하는문자가붙음"
      ],
      "execution_count": null,
      "outputs": [
        {
          "output_type": "execute_result",
          "data": {
            "application/vnd.google.colaboratory.intrinsic+json": {
              "type": "string"
            },
            "text/plain": [
              "'I am james.'"
            ]
          },
          "metadata": {
            "tags": []
          },
          "execution_count": 73
        }
      ]
    },
    {
      "cell_type": "code",
      "metadata": {
        "colab": {
          "base_uri": "https://localhost:8080/"
        },
        "id": "XSmg3yEd9Cez",
        "outputId": "3c180af9-27be-4a1d-91a2-54c1fb6cb9da"
      },
      "source": [
        "print('I am %f' % 99, 'I am %i.' % 30, sep=',  ')       # 실수 고정 소수점 fixed point의 f\n",
        "# %f는 기본적으로 소숫점 이하 6자리까지 표시"
      ],
      "execution_count": null,
      "outputs": [
        {
          "output_type": "stream",
          "text": [
            "I am 99.000000,  I am 30.\n"
          ],
          "name": "stdout"
        }
      ]
    },
    {
      "cell_type": "code",
      "metadata": {
        "colab": {
          "base_uri": "https://localhost:8080/",
          "height": 35
        },
        "id": "0dgFLfn19UgT",
        "outputId": "69f7efaf-ffd6-4c6a-c53a-df8f72bcc550"
      },
      "source": [
        "name = 'maria'\n",
        "'I am %s.' % name"
      ],
      "execution_count": null,
      "outputs": [
        {
          "output_type": "execute_result",
          "data": {
            "application/vnd.google.colaboratory.intrinsic+json": {
              "type": "string"
            },
            "text/plain": [
              "'I am maria.'"
            ]
          },
          "metadata": {
            "tags": []
          },
          "execution_count": 88
        }
      ]
    },
    {
      "cell_type": "code",
      "metadata": {
        "colab": {
          "base_uri": "https://localhost:8080/",
          "height": 35
        },
        "id": "4vY7xWoO9kQT",
        "outputId": "bea36501-6afb-4675-9175-4276f2660a68"
      },
      "source": [
        "# '%d' % 숫자       숫자 넣기\n",
        "'I am %d years old.' % 20       # 10진 정수 decimal integerd의 d"
      ],
      "execution_count": null,
      "outputs": [
        {
          "output_type": "execute_result",
          "data": {
            "application/vnd.google.colaboratory.intrinsic+json": {
              "type": "string"
            },
            "text/plain": [
              "'I am 20 years old.'"
            ]
          },
          "metadata": {
            "tags": []
          },
          "execution_count": 89
        }
      ]
    },
    {
      "cell_type": "code",
      "metadata": {
        "colab": {
          "base_uri": "https://localhost:8080/",
          "height": 35
        },
        "id": "eQzvjcfd-CA6",
        "outputId": "88583e7d-c78e-4605-ad8f-0677dd4fe0fa"
      },
      "source": [
        "'%.2f' % 2.3    # '%.자릿수f' % 숫자"
      ],
      "execution_count": null,
      "outputs": [
        {
          "output_type": "execute_result",
          "data": {
            "application/vnd.google.colaboratory.intrinsic+json": {
              "type": "string"
            },
            "text/plain": [
              "'2.30'"
            ]
          },
          "metadata": {
            "tags": []
          },
          "execution_count": 92
        }
      ]
    },
    {
      "cell_type": "code",
      "metadata": {
        "colab": {
          "base_uri": "https://localhost:8080/",
          "height": 35
        },
        "id": "EBZMTgbQ-VOS",
        "outputId": "3ee15325-d533-4cbb-f9a8-cfd62d79b98d"
      },
      "source": [
        "# 오른쪽 정렬\n",
        "# %길이s\n",
        "'%10s' % 'python'       # .rjust()랑 똑같은거 아닌가"
      ],
      "execution_count": null,
      "outputs": [
        {
          "output_type": "execute_result",
          "data": {
            "application/vnd.google.colaboratory.intrinsic+json": {
              "type": "string"
            },
            "text/plain": [
              "'    python'"
            ]
          },
          "metadata": {
            "tags": []
          },
          "execution_count": 95
        }
      ]
    },
    {
      "cell_type": "code",
      "metadata": {
        "id": "7yYmaEJ3-hEi"
      },
      "source": [
        "# 자릿수가 다른 숫자 출력하기\n",
        "# 문자열 오른쪽 정렬은 자릿수가 다른 숫자를 출력할 때 유용합니다. %d와 %f도 숫자와 조합하여 오른쪽으로 정렬할 수 있습니다."
      ],
      "execution_count": null,
      "outputs": []
    },
    {
      "cell_type": "code",
      "metadata": {
        "colab": {
          "base_uri": "https://localhost:8080/",
          "height": 35
        },
        "id": "4SbHUNer-_qb",
        "outputId": "e2c71f48-4151-4854-ca1b-06172056e6aa"
      },
      "source": [
        "# 왼쪽 정렬\n",
        "'%-10s' % 'python'"
      ],
      "execution_count": null,
      "outputs": [
        {
          "output_type": "execute_result",
          "data": {
            "application/vnd.google.colaboratory.intrinsic+json": {
              "type": "string"
            },
            "text/plain": [
              "'python    '"
            ]
          },
          "metadata": {
            "tags": []
          },
          "execution_count": 98
        }
      ]
    },
    {
      "cell_type": "code",
      "metadata": {
        "id": "ZFNxd6mG_Pt7"
      },
      "source": [
        "# 문자열 안에 값 여러 개 넣기\n",
        "# '%d %s' % (숫자, '문자열')"
      ],
      "execution_count": null,
      "outputs": []
    },
    {
      "cell_type": "code",
      "metadata": {
        "colab": {
          "base_uri": "https://localhost:8080/",
          "height": 35
        },
        "id": "Lv6QkCij_bCx",
        "outputId": "6b505b10-37ff-4cb8-99aa-f3269f09bb1a"
      },
      "source": [
        "'Today is %d %s.' % (3, 'April')    # 서식 지정자 개수와 변수 개수 맞춰줌"
      ],
      "execution_count": null,
      "outputs": [
        {
          "output_type": "execute_result",
          "data": {
            "application/vnd.google.colaboratory.intrinsic+json": {
              "type": "string"
            },
            "text/plain": [
              "'Today is 3 April.'"
            ]
          },
          "metadata": {
            "tags": []
          },
          "execution_count": 103
        }
      ]
    },
    {
      "cell_type": "code",
      "metadata": {
        "colab": {
          "base_uri": "https://localhost:8080/",
          "height": 35
        },
        "id": "4rLPJ1IE_fDi",
        "outputId": "54f6ab2d-d529-4a4d-a28d-f0e0df6dc3fd"
      },
      "source": [
        "'Today is %d%s.' % (3, 'April') # 서식 지정자를 붙이면 결과도 붙여나옴"
      ],
      "execution_count": null,
      "outputs": [
        {
          "output_type": "execute_result",
          "data": {
            "application/vnd.google.colaboratory.intrinsic+json": {
              "type": "string"
            },
            "text/plain": [
              "'Today is 3April.'"
            ]
          },
          "metadata": {
            "tags": []
          },
          "execution_count": 105
        }
      ]
    },
    {
      "cell_type": "code",
      "metadata": {
        "colab": {
          "base_uri": "https://localhost:8080/",
          "height": 35
        },
        "id": "MaeC4CBk_p6q",
        "outputId": "da0d40cb-7202-416d-851d-98ac3b4770fd"
      },
      "source": [
        "# '{인덱스}'.format(값)\n",
        "'Hello, {0}'.format('world!')"
      ],
      "execution_count": null,
      "outputs": [
        {
          "output_type": "execute_result",
          "data": {
            "application/vnd.google.colaboratory.intrinsic+json": {
              "type": "string"
            },
            "text/plain": [
              "'Hello, world!'"
            ]
          },
          "metadata": {
            "tags": []
          },
          "execution_count": 106
        }
      ]
    },
    {
      "cell_type": "code",
      "metadata": {
        "colab": {
          "base_uri": "https://localhost:8080/",
          "height": 35
        },
        "id": "2A4pnFek_z9a",
        "outputId": "7deaa6d0-7998-4ad9-e2cb-9aa936779235"
      },
      "source": [
        "'example, {}'.format(99)"
      ],
      "execution_count": null,
      "outputs": [
        {
          "output_type": "execute_result",
          "data": {
            "application/vnd.google.colaboratory.intrinsic+json": {
              "type": "string"
            },
            "text/plain": [
              "'example, 99'"
            ]
          },
          "metadata": {
            "tags": []
          },
          "execution_count": 110
        }
      ]
    },
    {
      "cell_type": "code",
      "metadata": {
        "colab": {
          "base_uri": "https://localhost:8080/",
          "height": 35
        },
        "id": "FUzJXdN0_-DK",
        "outputId": "3dec261f-b4be-411b-baea-5c1ade237dc0"
      },
      "source": [
        "'Hello, {0} {2}, {1}'.format('Python', 'Script', 3.6)\n",
        "# 인덱스 순서에 따라 들어감"
      ],
      "execution_count": null,
      "outputs": [
        {
          "output_type": "execute_result",
          "data": {
            "application/vnd.google.colaboratory.intrinsic+json": {
              "type": "string"
            },
            "text/plain": [
              "'Hello, Python 3.6, Script'"
            ]
          },
          "metadata": {
            "tags": []
          },
          "execution_count": 114
        }
      ]
    },
    {
      "cell_type": "code",
      "metadata": {
        "colab": {
          "base_uri": "https://localhost:8080/",
          "height": 35
        },
        "id": "xz06nIMjAMda",
        "outputId": "e395817a-4e7a-4088-fb5e-1a2d9916d71b"
      },
      "source": [
        "'{0}, {0} {1} {1}'.format('Python', 'Script')"
      ],
      "execution_count": null,
      "outputs": [
        {
          "output_type": "execute_result",
          "data": {
            "application/vnd.google.colaboratory.intrinsic+json": {
              "type": "string"
            },
            "text/plain": [
              "'Python, Python Script Script'"
            ]
          },
          "metadata": {
            "tags": []
          },
          "execution_count": 113
        }
      ]
    },
    {
      "cell_type": "code",
      "metadata": {
        "colab": {
          "base_uri": "https://localhost:8080/",
          "height": 35
        },
        "id": "aHFMx0Z-AbFq",
        "outputId": "0f944e03-f7ae-4eb8-e966-a9ce237f7bac"
      },
      "source": [
        "'Hello, {language} {version}'.format(language='Python', version=3.6)\n",
        "# 인덱스 대신 이름으로 지정"
      ],
      "execution_count": null,
      "outputs": [
        {
          "output_type": "execute_result",
          "data": {
            "application/vnd.google.colaboratory.intrinsic+json": {
              "type": "string"
            },
            "text/plain": [
              "'Hello, Python 3.6'"
            ]
          },
          "metadata": {
            "tags": []
          },
          "execution_count": 116
        }
      ]
    },
    {
      "cell_type": "markdown",
      "metadata": {
        "id": "WTQF8Ol0Ayou"
      },
      "source": [
        "## f-string"
      ]
    },
    {
      "cell_type": "code",
      "metadata": {
        "colab": {
          "base_uri": "https://localhost:8080/",
          "height": 35
        },
        "id": "TbuBhacgApH6",
        "outputId": "c44dfcc4-daf7-4f47-9baf-ead229f0183c"
      },
      "source": [
        "language = 'Python'\n",
        "version = 3.6\n",
        "f'Hello, {language} {version}'"
      ],
      "execution_count": null,
      "outputs": [
        {
          "output_type": "execute_result",
          "data": {
            "application/vnd.google.colaboratory.intrinsic+json": {
              "type": "string"
            },
            "text/plain": [
              "'Hello, Python 3.6'"
            ]
          },
          "metadata": {
            "tags": []
          },
          "execution_count": 119
        }
      ]
    },
    {
      "cell_type": "code",
      "metadata": {
        "colab": {
          "base_uri": "https://localhost:8080/",
          "height": 35
        },
        "id": "oCnh3gMvBAZK",
        "outputId": "1afb79c3-a340-433d-8fd8-2fefe25e7769"
      },
      "source": [
        "# { } 중괄호 자체를 출력할 때는 {{, }}처럼 중괄호를 두 번 사용하면 됩니다.\n",
        "'{{ {0} }}'.format('Python')"
      ],
      "execution_count": null,
      "outputs": [
        {
          "output_type": "execute_result",
          "data": {
            "application/vnd.google.colaboratory.intrinsic+json": {
              "type": "string"
            },
            "text/plain": [
              "'{ Python }'"
            ]
          },
          "metadata": {
            "tags": []
          },
          "execution_count": 121
        }
      ]
    },
    {
      "cell_type": "code",
      "metadata": {
        "colab": {
          "base_uri": "https://localhost:8080/",
          "height": 35
        },
        "id": "1Su9lqy_BOgq",
        "outputId": "4a4fe48b-6135-436b-db0f-a4ed7b91c1f4"
      },
      "source": [
        "# 왼쪽 정렬 '{인덱스:<길이}'.format(값)\n",
        "'{0:<10}'.format('python')"
      ],
      "execution_count": null,
      "outputs": [
        {
          "output_type": "execute_result",
          "data": {
            "application/vnd.google.colaboratory.intrinsic+json": {
              "type": "string"
            },
            "text/plain": [
              "'python    '"
            ]
          },
          "metadata": {
            "tags": []
          },
          "execution_count": 122
        }
      ]
    },
    {
      "cell_type": "code",
      "metadata": {
        "colab": {
          "base_uri": "https://localhost:8080/",
          "height": 35
        },
        "id": "D8d5RJZPBcQT",
        "outputId": "d37a3779-68f2-42fa-9ac6-df7c66a5cb80"
      },
      "source": [
        "# 오른쪽 정렬 '{인덱스:>길이}'.format(값)\n",
        "'{0:>10}'.format('python')"
      ],
      "execution_count": null,
      "outputs": [
        {
          "output_type": "execute_result",
          "data": {
            "application/vnd.google.colaboratory.intrinsic+json": {
              "type": "string"
            },
            "text/plain": [
              "'    python'"
            ]
          },
          "metadata": {
            "tags": []
          },
          "execution_count": 123
        }
      ]
    },
    {
      "cell_type": "code",
      "metadata": {
        "colab": {
          "base_uri": "https://localhost:8080/",
          "height": 35
        },
        "id": "PvsCGowiBqVZ",
        "outputId": "6d40e895-bca7-44f9-f577-6228f77efa04"
      },
      "source": [
        "'{:>10}'.format('python')"
      ],
      "execution_count": null,
      "outputs": [
        {
          "output_type": "execute_result",
          "data": {
            "application/vnd.google.colaboratory.intrinsic+json": {
              "type": "string"
            },
            "text/plain": [
              "'    python'"
            ]
          },
          "metadata": {
            "tags": []
          },
          "execution_count": 124
        }
      ]
    },
    {
      "cell_type": "code",
      "metadata": {
        "id": "ljbhTncBBvuh"
      },
      "source": [
        "# '%0개수d' % 숫자\n",
        "# '{인덱스:0개수d'}'.format(숫자)"
      ],
      "execution_count": null,
      "outputs": []
    },
    {
      "cell_type": "code",
      "metadata": {
        "colab": {
          "base_uri": "https://localhost:8080/",
          "height": 35
        },
        "id": "SFyBXHWCB1s_",
        "outputId": "823aca7d-797a-4d01-fd86-e7fd4c38380e"
      },
      "source": [
        "'%03d' % 1"
      ],
      "execution_count": null,
      "outputs": [
        {
          "output_type": "execute_result",
          "data": {
            "application/vnd.google.colaboratory.intrinsic+json": {
              "type": "string"
            },
            "text/plain": [
              "'001'"
            ]
          },
          "metadata": {
            "tags": []
          },
          "execution_count": 126
        }
      ]
    },
    {
      "cell_type": "code",
      "metadata": {
        "colab": {
          "base_uri": "https://localhost:8080/",
          "height": 35
        },
        "id": "WbR1r9KMB3z4",
        "outputId": "9fed0bbc-6623-417b-8a3a-6afae690be8c"
      },
      "source": [
        "'{0:03d}'.format(35)"
      ],
      "execution_count": null,
      "outputs": [
        {
          "output_type": "execute_result",
          "data": {
            "application/vnd.google.colaboratory.intrinsic+json": {
              "type": "string"
            },
            "text/plain": [
              "'035'"
            ]
          },
          "metadata": {
            "tags": []
          },
          "execution_count": 127
        }
      ]
    },
    {
      "cell_type": "code",
      "metadata": {
        "id": "SW5Uepc6B7Dx"
      },
      "source": [
        "# '%0개수.자릿수f' % 숫자\n",
        "# '{인덱스:0개수.자릿수f'}.format(숫자)"
      ],
      "execution_count": null,
      "outputs": []
    },
    {
      "cell_type": "code",
      "metadata": {
        "colab": {
          "base_uri": "https://localhost:8080/",
          "height": 35
        },
        "id": "wj2eWLWMCCIB",
        "outputId": "9fd39576-e4a4-4627-81b6-ba922b4fb3cd"
      },
      "source": [
        "'%08.3f' % 3.6"
      ],
      "execution_count": null,
      "outputs": [
        {
          "output_type": "execute_result",
          "data": {
            "application/vnd.google.colaboratory.intrinsic+json": {
              "type": "string"
            },
            "text/plain": [
              "'0003.600'"
            ]
          },
          "metadata": {
            "tags": []
          },
          "execution_count": 130
        }
      ]
    },
    {
      "cell_type": "code",
      "metadata": {
        "colab": {
          "base_uri": "https://localhost:8080/",
          "height": 35
        },
        "id": "V2R_8sEYCE_p",
        "outputId": "f8459632-70a2-484e-fc83-53ee161f0f3c"
      },
      "source": [
        "'{0:08.5f}'.format(150.37)"
      ],
      "execution_count": null,
      "outputs": [
        {
          "output_type": "execute_result",
          "data": {
            "application/vnd.google.colaboratory.intrinsic+json": {
              "type": "string"
            },
            "text/plain": [
              "'150.37000'"
            ]
          },
          "metadata": {
            "tags": []
          },
          "execution_count": 131
        }
      ]
    },
    {
      "cell_type": "code",
      "metadata": {
        "id": "HlomOtX2CTDg"
      },
      "source": [
        "# '{인덱스:[[채우기]정렬][길이][.자릿수][자료형]}'"
      ],
      "execution_count": null,
      "outputs": []
    },
    {
      "cell_type": "code",
      "metadata": {
        "colab": {
          "base_uri": "https://localhost:8080/",
          "height": 35
        },
        "id": "FhPYlXSzCb2Z",
        "outputId": "925fa1ce-139f-4a73-94d6-a4eb6378c985"
      },
      "source": [
        "'{0:0<10}'.format(15)"
      ],
      "execution_count": null,
      "outputs": [
        {
          "output_type": "execute_result",
          "data": {
            "application/vnd.google.colaboratory.intrinsic+json": {
              "type": "string"
            },
            "text/plain": [
              "'1500000000'"
            ]
          },
          "metadata": {
            "tags": []
          },
          "execution_count": 134
        }
      ]
    },
    {
      "cell_type": "code",
      "metadata": {
        "colab": {
          "base_uri": "https://localhost:8080/",
          "height": 35
        },
        "id": "wdPbCIfmCevR",
        "outputId": "9c73d53b-fac7-4879-9b82-50b6ae36b9d5"
      },
      "source": [
        "'{0:0>10.4f}'.format(15)"
      ],
      "execution_count": null,
      "outputs": [
        {
          "output_type": "execute_result",
          "data": {
            "application/vnd.google.colaboratory.intrinsic+json": {
              "type": "string"
            },
            "text/plain": [
              "'00015.0000'"
            ]
          },
          "metadata": {
            "tags": []
          },
          "execution_count": 136
        }
      ]
    },
    {
      "cell_type": "code",
      "metadata": {
        "colab": {
          "base_uri": "https://localhost:8080/",
          "height": 35
        },
        "id": "Y6B4sfBlCjgr",
        "outputId": "5b085a1c-8cee-452f-f6d4-c4b6b8a2fe5a"
      },
      "source": [
        "'{0: >10}'.format(15)   # 남는 공간을 공백으로 채움"
      ],
      "execution_count": null,
      "outputs": [
        {
          "output_type": "execute_result",
          "data": {
            "application/vnd.google.colaboratory.intrinsic+json": {
              "type": "string"
            },
            "text/plain": [
              "'        15'"
            ]
          },
          "metadata": {
            "tags": []
          },
          "execution_count": 137
        }
      ]
    },
    {
      "cell_type": "code",
      "metadata": {
        "colab": {
          "base_uri": "https://localhost:8080/",
          "height": 35
        },
        "id": "LSci0XNTCyJO",
        "outputId": "20954299-12c5-414d-c995-5cdf8cd761f8"
      },
      "source": [
        "'{0:>10}'.format(15)    # 채우기 부분을 생략하면 공백이 들어감"
      ],
      "execution_count": null,
      "outputs": [
        {
          "output_type": "execute_result",
          "data": {
            "application/vnd.google.colaboratory.intrinsic+json": {
              "type": "string"
            },
            "text/plain": [
              "'        15'"
            ]
          },
          "metadata": {
            "tags": []
          },
          "execution_count": 138
        }
      ]
    },
    {
      "cell_type": "code",
      "metadata": {
        "colab": {
          "base_uri": "https://localhost:8080/",
          "height": 35
        },
        "id": "OSpSiibJC3FW",
        "outputId": "e42e934d-5c5e-4d57-936e-c81ee225633f"
      },
      "source": [
        "'{0:x>10.2f}'.format(15)    # 남는 공간을 문자x로 채움"
      ],
      "execution_count": null,
      "outputs": [
        {
          "output_type": "execute_result",
          "data": {
            "application/vnd.google.colaboratory.intrinsic+json": {
              "type": "string"
            },
            "text/plain": [
              "'xxxxx15.00'"
            ]
          },
          "metadata": {
            "tags": []
          },
          "execution_count": 143
        }
      ]
    },
    {
      "cell_type": "code",
      "metadata": {
        "colab": {
          "base_uri": "https://localhost:8080/",
          "height": 35
        },
        "id": "Hyo4RJkHC-OX",
        "outputId": "c142e810-35f7-4ee6-dfca-0476a9325c9c"
      },
      "source": [
        "# 천단위 콤마 넣기\n",
        "#format 내장함수 사용 format(숫자, ',')\n",
        "format(1493500, ',')"
      ],
      "execution_count": null,
      "outputs": [
        {
          "output_type": "execute_result",
          "data": {
            "application/vnd.google.colaboratory.intrinsic+json": {
              "type": "string"
            },
            "text/plain": [
              "'1,493,500'"
            ]
          },
          "metadata": {
            "tags": []
          },
          "execution_count": 144
        }
      ]
    },
    {
      "cell_type": "code",
      "metadata": {
        "colab": {
          "base_uri": "https://localhost:8080/",
          "height": 35
        },
        "id": "G1ssvAftDQ3Q",
        "outputId": "9d95ecab-ee63-4018-87fc-cd3f0016058f"
      },
      "source": [
        "# 서식 지정자와 함께 사용 가능\n",
        "'%20s' % format(1493500, ',')"
      ],
      "execution_count": null,
      "outputs": [
        {
          "output_type": "execute_result",
          "data": {
            "application/vnd.google.colaboratory.intrinsic+json": {
              "type": "string"
            },
            "text/plain": [
              "'           1,493,500'"
            ]
          },
          "metadata": {
            "tags": []
          },
          "execution_count": 146
        }
      ]
    },
    {
      "cell_type": "code",
      "metadata": {
        "colab": {
          "base_uri": "https://localhost:8080/",
          "height": 35
        },
        "id": "yA_w-JOnDdAw",
        "outputId": "0b06ca1f-6478-46bc-8b91-b35c92f0dadb"
      },
      "source": [
        "'{0:,}'.format(1493500)"
      ],
      "execution_count": null,
      "outputs": [
        {
          "output_type": "execute_result",
          "data": {
            "application/vnd.google.colaboratory.intrinsic+json": {
              "type": "string"
            },
            "text/plain": [
              "'1,493,500'"
            ]
          },
          "metadata": {
            "tags": []
          },
          "execution_count": 147
        }
      ]
    },
    {
      "cell_type": "code",
      "metadata": {
        "colab": {
          "base_uri": "https://localhost:8080/",
          "height": 35
        },
        "id": "Vg30cQTUEEK4",
        "outputId": "37058bb8-19f2-490d-c6cb-63760402a550"
      },
      "source": [
        "'{0:>20,}'.format(1493500)  # 길이 20, 오른쪽으로 정렬"
      ],
      "execution_count": null,
      "outputs": [
        {
          "output_type": "execute_result",
          "data": {
            "application/vnd.google.colaboratory.intrinsic+json": {
              "type": "string"
            },
            "text/plain": [
              "'           1,493,500'"
            ]
          },
          "metadata": {
            "tags": []
          },
          "execution_count": 148
        }
      ]
    },
    {
      "cell_type": "code",
      "metadata": {
        "colab": {
          "base_uri": "https://localhost:8080/",
          "height": 35
        },
        "id": "LbcJ-X1CEJQw",
        "outputId": "10e2d6b5-3bfe-467b-a5be-2b56a8e89eb4"
      },
      "source": [
        "'{0:x>20,}'.format(1493500) # 길이 20, 오른쪽으로 정렬하고 남는 공간은 x로 채움"
      ],
      "execution_count": null,
      "outputs": [
        {
          "output_type": "execute_result",
          "data": {
            "application/vnd.google.colaboratory.intrinsic+json": {
              "type": "string"
            },
            "text/plain": [
              "'xxxxxxxxxxx1,493,500'"
            ]
          },
          "metadata": {
            "tags": []
          },
          "execution_count": 150
        }
      ]
    },
    {
      "cell_type": "code",
      "metadata": {
        "colab": {
          "base_uri": "https://localhost:8080/",
          "height": 35
        },
        "id": "hBHLiRmOEPDI",
        "outputId": "bc7eb1de-3157-4333-caaf-4b2e982a3e02"
      },
      "source": [
        "'{:0>12.4f}'.format(1675.3)"
      ],
      "execution_count": null,
      "outputs": [
        {
          "output_type": "execute_result",
          "data": {
            "application/vnd.google.colaboratory.intrinsic+json": {
              "type": "string"
            },
            "text/plain": [
              "'0001675.3000'"
            ]
          },
          "metadata": {
            "tags": []
          },
          "execution_count": 151
        }
      ]
    },
    {
      "cell_type": "code",
      "metadata": {
        "colab": {
          "base_uri": "https://localhost:8080/",
          "height": 35
        },
        "id": "bGEQItUYFPIo",
        "outputId": "f7982671-5db0-4635-fb21-210d70ca6ab4"
      },
      "source": [
        "'{: >12.4f}'.format(1675.3)"
      ],
      "execution_count": null,
      "outputs": [
        {
          "output_type": "execute_result",
          "data": {
            "application/vnd.google.colaboratory.intrinsic+json": {
              "type": "string"
            },
            "text/plain": [
              "'   1675.3000'"
            ]
          },
          "metadata": {
            "tags": []
          },
          "execution_count": 152
        }
      ]
    },
    {
      "cell_type": "markdown",
      "metadata": {
        "id": "3M4ihkZJGJQM"
      },
      "source": [
        "## 24.4 연습문제: 파일 경로에서 파일명만 가져오기"
      ]
    },
    {
      "cell_type": "code",
      "metadata": {
        "colab": {
          "base_uri": "https://localhost:8080/"
        },
        "id": "tV16rxDoFR-f",
        "outputId": "c80b045b-aa36-4729-b16a-cb17c296c4c1"
      },
      "source": [
        "path = 'C:\\\\Users\\\\dojang\\\\AppData\\\\Local\\\\Programs\\\\Python\\\\Python36-32\\\\python.exe'\n",
        "x = path.split('\\\\')\n",
        "filename = x[-1]\n",
        "\n",
        "print(filename)"
      ],
      "execution_count": null,
      "outputs": [
        {
          "output_type": "stream",
          "text": [
            "python.exe\n"
          ],
          "name": "stdout"
        }
      ]
    },
    {
      "cell_type": "code",
      "metadata": {
        "colab": {
          "base_uri": "https://localhost:8080/"
        },
        "id": "_8H8CWIaGA_u",
        "outputId": "7745c294-298e-4126-deff-592c78cbb08e"
      },
      "source": [
        "path = 'C:\\\\Users\\\\dojang\\\\AppData\\\\Local\\\\Programs\\\\Python\\\\Python36-32\\\\python.exe'\n",
        "x = path.split('\\\\')\n",
        "x.reverse()\n",
        "filename = x[0]\n",
        "\n",
        "print(filename)"
      ],
      "execution_count": null,
      "outputs": [
        {
          "output_type": "stream",
          "text": [
            "python.exe\n"
          ],
          "name": "stdout"
        }
      ]
    },
    {
      "cell_type": "code",
      "metadata": {
        "colab": {
          "base_uri": "https://localhost:8080/"
        },
        "id": "D5BP7HFIGOrP",
        "outputId": "98e68819-143f-4cf3-d6c2-abf306c3c389"
      },
      "source": [
        "path = 'C:\\\\Users\\\\dojang\\\\AppData\\\\Local\\\\Programs\\\\Python\\\\Python36-32\\\\python.exe'\n",
        "filename = path[path.rfind('\\\\') + 1:]\n",
        "\n",
        "print(filename)"
      ],
      "execution_count": null,
      "outputs": [
        {
          "output_type": "stream",
          "text": [
            "python.exe\n"
          ],
          "name": "stdout"
        }
      ]
    },
    {
      "cell_type": "code",
      "metadata": {
        "colab": {
          "base_uri": "https://localhost:8080/"
        },
        "id": "NICR5uNKGd4g",
        "outputId": "3efdb81b-5c4f-40cf-fbce-97fb7c9ca33a"
      },
      "source": [
        "# raw 문자열 r or R\n",
        "print(r'C:\\Users\\dojang\\AppData\\Local\\Programs\\Python\\Python36-32\\python.exe')"
      ],
      "execution_count": null,
      "outputs": [
        {
          "output_type": "stream",
          "text": [
            "C:\\Users\\dojang\\AppData\\Local\\Programs\\Python\\Python36-32\\python.exe\n"
          ],
          "name": "stdout"
        }
      ]
    },
    {
      "cell_type": "code",
      "metadata": {
        "colab": {
          "base_uri": "https://localhost:8080/"
        },
        "id": "c-zm9OJ4G9Un",
        "outputId": "1d2408a8-2d8c-4fef-86b9-cdc3385f7e92"
      },
      "source": [
        "print(r'1\\n2\\n3\\n')"
      ],
      "execution_count": null,
      "outputs": [
        {
          "output_type": "stream",
          "text": [
            "1\\n2\\n3\\n\n"
          ],
          "name": "stdout"
        }
      ]
    },
    {
      "cell_type": "code",
      "metadata": {
        "colab": {
          "base_uri": "https://localhost:8080/"
        },
        "id": "55wK8glJIuzo",
        "outputId": "5f3757a0-e32b-474a-bfdc-1221d08a3e47"
      },
      "source": [
        "print('1\\n2\\n3\\n')"
      ],
      "execution_count": null,
      "outputs": [
        {
          "output_type": "stream",
          "text": [
            "1\n",
            "2\n",
            "3\n",
            "\n"
          ],
          "name": "stdout"
        }
      ]
    },
    {
      "cell_type": "markdown",
      "metadata": {
        "id": "6GD7zcetI4L2"
      },
      "source": [
        "## 24.5 심사문제: 특정 단어 개수 세기"
      ]
    },
    {
      "cell_type": "code",
      "metadata": {
        "id": "nYWtV6DHIwO_",
        "colab": {
          "base_uri": "https://localhost:8080/"
        },
        "outputId": "596b7bfc-13d7-4784-8327-6b965207b1fc"
      },
      "source": [
        "paragraph = input().split()\n",
        "count = 0\n",
        "for words in paragraph:\n",
        "    if (words.strip(',.') == 'the'):\n",
        "        count += 1\n",
        "\n",
        "print(count)"
      ],
      "execution_count": 168,
      "outputs": [
        {
          "output_type": "stream",
          "text": [
            "the grown-ups' response, this time, was to advise me to lay aside my drawings of boa constrictors, whether from the inside or the outside, and devote myself instead to geography, history, arithmetic, and grammar. That is why, at the, age of six, I gave up what might have been a magnificent career as a painter. I had been disheartened by the failure of my Drawing Number One and my Drawing Number Two. Grown-ups never understand anything by themselves, and it is tiresome for children to be always and forever explaining things to the.\n",
            "6\n"
          ],
          "name": "stdout"
        }
      ]
    },
    {
      "cell_type": "markdown",
      "metadata": {
        "id": "QgcecdSkORtL"
      },
      "source": [
        "## 24.6 심사문제: 높은 가격순으로 출력하기"
      ]
    },
    {
      "cell_type": "code",
      "metadata": {
        "colab": {
          "base_uri": "https://localhost:8080/"
        },
        "id": "XAiFz3MXOL4T",
        "outputId": "b236a469-2c43-4a5c-d5e5-8d527bee36d5"
      },
      "source": [
        "prices = list(map(int, input().split(';')))\n",
        "prices.sort(reverse = True)\n",
        "for i in prices:\n",
        "    print('{0:>9,}'.format(i))"
      ],
      "execution_count": 169,
      "outputs": [
        {
          "output_type": "stream",
          "text": [
            "51900;83000;158000;367500;250000;59200;128500;1304000\n",
            "1,304,000\n",
            "  367,500\n",
            "  250,000\n",
            "  158,000\n",
            "  128,500\n",
            "   83,000\n",
            "   59,200\n",
            "   51,900\n"
          ],
          "name": "stdout"
        }
      ]
    },
    {
      "cell_type": "markdown",
      "metadata": {
        "id": "x_dQneVBPm6-"
      },
      "source": [
        "# Unit 23. 2차원 리스트 사용하기"
      ]
    },
    {
      "cell_type": "code",
      "metadata": {
        "colab": {
          "base_uri": "https://localhost:8080/"
        },
        "id": "aFiQ6rEaOn11",
        "outputId": "d87667ab-bbb1-4db5-aaeb-bf5b93a4b865"
      },
      "source": [
        "# 리스트 = [[값, 값], [값, 값], [값, 값]]\n",
        "# 리스트 안에 리스트 만들기\n",
        "a = [[10, 20], [30, 40], [50, 60]]\n",
        "a"
      ],
      "execution_count": 171,
      "outputs": [
        {
          "output_type": "execute_result",
          "data": {
            "text/plain": [
              "[[10, 20], [30, 40], [50, 60]]"
            ]
          },
          "metadata": {
            "tags": []
          },
          "execution_count": 171
        }
      ]
    },
    {
      "cell_type": "code",
      "metadata": {
        "colab": {
          "base_uri": "https://localhost:8080/"
        },
        "id": "SKk3tmTcP73M",
        "outputId": "0a18fe1a-b24d-4e99-8ca7-021a44b49b57"
      },
      "source": [
        "a = [[10, ['a', 'b']],\n",
        "     [30, 40],\n",
        "     [50, 60]]\n",
        "a"
      ],
      "execution_count": 180,
      "outputs": [
        {
          "output_type": "execute_result",
          "data": {
            "text/plain": [
              "[[10, ['a', 'b']], [30, 40], [50, 60]]"
            ]
          },
          "metadata": {
            "tags": []
          },
          "execution_count": 180
        }
      ]
    },
    {
      "cell_type": "code",
      "metadata": {
        "id": "gY6p-hisQIct"
      },
      "source": [
        "# [row열 세로][column행 가로]\n",
        "# 리스트[세로인덱스][가로인덱스]\n",
        "# 리스트[세로인덱스][가로인덱스] = 값"
      ],
      "execution_count": 181,
      "outputs": []
    },
    {
      "cell_type": "code",
      "metadata": {
        "colab": {
          "base_uri": "https://localhost:8080/"
        },
        "id": "Ger2OPP8cy-d",
        "outputId": "fa74a23e-5ac8-486a-c52b-a4a3303527c2"
      },
      "source": [
        "a = [[10, 20], [30, 40], [50, 60]]\n",
        "a[0] [0]"
      ],
      "execution_count": 182,
      "outputs": [
        {
          "output_type": "execute_result",
          "data": {
            "text/plain": [
              "10"
            ]
          },
          "metadata": {
            "tags": []
          },
          "execution_count": 182
        }
      ]
    },
    {
      "cell_type": "code",
      "metadata": {
        "colab": {
          "base_uri": "https://localhost:8080/"
        },
        "id": "PNkTc2kBc4g3",
        "outputId": "bc9151f8-5127-4ccc-8f73-1c86f8c045df"
      },
      "source": [
        "a[1][1]"
      ],
      "execution_count": 183,
      "outputs": [
        {
          "output_type": "execute_result",
          "data": {
            "text/plain": [
              "40"
            ]
          },
          "metadata": {
            "tags": []
          },
          "execution_count": 183
        }
      ]
    },
    {
      "cell_type": "code",
      "metadata": {
        "colab": {
          "base_uri": "https://localhost:8080/"
        },
        "id": "zW7GnQL0c5cv",
        "outputId": "80ff19c9-69d5-4d52-b58f-0ad5baeb6893"
      },
      "source": [
        "a[2][1]"
      ],
      "execution_count": 184,
      "outputs": [
        {
          "output_type": "execute_result",
          "data": {
            "text/plain": [
              "60"
            ]
          },
          "metadata": {
            "tags": []
          },
          "execution_count": 184
        }
      ]
    },
    {
      "cell_type": "code",
      "metadata": {
        "colab": {
          "base_uri": "https://localhost:8080/"
        },
        "id": "aJdli8ayc_Sv",
        "outputId": "5f199ab5-6dcf-411d-f7ce-cb9d0764b082"
      },
      "source": [
        "a = [[10, ['a', 'b']],\n",
        "     [30, 40],\n",
        "     [50, 60]]\n",
        "a[2][1]"
      ],
      "execution_count": 185,
      "outputs": [
        {
          "output_type": "execute_result",
          "data": {
            "text/plain": [
              "60"
            ]
          },
          "metadata": {
            "tags": []
          },
          "execution_count": 185
        }
      ]
    },
    {
      "cell_type": "code",
      "metadata": {
        "colab": {
          "base_uri": "https://localhost:8080/"
        },
        "id": "O71DIomZdEnP",
        "outputId": "a92cae43-3f97-43bf-d20c-ebc0ac35fa9d"
      },
      "source": [
        "# 톱니형 리스트\n",
        "a = [[10, 20],\n",
        "     [500, 600, 700],\n",
        "     [9],\n",
        "     [30, 40],\n",
        "     [8],\n",
        "     [800, 900, 1000]]\n",
        "a"
      ],
      "execution_count": 188,
      "outputs": [
        {
          "output_type": "execute_result",
          "data": {
            "text/plain": [
              "[[10, 20], [500, 600, 700], [9], [30, 40], [8], [800, 900, 1000]]"
            ]
          },
          "metadata": {
            "tags": []
          },
          "execution_count": 188
        }
      ]
    },
    {
      "cell_type": "code",
      "metadata": {
        "colab": {
          "base_uri": "https://localhost:8080/"
        },
        "id": "sLPNOtPGdcNn",
        "outputId": "332879ba-9e57-4546-9755-a2a962e71377"
      },
      "source": [
        "a[5][2]"
      ],
      "execution_count": 189,
      "outputs": [
        {
          "output_type": "execute_result",
          "data": {
            "text/plain": [
              "1000"
            ]
          },
          "metadata": {
            "tags": []
          },
          "execution_count": 189
        }
      ]
    },
    {
      "cell_type": "code",
      "metadata": {
        "colab": {
          "base_uri": "https://localhost:8080/"
        },
        "id": "Evsx2jHNdkL_",
        "outputId": "529fe96b-8ac2-4ee6-ef6b-6d72926549a2"
      },
      "source": [
        "a = []\n",
        "a.append([])\n",
        "a[0].append(10)\n",
        "a[0].append(20)\n",
        "a.append([])\n",
        "a[1].append(500)\n",
        "a[1].append(500)\n",
        "a[1].append(500)\n",
        "a"
      ],
      "execution_count": 191,
      "outputs": [
        {
          "output_type": "execute_result",
          "data": {
            "text/plain": [
              "[[10, 20], [500, 500, 500]]"
            ]
          },
          "metadata": {
            "tags": []
          },
          "execution_count": 191
        }
      ]
    },
    {
      "cell_type": "code",
      "metadata": {
        "id": "-MDpqk1ld6rW"
      },
      "source": [
        "# 2차원 튜플"
      ],
      "execution_count": 192,
      "outputs": []
    },
    {
      "cell_type": "markdown",
      "metadata": {
        "id": "2TnSB594eIAS"
      },
      "source": [
        "- 튜플 = ((값, 값), (값, 값), (값, 값))\n",
        "\n",
        "- 튜플 = ([값, 값], [값, 값], [값, 값])\n",
        "\n",
        "- 리스트 = [(값, 값), (값, 값), (값, 값)]"
      ]
    },
    {
      "cell_type": "code",
      "metadata": {
        "colab": {
          "base_uri": "https://localhost:8080/"
        },
        "id": "1kZoI2leeMdO",
        "outputId": "7acb93f8-b6e5-4f2b-f076-48f88aa4b4ea"
      },
      "source": [
        "a = ((10, 20), (30, 40), (50, 60)) # 튜플 안에 튜플을 넣은 2차원 튜플\n",
        "b = ([10, 20], [30, 40], [50, 60]) # 튜플 안에 리스트를 넣음\n",
        "c = [(10, 20), (30, 40), (50, 60)] # 리스트 안에 튜플을 넣음\n",
        "\n",
        "b[0][0] = 100\n",
        "b"
      ],
      "execution_count": 193,
      "outputs": [
        {
          "output_type": "execute_result",
          "data": {
            "text/plain": [
              "([100, 20], [30, 40], [50, 60])"
            ]
          },
          "metadata": {
            "tags": []
          },
          "execution_count": 193
        }
      ]
    },
    {
      "cell_type": "code",
      "metadata": {
        "colab": {
          "base_uri": "https://localhost:8080/",
          "height": 176
        },
        "id": "mT8NCHRAerEf",
        "outputId": "1a95b064-5dba-49ff-f2e4-f851986e30ef"
      },
      "source": [
        "b[0] = (500, 600)"
      ],
      "execution_count": 194,
      "outputs": [
        {
          "output_type": "error",
          "ename": "TypeError",
          "evalue": "ignored",
          "traceback": [
            "\u001b[0;31m---------------------------------------------------------------------------\u001b[0m",
            "\u001b[0;31mTypeError\u001b[0m                                 Traceback (most recent call last)",
            "\u001b[0;32m<ipython-input-194-e355be1558a4>\u001b[0m in \u001b[0;36m<module>\u001b[0;34m()\u001b[0m\n\u001b[0;32m----> 1\u001b[0;31m \u001b[0mb\u001b[0m\u001b[0;34m[\u001b[0m\u001b[0;36m0\u001b[0m\u001b[0;34m]\u001b[0m \u001b[0;34m=\u001b[0m \u001b[0;34m(\u001b[0m\u001b[0;36m500\u001b[0m\u001b[0;34m,\u001b[0m \u001b[0;36m600\u001b[0m\u001b[0;34m)\u001b[0m\u001b[0;34m\u001b[0m\u001b[0;34m\u001b[0m\u001b[0m\n\u001b[0m",
            "\u001b[0;31mTypeError\u001b[0m: 'tuple' object does not support item assignment"
          ]
        }
      ]
    },
    {
      "cell_type": "code",
      "metadata": {
        "id": "vZUFdIAQeuFv"
      },
      "source": [
        "#a[0][0] = 500        # 안쪽 튜플은 변경할 수 없음. TypeError 발생\n",
        "#a[0] = (500, 600)    # 바깥쪽 튜플은 변경할 수 없음. TypeError 발생\n",
        "#b[0][0] = 500        # 안쪽 리스트는 변경할 수 있음\n",
        "#b[0] = (500, 600)    # 바깥쪽 튜플은 변경할 수 없음. TypeError 발생\n",
        "#c[0][0] = 500        # 안쪽 튜플은 변경할 수 없음. TypeError 발생\n",
        "#c[0] = (500, 600)    # 바깥쪽 리스트는 변경할 수 있음"
      ],
      "execution_count": 195,
      "outputs": []
    },
    {
      "cell_type": "code",
      "metadata": {
        "colab": {
          "base_uri": "https://localhost:8080/"
        },
        "id": "Syn_C2Fze2_G",
        "outputId": "403427c0-b822-4692-9fc0-7726729d6000"
      },
      "source": [
        "c[2] = (5 ,6)\n",
        "c"
      ],
      "execution_count": 197,
      "outputs": [
        {
          "output_type": "execute_result",
          "data": {
            "text/plain": [
              "[(10, 20), (30, 40), (5, 6)]"
            ]
          },
          "metadata": {
            "tags": []
          },
          "execution_count": 197
        }
      ]
    },
    {
      "cell_type": "code",
      "metadata": {
        "id": "p1XCCcDTe9te"
      },
      "source": [
        "# 튜플은 읽기만 가능"
      ],
      "execution_count": 198,
      "outputs": []
    },
    {
      "cell_type": "code",
      "metadata": {
        "colab": {
          "base_uri": "https://localhost:8080/"
        },
        "id": "-5pZQ37afCmD",
        "outputId": "c70e2d47-e3a6-4623-9a76-adbe64e42b19"
      },
      "source": [
        "a = [[10, 20], [30, 40], [50, 60]]\n",
        "a"
      ],
      "execution_count": 199,
      "outputs": [
        {
          "output_type": "execute_result",
          "data": {
            "text/plain": [
              "[[10, 20], [30, 40], [50, 60]]"
            ]
          },
          "metadata": {
            "tags": []
          },
          "execution_count": 199
        }
      ]
    },
    {
      "cell_type": "code",
      "metadata": {
        "colab": {
          "base_uri": "https://localhost:8080/"
        },
        "id": "tt4FyC8PfHT2",
        "outputId": "bd17957c-1b95-41fd-8f56-1dcd766aae10"
      },
      "source": [
        "from pprint import pprint\n",
        "pprint(a, indent=4, width=20)   # indent는 들여쓰기 칸 수, width는 가로 폭"
      ],
      "execution_count": 201,
      "outputs": [
        {
          "output_type": "stream",
          "text": [
            "[   [10, 20],\n",
            "    [30, 40],\n",
            "    [50, 60]]\n"
          ],
          "name": "stdout"
        }
      ]
    },
    {
      "cell_type": "code",
      "metadata": {
        "colab": {
          "base_uri": "https://localhost:8080/"
        },
        "id": "cABuwSWPfMwV",
        "outputId": "d397da82-f6dd-48b9-dbee-b41f97ec5b3b"
      },
      "source": [
        "pprint(a, indent=1, width=9)        # []하나 유지하려면 10 필요"
      ],
      "execution_count": 222,
      "outputs": [
        {
          "output_type": "stream",
          "text": [
            "[[10,\n",
            "  20],\n",
            " [30,\n",
            "  40],\n",
            " [50,\n",
            "  60]]\n"
          ],
          "name": "stdout"
        }
      ]
    },
    {
      "cell_type": "markdown",
      "metadata": {
        "id": "6l0E7Ff-f8O2"
      },
      "source": [
        "## 23.2 반복문으로 2차원 리스트의 요소를 모두 출력하기"
      ]
    },
    {
      "cell_type": "code",
      "metadata": {
        "id": "IbkqOwGVfSx2"
      },
      "source": [
        ""
      ],
      "execution_count": null,
      "outputs": []
    }
  ]
}