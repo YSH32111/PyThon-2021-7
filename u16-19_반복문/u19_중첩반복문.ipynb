{
  "nbformat": 4,
  "nbformat_minor": 0,
  "metadata": {
    "colab": {
      "name": "u19_중첩반복문.ipynb",
      "provenance": [],
      "collapsed_sections": []
    },
    "kernelspec": {
      "name": "python3",
      "display_name": "Python 3"
    },
    "language_info": {
      "name": "python"
    }
  },
  "cells": [
    {
      "cell_type": "markdown",
      "metadata": {
        "id": "p4yfoGNnbamQ"
      },
      "source": [
        "# Unit 19. 중첩 반복문"
      ]
    },
    {
      "cell_type": "markdown",
      "metadata": {
        "id": "iVZEJKbUbeEt"
      },
      "source": [
        "## 19.1 중첩(Nested) for loop"
      ]
    },
    {
      "cell_type": "code",
      "metadata": {
        "colab": {
          "base_uri": "https://localhost:8080/"
        },
        "id": "IHYbP0SVbZ8A",
        "outputId": "6481bc63-58a2-42a3-bf2d-19e0d49e0a1d"
      },
      "source": [
        "for i in range(1, 6):\n",
        "    for k in range(10, 60, 10):     # j 로 쓰면 나중에 i랑 헷갈려 실수할 수 있으니 아예 다른 문자로\n",
        "        print(k, end=' ')\n",
        "    print(i)"
      ],
      "execution_count": 3,
      "outputs": [
        {
          "output_type": "stream",
          "text": [
            "10 20 30 40 50 1\n",
            "10 20 30 40 50 2\n",
            "10 20 30 40 50 3\n",
            "10 20 30 40 50 4\n",
            "10 20 30 40 50 5\n"
          ],
          "name": "stdout"
        }
      ]
    },
    {
      "cell_type": "markdown",
      "metadata": {
        "id": "1I_fQv3kcnJ6"
      },
      "source": [
        "## 19.2 사각형으로 별 출력하기"
      ]
    },
    {
      "cell_type": "code",
      "metadata": {
        "colab": {
          "base_uri": "https://localhost:8080/"
        },
        "id": "0Dv2yhc6cQzQ",
        "outputId": "ed1dd371-4615-4bb2-b3cd-07e32d8383c0"
      },
      "source": [
        "for i in range(5):            # 5번 반복. 바깥쪽 루프는 세로 방향\n",
        "    for _ in range(5):        # 5번 반복. 안쪽 루프는 가로 방향\n",
        "        print('*', end='')    # 별 출력. end에 ''를 지정하여 줄바꿈을 하지 않음\n",
        "    print()    # 가로 방향으로 별을 다 그린 뒤 다음 줄로 넘어감\n",
        "               # (print는 출력 후 기본적으로 다음 줄로 넘어감)"
      ],
      "execution_count": 8,
      "outputs": [
        {
          "output_type": "stream",
          "text": [
            "*****\n",
            "*****\n",
            "*****\n",
            "*****\n",
            "*****\n"
          ],
          "name": "stdout"
        }
      ]
    },
    {
      "cell_type": "code",
      "metadata": {
        "colab": {
          "base_uri": "https://localhost:8080/"
        },
        "id": "txoxeav8c1dv",
        "outputId": "9ca45f6c-a8d5-41da-aac2-88b3f17fc6d3"
      },
      "source": [
        "for i in range(3):            # 3번 반복. 세로 방향\n",
        "    for k in range(7):        # 7번 반복. 가로 방향\n",
        "        print('*', end='')    # 별 출력. end에 ''를 지정하여 줄바꿈을 하지 않음\n",
        "    print()    # 가로 방향으로 별을 다 그린 뒤 다음 줄로 넘어감\n",
        "               # (print는 출력 후 기본적으로 다음 줄로 넘어감)"
      ],
      "execution_count": 9,
      "outputs": [
        {
          "output_type": "stream",
          "text": [
            "*******\n",
            "*******\n",
            "*******\n"
          ],
          "name": "stdout"
        }
      ]
    },
    {
      "cell_type": "code",
      "metadata": {
        "colab": {
          "base_uri": "https://localhost:8080/"
        },
        "id": "xRdiYpR2dV17",
        "outputId": "2fe7993e-2aaf-44d4-9fe3-b1687cb1473f"
      },
      "source": [
        "# 평행사변형\n",
        "for i in range(4):\n",
        "    for _ in range(0,i):\n",
        "        print(' ', end='')\n",
        "    for _ in range(5):\n",
        "        print('*', end='')\n",
        "    print()"
      ],
      "execution_count": 18,
      "outputs": [
        {
          "output_type": "stream",
          "text": [
            "*****\n",
            " *****\n",
            "  *****\n",
            "   *****\n"
          ],
          "name": "stdout"
        }
      ]
    },
    {
      "cell_type": "code",
      "metadata": {
        "id": "3USuPRPMekjw"
      },
      "source": [
        "# 이건 해도 실행이 안됨\n",
        "for i in range(0,0):\n",
        "    print('*')"
      ],
      "execution_count": 20,
      "outputs": []
    },
    {
      "cell_type": "code",
      "metadata": {
        "colab": {
          "base_uri": "https://localhost:8080/"
        },
        "id": "_J1NzvZaetbC",
        "outputId": "bf4c535a-d918-4304-e10f-7068a1decb16"
      },
      "source": [
        "for i in range(4):\n",
        "    print(' '*i, '*'*5, sep='')"
      ],
      "execution_count": 21,
      "outputs": [
        {
          "output_type": "stream",
          "text": [
            "*****\n",
            " *****\n",
            "  *****\n",
            "   *****\n"
          ],
          "name": "stdout"
        }
      ]
    },
    {
      "cell_type": "markdown",
      "metadata": {
        "id": "EpOz9YZlc9u0"
      },
      "source": [
        "## 19.3 계단식으로 별 출력하기"
      ]
    },
    {
      "cell_type": "code",
      "metadata": {
        "id": "VLI4mz-5c1zf"
      },
      "source": [
        "# 다이아몬드 완성하는 코드 만들어볼것\n",
        "# 지금은 1/4 북동쪽 부분만"
      ],
      "execution_count": 22,
      "outputs": []
    },
    {
      "cell_type": "code",
      "metadata": {
        "colab": {
          "base_uri": "https://localhost:8080/"
        },
        "id": "HAUzkJbIfdNk",
        "outputId": "94b46ad5-8727-4855-e32b-1fbb85f32724"
      },
      "source": [
        "for i in range(5):\n",
        "    for _ in range(i+1):     # i가 제일 처음엔 0 이니까\n",
        "        print('*', end='')\n",
        "    print()"
      ],
      "execution_count": 24,
      "outputs": [
        {
          "output_type": "stream",
          "text": [
            "*\n",
            "**\n",
            "***\n",
            "****\n",
            "*****\n"
          ],
          "name": "stdout"
        }
      ]
    },
    {
      "cell_type": "code",
      "metadata": {
        "colab": {
          "base_uri": "https://localhost:8080/"
        },
        "id": "-XfNvszmgz5u",
        "outputId": "f1a6f0cd-e0d2-410b-8413-049dadefde3e"
      },
      "source": [
        "for i in range(1,6):\n",
        "    print('*' * i)"
      ],
      "execution_count": 39,
      "outputs": [
        {
          "output_type": "stream",
          "text": [
            "*\n",
            "**\n",
            "***\n",
            "****\n",
            "*****\n"
          ],
          "name": "stdout"
        }
      ]
    },
    {
      "cell_type": "code",
      "metadata": {
        "colab": {
          "base_uri": "https://localhost:8080/"
        },
        "id": "M30boEPohEGW",
        "outputId": "11dba656-6dd7-40a5-86bf-5ba6755913ba"
      },
      "source": [
        "for i in range(5):\n",
        "    print('*' * (i+1))"
      ],
      "execution_count": 40,
      "outputs": [
        {
          "output_type": "stream",
          "text": [
            "*\n",
            "**\n",
            "***\n",
            "****\n",
            "*****\n"
          ],
          "name": "stdout"
        }
      ]
    },
    {
      "cell_type": "code",
      "metadata": {
        "colab": {
          "base_uri": "https://localhost:8080/"
        },
        "id": "SDgAWgZ7f2pe",
        "outputId": "c20e3f0c-c8f4-40fb-ac94-9d5d23029819"
      },
      "source": [
        "# ???\n",
        "\n",
        "for i in reversed(range(5)):\n",
        "    for _ in range(i+1):\n",
        "        print('*', end='')\n",
        "    print()"
      ],
      "execution_count": 31,
      "outputs": [
        {
          "output_type": "stream",
          "text": [
            "*****\n",
            "****\n",
            "***\n",
            "**\n",
            "*\n"
          ],
          "name": "stdout"
        }
      ]
    },
    {
      "cell_type": "code",
      "metadata": {
        "colab": {
          "base_uri": "https://localhost:8080/"
        },
        "id": "iviqg7eLgJC2",
        "outputId": "d8a31b00-3eff-4054-83e2-bd5efbd934fd"
      },
      "source": [
        "for i in range(5):\n",
        "    for _ in range(i):\n",
        "        print(' ', end='')\n",
        "    for _ in range(5-i):\n",
        "        print('*', end='')\n",
        "    print()"
      ],
      "execution_count": 37,
      "outputs": [
        {
          "output_type": "stream",
          "text": [
            "*****\n",
            " ****\n",
            "  ***\n",
            "   **\n",
            "    *\n"
          ],
          "name": "stdout"
        }
      ]
    },
    {
      "cell_type": "code",
      "metadata": {
        "colab": {
          "base_uri": "https://localhost:8080/"
        },
        "id": "itc2ymXDhApU",
        "outputId": "9047eebb-3a13-447f-ff65-17b73ecbbcbf"
      },
      "source": [
        "for i in range(5):\n",
        "    print(' ' * i, '*' * (5-i), sep='')"
      ],
      "execution_count": 42,
      "outputs": [
        {
          "output_type": "stream",
          "text": [
            "*****\n",
            " ****\n",
            "  ***\n",
            "   **\n",
            "    *\n"
          ],
          "name": "stdout"
        }
      ]
    },
    {
      "cell_type": "code",
      "metadata": {
        "colab": {
          "base_uri": "https://localhost:8080/"
        },
        "id": "r2nBuUrrgjFP",
        "outputId": "0172e85f-d65d-4abb-d3a2-ff9f91d9df49"
      },
      "source": [
        "# ???\n",
        "\n",
        "for i in range(5):\n",
        "    for _ in range(i):\n",
        "        print('', end='')\n",
        "    for _ in range(5-i):\n",
        "        print('*', end='')\n",
        "    print()"
      ],
      "execution_count": 38,
      "outputs": [
        {
          "output_type": "stream",
          "text": [
            "*****\n",
            "****\n",
            "***\n",
            "**\n",
            "*\n"
          ],
          "name": "stdout"
        }
      ]
    },
    {
      "cell_type": "markdown",
      "metadata": {
        "id": "UQJadmovh8MF"
      },
      "source": [
        "### Diamond 그리기"
      ]
    },
    {
      "cell_type": "code",
      "metadata": {
        "colab": {
          "base_uri": "https://localhost:8080/"
        },
        "id": "hQlJVz0Og7NP",
        "outputId": "8df8f36b-870e-4332-ef63-74860f72c9ba"
      },
      "source": [
        "for i in range(9):\n",
        "    for _ in range(i):\n",
        "        print('', end='')\n",
        "    for _ in range(i+1):\n",
        "        print('*', end='')\n",
        "    print()"
      ],
      "execution_count": 69,
      "outputs": [
        {
          "output_type": "stream",
          "text": [
            "*\n",
            "**\n",
            "***\n",
            "****\n",
            "*****\n",
            "******\n",
            "*******\n",
            "********\n",
            "*********\n"
          ],
          "name": "stdout"
        }
      ]
    },
    {
      "cell_type": "code",
      "metadata": {
        "colab": {
          "base_uri": "https://localhost:8080/"
        },
        "id": "_FClroWRhwqe",
        "outputId": "ec81a487-a644-47e9-a403-36a0e6a8671e"
      },
      "source": [
        "diamond = int(input('별 최대 개수 : '))\n",
        "\n",
        "if diamond % 2 == 1:\n",
        "    i = 1\n",
        "else :\n",
        "    i = 2\n",
        "\n",
        "for i in range(i, diamond+1, 2):\n",
        "    blank = ' '*((diamond-i)//2)\n",
        "    star = '*'*i # 여기에 * 대신 다양한 기호 사용 가능!\n",
        "    \n",
        "    print(blank, star,blank)\n",
        "\n",
        "for i in range(i-2, 0, -2):\n",
        "    blank = ' '*((diamond-i)//2)\n",
        "    star = '*'*i\n",
        "    \n",
        "    print(blank, star,blank)"
      ],
      "execution_count": 60,
      "outputs": [
        {
          "output_type": "stream",
          "text": [
            "별 최대 개수 : 9\n",
            "     *     \n",
            "    ***    \n",
            "   *****   \n",
            "  *******  \n",
            " ********* \n",
            "  *******  \n",
            "   *****   \n",
            "    ***    \n",
            "     *     \n"
          ],
          "name": "stdout"
        }
      ]
    },
    {
      "cell_type": "code",
      "metadata": {
        "colab": {
          "base_uri": "https://localhost:8080/"
        },
        "id": "amOv8IfpjOf0",
        "outputId": "242b558e-e235-47f3-9aec-927826d04aae"
      },
      "source": [
        "# Diamond 그리기 답\n",
        "# 윗부분과 아랫부분으로 쪼개서 구함\n",
        "for i in range(5):\n",
        "    for _ in range(4-i):\n",
        "        print(' ', end='')\n",
        "    for _ in range(2*i+1):\n",
        "        print('*', end='')\n",
        "    print()"
      ],
      "execution_count": 70,
      "outputs": [
        {
          "output_type": "stream",
          "text": [
            "    *\n",
            "   ***\n",
            "  *****\n",
            " *******\n",
            "*********\n"
          ],
          "name": "stdout"
        }
      ]
    },
    {
      "cell_type": "code",
      "metadata": {
        "colab": {
          "base_uri": "https://localhost:8080/"
        },
        "id": "2H7bJjhwlLd_",
        "outputId": "00b64c90-9c0c-40c3-e846-ed55a7ff021d"
      },
      "source": [
        "for i in range(5):\n",
        "    for _ in range(4-i):\n",
        "        print(' ', end='')\n",
        "    for _ in range(2*i+1):\n",
        "        print('*', end='')\n",
        "    print()\n",
        "for i in range(4):\n",
        "    for _ in range(i+1):\n",
        "        print(' ', end='')\n",
        "    for _ in range(7-2*i):\n",
        "        print('*', end='')\n",
        "    print()"
      ],
      "execution_count": 73,
      "outputs": [
        {
          "output_type": "stream",
          "text": [
            "    *\n",
            "   ***\n",
            "  *****\n",
            " *******\n",
            "*********\n",
            " *******\n",
            "  *****\n",
            "   ***\n",
            "    *\n"
          ],
          "name": "stdout"
        }
      ]
    },
    {
      "cell_type": "code",
      "metadata": {
        "colab": {
          "base_uri": "https://localhost:8080/"
        },
        "id": "Yy8439odlw-2",
        "outputId": "5194ea1f-f7eb-4bd5-cf12-a4deb95b0ad3"
      },
      "source": [
        "for i in range(5):\n",
        "    print(' '*(4-i), '*'*(2*i+1), sep='')       # sep가 없어도 실행되나 한칸 오른쪽으로 감\n",
        "for i in range(4):\n",
        "    print(' '*(i+1), '*'*(7-2*i), sep='')"
      ],
      "execution_count": 78,
      "outputs": [
        {
          "output_type": "stream",
          "text": [
            "    *\n",
            "   ***\n",
            "  *****\n",
            " *******\n",
            "*********\n",
            " *******\n",
            "  *****\n",
            "   ***\n",
            "    *\n"
          ],
          "name": "stdout"
        }
      ]
    },
    {
      "cell_type": "code",
      "metadata": {
        "colab": {
          "base_uri": "https://localhost:8080/"
        },
        "id": "LI4RPQltoUvw",
        "outputId": "f29bfa3f-e96c-44b7-991f-73156ff14914"
      },
      "source": [
        "for i in range(-4, 5):\n",
        "    print(' ' * (abs(i)), '*' * (-2*abs(i)+9), sep='')"
      ],
      "execution_count": 80,
      "outputs": [
        {
          "output_type": "stream",
          "text": [
            "    *\n",
            "   ***\n",
            "  *****\n",
            " *******\n",
            "*********\n",
            " *******\n",
            "  *****\n",
            "   ***\n",
            "    *\n"
          ],
          "name": "stdout"
        }
      ]
    },
    {
      "cell_type": "code",
      "metadata": {
        "id": "V8DUVVZuphQO"
      },
      "source": [
        ""
      ],
      "execution_count": null,
      "outputs": []
    }
  ]
}