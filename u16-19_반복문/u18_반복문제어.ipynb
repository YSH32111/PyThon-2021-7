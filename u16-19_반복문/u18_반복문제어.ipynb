{
  "nbformat": 4,
  "nbformat_minor": 0,
  "metadata": {
    "colab": {
      "name": "u18_반복문제어.ipynb",
      "provenance": [],
      "collapsed_sections": []
    },
    "kernelspec": {
      "name": "python3",
      "display_name": "Python 3"
    },
    "language_info": {
      "name": "python"
    }
  },
  "cells": [
    {
      "cell_type": "markdown",
      "metadata": {
        "id": "QXbie3a9EsXX"
      },
      "source": [
        "# Unit 18. break, continue로 반복문 제어하기"
      ]
    },
    {
      "cell_type": "markdown",
      "metadata": {
        "id": "_i_KRy__E9rU"
      },
      "source": [
        "## 18.1 break"
      ]
    },
    {
      "cell_type": "code",
      "metadata": {
        "id": "1h1mHhCpEmHK"
      },
      "source": [
        "import random\n",
        "\n",
        "# import 뜻? 함수 가져오는건가?"
      ],
      "execution_count": 1,
      "outputs": []
    },
    {
      "cell_type": "code",
      "metadata": {
        "colab": {
          "base_uri": "https://localhost:8080/"
        },
        "id": "3METWMudFBjf",
        "outputId": "24974cc1-4b21-4e92-a68a-103ef1458994"
      },
      "source": [
        "while True:\n",
        "    i = random.randint(1,6)\n",
        "    print(i)\n",
        "    if i == 3:\n",
        "        break\n",
        "\n",
        "# 이 코드가 17장 코드보다 더 자연스러워 이렇게 쓴다고함"
      ],
      "execution_count": 3,
      "outputs": [
        {
          "output_type": "stream",
          "text": [
            "1\n",
            "4\n",
            "3\n"
          ],
          "name": "stdout"
        }
      ]
    },
    {
      "cell_type": "code",
      "metadata": {
        "colab": {
          "base_uri": "https://localhost:8080/"
        },
        "id": "m1_uKD5YFM95",
        "outputId": "4796604d-5289-47d0-ccbc-4b73fb7534ed"
      },
      "source": [
        "for i in range(5):\n",
        "    print(i, end=' ')\n",
        "    for k in range(5):\n",
        "        print('*', end='')\n",
        "        if i == k:\n",
        "            break\n",
        "# 3까지만 탈출함\n",
        "\n",
        "# d2 coding ligature 사용시 글꼴 합쳐짐 *(*위로)*"
      ],
      "execution_count": 4,
      "outputs": [
        {
          "output_type": "stream",
          "text": [
            "0 *1 **2 ***3 ****4 *****"
          ],
          "name": "stdout"
        }
      ]
    },
    {
      "cell_type": "code",
      "metadata": {
        "colab": {
          "base_uri": "https://localhost:8080/"
        },
        "id": "sfYCbYlyGAX-",
        "outputId": "9d1d20c8-4c7d-4ced-860b-6cf688990f2c"
      },
      "source": [
        "for i in range(5):\n",
        "    print(i, end=' ')\n",
        "    for k in range(5):\n",
        "        print('*', end='')\n",
        "        if i == k:\n",
        "            break\n",
        "    print()"
      ],
      "execution_count": 5,
      "outputs": [
        {
          "output_type": "stream",
          "text": [
            "0 *\n",
            "1 **\n",
            "2 ***\n",
            "3 ****\n",
            "4 *****\n"
          ],
          "name": "stdout"
        }
      ]
    },
    {
      "cell_type": "code",
      "metadata": {
        "id": "EEG7H1FLGesX"
      },
      "source": [
        "# break는 자기가 속한 loop 하나만 빠져나감"
      ],
      "execution_count": 6,
      "outputs": []
    },
    {
      "cell_type": "markdown",
      "metadata": {
        "id": "FpycGUQuGrF_"
      },
      "source": [
        "## 18.2 continue로 코드 실행 건너뛰기"
      ]
    },
    {
      "cell_type": "code",
      "metadata": {
        "colab": {
          "base_uri": "https://localhost:8080/"
        },
        "id": "29kpqRjWGqrH",
        "outputId": "6841846e-8811-4621-f991-06daeaf4e736"
      },
      "source": [
        "for i in range(10):\n",
        "    if i % 2 == 0:\n",
        "        continue            # 2로 나눠지면 위로 올라감. 아래로 진행 x\n",
        "    print(i)"
      ],
      "execution_count": 7,
      "outputs": [
        {
          "output_type": "stream",
          "text": [
            "1\n",
            "3\n",
            "5\n",
            "7\n",
            "9\n"
          ],
          "name": "stdout"
        }
      ]
    },
    {
      "cell_type": "code",
      "metadata": {
        "id": "tRKTEBxRG1u_"
      },
      "source": [
        ""
      ],
      "execution_count": null,
      "outputs": []
    }
  ]
}