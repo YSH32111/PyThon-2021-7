{
  "nbformat": 4,
  "nbformat_minor": 0,
  "metadata": {
    "colab": {
      "name": "u17_while반복문.ipynb",
      "provenance": [],
      "collapsed_sections": []
    },
    "kernelspec": {
      "name": "python3",
      "display_name": "Python 3"
    },
    "language_info": {
      "name": "python"
    }
  },
  "cells": [
    {
      "cell_type": "markdown",
      "metadata": {
        "id": "WJ--QN0YAqq5"
      },
      "source": [
        "# Unit 17. while 반복문"
      ]
    },
    {
      "cell_type": "markdown",
      "metadata": {
        "id": "sPgHq7XRA2C5"
      },
      "source": [
        "## 17.1 while 반복문 사용하기\n",
        "- 반복횟수가 정해져 있는 반복문은 while를 쓰지 않는다.\n",
        "- for 이 훨씬 더 편함"
      ]
    },
    {
      "cell_type": "code",
      "metadata": {
        "id": "uYYTegjyA15A"
      },
      "source": [
        "# 예문이 좋지못함\n",
        "\n",
        "#i = 0                     # 초기식\n",
        "#while i < 100:            # while 조건식\n",
        "#     print('Hello, world!')    # 반복할 코드\n",
        "#     i += 1                    # 변화식"
      ],
      "execution_count": 9,
      "outputs": []
    },
    {
      "cell_type": "code",
      "metadata": {
        "id": "xMqdzjPhAtia"
      },
      "source": [
        "# 이런 형태로 많이 쓰임\n",
        "# while True:\n",
        "#    조건이 만족하면 loop 탈출"
      ],
      "execution_count": 10,
      "outputs": []
    },
    {
      "cell_type": "code",
      "metadata": {
        "id": "f3Yf3Q2VBNPW"
      },
      "source": [
        "#while 조건:\n",
        "#    조건이 참인 동안 loop 반복\n",
        "\n",
        "#    조건을 바꾸는 식이 반드시 나와야 함. 없으면 무한 loop"
      ],
      "execution_count": 13,
      "outputs": []
    },
    {
      "cell_type": "code",
      "metadata": {
        "id": "U_ZTvhXvBReW"
      },
      "source": [
        "# 반복횟수가 정해져 있는 경우는 while 사용하지 않음"
      ],
      "execution_count": null,
      "outputs": []
    },
    {
      "cell_type": "markdown",
      "metadata": {
        "id": "KJbkFcgxBwH8"
      },
      "source": [
        "## 17.2 반복횟수가 정해지지 않은 경우"
      ]
    },
    {
      "cell_type": "code",
      "metadata": {
        "id": "oVI7WuWKB1VM"
      },
      "source": [
        "# while 조건:\n",
        "#   조건이 참인 "
      ],
      "execution_count": 14,
      "outputs": []
    },
    {
      "cell_type": "code",
      "metadata": {
        "id": "Iz4t5ZH_CLj9"
      },
      "source": [
        "import random"
      ],
      "execution_count": 15,
      "outputs": []
    },
    {
      "cell_type": "code",
      "metadata": {
        "colab": {
          "base_uri": "https://localhost:8080/"
        },
        "id": "T9CdH5LTCVwA",
        "outputId": "70a717c2-4962-42eb-9258-62f44fa1e091"
      },
      "source": [
        "random.random() # 0~1 사이의 실숫값 하나 나옴"
      ],
      "execution_count": 16,
      "outputs": [
        {
          "output_type": "execute_result",
          "data": {
            "text/plain": [
              "0.10550656989055829"
            ]
          },
          "metadata": {
            "tags": []
          },
          "execution_count": 16
        }
      ]
    },
    {
      "cell_type": "markdown",
      "metadata": {
        "id": "E2JlTkOlEOWU"
      },
      "source": [
        "### randint"
      ]
    },
    {
      "cell_type": "code",
      "metadata": {
        "colab": {
          "base_uri": "https://localhost:8080/"
        },
        "id": "azzHITV8CaG6",
        "outputId": "a860ac09-90b8-42f4-a6e3-930c41fab9bf"
      },
      "source": [
        "random.randint(1,6)     #(시작값,끝값) / 끝 포함"
      ],
      "execution_count": 17,
      "outputs": [
        {
          "output_type": "execute_result",
          "data": {
            "text/plain": [
              "5"
            ]
          },
          "metadata": {
            "tags": []
          },
          "execution_count": 17
        }
      ]
    },
    {
      "cell_type": "code",
      "metadata": {
        "colab": {
          "base_uri": "https://localhost:8080/"
        },
        "id": "QYhRI0StC57v",
        "outputId": "41f0b846-cf11-4fc1-a394-235d90136a78"
      },
      "source": [
        "i = 0                   # 초기값을 잡아줘야함\n",
        "while i != 3:\n",
        "    i = random.randint(1, 6)\n",
        "    print(i)"
      ],
      "execution_count": 22,
      "outputs": [
        {
          "output_type": "stream",
          "text": [
            "4\n",
            "6\n",
            "6\n",
            "5\n",
            "2\n",
            "1\n",
            "6\n",
            "6\n",
            "3\n"
          ],
          "name": "stdout"
        }
      ]
    },
    {
      "cell_type": "markdown",
      "metadata": {
        "id": "nCHr_mhIEMkA"
      },
      "source": [
        "### choice"
      ]
    },
    {
      "cell_type": "code",
      "metadata": {
        "colab": {
          "base_uri": "https://localhost:8080/"
        },
        "id": "KLGkgwaLDDoQ",
        "outputId": "da9a883f-c04e-4399-816f-4dfacc5b18fb"
      },
      "source": [
        "i = 0\n",
        "dice = list(range(1,7))\n",
        "while i != 3:\n",
        "    i = random.choice(dice)\n",
        "    print(i)"
      ],
      "execution_count": 23,
      "outputs": [
        {
          "output_type": "stream",
          "text": [
            "2\n",
            "6\n",
            "3\n"
          ],
          "name": "stdout"
        }
      ]
    },
    {
      "cell_type": "code",
      "metadata": {
        "colab": {
          "base_uri": "https://localhost:8080/"
        },
        "id": "NoelBE4yDX5I",
        "outputId": "8d1df968-363e-458a-8a22-8102091f405a"
      },
      "source": [
        "i = 0\n",
        "dice = [1,2,3,4,5,6]        # 위와 같은데 풀어쓴거\n",
        "while i != 3:\n",
        "    i = random.choice(dice)\n",
        "    print(i)"
      ],
      "execution_count": 24,
      "outputs": [
        {
          "output_type": "stream",
          "text": [
            "2\n",
            "3\n"
          ],
          "name": "stdout"
        }
      ]
    },
    {
      "cell_type": "markdown",
      "metadata": {
        "id": "XeyHRgCIEKhY"
      },
      "source": [
        "### sample"
      ]
    },
    {
      "cell_type": "code",
      "metadata": {
        "colab": {
          "base_uri": "https://localhost:8080/"
        },
        "id": "RlgGskUqDhU3",
        "outputId": "a9fa6139-603a-4f53-c065-8cf73ebcc3e5"
      },
      "source": [
        "random.sample(dice, 6)"
      ],
      "execution_count": 34,
      "outputs": [
        {
          "output_type": "execute_result",
          "data": {
            "text/plain": [
              "[6, 1, 3, 2, 5, 4]"
            ]
          },
          "metadata": {
            "tags": []
          },
          "execution_count": 34
        }
      ]
    },
    {
      "cell_type": "markdown",
      "metadata": {
        "id": "lwMbxBOuETVC"
      },
      "source": [
        "## 17.3 while 반복문으로 무한 루프 만들기"
      ]
    },
    {
      "cell_type": "code",
      "metadata": {
        "id": "787c4TZWDoIm"
      },
      "source": [
        ""
      ],
      "execution_count": null,
      "outputs": []
    }
  ]
}