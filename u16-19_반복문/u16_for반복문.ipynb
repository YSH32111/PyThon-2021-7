{
  "nbformat": 4,
  "nbformat_minor": 0,
  "metadata": {
    "colab": {
      "name": "u16_for반복문.ipynb",
      "provenance": [],
      "collapsed_sections": []
    },
    "kernelspec": {
      "name": "python3",
      "display_name": "Python 3"
    },
    "language_info": {
      "name": "python"
    }
  },
  "cells": [
    {
      "cell_type": "markdown",
      "metadata": {
        "id": "e7T7hJFSs9ao"
      },
      "source": [
        "# Unit 16. for 반복문"
      ]
    },
    {
      "cell_type": "markdown",
      "metadata": {
        "id": "r3f5gq2vtCML"
      },
      "source": [
        "## 16.1 for와 range 사용하기"
      ]
    },
    {
      "cell_type": "code",
      "metadata": {
        "colab": {
          "base_uri": "https://localhost:8080/"
        },
        "id": "-v5YB3ZkszBc",
        "outputId": "1f11a50f-5b70-4ae2-b01f-84ee49b13155"
      },
      "source": [
        "print('Hello, world!' * 10, sep='\\n')"
      ],
      "execution_count": 9,
      "outputs": [
        {
          "output_type": "stream",
          "text": [
            "Hello, world!Hello, world!Hello, world!Hello, world!Hello, world!Hello, world!Hello, world!Hello, world!Hello, world!Hello, world!\n"
          ],
          "name": "stdout"
        }
      ]
    },
    {
      "cell_type": "code",
      "metadata": {
        "colab": {
          "base_uri": "https://localhost:8080/"
        },
        "id": "yJ4pJTtVtaz9",
        "outputId": "f663136a-e746-4490-b344-3180804e20ee"
      },
      "source": [
        "for i in range(10):\n",
        "    print('Hello, world!')\n",
        "    print('Hi')"
      ],
      "execution_count": 12,
      "outputs": [
        {
          "output_type": "stream",
          "text": [
            "Hello, world!\n",
            "Hi\n",
            "Hello, world!\n",
            "Hi\n",
            "Hello, world!\n",
            "Hi\n",
            "Hello, world!\n",
            "Hi\n",
            "Hello, world!\n",
            "Hi\n",
            "Hello, world!\n",
            "Hi\n",
            "Hello, world!\n",
            "Hi\n",
            "Hello, world!\n",
            "Hi\n",
            "Hello, world!\n",
            "Hi\n",
            "Hello, world!\n",
            "Hi\n"
          ],
          "name": "stdout"
        }
      ]
    },
    {
      "cell_type": "code",
      "metadata": {
        "colab": {
          "base_uri": "https://localhost:8080/"
        },
        "id": "gDY5kbRatgCW",
        "outputId": "e5346508-c0b8-42e0-f151-69cc97174121"
      },
      "source": [
        "for i in range(10):\n",
        "    print('Hello, world!', i)"
      ],
      "execution_count": 11,
      "outputs": [
        {
          "output_type": "stream",
          "text": [
            "Hello, world! 0\n",
            "Hello, world! 1\n",
            "Hello, world! 2\n",
            "Hello, world! 3\n",
            "Hello, world! 4\n",
            "Hello, world! 5\n",
            "Hello, world! 6\n",
            "Hello, world! 7\n",
            "Hello, world! 8\n",
            "Hello, world! 9\n"
          ],
          "name": "stdout"
        }
      ]
    },
    {
      "cell_type": "code",
      "metadata": {
        "id": "mWwtdFD9vN7n"
      },
      "source": [
        "for _ in range(10):     # 굳이 변수를 만들지 않을땐 _를 씀\n",
        "    print('Hello, world!', i)"
      ],
      "execution_count": null,
      "outputs": []
    },
    {
      "cell_type": "markdown",
      "metadata": {
        "id": "rgn2ys19x7oS"
      },
      "source": [
        "## 16.2 for와 range 응용"
      ]
    },
    {
      "cell_type": "code",
      "metadata": {
        "id": "-05wp9I7x-cr"
      },
      "source": [
        "# for 변수 in range(시작, 끝):"
      ],
      "execution_count": 15,
      "outputs": []
    },
    {
      "cell_type": "code",
      "metadata": {
        "colab": {
          "base_uri": "https://localhost:8080/"
        },
        "id": "00XMQU1MyHLA",
        "outputId": "a8e2e96b-dacd-4a8b-ef48-6a47e48190b4"
      },
      "source": [
        "for i in range(6, 10):\n",
        "    print('Hello, world!', i)"
      ],
      "execution_count": 17,
      "outputs": [
        {
          "output_type": "stream",
          "text": [
            "Hello, world! 6\n",
            "Hello, world! 7\n",
            "Hello, world! 8\n",
            "Hello, world! 9\n"
          ],
          "name": "stdout"
        }
      ]
    },
    {
      "cell_type": "code",
      "metadata": {
        "colab": {
          "base_uri": "https://localhost:8080/"
        },
        "id": "gXl9RRQ3yJ1u",
        "outputId": "2f8306c6-9af1-4ea0-a0d9-69871fc23392"
      },
      "source": [
        "for i in range(0, 10, 2):\n",
        "    print('Hello, world!', i)"
      ],
      "execution_count": 18,
      "outputs": [
        {
          "output_type": "stream",
          "text": [
            "Hello, world! 0\n",
            "Hello, world! 2\n",
            "Hello, world! 4\n",
            "Hello, world! 6\n",
            "Hello, world! 8\n"
          ],
          "name": "stdout"
        }
      ]
    },
    {
      "cell_type": "code",
      "metadata": {
        "colab": {
          "base_uri": "https://localhost:8080/"
        },
        "id": "T1Gsbrtexwz4",
        "outputId": "481907f4-6156-4dc7-9f80-ad0531976c5b"
      },
      "source": [
        "for i in range(10, 0, -2):\n",
        "    print('Hello, world!', i)"
      ],
      "execution_count": 19,
      "outputs": [
        {
          "output_type": "stream",
          "text": [
            "Hello, world! 10\n",
            "Hello, world! 8\n",
            "Hello, world! 6\n",
            "Hello, world! 4\n",
            "Hello, world! 2\n"
          ],
          "name": "stdout"
        }
      ]
    },
    {
      "cell_type": "code",
      "metadata": {
        "id": "bhNBrgsZycNA"
      },
      "source": [
        "# 굳이 음수 쓰지 않고, 내림차순\n",
        "# for 변수 in reversed(range(횟수))\n",
        "# for 변수 in reversed(range(시작, 끝))\n",
        "# for 변수 in reversed(range(시작, 끝, 증가폭))\n",
        "# list 순서를 바꿀때도 reversed 쓰임\n",
        "# range에서 reversed 쓰는 경우는 거의 없음"
      ],
      "execution_count": 21,
      "outputs": []
    },
    {
      "cell_type": "markdown",
      "metadata": {
        "id": "2U4PqKp9y085"
      },
      "source": [
        "### 16.2.4  입력한 횟수대로 반복하기"
      ]
    },
    {
      "cell_type": "code",
      "metadata": {
        "colab": {
          "base_uri": "https://localhost:8080/"
        },
        "id": "4LYAmUGpzeOq",
        "outputId": "bb77331a-c598-4514-848b-6f5094df913f"
      },
      "source": [
        "for i in range(1, 101):\n",
        "      print('Fizz'*(i%3==0) + 'Buzz'*(i%5==0) or i, end=' ')\n",
        "\n",
        "\n",
        "# 보기에 너무 김"
      ],
      "execution_count": 24,
      "outputs": [
        {
          "output_type": "stream",
          "text": [
            "1 2 Fizz 4 Buzz Fizz 7 8 Fizz Buzz 11 Fizz 13 14 FizzBuzz 16 17 Fizz 19 Buzz Fizz 22 23 Fizz Buzz 26 Fizz 28 29 FizzBuzz 31 32 Fizz 34 Buzz Fizz 37 38 Fizz Buzz 41 Fizz 43 44 FizzBuzz 46 47 Fizz 49 Buzz Fizz 52 53 Fizz Buzz 56 Fizz 58 59 FizzBuzz 61 62 Fizz 64 Buzz Fizz 67 68 Fizz Buzz 71 Fizz 73 74 FizzBuzz 76 77 Fizz 79 Buzz Fizz 82 83 Fizz Buzz 86 Fizz 88 89 FizzBuzz 91 92 Fizz 94 Buzz Fizz 97 98 Fizz Buzz "
          ],
          "name": "stdout"
        }
      ]
    },
    {
      "cell_type": "code",
      "metadata": {
        "colab": {
          "base_uri": "https://localhost:8080/"
        },
        "id": "mELI940jy3r9",
        "outputId": "0210591d-6259-4f47-fc38-18f71eb3c931"
      },
      "source": [
        "# 보기에 너무 길어서 10번째마다 엔터찍히게\n",
        "for i in range(1, 101):\n",
        "      print('Fizz'*(i%3==0) + 'Buzz'*(i%5==0) or i, end=' ')\n",
        "      if (i % 10 == 0 ):\n",
        "          print()         "
      ],
      "execution_count": 25,
      "outputs": [
        {
          "output_type": "stream",
          "text": [
            "1 2 Fizz 4 Buzz Fizz 7 8 Fizz Buzz \n",
            "11 Fizz 13 14 FizzBuzz 16 17 Fizz 19 Buzz \n",
            "Fizz 22 23 Fizz Buzz 26 Fizz 28 29 FizzBuzz \n",
            "31 32 Fizz 34 Buzz Fizz 37 38 Fizz Buzz \n",
            "41 Fizz 43 44 FizzBuzz 46 47 Fizz 49 Buzz \n",
            "Fizz 52 53 Fizz Buzz 56 Fizz 58 59 FizzBuzz \n",
            "61 62 Fizz 64 Buzz Fizz 67 68 Fizz Buzz \n",
            "71 Fizz 73 74 FizzBuzz 76 77 Fizz 79 Buzz \n",
            "Fizz 82 83 Fizz Buzz 86 Fizz 88 89 FizzBuzz \n",
            "91 92 Fizz 94 Buzz Fizz 97 98 Fizz Buzz \n"
          ],
          "name": "stdout"
        }
      ]
    },
    {
      "cell_type": "markdown",
      "metadata": {
        "id": "Ic9OkR0bxwXh"
      },
      "source": [
        "## 16.3 시퀀스 객체로 반복하기"
      ]
    },
    {
      "cell_type": "code",
      "metadata": {
        "colab": {
          "base_uri": "https://localhost:8080/"
        },
        "id": "Y8sjHKIV0AUc",
        "outputId": "f0398e7e-28a2-4591-d0f8-f0ac17d080d9"
      },
      "source": [
        "fruits = ['apple', 'banana', 'cherry']\n",
        "for element in fruits:\n",
        "    print(element)"
      ],
      "execution_count": 32,
      "outputs": [
        {
          "output_type": "stream",
          "text": [
            "apple\n",
            "banana\n",
            "cherry\n"
          ],
          "name": "stdout"
        }
      ]
    },
    {
      "cell_type": "code",
      "metadata": {
        "id": "WPoCn8Nz0L2X"
      },
      "source": [
        "fruits = ['apple', 'banana', 'cherry']\n",
        "for element in fruits:\n",
        "    element\n",
        "\n",
        "# 반드시 print를 해야함"
      ],
      "execution_count": 30,
      "outputs": []
    },
    {
      "cell_type": "code",
      "metadata": {
        "colab": {
          "base_uri": "https://localhost:8080/"
        },
        "id": "kyze-8AQ0SJW",
        "outputId": "eb22a611-a354-4476-acd3-2b7fb5ef9456"
      },
      "source": [
        "fruit_list = ['apple', 'banana', 'cherry']\n",
        "for fruit in fruit_list:\n",
        "    print(fruit)\n",
        "\n",
        "# element 보다 fruit로 받는게 보기 좋음. 단수 복수\n",
        "# 변수명으로도 fruit_list로 자료형이 무엇인지 보여줌\n",
        "\n",
        "# 추후에 코딩 복잡해지면 변수 알아보기 힘듦. 알아보기 쉽게 변수 이름 설정\n",
        "# 소문자 변수. class 명일때만 대문자 추후 객체에서 배움"
      ],
      "execution_count": 34,
      "outputs": [
        {
          "output_type": "stream",
          "text": [
            "apple\n",
            "banana\n",
            "cherry\n"
          ],
          "name": "stdout"
        }
      ]
    },
    {
      "cell_type": "code",
      "metadata": {
        "id": "GlV-VrKD0yj2"
      },
      "source": [
        "# 변수명 단어 2~3\n",
        "# camelNotation - Java    (낙타 등처럼 단어와 단어사이 대문자)\n",
        "# snake_notation - Python (파이썬에서는 _스네이크)"
      ],
      "execution_count": 35,
      "outputs": []
    },
    {
      "cell_type": "code",
      "metadata": {
        "colab": {
          "base_uri": "https://localhost:8080/"
        },
        "id": "195_BZsR159_",
        "outputId": "02668ed5-4f8c-455a-c80d-27b220cfb1e1"
      },
      "source": [
        "for letter in 'Python':\n",
        "    print(letter)"
      ],
      "execution_count": 36,
      "outputs": [
        {
          "output_type": "stream",
          "text": [
            "P\n",
            "y\n",
            "t\n",
            "h\n",
            "o\n",
            "n\n"
          ],
          "name": "stdout"
        }
      ]
    },
    {
      "cell_type": "code",
      "metadata": {
        "colab": {
          "base_uri": "https://localhost:8080/"
        },
        "id": "xlBZ20x82YC3",
        "outputId": "ea349034-7614-4a18-da9f-205d45a942e7"
      },
      "source": [
        "for letter in 'Python':\n",
        "    print(letter, end=' ')"
      ],
      "execution_count": 37,
      "outputs": [
        {
          "output_type": "stream",
          "text": [
            "P y t h o n "
          ],
          "name": "stdout"
        }
      ]
    },
    {
      "cell_type": "code",
      "metadata": {
        "colab": {
          "base_uri": "https://localhost:8080/"
        },
        "id": "KnywSvWM2dEG",
        "outputId": "e99880ea-ec30-40f2-ba22-0c22b5cf138f"
      },
      "source": [
        "for letter in reversed('Python'):\n",
        "    print(letter, end=' ')"
      ],
      "execution_count": 38,
      "outputs": [
        {
          "output_type": "stream",
          "text": [
            "n o h t y P "
          ],
          "name": "stdout"
        }
      ]
    },
    {
      "cell_type": "code",
      "metadata": {
        "colab": {
          "base_uri": "https://localhost:8080/"
        },
        "id": "PlLTj6Wy20PS",
        "outputId": "72a1b411-9db5-4108-815a-aa511249cb5b"
      },
      "source": [
        "for number in (10, 20, 30):\n",
        "    print(number)"
      ],
      "execution_count": 39,
      "outputs": [
        {
          "output_type": "stream",
          "text": [
            "10\n",
            "20\n",
            "30\n"
          ],
          "name": "stdout"
        }
      ]
    },
    {
      "cell_type": "markdown",
      "metadata": {
        "id": "JyHnIhqf3km4"
      },
      "source": [
        "### Perfect Number\n",
        "- 1제외\n",
        "- 자기 자신을 제외한 약수의 합이 자기 자신과 같은 수\n",
        "-ex 6의 약수 : 1, 2, 3, 6\n",
        "-6 = 1 + 2 + 3\n",
        "-10000이하의 자연수 중에서는 4개\n",
        "\n",
        "- for 반복문과 if 사용"
      ]
    },
    {
      "cell_type": "code",
      "metadata": {
        "colab": {
          "base_uri": "https://localhost:8080/"
        },
        "id": "gxX8iu8p3G1Z",
        "outputId": "fb16ccac-1be6-4ecf-9039-c94d09fd318e"
      },
      "source": [
        "for i in range(2,11):\n",
        "    for k in range(1, i):\n",
        "        if i % k == 0:\n",
        "            print(f'{k}은/는 {i}의 약수')\n",
        "\n",
        "\n",
        "# f스트링?? "
      ],
      "execution_count": 44,
      "outputs": [
        {
          "output_type": "stream",
          "text": [
            "1은/는 2의 약수\n",
            "1은/는 3의 약수\n",
            "1은/는 4의 약수\n",
            "2은/는 4의 약수\n",
            "1은/는 5의 약수\n",
            "1은/는 6의 약수\n",
            "2은/는 6의 약수\n",
            "3은/는 6의 약수\n",
            "1은/는 7의 약수\n",
            "1은/는 8의 약수\n",
            "2은/는 8의 약수\n",
            "4은/는 8의 약수\n",
            "1은/는 9의 약수\n",
            "3은/는 9의 약수\n",
            "1은/는 10의 약수\n",
            "2은/는 10의 약수\n",
            "5은/는 10의 약수\n"
          ],
          "name": "stdout"
        }
      ]
    },
    {
      "cell_type": "code",
      "metadata": {
        "colab": {
          "base_uri": "https://localhost:8080/"
        },
        "id": "Yo_lfJZo33-t",
        "outputId": "b467609d-eb8a-43a0-f937-aed68d0b4e8d"
      },
      "source": [
        "for i in range(2,11):\n",
        "    for k in range(2, i):\n",
        "        if i % k == 0:\n",
        "            print(f'{k}은/는 {i}의 약수')"
      ],
      "execution_count": 45,
      "outputs": [
        {
          "output_type": "stream",
          "text": [
            "2은/는 4의 약수\n",
            "2은/는 6의 약수\n",
            "3은/는 6의 약수\n",
            "2은/는 8의 약수\n",
            "4은/는 8의 약수\n",
            "3은/는 9의 약수\n",
            "2은/는 10의 약수\n",
            "5은/는 10의 약수\n"
          ],
          "name": "stdout"
        }
      ]
    },
    {
      "cell_type": "code",
      "metadata": {
        "colab": {
          "base_uri": "https://localhost:8080/"
        },
        "id": "o8pWbfHB6HSn",
        "outputId": "24a8867e-3bfe-45a9-acd8-ded79fd29885"
      },
      "source": [
        "# 풀이\n",
        "for i in range(2,10001):\n",
        "    sum_of_divisor = 0\n",
        "    for k in range(1, i):\n",
        "        if i % k == 0:\n",
        "            sum_of_divisor += k\n",
        "\n",
        "    if i == sum_of_divisor:\n",
        "        print(i)"
      ],
      "execution_count": 51,
      "outputs": [
        {
          "output_type": "stream",
          "text": [
            "6\n",
            "28\n",
            "496\n",
            "8128\n"
          ],
          "name": "stdout"
        }
      ]
    },
    {
      "cell_type": "code",
      "metadata": {
        "colab": {
          "base_uri": "https://localhost:8080/"
        },
        "id": "UQuPaZ_f8hd0",
        "outputId": "d5edaad8-8798-424c-a0a9-1dca953c7816"
      },
      "source": [
        "# 풀이 list 사용\n",
        "perfect_numbers = []\n",
        "for i in range(2,10001):\n",
        "    divisor_list = []\n",
        "    for k in range(1, i):\n",
        "        if i % k == 0:\n",
        "            divisor_list.append(k)\n",
        "\n",
        "    if i == sum(divisor_list):\n",
        "        perfect_numbers.append(i)\n",
        "\n",
        "print(perfect_numbers)"
      ],
      "execution_count": 53,
      "outputs": [
        {
          "output_type": "stream",
          "text": [
            "[6, 28, 496, 8128]\n"
          ],
          "name": "stdout"
        }
      ]
    },
    {
      "cell_type": "code",
      "metadata": {
        "id": "lp8qWkuu9Yo3"
      },
      "source": [
        ""
      ],
      "execution_count": null,
      "outputs": []
    }
  ]
}