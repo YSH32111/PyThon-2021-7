{
  "nbformat": 4,
  "nbformat_minor": 0,
  "metadata": {
    "colab": {
      "name": "8-14심사문제풀이_6회차_윤승현.ipynb",
      "provenance": [],
      "collapsed_sections": []
    },
    "kernelspec": {
      "name": "python3",
      "display_name": "Python 3"
    },
    "language_info": {
      "name": "python"
    }
  },
  "cells": [
    {
      "cell_type": "markdown",
      "metadata": {
        "id": "bTof7AD_wqsr"
      },
      "source": [
        "# 심사문제풀이"
      ]
    },
    {
      "cell_type": "markdown",
      "metadata": {
        "id": "3S4M0p7AwtLk"
      },
      "source": [
        "## 8장 심사문제\n",
        "### 8.5 합격 여부 출력하기\n",
        " 표준 입력으로 국어, 영어, 수학, 과학 점수가 입력됩니다. 국어는 90점 이상, 영어는 80점 초과, 수학은 85점 초과, 과학은 80점 이상일 때 합격이라고 정했습니다(한 과목이라도 조건에 만족하지 않으면 불합격). 다음 소스 코드를 완성하여 합격이면 True, 불합격이면 False가 출력되게 만드세요(input에서 안내 문자열은 출력하지 않아야 합니다).\n",
        "\n",
        "________________\n",
        "________________"
      ]
    },
    {
      "cell_type": "code",
      "metadata": {
        "colab": {
          "base_uri": "https://localhost:8080/"
        },
        "id": "GTrwA4MwwwWp",
        "outputId": "daee53a4-4c6e-4aa5-fabe-41efc3c8fbe8"
      },
      "source": [
        "korean, english, math, science=map(int,input().split())\n",
        "print(korean>=90 and english>80 and math>85 and science>=80)"
      ],
      "execution_count": null,
      "outputs": [
        {
          "output_type": "stream",
          "text": [
            "90 81 86 80\n",
            "True\n"
          ],
          "name": "stdout"
        }
      ]
    },
    {
      "cell_type": "code",
      "metadata": {
        "colab": {
          "base_uri": "https://localhost:8080/"
        },
        "id": "Xn8ym3LizDQ6",
        "outputId": "73bc3f83-41f7-400d-8b20-cf29d740f9fc"
      },
      "source": [
        "korean, english, math, science=map(int,input().split())\n",
        "print(korean>=90 and english>80 and math>85 and science>=80)"
      ],
      "execution_count": null,
      "outputs": [
        {
          "output_type": "stream",
          "text": [
            "90 80 85 80\n",
            "False\n"
          ],
          "name": "stdout"
        }
      ]
    },
    {
      "cell_type": "markdown",
      "metadata": {
        "id": "DEToK0PA02jN"
      },
      "source": [
        "## 9장 심사문제\n",
        "### 9.4 여러 줄로 된 문자열 사용하기\n",
        " 다음 소스 코드를 완성하여 실행 결과대로 문자열이 출력되게 만드세요.\n",
        "\n",
        "judge_multiline_string.py\n",
        "________________\n",
        "________________\n",
        "________________\n",
        "________________\n",
        "\n",
        "print(s)"
      ]
    },
    {
      "cell_type": "code",
      "metadata": {
        "colab": {
          "base_uri": "https://localhost:8080/"
        },
        "id": "n5VESxVUzTJQ",
        "outputId": "6c5642c1-8993-4e71-eeb4-7ce569b34ff3"
      },
      "source": [
        "s=\"\"\"\\'Python\\' is a \\\"programming language\\\"\n",
        "that lets you work quickly\n",
        "and\n",
        "integrate systems more effectively.\"\"\"\n",
        "\n",
        "print(s)"
      ],
      "execution_count": null,
      "outputs": [
        {
          "output_type": "stream",
          "text": [
            "'Python' is a \"programming language\"\n",
            "that lets you work quickly\n",
            "and\n",
            "integrate systems more effectively.\n"
          ],
          "name": "stdout"
        }
      ]
    },
    {
      "cell_type": "code",
      "metadata": {
        "colab": {
          "base_uri": "https://localhost:8080/"
        },
        "id": "uEctNH9oSdp1",
        "outputId": "6a5fb20d-0d80-4834-c289-685e67a32082"
      },
      "source": [
        "s=\"\"\"'Python' is a \"programming language\"\n",
        "that lets you work quickly\n",
        "and\n",
        "integrate systems more effectively.\"\"\"\n",
        "\n",
        "print(s)"
      ],
      "execution_count": 2,
      "outputs": [
        {
          "output_type": "stream",
          "text": [
            "'Python' is a \"programming language\"\n",
            "that lets you work quickly\n",
            "and\n",
            "integrate systems more effectively.\n"
          ],
          "name": "stdout"
        }
      ]
    },
    {
      "cell_type": "code",
      "metadata": {
        "colab": {
          "base_uri": "https://localhost:8080/"
        },
        "id": "uoLWFZa-Shj2",
        "outputId": "a22508c9-e45e-4770-ae77-1dfd0ebd5bbb"
      },
      "source": [
        "s=''''Python' is a \"programming language\"\n",
        "that lets you work quickly\n",
        "and\n",
        "integrate systems more effectively.'''\n",
        "\n",
        "print(s)"
      ],
      "execution_count": 3,
      "outputs": [
        {
          "output_type": "stream",
          "text": [
            "'Python' is a \"programming language\"\n",
            "that lets you work quickly\n",
            "and\n",
            "integrate systems more effectively.\n"
          ],
          "name": "stdout"
        }
      ]
    },
    {
      "cell_type": "markdown",
      "metadata": {
        "id": "C9Ql4I_41N2G"
      },
      "source": [
        "## 10장 심사문제\n",
        "### 10.5 range로 튜플 만들기\n",
        " 표준 입력으로 정수가 입력됩니다. range의 시작하는 숫자는 -10, 끝나는 숫자는 10이며 입력된 정수만큼 증가하는 숫자가 들어가도록 튜플을 만들고, 해당 튜플을 출력하는 프로그램을 만드세요(input에서 안내 문자열은 출력하지 않아야 합니다).\n",
        "________________\n",
        "________________\n",
        "________________"
      ]
    },
    {
      "cell_type": "code",
      "metadata": {
        "colab": {
          "base_uri": "https://localhost:8080/"
        },
        "id": "VT0BrbSM0wc3",
        "outputId": "7c44d697-e515-4029-9384-fba701f014f7"
      },
      "source": [
        "n=int(input())\n",
        "a=tuple(range(-10,10,n))\n",
        "\n",
        "print(a)"
      ],
      "execution_count": 4,
      "outputs": [
        {
          "output_type": "stream",
          "text": [
            "2\n",
            "(-10, -8, -6, -4, -2, 0, 2, 4, 6, 8)\n"
          ],
          "name": "stdout"
        }
      ]
    },
    {
      "cell_type": "code",
      "metadata": {
        "colab": {
          "base_uri": "https://localhost:8080/"
        },
        "id": "dYcMg02Z1ixp",
        "outputId": "a28ec932-5c4d-40ef-e4bc-8713817f6213"
      },
      "source": [
        "n=int(input())\n",
        "a=tuple(range(-10,10,n))\n",
        "\n",
        "print(a)"
      ],
      "execution_count": 5,
      "outputs": [
        {
          "output_type": "stream",
          "text": [
            "3\n",
            "(-10, -7, -4, -1, 2, 5, 8)\n"
          ],
          "name": "stdout"
        }
      ]
    },
    {
      "cell_type": "markdown",
      "metadata": {
        "id": "JMd03eLl1txg"
      },
      "source": [
        "## 11장 심사문제"
      ]
    },
    {
      "cell_type": "markdown",
      "metadata": {
        "id": "pWqdkxHJ2UYB"
      },
      "source": [
        "### 11.8 리스트의 마지막 부분 삭제하기\n",
        " 표준 입력으로 숫자 또는 문자열 여러 개가 입력되어 리스트 x에 저장됩니다(입력되는 숫자 또는 문자열의 개수는 정해져 있지 않음). 다음 소스 코드를 완성하여 리스트 x의 마지막 요소 5개를 삭제한 뒤 튜플로 출력되게 만드세요.\n",
        "\n",
        "x = input().split()\n",
        "\n",
        "________________\n",
        "________________"
      ]
    },
    {
      "cell_type": "code",
      "metadata": {
        "colab": {
          "base_uri": "https://localhost:8080/"
        },
        "id": "UWAQ6QlE2ZDh",
        "outputId": "34138901-f156-4c45-8f1f-45dd6a7ebbbc"
      },
      "source": [
        "x = input().split()\n",
        "\n",
        "del x[-5:len(x)]\n",
        "print(tuple(x))"
      ],
      "execution_count": null,
      "outputs": [
        {
          "output_type": "stream",
          "text": [
            "1 2 3 4 5 6 7 8 9 10\n",
            "('1', '2', '3', '4', '5')\n"
          ],
          "name": "stdout"
        }
      ]
    },
    {
      "cell_type": "code",
      "metadata": {
        "colab": {
          "base_uri": "https://localhost:8080/"
        },
        "id": "DKoGeA-62qAf",
        "outputId": "04f7672e-227e-4a1f-bc00-05c2631012df"
      },
      "source": [
        "x = input().split()\n",
        "\n",
        "del x[-5:len(x)]\n",
        "print(tuple(x))"
      ],
      "execution_count": null,
      "outputs": [
        {
          "output_type": "stream",
          "text": [
            "oven bat pony total leak wreck curl crop space navy loss knee\n",
            "('oven', 'bat', 'pony', 'total', 'leak', 'wreck', 'curl')\n"
          ],
          "name": "stdout"
        }
      ]
    },
    {
      "cell_type": "markdown",
      "metadata": {
        "id": "Ri56btOZ2Tk0"
      },
      "source": [
        "### 11.9 문자열에서 인덱스가 홀수인 문자와 짝수인 문자 연결하기\n",
        " 표준 입력으로 문자열 두 개가 각 줄에 입력됩니다(문자열의 길이는 정해져 있지 않음). 첫 번째 문자열에서 인덱스가 홀수인 문자와 두 번째 문자열에서 인덱스가 짝수인 문자를 연결하여 출력하는 프로그램을 만드세요(input에서 안내 문자열은 출력하지 않아야 합니다). 연결 순서는 첫 번째 문자열, 두 번째 문자열 순입니다. 그리고 0은 짝수로 처리합니다.\n",
        "________________\n",
        "________________\n",
        "________________"
      ]
    },
    {
      "cell_type": "code",
      "metadata": {
        "colab": {
          "base_uri": "https://localhost:8080/"
        },
        "id": "izyWiG9H1lyo",
        "outputId": "424d5533-b990-44a3-88f9-d5506bb78ac6"
      },
      "source": [
        "x=input()[1::2]\n",
        "y=input()[::2]\n",
        "print(x+y)"
      ],
      "execution_count": null,
      "outputs": [
        {
          "output_type": "stream",
          "text": [
            "python\n",
            "python\n",
            "yhnpto\n"
          ],
          "name": "stdout"
        }
      ]
    },
    {
      "cell_type": "code",
      "metadata": {
        "colab": {
          "base_uri": "https://localhost:8080/"
        },
        "id": "I4fwGifB3yVm",
        "outputId": "ff217b21-e0c1-445d-c565-4b0e71fb06dd"
      },
      "source": [
        "x=input()[1::2]\n",
        "y=input()[::2]\n",
        "print(x+y)"
      ],
      "execution_count": null,
      "outputs": [
        {
          "output_type": "stream",
          "text": [
            "apple\n",
            "strawberry\n",
            "plsrwer\n"
          ],
          "name": "stdout"
        }
      ]
    },
    {
      "cell_type": "code",
      "metadata": {
        "id": "9MFEEIso3zRg"
      },
      "source": [
        ""
      ],
      "execution_count": null,
      "outputs": []
    },
    {
      "cell_type": "markdown",
      "metadata": {
        "id": "156WqxpI3aYt"
      },
      "source": [
        "## 12장 심사문제"
      ]
    },
    {
      "cell_type": "markdown",
      "metadata": {
        "id": "4zylglE_3lac"
      },
      "source": [
        "### 12.5 딕셔너리에 게임 캐릭터 능력치 저장하기\n",
        "표준 입력으로 문자열 여러 개와 숫자(실수) 여러 개가 두 줄로 입력됩니다. 입력된 첫 번째 줄은 키, 두 번째 줄은 값으로 하여 딕셔너리를 생성한 뒤 딕셔너리를 출력하는 프로그램을 만드세요. input().split()의 결과를 변수 한 개에 저장하면 리스트로 저장됩니다.\n",
        "________________\n",
        "________________\n",
        "________________\n",
        "________________"
      ]
    },
    {
      "cell_type": "code",
      "metadata": {
        "colab": {
          "base_uri": "https://localhost:8080/"
        },
        "id": "axG_1haP34Yl",
        "outputId": "891799c9-c4c6-49d3-f552-c12f89e6a2e4"
      },
      "source": [
        "x=input().split()\n",
        "y=map(float,input().split())\n",
        "lux=dict(zip(x,y))\n",
        "print(lux)"
      ],
      "execution_count": null,
      "outputs": [
        {
          "output_type": "stream",
          "text": [
            "health health_regen mana mana_regen\n",
            "575.6 1.7 338.8 1.63\n",
            "{'health': 575.6, 'health_regen': 1.7, 'mana': 338.8, 'mana_regen': 1.63}\n"
          ],
          "name": "stdout"
        }
      ]
    },
    {
      "cell_type": "code",
      "metadata": {
        "colab": {
          "base_uri": "https://localhost:8080/"
        },
        "id": "yVFRVGi74BLU",
        "outputId": "29fa65c0-043e-4591-c600-c496d3962da4"
      },
      "source": [
        "x=input().split()\n",
        "y=map(float,input().split())\n",
        "lux=dict(zip(x,y))\n",
        "print(lux)"
      ],
      "execution_count": null,
      "outputs": [
        {
          "output_type": "stream",
          "text": [
            "health mana melee attack_speed magic_resistance\n",
            "573.6 308.8 600 0.625 35.7\n",
            "{'health': 573.6, 'mana': 308.8, 'melee': 600.0, 'attack_speed': 0.625, 'magic_resistance': 35.7}\n"
          ],
          "name": "stdout"
        }
      ]
    },
    {
      "cell_type": "markdown",
      "metadata": {
        "id": "U7S7aVyy3fVe"
      },
      "source": [
        "## 13장 심사문제"
      ]
    },
    {
      "cell_type": "markdown",
      "metadata": {
        "id": "BugJTpFT4HJ3"
      },
      "source": [
        "### 13.7 온라인 할인 쿠폰 시스템 만들기\n",
        "표준 입력으로 가격(정수)과 쿠폰 이름이 각 줄에 입력됩니다. Cash3000 쿠폰은 3,000원, Cash5000 쿠폰은 5,000원을 할인합니다. 쿠폰에 따라 할인된 가격을 출력하는 프로그램을 만드세요(input에서 안내 문자열은 출력하지 않아야 합니다).\n",
        "________________\n",
        "________________\n",
        "________________\n",
        "________________\n",
        "________________\n",
        "________________\n",
        "________________"
      ]
    },
    {
      "cell_type": "code",
      "metadata": {
        "colab": {
          "base_uri": "https://localhost:8080/"
        },
        "id": "9ZavYVRs4MUO",
        "outputId": "1784078a-3777-4a24-f727-4910a97ab5a8"
      },
      "source": [
        "a=int(input())\n",
        "b=input()\n",
        "if b=='Cash3000':\n",
        "    a-=3000\n",
        "if b=='Cash5000':\n",
        "    a-=5000\n",
        "print(a)"
      ],
      "execution_count": null,
      "outputs": [
        {
          "output_type": "stream",
          "text": [
            "27000\n",
            "Cash3000\n",
            "24000\n"
          ],
          "name": "stdout"
        }
      ]
    },
    {
      "cell_type": "code",
      "metadata": {
        "colab": {
          "base_uri": "https://localhost:8080/"
        },
        "id": "g4AvhUNP4RrS",
        "outputId": "6ea4927c-a682-4913-c024-392bb90cb2ff"
      },
      "source": [
        "a=int(input())\n",
        "b=input()\n",
        "if b=='Cash3000':\n",
        "    a-=3000\n",
        "if b=='Cash5000':\n",
        "    a-=5000\n",
        "print(a)"
      ],
      "execution_count": null,
      "outputs": [
        {
          "output_type": "stream",
          "text": [
            "72000\n",
            "Cash5000\n",
            "67000\n"
          ],
          "name": "stdout"
        }
      ]
    },
    {
      "cell_type": "markdown",
      "metadata": {
        "id": "Wr3qI-Aw3isY"
      },
      "source": [
        "## 14장 심사문제"
      ]
    },
    {
      "cell_type": "markdown",
      "metadata": {
        "id": "wj4asdYW4Ynb"
      },
      "source": [
        "### 14.7 합격 여부 판단하기\n",
        "표준 입력으로 국어, 영어, 수학, 과학 점수가 입력됩니다. 여기서 네 과목의 평균 점수가 80점 이상일 때 합격이라고 정했습니다. 평균 점수에 따라 '합격', '불합격'을 출력하는 프로그램을 만드세요(input에서 안내 문자열은 출력하지 않아야 합니다). 단, 점수는 0점부터 100점까지만 입력받을 수 있으며 범위를 벗어났다면 '잘못된 점수'를 출력하고 합격, 불합격 여부는 출력하지 않아야 합니다.\n",
        "________________\n",
        "________________\n",
        "________________\n",
        "________________\n",
        "________________\n",
        "________________\n",
        "________________\n",
        "________________"
      ]
    },
    {
      "cell_type": "code",
      "metadata": {
        "colab": {
          "base_uri": "https://localhost:8080/"
        },
        "id": "Mn0YvCbt1zbR",
        "outputId": "2f50e439-13de-4a25-ce2f-222d4118620b"
      },
      "source": [
        "korean, english, math, science=map(int,input().split())\n",
        "x=(korean+english+math+science)/4\n",
        " \n",
        "if korean<0 or korean>100 or english<0 or english>100 or math<0 or math>100 or science<0 or science>100:\n",
        "    print('잘못된 점수')\n",
        " \n",
        "else:\n",
        "    if x>=80:\n",
        "        print('합격')\n",
        "    else:\n",
        "        print('불합격')"
      ],
      "execution_count": null,
      "outputs": [
        {
          "output_type": "stream",
          "text": [
            "89 72 93 82\n",
            "합격\n"
          ],
          "name": "stdout"
        }
      ]
    },
    {
      "cell_type": "code",
      "metadata": {
        "colab": {
          "base_uri": "https://localhost:8080/"
        },
        "id": "jAc9omYF4eUO",
        "outputId": "1863f7d4-ff9f-4029-89ad-a6ba15e87a0c"
      },
      "source": [
        "korean, english, math, science=map(int,input().split())\n",
        "x=(korean+english+math+science)/4\n",
        " \n",
        "if korean<0 or korean>100 or english<0 or english>100 or math<0 or math>100 or science<0 or science>100:\n",
        "    print('잘못된 점수')\n",
        " \n",
        "else:\n",
        "    if x>=80:\n",
        "        print('합격')\n",
        "    else:\n",
        "        print('불합격')"
      ],
      "execution_count": null,
      "outputs": [
        {
          "output_type": "stream",
          "text": [
            "100 79 68 71\n",
            "불합격\n"
          ],
          "name": "stdout"
        }
      ]
    },
    {
      "cell_type": "code",
      "metadata": {
        "colab": {
          "base_uri": "https://localhost:8080/"
        },
        "id": "HagM7umO4gNv",
        "outputId": "fa148323-4038-4655-adf8-64048d0944ee"
      },
      "source": [
        "korean, english, math, science=map(int,input().split())\n",
        "x=(korean+english+math+science)/4\n",
        " \n",
        "if korean<0 or korean>100 or english<0 or english>100 or math<0 or math>100 or science<0 or science>100:\n",
        "    print('잘못된 점수')\n",
        " \n",
        "else:\n",
        "    if x>=80:\n",
        "        print('합격')\n",
        "    else:\n",
        "        print('불합격')"
      ],
      "execution_count": null,
      "outputs": [
        {
          "output_type": "stream",
          "text": [
            "99 85 101 90\n",
            "잘못된 점수\n"
          ],
          "name": "stdout"
        }
      ]
    },
    {
      "cell_type": "code",
      "metadata": {
        "id": "wHeS1hzp4kBA"
      },
      "source": [
        ""
      ],
      "execution_count": null,
      "outputs": []
    }
  ]
}