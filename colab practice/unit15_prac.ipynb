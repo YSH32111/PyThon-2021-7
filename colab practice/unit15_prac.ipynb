{
  "nbformat": 4,
  "nbformat_minor": 0,
  "metadata": {
    "colab": {
      "name": "unit15 prac.ipynb",
      "provenance": [],
      "collapsed_sections": []
    },
    "kernelspec": {
      "name": "python3",
      "display_name": "Python 3"
    },
    "language_info": {
      "name": "python"
    }
  },
  "cells": [
    {
      "cell_type": "markdown",
      "metadata": {
        "id": "wrMqdqRXWtDH"
      },
      "source": [
        "# Unit 15."
      ]
    },
    {
      "cell_type": "code",
      "metadata": {
        "colab": {
          "base_uri": "https://localhost:8080/"
        },
        "id": "Ktuash4vHrcb",
        "outputId": "54d8ffe7-e531-4c0d-ae2b-1a7ad18dfcfc"
      },
      "source": [
        "x = 20\n",
        "if x == 10:\n",
        "    print('10입니다.')\n",
        "elif x == 20:\n",
        "    print('20입니다.')"
      ],
      "execution_count": 2,
      "outputs": [
        {
          "output_type": "stream",
          "text": [
            "20입니다.\n"
          ],
          "name": "stdout"
        }
      ]
    },
    {
      "cell_type": "code",
      "metadata": {
        "colab": {
          "base_uri": "https://localhost:8080/"
        },
        "id": "FVsufwVyURdR",
        "outputId": "74d4ab5f-0dec-4fa3-cc1c-a11ac2475a54"
      },
      "source": [
        "x = 15\n",
        "if x == 10:\n",
        "    print('10입니다.')\n",
        "elif x == 20:\n",
        "    print('20입니다.')\n",
        "else:\n",
        "    print('10도 20도 아닙니다.')"
      ],
      "execution_count": 3,
      "outputs": [
        {
          "output_type": "stream",
          "text": [
            "10도 20도 아닙니다.\n"
          ],
          "name": "stdout"
        }
      ]
    },
    {
      "cell_type": "code",
      "metadata": {
        "colab": {
          "base_uri": "https://localhost:8080/"
        },
        "id": "TQnH9TaqUhiv",
        "outputId": "78e7fd99-538e-4d7b-c4d4-cef58dcd21e3"
      },
      "source": [
        "button = int(input('1, 2, 3 의 번호'))\n",
        "\n",
        "if button == 1:\n",
        "    print('콜라')\n",
        "elif button == 2:\n",
        "    print('사이다')\n",
        "elif button == 3:\n",
        "    print('환타')\n",
        "else:\n",
        "    print('제공하지 않는 메뉴')"
      ],
      "execution_count": 10,
      "outputs": [
        {
          "output_type": "stream",
          "text": [
            "1, 2, 3 의 번호1\n",
            "콜라\n"
          ],
          "name": "stdout"
        }
      ]
    },
    {
      "cell_type": "code",
      "metadata": {
        "colab": {
          "base_uri": "https://localhost:8080/"
        },
        "id": "UJWZ41aHUzs_",
        "outputId": "dbb32d15-1066-44f8-ea22-bbf2eee72dec"
      },
      "source": [
        "# ,를 써서 오류가 남\n",
        "button = int, input('1, 2, 3 의 번호')\n",
        "\n",
        "if button == 1:\n",
        "    print('콜라')\n",
        "elif button == 2:\n",
        "    print('사이다')\n",
        "elif button == 3:\n",
        "    print('환타')\n",
        "else:\n",
        "    print('제공하지 않는 메뉴')"
      ],
      "execution_count": 11,
      "outputs": [
        {
          "output_type": "stream",
          "text": [
            "1, 2, 3 의 번호2\n",
            "제공하지 않는 메뉴\n"
          ],
          "name": "stdout"
        }
      ]
    },
    {
      "cell_type": "code",
      "metadata": {
        "id": "KeLuptjUVXuX"
      },
      "source": [
        "# ! 자꾸 실수함 int(input())     int, input()  X"
      ],
      "execution_count": 12,
      "outputs": []
    },
    {
      "cell_type": "markdown",
      "metadata": {
        "id": "bKfvGNiAWEiV"
      },
      "source": [
        "## 15.3 연습문제: if, elif, else 모두 사용하기"
      ]
    },
    {
      "cell_type": "code",
      "metadata": {
        "colab": {
          "base_uri": "https://localhost:8080/"
        },
        "id": "ItH5DnoIVv6g",
        "outputId": "34c5204b-699b-4bc2-c246-cd642751decc"
      },
      "source": [
        "x = int(input())\n",
        "if 11 <= x <= 20:\n",
        "    print('11~20')\n",
        "elif 21 <= x <= 30:\n",
        "    print('21~30')\n",
        "else:\n",
        "    print('아무것도 해당되지 않음')"
      ],
      "execution_count": 13,
      "outputs": [
        {
          "output_type": "stream",
          "text": [
            "5\n",
            "아무것도 해당되지 않음\n"
          ],
          "name": "stdout"
        }
      ]
    },
    {
      "cell_type": "markdown",
      "metadata": {
        "id": "ObOzGNPaWhpY"
      },
      "source": [
        "## 15.4 심사문제: 교통카드 시스템 만들기"
      ]
    },
    {
      "cell_type": "markdown",
      "metadata": {
        "id": "NKnKDCSaWl8p"
      },
      "source": [
        "표준 입력으로 나이(만 나이)가 입력됩니다(입력 값은 7 이상 입력됨). 교통카드 시스템에서 시내버스 요금은 다음과 같으며 각 나이에 맞게 요금을 차감한 뒤 잔액이 출력되게 만드세요(if, elif 사용). 현재 교통카드에는 9,000원이 들어있습니다.\n",
        "\n",
        "- 어린이(초등학생, 만 7세 이상 12세 이하): 650원\n",
        "- 청소년(중∙고등학생, 만 13세 이상 18세 이하): 1,050원\n",
        "- 어른(일반, 만 19세 이상): 1,250원"
      ]
    },
    {
      "cell_type": "code",
      "metadata": {
        "colab": {
          "base_uri": "https://localhost:8080/"
        },
        "id": "UuPc2tSBWbq_",
        "outputId": "8398cbc9-49f2-409b-d496-3fd9fb2f8d02"
      },
      "source": [
        "age = int(input())\n",
        "balance = 9000      # 교통카드 잔액\n",
        "if 7 <= age <=12:\n",
        "    balance -= 650\n",
        "    print(balance)\n",
        "elif 13 <= age <= 18:\n",
        "    balance -= 1050\n",
        "    print(balance)\n",
        "elif 19 <= age:\n",
        "    balance -= 1250\n",
        "    print(balance)"
      ],
      "execution_count": 20,
      "outputs": [
        {
          "output_type": "stream",
          "text": [
            "12\n",
            "8350\n"
          ],
          "name": "stdout"
        }
      ]
    },
    {
      "cell_type": "code",
      "metadata": {
        "id": "wLoVg2XQXF2N"
      },
      "source": [
        "#if 7<=age<=12:\n",
        "#    balance-=650\n",
        "#elif 13<=age<=18:\n",
        "#    balance-=1050\n",
        "#elif age>=19:\n",
        "#    balance-=1250\n",
        "\n",
        "# 뭐지 왜 이건 정답이고 위에 내가 쓴 오답이지? 띄어쓰기 때문인가?"
      ],
      "execution_count": null,
      "outputs": []
    },
    {
      "cell_type": "code",
      "metadata": {
        "id": "c7hwpg4MYSS0"
      },
      "source": [
        "if 7 <= age <=12:\n",
        "    balance -= 650\n",
        "elif 13 <= age <= 18:\n",
        "    balance -= 1050\n",
        "elif 19 <= age:\n",
        "    balance -= 1250\n",
        "\n",
        "# 값이 다를 경우에만 각각 print 써주는 거구나"
      ],
      "execution_count": 21,
      "outputs": []
    },
    {
      "cell_type": "code",
      "metadata": {
        "id": "8pYnd2c0Yf3O"
      },
      "source": [
        "# elif는 가장 처음에 만족하는 코드만 실행"
      ],
      "execution_count": null,
      "outputs": []
    }
  ]
}