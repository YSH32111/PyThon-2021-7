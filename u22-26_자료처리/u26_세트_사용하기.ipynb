{
  "nbformat": 4,
  "nbformat_minor": 0,
  "metadata": {
    "colab": {
      "name": "u26_세트 사용하기.ipynb",
      "provenance": [],
      "collapsed_sections": []
    },
    "kernelspec": {
      "name": "python3",
      "display_name": "Python 3"
    },
    "language_info": {
      "name": "python"
    }
  },
  "cells": [
    {
      "cell_type": "markdown",
      "metadata": {
        "id": "apmEEiEg3rFB"
      },
      "source": [
        "# Unit 26. 세트(집합)"
      ]
    },
    {
      "cell_type": "markdown",
      "metadata": {
        "id": "2Tbdu6IY3wC3"
      },
      "source": [
        "## 26.1 세트 만들기"
      ]
    },
    {
      "cell_type": "code",
      "metadata": {
        "colab": {
          "base_uri": "https://localhost:8080/"
        },
        "id": "3uuIPQ-63grC",
        "outputId": "7c19230a-0f81-4bc7-c8ab-8f5679624859"
      },
      "source": [
        "fruits = {'apple', 'banana', 'cherry', 'orange', 'grape'}\n",
        "fruits              # 출력순서가 입력한 순서와 맞지 않음"
      ],
      "execution_count": 4,
      "outputs": [
        {
          "output_type": "execute_result",
          "data": {
            "text/plain": [
              "{'apple', 'banana', 'cherry', 'grape', 'orange'}"
            ]
          },
          "metadata": {
            "tags": []
          },
          "execution_count": 4
        }
      ]
    },
    {
      "cell_type": "code",
      "metadata": {
        "colab": {
          "base_uri": "https://localhost:8080/"
        },
        "id": "RvcEeORe4IwJ",
        "outputId": "5f1011e0-7048-4110-ff5b-0e2a9ab501c7"
      },
      "source": [
        "type(fruits)"
      ],
      "execution_count": 5,
      "outputs": [
        {
          "output_type": "execute_result",
          "data": {
            "text/plain": [
              "set"
            ]
          },
          "metadata": {
            "tags": []
          },
          "execution_count": 5
        }
      ]
    },
    {
      "cell_type": "code",
      "metadata": {
        "id": "IuOZNTeX4MbL"
      },
      "source": [
        "a = {} # 이러면 세트가 아닌 딕셔너리가 됨"
      ],
      "execution_count": 6,
      "outputs": []
    },
    {
      "cell_type": "code",
      "metadata": {
        "colab": {
          "base_uri": "https://localhost:8080/"
        },
        "id": "LfwIJRxK4YK-",
        "outputId": "f2143d69-56b2-4715-82ae-b01d7bb28979"
      },
      "source": [
        "fruits = {'apple', 'banana', 'cherry', 'orange', 'grape', 'apple'}      # 집합은 중복을 허용하지 않기 때문에 위와 같은 결과가 나옴\n",
        "fruits"
      ],
      "execution_count": 8,
      "outputs": [
        {
          "output_type": "execute_result",
          "data": {
            "text/plain": [
              "{'apple', 'banana', 'cherry', 'grape', 'orange'}"
            ]
          },
          "metadata": {
            "tags": []
          },
          "execution_count": 8
        }
      ]
    },
    {
      "cell_type": "code",
      "metadata": {
        "colab": {
          "base_uri": "https://localhost:8080/"
        },
        "id": "zKvDrnt64jh6",
        "outputId": "ba7a595a-6d43-4275-bc05-14814b371dca"
      },
      "source": [
        "'peach' not in fruits"
      ],
      "execution_count": 11,
      "outputs": [
        {
          "output_type": "execute_result",
          "data": {
            "text/plain": [
              "True"
            ]
          },
          "metadata": {
            "tags": []
          },
          "execution_count": 11
        }
      ]
    },
    {
      "cell_type": "code",
      "metadata": {
        "colab": {
          "base_uri": "https://localhost:8080/"
        },
        "id": "oonbzDdj4yAh",
        "outputId": "2bfeb2e8-3582-49e6-ae00-8cc9b9fc25bb"
      },
      "source": [
        "'orange' in fruits"
      ],
      "execution_count": 12,
      "outputs": [
        {
          "output_type": "execute_result",
          "data": {
            "text/plain": [
              "True"
            ]
          },
          "metadata": {
            "tags": []
          },
          "execution_count": 12
        }
      ]
    },
    {
      "cell_type": "code",
      "metadata": {
        "colab": {
          "base_uri": "https://localhost:8080/"
        },
        "id": "rtb3VpTp4zva",
        "outputId": "14c47758-964b-4539-dec5-7a0ee0ec93e4"
      },
      "source": [
        "a = set('apple')\n",
        "a"
      ],
      "execution_count": 13,
      "outputs": [
        {
          "output_type": "execute_result",
          "data": {
            "text/plain": [
              "{'a', 'e', 'l', 'p'}"
            ]
          },
          "metadata": {
            "tags": []
          },
          "execution_count": 13
        }
      ]
    },
    {
      "cell_type": "code",
      "metadata": {
        "colab": {
          "base_uri": "https://localhost:8080/"
        },
        "id": "TLnU0JMw5Hoq",
        "outputId": "ed9bdf8c-b39a-4334-d8ee-9777e5a00a3f"
      },
      "source": [
        "set('안녕하세요?')"
      ],
      "execution_count": 14,
      "outputs": [
        {
          "output_type": "execute_result",
          "data": {
            "text/plain": [
              "{'?', '녕', '세', '안', '요', '하'}"
            ]
          },
          "metadata": {
            "tags": []
          },
          "execution_count": 14
        }
      ]
    },
    {
      "cell_type": "markdown",
      "metadata": {
        "id": "ulcUh-t45fvw"
      },
      "source": [
        "## 26.2 연산"
      ]
    },
    {
      "cell_type": "code",
      "metadata": {
        "colab": {
          "base_uri": "https://localhost:8080/"
        },
        "id": "NG6kv0g65OoC",
        "outputId": "f81015a2-29db-4f31-a9cf-658dd9654ea2"
      },
      "source": [
        "a = set(range(4))\n",
        "b = set(range(2,6))\n",
        "a, b"
      ],
      "execution_count": 18,
      "outputs": [
        {
          "output_type": "execute_result",
          "data": {
            "text/plain": [
              "({0, 1, 2, 3}, {2, 3, 4, 5})"
            ]
          },
          "metadata": {
            "tags": []
          },
          "execution_count": 18
        }
      ]
    },
    {
      "cell_type": "code",
      "metadata": {
        "colab": {
          "base_uri": "https://localhost:8080/"
        },
        "id": "E9ELaMic5l1C",
        "outputId": "d5de9c6a-ed06-480e-d722-bba88d4b7b50"
      },
      "source": [
        "# 합집합(union)\n",
        "a | b"
      ],
      "execution_count": 20,
      "outputs": [
        {
          "output_type": "execute_result",
          "data": {
            "text/plain": [
              "{0, 1, 2, 3, 4, 5}"
            ]
          },
          "metadata": {
            "tags": []
          },
          "execution_count": 20
        }
      ]
    },
    {
      "cell_type": "code",
      "metadata": {
        "colab": {
          "base_uri": "https://localhost:8080/"
        },
        "id": "jHocRszB50oU",
        "outputId": "9e85216c-8a3a-4798-e957-fc84d81fb3b3"
      },
      "source": [
        "set.union(a,b)"
      ],
      "execution_count": 22,
      "outputs": [
        {
          "output_type": "execute_result",
          "data": {
            "text/plain": [
              "{0, 1, 2, 3, 4, 5}"
            ]
          },
          "metadata": {
            "tags": []
          },
          "execution_count": 22
        }
      ]
    },
    {
      "cell_type": "code",
      "metadata": {
        "colab": {
          "base_uri": "https://localhost:8080/"
        },
        "id": "cGsNoHtT6GOL",
        "outputId": "6304d71e-f42d-48c1-9478-a6cc9f7cfd13"
      },
      "source": [
        "# 교집합(intersection)\n",
        "a & b"
      ],
      "execution_count": 23,
      "outputs": [
        {
          "output_type": "execute_result",
          "data": {
            "text/plain": [
              "{2, 3}"
            ]
          },
          "metadata": {
            "tags": []
          },
          "execution_count": 23
        }
      ]
    },
    {
      "cell_type": "code",
      "metadata": {
        "colab": {
          "base_uri": "https://localhost:8080/"
        },
        "id": "ZL7FBZqm6SxR",
        "outputId": "c9d5fa8d-5da6-4a2b-f0fd-0c4b948faf01"
      },
      "source": [
        "set.intersection(a,b)"
      ],
      "execution_count": 24,
      "outputs": [
        {
          "output_type": "execute_result",
          "data": {
            "text/plain": [
              "{2, 3}"
            ]
          },
          "metadata": {
            "tags": []
          },
          "execution_count": 24
        }
      ]
    },
    {
      "cell_type": "code",
      "metadata": {
        "colab": {
          "base_uri": "https://localhost:8080/"
        },
        "id": "xE9pp86k6UGp",
        "outputId": "da8ee3b4-4640-41e6-e289-fba5b6c07415"
      },
      "source": [
        "# 차집합(difference)\n",
        "a - b"
      ],
      "execution_count": 27,
      "outputs": [
        {
          "output_type": "execute_result",
          "data": {
            "text/plain": [
              "{0, 1}"
            ]
          },
          "metadata": {
            "tags": []
          },
          "execution_count": 27
        }
      ]
    },
    {
      "cell_type": "code",
      "metadata": {
        "colab": {
          "base_uri": "https://localhost:8080/"
        },
        "id": "fYEb3DkL6ecB",
        "outputId": "6a8ecf19-4ccc-44f1-eb3c-d0e0c601fee1"
      },
      "source": [
        "set.difference(a,b)"
      ],
      "execution_count": 28,
      "outputs": [
        {
          "output_type": "execute_result",
          "data": {
            "text/plain": [
              "{0, 1}"
            ]
          },
          "metadata": {
            "tags": []
          },
          "execution_count": 28
        }
      ]
    },
    {
      "cell_type": "code",
      "metadata": {
        "colab": {
          "base_uri": "https://localhost:8080/"
        },
        "id": "OUFNO2om6ikT",
        "outputId": "7d011027-3658-4e93-baf3-1726f2bda843"
      },
      "source": [
        "# 대칭차집합(symmetric difference)\n",
        "a ^ b"
      ],
      "execution_count": 29,
      "outputs": [
        {
          "output_type": "execute_result",
          "data": {
            "text/plain": [
              "{0, 1, 4, 5}"
            ]
          },
          "metadata": {
            "tags": []
          },
          "execution_count": 29
        }
      ]
    },
    {
      "cell_type": "code",
      "metadata": {
        "colab": {
          "base_uri": "https://localhost:8080/"
        },
        "id": "qe0ycVa66z3r",
        "outputId": "957b8f9a-a5bd-43fc-8e1f-847bd1a3cb19"
      },
      "source": [
        "set.symmetric_difference(a,b)"
      ],
      "execution_count": 30,
      "outputs": [
        {
          "output_type": "execute_result",
          "data": {
            "text/plain": [
              "{0, 1, 4, 5}"
            ]
          },
          "metadata": {
            "tags": []
          },
          "execution_count": 30
        }
      ]
    },
    {
      "cell_type": "markdown",
      "metadata": {
        "id": "R1fSgp1W7URp"
      },
      "source": [
        "### 부분집합, 상위집합"
      ]
    },
    {
      "cell_type": "code",
      "metadata": {
        "colab": {
          "base_uri": "https://localhost:8080/"
        },
        "id": "VAsSM5Ex7CDK",
        "outputId": "5a36ca77-7865-41d9-b883-94be7f3d264e"
      },
      "source": [
        "a <= {0,1,2,3}"
      ],
      "execution_count": 31,
      "outputs": [
        {
          "output_type": "execute_result",
          "data": {
            "text/plain": [
              "True"
            ]
          },
          "metadata": {
            "tags": []
          },
          "execution_count": 31
        }
      ]
    },
    {
      "cell_type": "code",
      "metadata": {
        "colab": {
          "base_uri": "https://localhost:8080/"
        },
        "id": "qbp2Qoe_7gSP",
        "outputId": "298af24b-ec83-47b4-dd79-c98604d43468"
      },
      "source": [
        "a.issubset({0,1,2,3,4})     # 부분집합"
      ],
      "execution_count": 32,
      "outputs": [
        {
          "output_type": "execute_result",
          "data": {
            "text/plain": [
              "True"
            ]
          },
          "metadata": {
            "tags": []
          },
          "execution_count": 32
        }
      ]
    },
    {
      "cell_type": "code",
      "metadata": {
        "colab": {
          "base_uri": "https://localhost:8080/"
        },
        "id": "aoajWPw27l7j",
        "outputId": "46c717cd-8999-474d-85c9-5020b2d203e4"
      },
      "source": [
        "a >= {1,2,3}"
      ],
      "execution_count": 33,
      "outputs": [
        {
          "output_type": "execute_result",
          "data": {
            "text/plain": [
              "True"
            ]
          },
          "metadata": {
            "tags": []
          },
          "execution_count": 33
        }
      ]
    },
    {
      "cell_type": "code",
      "metadata": {
        "colab": {
          "base_uri": "https://localhost:8080/"
        },
        "id": "QqClFgYX7w_q",
        "outputId": "6918299d-6346-429f-b41e-c0ffed0d86e3"
      },
      "source": [
        "a.issuperset({1,2,3})       # 상위집합"
      ],
      "execution_count": 35,
      "outputs": [
        {
          "output_type": "execute_result",
          "data": {
            "text/plain": [
              "True"
            ]
          },
          "metadata": {
            "tags": []
          },
          "execution_count": 35
        }
      ]
    },
    {
      "cell_type": "markdown",
      "metadata": {
        "id": "UOlFvxFR8BtI"
      },
      "source": [
        "### 값 비교"
      ]
    },
    {
      "cell_type": "code",
      "metadata": {
        "colab": {
          "base_uri": "https://localhost:8080/"
        },
        "id": "HIFWExao70Vq",
        "outputId": "a6b1a8aa-a4a8-4c22-e00a-06077adc1d6f"
      },
      "source": [
        "a == {3,1,0,2}"
      ],
      "execution_count": 36,
      "outputs": [
        {
          "output_type": "execute_result",
          "data": {
            "text/plain": [
              "True"
            ]
          },
          "metadata": {
            "tags": []
          },
          "execution_count": 36
        }
      ]
    },
    {
      "cell_type": "code",
      "metadata": {
        "colab": {
          "base_uri": "https://localhost:8080/"
        },
        "id": "JinYGyI68Fr6",
        "outputId": "dfaf707e-18e0-4e14-b62f-4dcd6f2e7e14"
      },
      "source": [
        "a.isdisjoint(b)"
      ],
      "execution_count": 37,
      "outputs": [
        {
          "output_type": "execute_result",
          "data": {
            "text/plain": [
              "False"
            ]
          },
          "metadata": {
            "tags": []
          },
          "execution_count": 37
        }
      ]
    },
    {
      "cell_type": "code",
      "metadata": {
        "colab": {
          "base_uri": "https://localhost:8080/"
        },
        "id": "pd_uR-G38Pmp",
        "outputId": "53517ea4-168f-4038-fee7-db44da0a9005"
      },
      "source": [
        "a.isdisjoint({4,5,6,7})"
      ],
      "execution_count": 38,
      "outputs": [
        {
          "output_type": "execute_result",
          "data": {
            "text/plain": [
              "True"
            ]
          },
          "metadata": {
            "tags": []
          },
          "execution_count": 38
        }
      ]
    },
    {
      "cell_type": "markdown",
      "metadata": {
        "id": "urR_Qoza8z_Y"
      },
      "source": [
        "## 26.3 세트 조작"
      ]
    },
    {
      "cell_type": "code",
      "metadata": {
        "colab": {
          "base_uri": "https://localhost:8080/"
        },
        "id": "qDoBL8Kc8bMy",
        "outputId": "deb58ec0-7633-4ff8-fcd8-302d89c04608"
      },
      "source": [
        "a. add(4)\n",
        "a"
      ],
      "execution_count": 39,
      "outputs": [
        {
          "output_type": "execute_result",
          "data": {
            "text/plain": [
              "{0, 1, 2, 3, 4}"
            ]
          },
          "metadata": {
            "tags": []
          },
          "execution_count": 39
        }
      ]
    },
    {
      "cell_type": "code",
      "metadata": {
        "colab": {
          "base_uri": "https://localhost:8080/"
        },
        "id": "mjFm2Igf8-bq",
        "outputId": "df5064e0-6162-487e-ca3b-c5c8e67c2a1a"
      },
      "source": [
        "a.remove(4)\n",
        "a"
      ],
      "execution_count": 40,
      "outputs": [
        {
          "output_type": "execute_result",
          "data": {
            "text/plain": [
              "{0, 1, 2, 3}"
            ]
          },
          "metadata": {
            "tags": []
          },
          "execution_count": 40
        }
      ]
    },
    {
      "cell_type": "code",
      "metadata": {
        "colab": {
          "base_uri": "https://localhost:8080/"
        },
        "id": "jXKQu1_q9AOR",
        "outputId": "3b4b112b-7b8f-4de3-d1e3-3e752242e858"
      },
      "source": [
        "# 임의의 원소 삭제하기\n",
        "a.pop()"
      ],
      "execution_count": 41,
      "outputs": [
        {
          "output_type": "execute_result",
          "data": {
            "text/plain": [
              "0"
            ]
          },
          "metadata": {
            "tags": []
          },
          "execution_count": 41
        }
      ]
    },
    {
      "cell_type": "code",
      "metadata": {
        "colab": {
          "base_uri": "https://localhost:8080/"
        },
        "id": "OkG21Wx69LuB",
        "outputId": "0c76de70-51fe-4620-952a-685aaa2abdc6"
      },
      "source": [
        "a"
      ],
      "execution_count": 42,
      "outputs": [
        {
          "output_type": "execute_result",
          "data": {
            "text/plain": [
              "{1, 2, 3}"
            ]
          },
          "metadata": {
            "tags": []
          },
          "execution_count": 42
        }
      ]
    },
    {
      "cell_type": "code",
      "metadata": {
        "colab": {
          "base_uri": "https://localhost:8080/"
        },
        "id": "AxoDhpIf9MNj",
        "outputId": "1ef9b606-fe77-485d-b44e-0e84dfff0dd3"
      },
      "source": [
        "len(a)"
      ],
      "execution_count": 43,
      "outputs": [
        {
          "output_type": "execute_result",
          "data": {
            "text/plain": [
              "3"
            ]
          },
          "metadata": {
            "tags": []
          },
          "execution_count": 43
        }
      ]
    },
    {
      "cell_type": "markdown",
      "metadata": {
        "id": "osk0c1-a9lzv"
      },
      "source": [
        "### 26.5 반복문"
      ]
    },
    {
      "cell_type": "code",
      "metadata": {
        "id": "qwX3zwob9Mu7"
      },
      "source": [
        "for in range"
      ],
      "execution_count": null,
      "outputs": []
    }
  ]
}