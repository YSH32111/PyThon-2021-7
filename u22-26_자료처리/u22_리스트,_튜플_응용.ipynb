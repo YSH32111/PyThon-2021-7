{
  "nbformat": 4,
  "nbformat_minor": 0,
  "metadata": {
    "colab": {
      "name": "u22_리스트, 튜플 응용.ipynb",
      "provenance": [],
      "collapsed_sections": []
    },
    "kernelspec": {
      "name": "python3",
      "display_name": "Python 3"
    },
    "language_info": {
      "name": "python"
    }
  },
  "cells": [
    {
      "cell_type": "markdown",
      "metadata": {
        "id": "ok61nkGKpzDK"
      },
      "source": [
        "- unit 20, 21 생략 20은 아까했음"
      ]
    },
    {
      "cell_type": "markdown",
      "metadata": {
        "id": "AtG6U9dQp5NU"
      },
      "source": [
        "# Unit 22. 리스트와 튜플 응용하기"
      ]
    },
    {
      "cell_type": "markdown",
      "metadata": {
        "id": "URagMasXqep3"
      },
      "source": [
        "## 22.1 리스트 조작"
      ]
    },
    {
      "cell_type": "markdown",
      "metadata": {
        "id": "s2yEWlyaqmkz"
      },
      "source": [
        "- append: 요소 하나를 추가\n",
        "- extend: 리스트를 연결하여 확장\n",
        "- insert: 특정 인덱스에 요소 추가"
      ]
    },
    {
      "cell_type": "code",
      "metadata": {
        "id": "dWr_coJepxXo"
      },
      "source": [
        "a = [10, 20, 30]"
      ],
      "execution_count": 1,
      "outputs": []
    },
    {
      "cell_type": "code",
      "metadata": {
        "colab": {
          "base_uri": "https://localhost:8080/"
        },
        "id": "5Xm5qkhXrkvR",
        "outputId": "f8c67f6c-f0d9-4f6e-cefa-e975ee87193f"
      },
      "source": [
        "# 리스트 맨 뒤에 요소 하나를 추가하는 메쏘드(method)\n",
        "a.append(500)\n",
        "a"
      ],
      "execution_count": 2,
      "outputs": [
        {
          "output_type": "execute_result",
          "data": {
            "text/plain": [
              "[10, 20, 30, 500]"
            ]
          },
          "metadata": {
            "tags": []
          },
          "execution_count": 2
        }
      ]
    },
    {
      "cell_type": "code",
      "metadata": {
        "colab": {
          "base_uri": "https://localhost:8080/"
        },
        "id": "Kr7jbG76ro6v",
        "outputId": "337fa2de-fef4-4ebd-c18a-20c26a28d36d"
      },
      "source": [
        "a.append(['x','y'])\n",
        "a"
      ],
      "execution_count": 3,
      "outputs": [
        {
          "output_type": "execute_result",
          "data": {
            "text/plain": [
              "[10, 20, 30, 500, ['x', 'y']]"
            ]
          },
          "metadata": {
            "tags": []
          },
          "execution_count": 3
        }
      ]
    },
    {
      "cell_type": "code",
      "metadata": {
        "colab": {
          "base_uri": "https://localhost:8080/"
        },
        "id": "kGpOl-Hfruso",
        "outputId": "4d5420fe-478b-4c36-ca69-cca58178ed48"
      },
      "source": [
        "b = [10, 20, 30]\n",
        "b.extend(['x','y'])\n",
        "b"
      ],
      "execution_count": 4,
      "outputs": [
        {
          "output_type": "execute_result",
          "data": {
            "text/plain": [
              "[10, 20, 30, 'x', 'y']"
            ]
          },
          "metadata": {
            "tags": []
          },
          "execution_count": 4
        }
      ]
    },
    {
      "cell_type": "code",
      "metadata": {
        "colab": {
          "base_uri": "https://localhost:8080/"
        },
        "id": "lnZoz0U_r512",
        "outputId": "3b7228be-43b6-4033-da28-1879b9f98d39"
      },
      "source": [
        "# 프로그램은 이런 형태가 너무 많음\n",
        "\n",
        "empty_list = []\n",
        "for i in range(5):\n",
        "    empty_list.append(i)\n",
        "empty_list"
      ],
      "execution_count": 5,
      "outputs": [
        {
          "output_type": "execute_result",
          "data": {
            "text/plain": [
              "[0, 1, 2, 3, 4]"
            ]
          },
          "metadata": {
            "tags": []
          },
          "execution_count": 5
        }
      ]
    },
    {
      "cell_type": "code",
      "metadata": {
        "colab": {
          "base_uri": "https://localhost:8080/"
        },
        "id": "DRFTcgM6sNP2",
        "outputId": "8c1c61b2-3d6a-4bdc-dc82-a46d8bb6b942"
      },
      "source": [
        "del a[4]\n",
        "a"
      ],
      "execution_count": 6,
      "outputs": [
        {
          "output_type": "execute_result",
          "data": {
            "text/plain": [
              "[10, 20, 30, 500]"
            ]
          },
          "metadata": {
            "tags": []
          },
          "execution_count": 6
        }
      ]
    },
    {
      "cell_type": "markdown",
      "metadata": {
        "id": "nNPHCRB5t5Ty"
      },
      "source": [
        "### Stack and Queue\n",
        "- 스택 버스 순서대로 타고 순서대로 내림\n",
        "- 큐 엘리베이터 늦게 탄 사람이 먼저내림"
      ]
    },
    {
      "cell_type": "code",
      "metadata": {
        "colab": {
          "base_uri": "https://localhost:8080/"
        },
        "id": "JPuo6gNotDMI",
        "outputId": "f8a99024-1f32-40f0-a8a1-8976bdb1b8f6"
      },
      "source": [
        "stack = []\n",
        "# stack에 push\n",
        "stack.append(1); stack.append(2); stack.append(3);\n",
        "stack"
      ],
      "execution_count": 12,
      "outputs": [
        {
          "output_type": "execute_result",
          "data": {
            "text/plain": [
              "[1, 2, 3]"
            ]
          },
          "metadata": {
            "tags": []
          },
          "execution_count": 12
        }
      ]
    },
    {
      "cell_type": "code",
      "metadata": {
        "colab": {
          "base_uri": "https://localhost:8080/"
        },
        "id": "FNEta53juITn",
        "outputId": "b8ab202e-a104-42e9-c170-3533fd89b160"
      },
      "source": [
        "# stack으로부터 pop\n",
        "value = stack.pop()\n",
        "print(value, stack)"
      ],
      "execution_count": 13,
      "outputs": [
        {
          "output_type": "stream",
          "text": [
            "3 [1, 2]\n"
          ],
          "name": "stdout"
        }
      ]
    },
    {
      "cell_type": "code",
      "metadata": {
        "colab": {
          "base_uri": "https://localhost:8080/"
        },
        "id": "QMG7gVnguKzG",
        "outputId": "bc1bf541-e936-489f-bc0b-850b2dc5c377"
      },
      "source": [
        "stack"
      ],
      "execution_count": 14,
      "outputs": [
        {
          "output_type": "execute_result",
          "data": {
            "text/plain": [
              "[1, 2]"
            ]
          },
          "metadata": {
            "tags": []
          },
          "execution_count": 14
        }
      ]
    },
    {
      "cell_type": "code",
      "metadata": {
        "colab": {
          "base_uri": "https://localhost:8080/"
        },
        "id": "RLuqMCM_uNE-",
        "outputId": "0588360f-fed9-4694-ebe1-2be8a4ebc7e5"
      },
      "source": [
        "queue = []\n",
        "# queue에 insert\n",
        "queue.insert(0, 1); queue.insert(0, 2); queue.insert(0, 3); \n",
        "queue"
      ],
      "execution_count": 17,
      "outputs": [
        {
          "output_type": "execute_result",
          "data": {
            "text/plain": [
              "[3, 2, 1]"
            ]
          },
          "metadata": {
            "tags": []
          },
          "execution_count": 17
        }
      ]
    },
    {
      "cell_type": "code",
      "metadata": {
        "colab": {
          "base_uri": "https://localhost:8080/"
        },
        "id": "BiRJ6m-Nu66m",
        "outputId": "a0fbdf84-52ef-43e1-8e21-c6d105c285da"
      },
      "source": [
        "# queue로부터 끄집어내기\n",
        "value = queue.pop()\n",
        "print(value, queue)"
      ],
      "execution_count": 18,
      "outputs": [
        {
          "output_type": "stream",
          "text": [
            "1 [3, 2]\n"
          ],
          "name": "stdout"
        }
      ]
    },
    {
      "cell_type": "markdown",
      "metadata": {
        "id": "boOEFYWTvncO"
      },
      "source": [
        "### 다양한 메쏘드"
      ]
    },
    {
      "cell_type": "code",
      "metadata": {
        "colab": {
          "base_uri": "https://localhost:8080/"
        },
        "id": "CKDTr9AvvbSw",
        "outputId": "b6e26533-c67f-4020-934f-af25f495c5a9"
      },
      "source": [
        "a = [10, 20, 30, 40, 50, 60]\n",
        "a.index(30), a.index(40)"
      ],
      "execution_count": 21,
      "outputs": [
        {
          "output_type": "execute_result",
          "data": {
            "text/plain": [
              "(2, 3)"
            ]
          },
          "metadata": {
            "tags": []
          },
          "execution_count": 21
        }
      ]
    },
    {
      "cell_type": "code",
      "metadata": {
        "colab": {
          "base_uri": "https://localhost:8080/",
          "height": 190
        },
        "id": "guaGiULCvqom",
        "outputId": "6f311a54-d63e-448d-c994-50ae7802b48e"
      },
      "source": [
        "a = [10, 20, 30, 40, 50, 60]\n",
        "a.index(30), a.index(45)        # 없으면?"
      ],
      "execution_count": 22,
      "outputs": [
        {
          "output_type": "error",
          "ename": "ValueError",
          "evalue": "ignored",
          "traceback": [
            "\u001b[0;31m---------------------------------------------------------------------------\u001b[0m",
            "\u001b[0;31mValueError\u001b[0m                                Traceback (most recent call last)",
            "\u001b[0;32m<ipython-input-22-d4a2b583160f>\u001b[0m in \u001b[0;36m<module>\u001b[0;34m()\u001b[0m\n\u001b[1;32m      1\u001b[0m \u001b[0ma\u001b[0m \u001b[0;34m=\u001b[0m \u001b[0;34m[\u001b[0m\u001b[0;36m10\u001b[0m\u001b[0;34m,\u001b[0m \u001b[0;36m20\u001b[0m\u001b[0;34m,\u001b[0m \u001b[0;36m30\u001b[0m\u001b[0;34m,\u001b[0m \u001b[0;36m40\u001b[0m\u001b[0;34m,\u001b[0m \u001b[0;36m50\u001b[0m\u001b[0;34m,\u001b[0m \u001b[0;36m60\u001b[0m\u001b[0;34m]\u001b[0m\u001b[0;34m\u001b[0m\u001b[0;34m\u001b[0m\u001b[0m\n\u001b[0;32m----> 2\u001b[0;31m \u001b[0ma\u001b[0m\u001b[0;34m.\u001b[0m\u001b[0mindex\u001b[0m\u001b[0;34m(\u001b[0m\u001b[0;36m30\u001b[0m\u001b[0;34m)\u001b[0m\u001b[0;34m,\u001b[0m \u001b[0ma\u001b[0m\u001b[0;34m.\u001b[0m\u001b[0mindex\u001b[0m\u001b[0;34m(\u001b[0m\u001b[0;36m45\u001b[0m\u001b[0;34m)\u001b[0m        \u001b[0;31m# 없으면?\u001b[0m\u001b[0;34m\u001b[0m\u001b[0;34m\u001b[0m\u001b[0m\n\u001b[0m",
            "\u001b[0;31mValueError\u001b[0m: 45 is not in list"
          ]
        }
      ]
    },
    {
      "cell_type": "code",
      "metadata": {
        "id": "23PIhgW2vz4-"
      },
      "source": [
        "num = 45\n",
        "if num in a:\n",
        "    idx = a.index(num)"
      ],
      "execution_count": 25,
      "outputs": []
    },
    {
      "cell_type": "code",
      "metadata": {
        "colab": {
          "base_uri": "https://localhost:8080/"
        },
        "id": "N3pO12F3v3eO",
        "outputId": "147bdfbc-f477-4cff-c071-f78857a27773"
      },
      "source": [
        "a.count(10)"
      ],
      "execution_count": 26,
      "outputs": [
        {
          "output_type": "execute_result",
          "data": {
            "text/plain": [
              "1"
            ]
          },
          "metadata": {
            "tags": []
          },
          "execution_count": 26
        }
      ]
    },
    {
      "cell_type": "code",
      "metadata": {
        "colab": {
          "base_uri": "https://localhost:8080/"
        },
        "id": "F23c6o_kwQKV",
        "outputId": "3b6e881d-d539-42e1-fa00-ea68fe09e50d"
      },
      "source": [
        "a.count(45)"
      ],
      "execution_count": 27,
      "outputs": [
        {
          "output_type": "execute_result",
          "data": {
            "text/plain": [
              "0"
            ]
          },
          "metadata": {
            "tags": []
          },
          "execution_count": 27
        }
      ]
    },
    {
      "cell_type": "markdown",
      "metadata": {
        "id": "LLwYKSoFxPPv"
      },
      "source": [
        "## 정렬(sort)"
      ]
    },
    {
      "cell_type": "code",
      "metadata": {
        "colab": {
          "base_uri": "https://localhost:8080/"
        },
        "id": "bhngLNlDwRQu",
        "outputId": "664696f3-d145-43fb-a0ab-4661d1066eb6"
      },
      "source": [
        "# 오름차순(ascendinn order)이 디폴트\n",
        "a = [20, 10, 15, 30, 40]\n",
        "a.sort()\n",
        "a"
      ],
      "execution_count": 28,
      "outputs": [
        {
          "output_type": "execute_result",
          "data": {
            "text/plain": [
              "[10, 15, 20, 30, 40]"
            ]
          },
          "metadata": {
            "tags": []
          },
          "execution_count": 28
        }
      ]
    },
    {
      "cell_type": "code",
      "metadata": {
        "colab": {
          "base_uri": "https://localhost:8080/"
        },
        "id": "Aqt_nbutxeTP",
        "outputId": "4861f11c-0220-4256-8a1b-cfab3f0f6a4e"
      },
      "source": [
        "b = [10, 20, 30, 15, 20, 40]\n",
        "sorted(b)    # 정렬된 새 리스트를 생성"
      ],
      "execution_count": 30,
      "outputs": [
        {
          "output_type": "execute_result",
          "data": {
            "text/plain": [
              "[10, 15, 20, 20, 30, 40]"
            ]
          },
          "metadata": {
            "tags": []
          },
          "execution_count": 30
        }
      ]
    },
    {
      "cell_type": "code",
      "metadata": {
        "colab": {
          "base_uri": "https://localhost:8080/"
        },
        "id": "nTZsGKXJxl__",
        "outputId": "95ad0dc0-2016-46f3-d234-083c5041eb95"
      },
      "source": [
        "b"
      ],
      "execution_count": 31,
      "outputs": [
        {
          "output_type": "execute_result",
          "data": {
            "text/plain": [
              "[10, 20, 30, 15, 20, 40]"
            ]
          },
          "metadata": {
            "tags": []
          },
          "execution_count": 31
        }
      ]
    },
    {
      "cell_type": "code",
      "metadata": {
        "id": "nljKCPo6xo-W"
      },
      "source": [
        "#파이썬은 리스트의 sort 메서드뿐만 아니라 내장 함수 sorted도 제공합니다.\n",
        "# sort와 sorted 모두 정렬을 해주는 함수지만, 약간의 차이점이 있습니다.\n",
        "# sort는 메서드를 사용한 리스트를 변경하지만, sorted 함수는 정렬된 새 리스트를 생성합니다."
      ],
      "execution_count": 32,
      "outputs": []
    },
    {
      "cell_type": "code",
      "metadata": {
        "colab": {
          "base_uri": "https://localhost:8080/"
        },
        "id": "QTBSTrBBxs7-",
        "outputId": "7f355430-7019-419a-d3bf-72f93699904b"
      },
      "source": [
        "# 이렇게 다시 해줘야 바뀜. sort()를 쓰면 바뀌지만 sorted함수는 바뀌지 않고 새 리스트를 생성한다!\n",
        "b = sorted(b)\n",
        "b"
      ],
      "execution_count": 34,
      "outputs": [
        {
          "output_type": "execute_result",
          "data": {
            "text/plain": [
              "[10, 15, 20, 20, 30, 40]"
            ]
          },
          "metadata": {
            "tags": []
          },
          "execution_count": 34
        }
      ]
    },
    {
      "cell_type": "code",
      "metadata": {
        "colab": {
          "base_uri": "https://localhost:8080/"
        },
        "id": "P4uHDcNKx3k-",
        "outputId": "4435c475-aacb-4557-8d9e-491c99e5e9ce"
      },
      "source": [
        "# 내림차순(descending order)\n",
        "a = [20, 10, 15, 30, 40]\n",
        "a.sort(reverse=True)\n",
        "a"
      ],
      "execution_count": 35,
      "outputs": [
        {
          "output_type": "execute_result",
          "data": {
            "text/plain": [
              "[40, 30, 20, 15, 10]"
            ]
          },
          "metadata": {
            "tags": []
          },
          "execution_count": 35
        }
      ]
    },
    {
      "cell_type": "markdown",
      "metadata": {
        "id": "NSP04hjwzJ9c"
      },
      "source": [
        "## 22.2 리스트의 할당과 복사"
      ]
    },
    {
      "cell_type": "code",
      "metadata": {
        "colab": {
          "base_uri": "https://localhost:8080/"
        },
        "id": "1XR6yBeVypxQ",
        "outputId": "1635a582-f9f9-4f6a-8c4b-115beb1eb105"
      },
      "source": [
        "# Shallow copy, pointer만 복사\n",
        "a = [0,0,0,0,0]\n",
        "b = a\n",
        "b"
      ],
      "execution_count": 41,
      "outputs": [
        {
          "output_type": "execute_result",
          "data": {
            "text/plain": [
              "[0, 0, 0, 0, 0]"
            ]
          },
          "metadata": {
            "tags": []
          },
          "execution_count": 41
        }
      ]
    },
    {
      "cell_type": "code",
      "metadata": {
        "colab": {
          "base_uri": "https://localhost:8080/"
        },
        "id": "i-CYQ5b3zg63",
        "outputId": "e6501c5c-c4b6-4af9-eca9-e92898bb2d82"
      },
      "source": [
        "b[2] = 99\n",
        "b"
      ],
      "execution_count": 42,
      "outputs": [
        {
          "output_type": "execute_result",
          "data": {
            "text/plain": [
              "[0, 0, 99, 0, 0]"
            ]
          },
          "metadata": {
            "tags": []
          },
          "execution_count": 42
        }
      ]
    },
    {
      "cell_type": "code",
      "metadata": {
        "colab": {
          "base_uri": "https://localhost:8080/"
        },
        "id": "9uvd0m6MziMv",
        "outputId": "b0ed5aae-1b5c-48b3-db0f-e95e0335bcbe"
      },
      "source": [
        "a           # b 값이 바뀌었는데 a 값도 바뀜"
      ],
      "execution_count": 43,
      "outputs": [
        {
          "output_type": "execute_result",
          "data": {
            "text/plain": [
              "[0, 0, 99, 0, 0]"
            ]
          },
          "metadata": {
            "tags": []
          },
          "execution_count": 43
        }
      ]
    },
    {
      "cell_type": "code",
      "metadata": {
        "colab": {
          "base_uri": "https://localhost:8080/"
        },
        "id": "gPMzRCTCzipf",
        "outputId": "7cf507e4-79cb-44e1-c7c6-1a07d963a5d6"
      },
      "source": [
        "# 데이터를 몽땅 별도의 기억장소에 복사\n",
        "a = [0,0,0,0,0]\n",
        "b = a.copy()\n",
        "b"
      ],
      "execution_count": 44,
      "outputs": [
        {
          "output_type": "execute_result",
          "data": {
            "text/plain": [
              "[0, 0, 0, 0, 0]"
            ]
          },
          "metadata": {
            "tags": []
          },
          "execution_count": 44
        }
      ]
    },
    {
      "cell_type": "code",
      "metadata": {
        "colab": {
          "base_uri": "https://localhost:8080/"
        },
        "id": "JeZLwWHpz_ye",
        "outputId": "a9492083-5655-4261-981d-b6be344cac61"
      },
      "source": [
        "b[2] = 99\n",
        "a"
      ],
      "execution_count": 45,
      "outputs": [
        {
          "output_type": "execute_result",
          "data": {
            "text/plain": [
              "[0, 0, 0, 0, 0]"
            ]
          },
          "metadata": {
            "tags": []
          },
          "execution_count": 45
        }
      ]
    },
    {
      "cell_type": "markdown",
      "metadata": {
        "id": "PSlHKkuP20u0"
      },
      "source": [
        "## 22.3 리스트와 반복문"
      ]
    },
    {
      "cell_type": "code",
      "metadata": {
        "colab": {
          "base_uri": "https://localhost:8080/"
        },
        "id": "_wsePM5D0Bu-",
        "outputId": "e49eaf23-996f-4bbf-948d-8fcea69c7039"
      },
      "source": [
        "for fruit in ['apple', 'banana', 'cherry']:\n",
        "    print(fruit)"
      ],
      "execution_count": 46,
      "outputs": [
        {
          "output_type": "stream",
          "text": [
            "apple\n",
            "banana\n",
            "cherry\n"
          ],
          "name": "stdout"
        }
      ]
    },
    {
      "cell_type": "code",
      "metadata": {
        "colab": {
          "base_uri": "https://localhost:8080/"
        },
        "id": "4vqvFof8262u",
        "outputId": "52b46dc8-02dd-4364-b2ec-4630070273c7"
      },
      "source": [
        "fruits = ['apple', 'banana', 'cherry']\n",
        "for index, fruit in enumerate(fruits):\n",
        "    print(index, fruit)\n",
        "\n",
        "# list에서 enumerate 많이 쓰임"
      ],
      "execution_count": 51,
      "outputs": [
        {
          "output_type": "stream",
          "text": [
            "0 apple\n",
            "1 banana\n",
            "2 cherry\n"
          ],
          "name": "stdout"
        }
      ]
    },
    {
      "cell_type": "code",
      "metadata": {
        "id": "w-9Bx4Sy3E32"
      },
      "source": [
        "# for 인덱스, 요소 in enumerate(리스트, start=숫자):"
      ],
      "execution_count": 52,
      "outputs": []
    },
    {
      "cell_type": "code",
      "metadata": {
        "colab": {
          "base_uri": "https://localhost:8080/"
        },
        "id": "-OpvFnfW3h-B",
        "outputId": "53ee78f7-14b8-4b92-e8dd-11ca94a545ae"
      },
      "source": [
        "for i in range(len(fruits)):\n",
        "    print(fruits[i])"
      ],
      "execution_count": 53,
      "outputs": [
        {
          "output_type": "stream",
          "text": [
            "apple\n",
            "banana\n",
            "cherry\n"
          ],
          "name": "stdout"
        }
      ]
    },
    {
      "cell_type": "markdown",
      "metadata": {
        "id": "thwruBtn4IHX"
      },
      "source": [
        "## 22.4 리스트의 가장 작은 수, 가장 큰 수, 합계 구하기\n",
        "- min, max, sum 함수 활용"
      ]
    },
    {
      "cell_type": "code",
      "metadata": {
        "colab": {
          "base_uri": "https://localhost:8080/"
        },
        "id": "C7rmr1fx31Cu",
        "outputId": "5d1a8b27-f1aa-4d71-ead6-653a79782667"
      },
      "source": [
        "a = [38, 21, 53, 62, 19]\n",
        "a.sort()\n",
        "a[0]\n",
        "# min(a) 와 같음"
      ],
      "execution_count": 56,
      "outputs": [
        {
          "output_type": "execute_result",
          "data": {
            "text/plain": [
              "19"
            ]
          },
          "metadata": {
            "tags": []
          },
          "execution_count": 56
        }
      ]
    },
    {
      "cell_type": "code",
      "metadata": {
        "colab": {
          "base_uri": "https://localhost:8080/"
        },
        "id": "_pkoFlj34pPs",
        "outputId": "c6e23497-bb12-4e84-8e0b-cf37fc0bd610"
      },
      "source": [
        "a[-1]   # max(a)"
      ],
      "execution_count": 57,
      "outputs": [
        {
          "output_type": "execute_result",
          "data": {
            "text/plain": [
              "62"
            ]
          },
          "metadata": {
            "tags": []
          },
          "execution_count": 57
        }
      ]
    },
    {
      "cell_type": "code",
      "metadata": {
        "colab": {
          "base_uri": "https://localhost:8080/"
        },
        "id": "r5LvqvIW4zY1",
        "outputId": "63c1127c-dcb9-41df-fa79-6f2e19fb4beb"
      },
      "source": [
        "a = [38, 21, 53, 62, 19]\n",
        "sorted(a)[0]    # min(a)"
      ],
      "execution_count": 58,
      "outputs": [
        {
          "output_type": "execute_result",
          "data": {
            "text/plain": [
              "19"
            ]
          },
          "metadata": {
            "tags": []
          },
          "execution_count": 58
        }
      ]
    },
    {
      "cell_type": "code",
      "metadata": {
        "colab": {
          "base_uri": "https://localhost:8080/"
        },
        "id": "QFEzLrWY49W9",
        "outputId": "b32d78cd-630c-4e7f-adfb-40a362c9ded4"
      },
      "source": [
        "#  a 원소의 합\n",
        "sum_of_list = 0\n",
        "for elem in a:\n",
        "    sum_of_list += elem\n",
        "sum_of_list"
      ],
      "execution_count": 60,
      "outputs": [
        {
          "output_type": "execute_result",
          "data": {
            "text/plain": [
              "193"
            ]
          },
          "metadata": {
            "tags": []
          },
          "execution_count": 60
        }
      ]
    },
    {
      "cell_type": "code",
      "metadata": {
        "colab": {
          "base_uri": "https://localhost:8080/"
        },
        "id": "55_WSNql5SuP",
        "outputId": "57390322-4121-47d2-bf95-d58fbbd2808a"
      },
      "source": [
        "sum(a)\n",
        "# 계산은 간편하지만..\n",
        "# sum은 가급적 쓰지말기. 추후에 sum을 다시 쓸때 오류남\n",
        "# 함수이름과 변수 이름이 중첩되지 않도록"
      ],
      "execution_count": 61,
      "outputs": [
        {
          "output_type": "execute_result",
          "data": {
            "text/plain": [
              "193"
            ]
          },
          "metadata": {
            "tags": []
          },
          "execution_count": 61
        }
      ]
    },
    {
      "cell_type": "code",
      "metadata": {
        "colab": {
          "base_uri": "https://localhost:8080/",
          "height": 208
        },
        "id": "MRwjoMx45Xwe",
        "outputId": "fa6a5887-eece-4397-b0ad-6d4d02f21319"
      },
      "source": [
        "sum = 0\n",
        "for elem in a:\n",
        "    sum += elem\n",
        "sum, sum(a)\n",
        "\n",
        "# 같은 sum으로 지정하면 오류"
      ],
      "execution_count": 62,
      "outputs": [
        {
          "output_type": "error",
          "ename": "TypeError",
          "evalue": "ignored",
          "traceback": [
            "\u001b[0;31m---------------------------------------------------------------------------\u001b[0m",
            "\u001b[0;31mTypeError\u001b[0m                                 Traceback (most recent call last)",
            "\u001b[0;32m<ipython-input-62-401ac9689c5f>\u001b[0m in \u001b[0;36m<module>\u001b[0;34m()\u001b[0m\n\u001b[1;32m      2\u001b[0m \u001b[0;32mfor\u001b[0m \u001b[0melem\u001b[0m \u001b[0;32min\u001b[0m \u001b[0ma\u001b[0m\u001b[0;34m:\u001b[0m\u001b[0;34m\u001b[0m\u001b[0;34m\u001b[0m\u001b[0m\n\u001b[1;32m      3\u001b[0m     \u001b[0msum\u001b[0m \u001b[0;34m+=\u001b[0m \u001b[0melem\u001b[0m\u001b[0;34m\u001b[0m\u001b[0;34m\u001b[0m\u001b[0m\n\u001b[0;32m----> 4\u001b[0;31m \u001b[0msum\u001b[0m\u001b[0;34m,\u001b[0m \u001b[0msum\u001b[0m\u001b[0;34m(\u001b[0m\u001b[0ma\u001b[0m\u001b[0;34m)\u001b[0m\u001b[0;34m\u001b[0m\u001b[0;34m\u001b[0m\u001b[0m\n\u001b[0m",
            "\u001b[0;31mTypeError\u001b[0m: 'int' object is not callable"
          ]
        }
      ]
    },
    {
      "cell_type": "markdown",
      "metadata": {
        "id": "OZ-IunT25zJ4"
      },
      "source": [
        "## 22.5 리스트 표현식 사용하기(Comprehension)"
      ]
    },
    {
      "cell_type": "code",
      "metadata": {
        "colab": {
          "base_uri": "https://localhost:8080/"
        },
        "id": "7oixKQNz5fnG",
        "outputId": "95da2eff-4c3d-49f0-d763-ef76961f54c4"
      },
      "source": [
        "[fruit for fruit in fruits]"
      ],
      "execution_count": 63,
      "outputs": [
        {
          "output_type": "execute_result",
          "data": {
            "text/plain": [
              "['apple', 'banana', 'cherry']"
            ]
          },
          "metadata": {
            "tags": []
          },
          "execution_count": 63
        }
      ]
    },
    {
      "cell_type": "code",
      "metadata": {
        "colab": {
          "base_uri": "https://localhost:8080/"
        },
        "id": "HvV4jhzz5t4k",
        "outputId": "599d70ae-ddf9-4c21-a1ec-09169faa952b"
      },
      "source": [
        "[fruit*index for index, fruit in enumerate(fruits)]"
      ],
      "execution_count": 67,
      "outputs": [
        {
          "output_type": "execute_result",
          "data": {
            "text/plain": [
              "['', 'banana', 'cherrycherry']"
            ]
          },
          "metadata": {
            "tags": []
          },
          "execution_count": 67
        }
      ]
    },
    {
      "cell_type": "code",
      "metadata": {
        "colab": {
          "base_uri": "https://localhost:8080/"
        },
        "id": "jKoMSZlf6e9Z",
        "outputId": "7a83a599-136d-498c-fb30-9934c9ec162a"
      },
      "source": [
        "[i*i for i in range(1,11)]              # 파이썬스러운 코드"
      ],
      "execution_count": 71,
      "outputs": [
        {
          "output_type": "execute_result",
          "data": {
            "text/plain": [
              "[1, 4, 9, 16, 25, 36, 49, 64, 81, 100]"
            ]
          },
          "metadata": {
            "tags": []
          },
          "execution_count": 71
        }
      ]
    },
    {
      "cell_type": "code",
      "metadata": {
        "colab": {
          "base_uri": "https://localhost:8080/"
        },
        "id": "MP6DZFSU66NY",
        "outputId": "c6650dda-f032-48ce-a1d9-e5efb2770b9a"
      },
      "source": [
        "list(i*i for i in range(1,11))"
      ],
      "execution_count": 72,
      "outputs": [
        {
          "output_type": "execute_result",
          "data": {
            "text/plain": [
              "[1, 4, 9, 16, 25, 36, 49, 64, 81, 100]"
            ]
          },
          "metadata": {
            "tags": []
          },
          "execution_count": 72
        }
      ]
    },
    {
      "cell_type": "code",
      "metadata": {
        "colab": {
          "base_uri": "https://localhost:8080/"
        },
        "id": "bObZRaGG7QNH",
        "outputId": "1c1b0337-ed00-40d2-eb82-a4431788bf74"
      },
      "source": [
        "sq_list = []                            # language를 처음배우면 이 내용을 확실하게\n",
        "for i in range(1,11):\n",
        "    sq_list.append(i*i)\n",
        "\n",
        "sq_list"
      ],
      "execution_count": 74,
      "outputs": [
        {
          "output_type": "execute_result",
          "data": {
            "text/plain": [
              "[1, 4, 9, 16, 25, 36, 49, 64, 81, 100]"
            ]
          },
          "metadata": {
            "tags": []
          },
          "execution_count": 74
        }
      ]
    },
    {
      "cell_type": "markdown",
      "metadata": {
        "id": "Eij36EmS7-N2"
      },
      "source": [
        "### 표현식에서 if 조건문 사용하기"
      ]
    },
    {
      "cell_type": "code",
      "metadata": {
        "colab": {
          "base_uri": "https://localhost:8080/"
        },
        "id": "OVp-o5h77iov",
        "outputId": "83f130e0-c861-435b-a1f8-3efb22a3a256"
      },
      "source": [
        "[i*i for i in range(1,11,2)]   "
      ],
      "execution_count": 75,
      "outputs": [
        {
          "output_type": "execute_result",
          "data": {
            "text/plain": [
              "[1, 9, 25, 49, 81]"
            ]
          },
          "metadata": {
            "tags": []
          },
          "execution_count": 75
        }
      ]
    },
    {
      "cell_type": "code",
      "metadata": {
        "colab": {
          "base_uri": "https://localhost:8080/"
        },
        "id": "DTV5C-Q98UOX",
        "outputId": "02a86657-c74e-4ddd-a52e-713e75799919"
      },
      "source": [
        "[i*i for i in range(1,11) if i%2 == 1]"
      ],
      "execution_count": 76,
      "outputs": [
        {
          "output_type": "execute_result",
          "data": {
            "text/plain": [
              "[1, 9, 25, 49, 81]"
            ]
          },
          "metadata": {
            "tags": []
          },
          "execution_count": 76
        }
      ]
    },
    {
      "cell_type": "markdown",
      "metadata": {
        "id": "P0dpbjj29CIe"
      },
      "source": [
        "### for가 여러번 나오게 할 수 있음"
      ]
    },
    {
      "cell_type": "code",
      "metadata": {
        "colab": {
          "base_uri": "https://localhost:8080/"
        },
        "id": "iHSEVwBo8XHI",
        "outputId": "bd5f7412-07d1-47b5-d905-7e4ddced975b"
      },
      "source": [
        "# 구구단\n",
        "[i*k for i in range(2,10) for k in range(1,10)]"
      ],
      "execution_count": 82,
      "outputs": [
        {
          "output_type": "execute_result",
          "data": {
            "text/plain": [
              "[2,\n",
              " 4,\n",
              " 6,\n",
              " 8,\n",
              " 10,\n",
              " 12,\n",
              " 14,\n",
              " 16,\n",
              " 18,\n",
              " 3,\n",
              " 6,\n",
              " 9,\n",
              " 12,\n",
              " 15,\n",
              " 18,\n",
              " 21,\n",
              " 24,\n",
              " 27,\n",
              " 4,\n",
              " 8,\n",
              " 12,\n",
              " 16,\n",
              " 20,\n",
              " 24,\n",
              " 28,\n",
              " 32,\n",
              " 36,\n",
              " 5,\n",
              " 10,\n",
              " 15,\n",
              " 20,\n",
              " 25,\n",
              " 30,\n",
              " 35,\n",
              " 40,\n",
              " 45,\n",
              " 6,\n",
              " 12,\n",
              " 18,\n",
              " 24,\n",
              " 30,\n",
              " 36,\n",
              " 42,\n",
              " 48,\n",
              " 54,\n",
              " 7,\n",
              " 14,\n",
              " 21,\n",
              " 28,\n",
              " 35,\n",
              " 42,\n",
              " 49,\n",
              " 56,\n",
              " 63,\n",
              " 8,\n",
              " 16,\n",
              " 24,\n",
              " 32,\n",
              " 40,\n",
              " 48,\n",
              " 56,\n",
              " 64,\n",
              " 72,\n",
              " 9,\n",
              " 18,\n",
              " 27,\n",
              " 36,\n",
              " 45,\n",
              " 54,\n",
              " 63,\n",
              " 72,\n",
              " 81]"
            ]
          },
          "metadata": {
            "tags": []
          },
          "execution_count": 82
        }
      ]
    },
    {
      "cell_type": "code",
      "metadata": {
        "colab": {
          "base_uri": "https://localhost:8080/"
        },
        "id": "5p8Ox2Y39F9W",
        "outputId": "7882dd72-3cfe-42d0-84aa-8d9cf63ca76f"
      },
      "source": [
        "# 구구단\n",
        "a = [i*k for i in range(2,10) for k in range(1,10)]\n",
        "print(a)"
      ],
      "execution_count": 83,
      "outputs": [
        {
          "output_type": "stream",
          "text": [
            "[2, 4, 6, 8, 10, 12, 14, 16, 18, 3, 6, 9, 12, 15, 18, 21, 24, 27, 4, 8, 12, 16, 20, 24, 28, 32, 36, 5, 10, 15, 20, 25, 30, 35, 40, 45, 6, 12, 18, 24, 30, 36, 42, 48, 54, 7, 14, 21, 28, 35, 42, 49, 56, 63, 8, 16, 24, 32, 40, 48, 56, 64, 72, 9, 18, 27, 36, 45, 54, 63, 72, 81]\n"
          ],
          "name": "stdout"
        }
      ]
    },
    {
      "cell_type": "code",
      "metadata": {
        "colab": {
          "base_uri": "https://localhost:8080/"
        },
        "id": "O8_9yPIk9hPn",
        "outputId": "6bf320b2-b6e8-49c8-ae28-5b8854ce5c22"
      },
      "source": [
        "a = [i*k for i in range(2,10)\n",
        "            for k  in range(1,10)]\n",
        "print(a)"
      ],
      "execution_count": 86,
      "outputs": [
        {
          "output_type": "stream",
          "text": [
            "[2, 4, 6, 8, 10, 12, 14, 16, 18, 3, 6, 9, 12, 15, 18, 21, 24, 27, 4, 8, 12, 16, 20, 24, 28, 32, 36, 5, 10, 15, 20, 25, 30, 35, 40, 45, 6, 12, 18, 24, 30, 36, 42, 48, 54, 7, 14, 21, 28, 35, 42, 49, 56, 63, 8, 16, 24, 32, 40, 48, 56, 64, 72, 9, 18, 27, 36, 45, 54, 63, 72, 81]\n"
          ],
          "name": "stdout"
        }
      ]
    },
    {
      "cell_type": "markdown",
      "metadata": {
        "id": "KsxcVoJD9_Yn"
      },
      "source": [
        "## 22.6 리스트에 map 사용하기\n",
        "\n",
        "- list(map(함수, 리스트))\n",
        "- tuple(map(함수, 튜플))"
      ]
    },
    {
      "cell_type": "code",
      "metadata": {
        "colab": {
          "base_uri": "https://localhost:8080/"
        },
        "id": "Uv99isAk9r6O",
        "outputId": "2615d2b3-3bbc-4325-def5-4340625497e2"
      },
      "source": [
        "a = [1.2, 2.3, 3.5, 4.8]\n",
        "for i in range(len(a)):\n",
        "    a[i] = int(a[i])\n",
        "a"
      ],
      "execution_count": 87,
      "outputs": [
        {
          "output_type": "execute_result",
          "data": {
            "text/plain": [
              "[1, 2, 3, 4]"
            ]
          },
          "metadata": {
            "tags": []
          },
          "execution_count": 87
        }
      ]
    },
    {
      "cell_type": "code",
      "metadata": {
        "colab": {
          "base_uri": "https://localhost:8080/"
        },
        "id": "IDKVXn6T-jmW",
        "outputId": "e6317a8f-61f4-47ae-f9df-c51c717b08f9"
      },
      "source": [
        "a = [1.2, 2.3, 3.5, 4.8]\n",
        "for i in a:\n",
        "    i = int(i)\n",
        "a"
      ],
      "execution_count": 89,
      "outputs": [
        {
          "output_type": "execute_result",
          "data": {
            "text/plain": [
              "[1.2, 2.3, 3.5, 4.8]"
            ]
          },
          "metadata": {
            "tags": []
          },
          "execution_count": 89
        }
      ]
    },
    {
      "cell_type": "code",
      "metadata": {
        "colab": {
          "base_uri": "https://localhost:8080/"
        },
        "id": "nM132LEq-nM-",
        "outputId": "d3da6e0d-8ecc-4fac-c4a8-062b74395912"
      },
      "source": [
        "a = [1.2, 2.3, 3.5, 4.8]\n",
        "for i, val in enumerate(a):\n",
        "    a[i] = int(val)\n",
        "a"
      ],
      "execution_count": 90,
      "outputs": [
        {
          "output_type": "execute_result",
          "data": {
            "text/plain": [
              "[1, 2, 3, 4]"
            ]
          },
          "metadata": {
            "tags": []
          },
          "execution_count": 90
        }
      ]
    },
    {
      "cell_type": "code",
      "metadata": {
        "colab": {
          "base_uri": "https://localhost:8080/"
        },
        "id": "HEX3LTIK-34n",
        "outputId": "a88c931f-7e02-42d7-c001-dda542d07f26"
      },
      "source": [
        "a = [1.2, 2.3, 3.5, 4.8]\n",
        "a = list(map(int, a))\n",
        "a"
      ],
      "execution_count": 91,
      "outputs": [
        {
          "output_type": "execute_result",
          "data": {
            "text/plain": [
              "[1, 2, 3, 4]"
            ]
          },
          "metadata": {
            "tags": []
          },
          "execution_count": 91
        }
      ]
    },
    {
      "cell_type": "markdown",
      "metadata": {
        "id": "kXb7RhBMAG9y"
      },
      "source": [
        "### 22.7 tuple"
      ]
    },
    {
      "cell_type": "code",
      "metadata": {
        "colab": {
          "base_uri": "https://localhost:8080/"
        },
        "id": "F7SYKQKK_HQW",
        "outputId": "1ace0d1a-bed9-47b3-d642-3867062a59a8"
      },
      "source": [
        "tuple(i*i for i in range(1,11) if i % 2 == 0)"
      ],
      "execution_count": 92,
      "outputs": [
        {
          "output_type": "execute_result",
          "data": {
            "text/plain": [
              "(4, 16, 36, 64, 100)"
            ]
          },
          "metadata": {
            "tags": []
          },
          "execution_count": 92
        }
      ]
    },
    {
      "cell_type": "code",
      "metadata": {
        "id": "mg2b-M70AkmG"
      },
      "source": [
        ""
      ],
      "execution_count": null,
      "outputs": []
    }
  ]
}